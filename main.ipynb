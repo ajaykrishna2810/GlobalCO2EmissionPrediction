{
 "cells": [
  {
   "cell_type": "code",
   "execution_count": 28,
   "id": "a480fc3a",
   "metadata": {},
   "outputs": [],
   "source": [
    "import numpy as np # linear algebra\n",
    "import pandas as pd # data processing, CSV file I/O (e.g. pd.read_csv)"
   ]
  },
  {
   "cell_type": "code",
   "execution_count": 29,
   "id": "24477914",
   "metadata": {},
   "outputs": [],
   "source": [
    "#!pip install statsmodels"
   ]
  },
  {
   "cell_type": "code",
   "execution_count": 30,
   "id": "be2e7666",
   "metadata": {},
   "outputs": [],
   "source": [
    "#importing libraries\n",
    "import pandas as pd\n",
    "import numpy as np\n",
    "import seaborn as sns\n",
    "import matplotlib.pyplot as plt\n",
    "import plotly.express as px\n",
    "# import lazypredict\n",
    "\n",
    "from plotly.subplots import make_subplots\n",
    "import plotly.graph_objects as go\n",
    "import warnings\n",
    "warnings.filterwarnings(\"ignore\")\n",
    "\n",
    "import statsmodels.tsa.stattools as st\n",
    "from statsmodels.tsa.arima_model import ARMA\n",
    "from statsmodels.tsa.seasonal import seasonal_decompose\n",
    "from sklearn.metrics import mean_absolute_error\n",
    "from statsmodels.tsa.arima.model import ARIMA"
   ]
  },
  {
   "cell_type": "code",
   "execution_count": 31,
   "id": "8c8874cc",
   "metadata": {
    "scrolled": true
   },
   "outputs": [
    {
     "data": {
      "text/html": [
       "<div>\n",
       "<style scoped>\n",
       "    .dataframe tbody tr th:only-of-type {\n",
       "        vertical-align: middle;\n",
       "    }\n",
       "\n",
       "    .dataframe tbody tr th {\n",
       "        vertical-align: top;\n",
       "    }\n",
       "\n",
       "    .dataframe thead th {\n",
       "        text-align: right;\n",
       "    }\n",
       "</style>\n",
       "<table border=\"1\" class=\"dataframe\">\n",
       "  <thead>\n",
       "    <tr style=\"text-align: right;\">\n",
       "      <th></th>\n",
       "      <th>Country</th>\n",
       "      <th>ISO 3166-1 alpha-3</th>\n",
       "      <th>Year</th>\n",
       "      <th>Total</th>\n",
       "      <th>Coal</th>\n",
       "      <th>Oil</th>\n",
       "      <th>Gas</th>\n",
       "      <th>Cement</th>\n",
       "      <th>Flaring</th>\n",
       "      <th>Other</th>\n",
       "      <th>Per Capita</th>\n",
       "    </tr>\n",
       "  </thead>\n",
       "  <tbody>\n",
       "    <tr>\n",
       "      <th>0</th>\n",
       "      <td>Afghanistan</td>\n",
       "      <td>AFG</td>\n",
       "      <td>1750</td>\n",
       "      <td>0.000000</td>\n",
       "      <td>NaN</td>\n",
       "      <td>NaN</td>\n",
       "      <td>NaN</td>\n",
       "      <td>NaN</td>\n",
       "      <td>NaN</td>\n",
       "      <td>NaN</td>\n",
       "      <td>NaN</td>\n",
       "    </tr>\n",
       "    <tr>\n",
       "      <th>1</th>\n",
       "      <td>Afghanistan</td>\n",
       "      <td>AFG</td>\n",
       "      <td>1751</td>\n",
       "      <td>0.000000</td>\n",
       "      <td>NaN</td>\n",
       "      <td>NaN</td>\n",
       "      <td>NaN</td>\n",
       "      <td>NaN</td>\n",
       "      <td>NaN</td>\n",
       "      <td>NaN</td>\n",
       "      <td>NaN</td>\n",
       "    </tr>\n",
       "    <tr>\n",
       "      <th>2</th>\n",
       "      <td>Afghanistan</td>\n",
       "      <td>AFG</td>\n",
       "      <td>1752</td>\n",
       "      <td>0.000000</td>\n",
       "      <td>NaN</td>\n",
       "      <td>NaN</td>\n",
       "      <td>NaN</td>\n",
       "      <td>NaN</td>\n",
       "      <td>NaN</td>\n",
       "      <td>NaN</td>\n",
       "      <td>NaN</td>\n",
       "    </tr>\n",
       "    <tr>\n",
       "      <th>3</th>\n",
       "      <td>Afghanistan</td>\n",
       "      <td>AFG</td>\n",
       "      <td>1753</td>\n",
       "      <td>0.000000</td>\n",
       "      <td>NaN</td>\n",
       "      <td>NaN</td>\n",
       "      <td>NaN</td>\n",
       "      <td>NaN</td>\n",
       "      <td>NaN</td>\n",
       "      <td>NaN</td>\n",
       "      <td>NaN</td>\n",
       "    </tr>\n",
       "    <tr>\n",
       "      <th>4</th>\n",
       "      <td>Afghanistan</td>\n",
       "      <td>AFG</td>\n",
       "      <td>1754</td>\n",
       "      <td>0.000000</td>\n",
       "      <td>NaN</td>\n",
       "      <td>NaN</td>\n",
       "      <td>NaN</td>\n",
       "      <td>NaN</td>\n",
       "      <td>NaN</td>\n",
       "      <td>NaN</td>\n",
       "      <td>NaN</td>\n",
       "    </tr>\n",
       "    <tr>\n",
       "      <th>...</th>\n",
       "      <td>...</td>\n",
       "      <td>...</td>\n",
       "      <td>...</td>\n",
       "      <td>...</td>\n",
       "      <td>...</td>\n",
       "      <td>...</td>\n",
       "      <td>...</td>\n",
       "      <td>...</td>\n",
       "      <td>...</td>\n",
       "      <td>...</td>\n",
       "      <td>...</td>\n",
       "    </tr>\n",
       "    <tr>\n",
       "      <th>63099</th>\n",
       "      <td>Global</td>\n",
       "      <td>WLD</td>\n",
       "      <td>2017</td>\n",
       "      <td>36096.739276</td>\n",
       "      <td>14506.973805</td>\n",
       "      <td>12242.627935</td>\n",
       "      <td>7144.928128</td>\n",
       "      <td>1507.923185</td>\n",
       "      <td>391.992176</td>\n",
       "      <td>302.294047</td>\n",
       "      <td>4.749682</td>\n",
       "    </tr>\n",
       "    <tr>\n",
       "      <th>63100</th>\n",
       "      <td>Global</td>\n",
       "      <td>WLD</td>\n",
       "      <td>2018</td>\n",
       "      <td>36826.506600</td>\n",
       "      <td>14746.830688</td>\n",
       "      <td>12266.016285</td>\n",
       "      <td>7529.846784</td>\n",
       "      <td>1569.218392</td>\n",
       "      <td>412.115746</td>\n",
       "      <td>302.478706</td>\n",
       "      <td>4.792753</td>\n",
       "    </tr>\n",
       "    <tr>\n",
       "      <th>63101</th>\n",
       "      <td>Global</td>\n",
       "      <td>WLD</td>\n",
       "      <td>2019</td>\n",
       "      <td>37082.558969</td>\n",
       "      <td>14725.978025</td>\n",
       "      <td>12345.653374</td>\n",
       "      <td>7647.528220</td>\n",
       "      <td>1617.506786</td>\n",
       "      <td>439.253991</td>\n",
       "      <td>306.638573</td>\n",
       "      <td>4.775633</td>\n",
       "    </tr>\n",
       "    <tr>\n",
       "      <th>63102</th>\n",
       "      <td>Global</td>\n",
       "      <td>WLD</td>\n",
       "      <td>2020</td>\n",
       "      <td>35264.085734</td>\n",
       "      <td>14174.564010</td>\n",
       "      <td>11191.808551</td>\n",
       "      <td>7556.290283</td>\n",
       "      <td>1637.537532</td>\n",
       "      <td>407.583673</td>\n",
       "      <td>296.301685</td>\n",
       "      <td>4.497423</td>\n",
       "    </tr>\n",
       "    <tr>\n",
       "      <th>63103</th>\n",
       "      <td>Global</td>\n",
       "      <td>WLD</td>\n",
       "      <td>2021</td>\n",
       "      <td>37123.850352</td>\n",
       "      <td>14979.598083</td>\n",
       "      <td>11837.159116</td>\n",
       "      <td>7921.829472</td>\n",
       "      <td>1672.592372</td>\n",
       "      <td>416.525563</td>\n",
       "      <td>296.145746</td>\n",
       "      <td>4.693699</td>\n",
       "    </tr>\n",
       "  </tbody>\n",
       "</table>\n",
       "<p>63104 rows × 11 columns</p>\n",
       "</div>"
      ],
      "text/plain": [
       "           Country ISO 3166-1 alpha-3  Year         Total          Coal  \\\n",
       "0      Afghanistan                AFG  1750      0.000000           NaN   \n",
       "1      Afghanistan                AFG  1751      0.000000           NaN   \n",
       "2      Afghanistan                AFG  1752      0.000000           NaN   \n",
       "3      Afghanistan                AFG  1753      0.000000           NaN   \n",
       "4      Afghanistan                AFG  1754      0.000000           NaN   \n",
       "...            ...                ...   ...           ...           ...   \n",
       "63099       Global                WLD  2017  36096.739276  14506.973805   \n",
       "63100       Global                WLD  2018  36826.506600  14746.830688   \n",
       "63101       Global                WLD  2019  37082.558969  14725.978025   \n",
       "63102       Global                WLD  2020  35264.085734  14174.564010   \n",
       "63103       Global                WLD  2021  37123.850352  14979.598083   \n",
       "\n",
       "                Oil          Gas       Cement     Flaring       Other  \\\n",
       "0               NaN          NaN          NaN         NaN         NaN   \n",
       "1               NaN          NaN          NaN         NaN         NaN   \n",
       "2               NaN          NaN          NaN         NaN         NaN   \n",
       "3               NaN          NaN          NaN         NaN         NaN   \n",
       "4               NaN          NaN          NaN         NaN         NaN   \n",
       "...             ...          ...          ...         ...         ...   \n",
       "63099  12242.627935  7144.928128  1507.923185  391.992176  302.294047   \n",
       "63100  12266.016285  7529.846784  1569.218392  412.115746  302.478706   \n",
       "63101  12345.653374  7647.528220  1617.506786  439.253991  306.638573   \n",
       "63102  11191.808551  7556.290283  1637.537532  407.583673  296.301685   \n",
       "63103  11837.159116  7921.829472  1672.592372  416.525563  296.145746   \n",
       "\n",
       "       Per Capita  \n",
       "0             NaN  \n",
       "1             NaN  \n",
       "2             NaN  \n",
       "3             NaN  \n",
       "4             NaN  \n",
       "...           ...  \n",
       "63099    4.749682  \n",
       "63100    4.792753  \n",
       "63101    4.775633  \n",
       "63102    4.497423  \n",
       "63103    4.693699  \n",
       "\n",
       "[63104 rows x 11 columns]"
      ]
     },
     "execution_count": 31,
     "metadata": {},
     "output_type": "execute_result"
    }
   ],
   "source": [
    "df = pd.read_csv('Data/GCB2022v27_MtCO2_flat.csv')\n",
    "df"
   ]
  },
  {
   "cell_type": "code",
   "execution_count": 32,
   "id": "411c0e8a",
   "metadata": {},
   "outputs": [],
   "source": [
    "# dropping least important columns\n",
    "df = df.drop(['Cement','Flaring', 'Other','Per Capita'], axis=1)"
   ]
  },
  {
   "cell_type": "code",
   "execution_count": 33,
   "id": "54fc19df",
   "metadata": {},
   "outputs": [],
   "source": [
    "#dropping years less than 1850\n",
    "\n",
    "df.drop(df[df['Year'] < 1980].index, inplace = True) # the version used for germany, japan, global, senegal. Not working for USA, china, india\n",
    "#df.drop(df[df['Year'] < 1920].index, inplace = True)"
   ]
  },
  {
   "cell_type": "code",
   "execution_count": 34,
   "id": "eca05e13",
   "metadata": {
    "scrolled": true
   },
   "outputs": [],
   "source": [
    "df = df.reset_index()"
   ]
  },
  {
   "cell_type": "code",
   "execution_count": 35,
   "id": "7fd06993",
   "metadata": {
    "scrolled": false
   },
   "outputs": [
    {
     "data": {
      "text/plain": [
       "Index(['index', 'Country', 'ISO 3166-1 alpha-3', 'Year', 'Total', 'Coal',\n",
       "       'Oil', 'Gas'],\n",
       "      dtype='object')"
      ]
     },
     "execution_count": 35,
     "metadata": {},
     "output_type": "execute_result"
    }
   ],
   "source": [
    "df.columns"
   ]
  },
  {
   "cell_type": "code",
   "execution_count": 36,
   "id": "311641de",
   "metadata": {},
   "outputs": [],
   "source": [
    "## Filling nans with zero for the inpuut features\n",
    "df.Coal = df['Coal'].fillna(0, inplace = False)\n",
    "df.Oil = df['Oil'].fillna(0, inplace = False)\n",
    "df.Gas = df['Gas'].fillna(0, inplace = False)\n",
    "#df.Cement = df['Cement'].fillna(0, inplace = False)\n",
    "#df.Flaring = df['Flaring'].fillna(0, inplace = False)\n",
    "#df.Other = df['Other'].fillna(0, inplace = False)\n",
    "#df['Per Capita'] = df['Per Capita'].fillna(0, inplace = False)"
   ]
  },
  {
   "cell_type": "code",
   "execution_count": 37,
   "id": "d50c2ec1",
   "metadata": {},
   "outputs": [
    {
     "data": {
      "text/plain": [
       "index                   0\n",
       "Country                 0\n",
       "ISO 3166-1 alpha-3    252\n",
       "Year                    0\n",
       "Total                   0\n",
       "Coal                    0\n",
       "Oil                     0\n",
       "Gas                     0\n",
       "dtype: int64"
      ]
     },
     "execution_count": 37,
     "metadata": {},
     "output_type": "execute_result"
    }
   ],
   "source": [
    "# Checking the count of null values\n",
    "df.isna().sum()"
   ]
  },
  {
   "cell_type": "code",
   "execution_count": 38,
   "id": "830659c6",
   "metadata": {
    "scrolled": false
   },
   "outputs": [
    {
     "data": {
      "text/html": [
       "<div>\n",
       "<style scoped>\n",
       "    .dataframe tbody tr th:only-of-type {\n",
       "        vertical-align: middle;\n",
       "    }\n",
       "\n",
       "    .dataframe tbody tr th {\n",
       "        vertical-align: top;\n",
       "    }\n",
       "\n",
       "    .dataframe thead th {\n",
       "        text-align: right;\n",
       "    }\n",
       "</style>\n",
       "<table border=\"1\" class=\"dataframe\">\n",
       "  <thead>\n",
       "    <tr style=\"text-align: right;\">\n",
       "      <th></th>\n",
       "      <th>index</th>\n",
       "      <th>Country</th>\n",
       "      <th>ISO 3166-1 alpha-3</th>\n",
       "      <th>Year</th>\n",
       "      <th>Total</th>\n",
       "      <th>Coal</th>\n",
       "      <th>Oil</th>\n",
       "      <th>Gas</th>\n",
       "    </tr>\n",
       "  </thead>\n",
       "  <tbody>\n",
       "    <tr>\n",
       "      <th>0</th>\n",
       "      <td>230</td>\n",
       "      <td>Afghanistan</td>\n",
       "      <td>AFG</td>\n",
       "      <td>1980</td>\n",
       "      <td>1.756302</td>\n",
       "      <td>0.315762</td>\n",
       "      <td>0.925256</td>\n",
       "      <td>0.187254</td>\n",
       "    </tr>\n",
       "    <tr>\n",
       "      <th>1</th>\n",
       "      <td>231</td>\n",
       "      <td>Afghanistan</td>\n",
       "      <td>AFG</td>\n",
       "      <td>1981</td>\n",
       "      <td>1.978463</td>\n",
       "      <td>0.333424</td>\n",
       "      <td>1.014928</td>\n",
       "      <td>0.304112</td>\n",
       "    </tr>\n",
       "    <tr>\n",
       "      <th>2</th>\n",
       "      <td>232</td>\n",
       "      <td>Afghanistan</td>\n",
       "      <td>AFG</td>\n",
       "      <td>1982</td>\n",
       "      <td>2.094581</td>\n",
       "      <td>0.384720</td>\n",
       "      <td>0.992944</td>\n",
       "      <td>0.395712</td>\n",
       "    </tr>\n",
       "    <tr>\n",
       "      <th>3</th>\n",
       "      <td>233</td>\n",
       "      <td>Afghanistan</td>\n",
       "      <td>AFG</td>\n",
       "      <td>1983</td>\n",
       "      <td>2.519954</td>\n",
       "      <td>0.384720</td>\n",
       "      <td>1.220112</td>\n",
       "      <td>0.615552</td>\n",
       "    </tr>\n",
       "    <tr>\n",
       "      <th>4</th>\n",
       "      <td>234</td>\n",
       "      <td>Afghanistan</td>\n",
       "      <td>AFG</td>\n",
       "      <td>1984</td>\n",
       "      <td>2.821540</td>\n",
       "      <td>0.392556</td>\n",
       "      <td>1.133644</td>\n",
       "      <td>0.931863</td>\n",
       "    </tr>\n",
       "    <tr>\n",
       "      <th>...</th>\n",
       "      <td>...</td>\n",
       "      <td>...</td>\n",
       "      <td>...</td>\n",
       "      <td>...</td>\n",
       "      <td>...</td>\n",
       "      <td>...</td>\n",
       "      <td>...</td>\n",
       "      <td>...</td>\n",
       "    </tr>\n",
       "    <tr>\n",
       "      <th>9739</th>\n",
       "      <td>63099</td>\n",
       "      <td>Global</td>\n",
       "      <td>WLD</td>\n",
       "      <td>2017</td>\n",
       "      <td>36096.739276</td>\n",
       "      <td>14506.973805</td>\n",
       "      <td>12242.627935</td>\n",
       "      <td>7144.928128</td>\n",
       "    </tr>\n",
       "    <tr>\n",
       "      <th>9740</th>\n",
       "      <td>63100</td>\n",
       "      <td>Global</td>\n",
       "      <td>WLD</td>\n",
       "      <td>2018</td>\n",
       "      <td>36826.506600</td>\n",
       "      <td>14746.830688</td>\n",
       "      <td>12266.016285</td>\n",
       "      <td>7529.846784</td>\n",
       "    </tr>\n",
       "    <tr>\n",
       "      <th>9741</th>\n",
       "      <td>63101</td>\n",
       "      <td>Global</td>\n",
       "      <td>WLD</td>\n",
       "      <td>2019</td>\n",
       "      <td>37082.558969</td>\n",
       "      <td>14725.978025</td>\n",
       "      <td>12345.653374</td>\n",
       "      <td>7647.528220</td>\n",
       "    </tr>\n",
       "    <tr>\n",
       "      <th>9742</th>\n",
       "      <td>63102</td>\n",
       "      <td>Global</td>\n",
       "      <td>WLD</td>\n",
       "      <td>2020</td>\n",
       "      <td>35264.085734</td>\n",
       "      <td>14174.564010</td>\n",
       "      <td>11191.808551</td>\n",
       "      <td>7556.290283</td>\n",
       "    </tr>\n",
       "    <tr>\n",
       "      <th>9743</th>\n",
       "      <td>63103</td>\n",
       "      <td>Global</td>\n",
       "      <td>WLD</td>\n",
       "      <td>2021</td>\n",
       "      <td>37123.850352</td>\n",
       "      <td>14979.598083</td>\n",
       "      <td>11837.159116</td>\n",
       "      <td>7921.829472</td>\n",
       "    </tr>\n",
       "  </tbody>\n",
       "</table>\n",
       "<p>9744 rows × 8 columns</p>\n",
       "</div>"
      ],
      "text/plain": [
       "      index      Country ISO 3166-1 alpha-3  Year         Total          Coal  \\\n",
       "0       230  Afghanistan                AFG  1980      1.756302      0.315762   \n",
       "1       231  Afghanistan                AFG  1981      1.978463      0.333424   \n",
       "2       232  Afghanistan                AFG  1982      2.094581      0.384720   \n",
       "3       233  Afghanistan                AFG  1983      2.519954      0.384720   \n",
       "4       234  Afghanistan                AFG  1984      2.821540      0.392556   \n",
       "...     ...          ...                ...   ...           ...           ...   \n",
       "9739  63099       Global                WLD  2017  36096.739276  14506.973805   \n",
       "9740  63100       Global                WLD  2018  36826.506600  14746.830688   \n",
       "9741  63101       Global                WLD  2019  37082.558969  14725.978025   \n",
       "9742  63102       Global                WLD  2020  35264.085734  14174.564010   \n",
       "9743  63103       Global                WLD  2021  37123.850352  14979.598083   \n",
       "\n",
       "               Oil          Gas  \n",
       "0         0.925256     0.187254  \n",
       "1         1.014928     0.304112  \n",
       "2         0.992944     0.395712  \n",
       "3         1.220112     0.615552  \n",
       "4         1.133644     0.931863  \n",
       "...            ...          ...  \n",
       "9739  12242.627935  7144.928128  \n",
       "9740  12266.016285  7529.846784  \n",
       "9741  12345.653374  7647.528220  \n",
       "9742  11191.808551  7556.290283  \n",
       "9743  11837.159116  7921.829472  \n",
       "\n",
       "[9744 rows x 8 columns]"
      ]
     },
     "execution_count": 38,
     "metadata": {},
     "output_type": "execute_result"
    }
   ],
   "source": [
    "df.reset_index()\n",
    "df"
   ]
  },
  {
   "cell_type": "code",
   "execution_count": 39,
   "id": "8260d63e",
   "metadata": {
    "scrolled": true
   },
   "outputs": [
    {
     "data": {
      "text/plain": [
       "array(['Afghanistan', 'Albania', 'Algeria', 'Andorra', 'Angola',\n",
       "       'Anguilla', 'Antarctica', 'Antigua and Barbuda', 'Argentina',\n",
       "       'Armenia', 'Aruba', 'Australia', 'Austria', 'Azerbaijan',\n",
       "       'Bahamas', 'Bahrain', 'Bangladesh', 'Barbados', 'Belarus',\n",
       "       'Belgium', 'Belize', 'Benin', 'Bermuda', 'Bhutan',\n",
       "       'Bonaire, Saint Eustatius and Saba', 'Bosnia and Herzegovina',\n",
       "       'Botswana', 'Brazil', 'British Virgin Islands',\n",
       "       'Brunei Darussalam', 'Bulgaria', 'Burkina Faso', 'Burundi',\n",
       "       'Cambodia', 'Canada', 'Cape Verde', 'Central African Republic',\n",
       "       'Chad', 'Chile', 'China', 'Christmas Island', 'Colombia',\n",
       "       'Comoros', 'Congo', 'Cook Islands', 'Costa Rica', \"Côte d'Ivoire\",\n",
       "       'Croatia', 'Cuba', 'Curaçao', 'Cyprus', 'Czech Republic',\n",
       "       'North Korea', 'Democratic Republic of the Congo', 'Denmark',\n",
       "       'Djibouti', 'Dominica', 'Dominican Republic', 'Ecuador', 'Egypt',\n",
       "       'El Salvador', 'Equatorial Guinea', 'Eritrea', 'Estonia',\n",
       "       'Ethiopia', 'Faeroe Islands', 'Micronesia (Federated States of)',\n",
       "       'Fiji', 'Finland', 'Panama Canal Zone', 'France',\n",
       "       'French Equatorial Africa', 'French Guiana', 'French Polynesia',\n",
       "       'French West Africa', 'Gabon', 'Gambia', 'Georgia', 'Germany',\n",
       "       'Ghana', 'Greece', 'Greenland', 'Grenada', 'Guadeloupe',\n",
       "       'Guatemala', 'Guinea', 'Guinea-Bissau', 'Guyana', 'Haiti',\n",
       "       'Honduras', 'Hong Kong', 'Hungary', 'Iceland', 'India',\n",
       "       'Indonesia', 'Iraq', 'Ireland', 'Iran', 'Israel', 'Italy',\n",
       "       'Jamaica', 'Japan', 'Jordan', 'Kazakhstan', 'Kenya', 'Kiribati',\n",
       "       'Kosovo', 'Kuwait', 'Kuwaiti Oil Fires', 'Kyrgyzstan', 'Laos',\n",
       "       'Latvia', 'Lebanon', 'Leeward Islands', 'Lesotho', 'Liberia',\n",
       "       'Libya', 'Liechtenstein', 'Lithuania', 'Luxembourg', 'Macao',\n",
       "       'North Macedonia', 'Madagascar', 'Malawi', 'Malaysia', 'Maldives',\n",
       "       'Mali', 'Malta', 'Marshall Islands', 'Martinique', 'Mauritania',\n",
       "       'Mauritius', 'Mayotte', 'Mexico', 'Mongolia', 'Montenegro',\n",
       "       'Montserrat', 'Morocco', 'Mozambique', 'Myanmar', 'Namibia',\n",
       "       'Nauru', 'Nepal', 'Netherlands', 'New Caledonia', 'New Zealand',\n",
       "       'Nicaragua', 'Niger', 'Nigeria', 'Niue', 'Norway',\n",
       "       'Occupied Palestinian Territory', 'Oman',\n",
       "       'Pacific Islands (Palau)', 'Pakistan', 'Palau', 'Panama',\n",
       "       'Papua New Guinea', 'Paraguay', 'Peru', 'Philippines', 'Bolivia',\n",
       "       'Poland', 'Portugal', 'Puerto Rico', 'Qatar', 'Cameroon',\n",
       "       'South Korea', 'Moldova', 'South Sudan', 'Sudan', 'Réunion',\n",
       "       'Romania', 'Russia', 'Rwanda', 'Ryukyu Islands', 'Saint Helena',\n",
       "       'Saint Lucia', 'Sint Maarten (Dutch part)', 'Samoa',\n",
       "       'Sao Tome and Principe', 'Saudi Arabia', 'Senegal', 'Serbia',\n",
       "       'Seychelles', 'Sierra Leone', 'Singapore', 'Slovakia', 'Slovenia',\n",
       "       'Solomon Islands', 'Somalia', 'South Africa', 'Spain', 'Sri Lanka',\n",
       "       'Saint Kitts and Nevis', 'St. Kitts-Nevis-Anguilla',\n",
       "       'Saint Pierre and Miquelon', 'Saint Vincent and the Grenadines',\n",
       "       'Suriname', 'Swaziland', 'Sweden', 'Switzerland', 'Syria',\n",
       "       'Taiwan', 'Tajikistan', 'Thailand', 'Timor-Leste', 'Togo', 'Tonga',\n",
       "       'Trinidad and Tobago', 'Tunisia', 'Turkey', 'Turkmenistan',\n",
       "       'Turks and Caicos Islands', 'Tuvalu', 'Uganda', 'Ukraine',\n",
       "       'United Arab Emirates', 'United Kingdom', 'Tanzania', 'USA',\n",
       "       'Uruguay', 'Uzbekistan', 'Vanuatu', 'Venezuela', 'Viet Nam',\n",
       "       'Wallis and Futuna Islands', 'Yemen', 'Zambia', 'Zimbabwe',\n",
       "       'International Transport', 'Global'], dtype=object)"
      ]
     },
     "execution_count": 39,
     "metadata": {},
     "output_type": "execute_result"
    }
   ],
   "source": [
    "df['Country'].unique()"
   ]
  },
  {
   "cell_type": "markdown",
   "id": "a5c45a53",
   "metadata": {},
   "source": [
    "List of countries: USA, Japan, Germany, China, India, Brazil, Senegal, Cambodia, Congo (9)\n",
    "\n",
    "The whole world: Global\n"
   ]
  },
  {
   "cell_type": "code",
   "execution_count": 40,
   "id": "01b195b6",
   "metadata": {},
   "outputs": [
    {
     "data": {
      "text/html": [
       "<div>\n",
       "<style scoped>\n",
       "    .dataframe tbody tr th:only-of-type {\n",
       "        vertical-align: middle;\n",
       "    }\n",
       "\n",
       "    .dataframe tbody tr th {\n",
       "        vertical-align: top;\n",
       "    }\n",
       "\n",
       "    .dataframe thead th {\n",
       "        text-align: right;\n",
       "    }\n",
       "</style>\n",
       "<table border=\"1\" class=\"dataframe\">\n",
       "  <thead>\n",
       "    <tr style=\"text-align: right;\">\n",
       "      <th></th>\n",
       "      <th>Country</th>\n",
       "      <th>ISO 3166-1 alpha-3</th>\n",
       "      <th>Year</th>\n",
       "      <th>Total</th>\n",
       "      <th>Coal</th>\n",
       "      <th>Oil</th>\n",
       "      <th>Gas</th>\n",
       "    </tr>\n",
       "  </thead>\n",
       "  <tbody>\n",
       "    <tr>\n",
       "      <th>0</th>\n",
       "      <td>USA</td>\n",
       "      <td>USA</td>\n",
       "      <td>1980</td>\n",
       "      <td>4808.520356</td>\n",
       "      <td>1453.794000</td>\n",
       "      <td>2244.444000</td>\n",
       "      <td>1058.054000</td>\n",
       "    </tr>\n",
       "    <tr>\n",
       "      <th>1</th>\n",
       "      <td>USA</td>\n",
       "      <td>USA</td>\n",
       "      <td>1981</td>\n",
       "      <td>4686.369198</td>\n",
       "      <td>1502.932000</td>\n",
       "      <td>2101.611000</td>\n",
       "      <td>1032.089000</td>\n",
       "    </tr>\n",
       "    <tr>\n",
       "      <th>2</th>\n",
       "      <td>USA</td>\n",
       "      <td>USA</td>\n",
       "      <td>1982</td>\n",
       "      <td>4447.255938</td>\n",
       "      <td>1449.085000</td>\n",
       "      <td>1994.450000</td>\n",
       "      <td>960.901000</td>\n",
       "    </tr>\n",
       "    <tr>\n",
       "      <th>3</th>\n",
       "      <td>USA</td>\n",
       "      <td>USA</td>\n",
       "      <td>1983</td>\n",
       "      <td>4429.374051</td>\n",
       "      <td>1504.796000</td>\n",
       "      <td>1978.053000</td>\n",
       "      <td>901.094000</td>\n",
       "    </tr>\n",
       "    <tr>\n",
       "      <th>4</th>\n",
       "      <td>USA</td>\n",
       "      <td>USA</td>\n",
       "      <td>1984</td>\n",
       "      <td>4662.141491</td>\n",
       "      <td>1616.103000</td>\n",
       "      <td>2034.520000</td>\n",
       "      <td>962.252000</td>\n",
       "    </tr>\n",
       "    <tr>\n",
       "      <th>5</th>\n",
       "      <td>USA</td>\n",
       "      <td>USA</td>\n",
       "      <td>1985</td>\n",
       "      <td>4652.579989</td>\n",
       "      <td>1655.025000</td>\n",
       "      <td>2023.815000</td>\n",
       "      <td>926.516000</td>\n",
       "    </tr>\n",
       "    <tr>\n",
       "      <th>6</th>\n",
       "      <td>USA</td>\n",
       "      <td>USA</td>\n",
       "      <td>1986</td>\n",
       "      <td>4663.369645</td>\n",
       "      <td>1635.733000</td>\n",
       "      <td>2112.065000</td>\n",
       "      <td>867.866000</td>\n",
       "    </tr>\n",
       "    <tr>\n",
       "      <th>7</th>\n",
       "      <td>USA</td>\n",
       "      <td>USA</td>\n",
       "      <td>1987</td>\n",
       "      <td>4825.650651</td>\n",
       "      <td>1709.484000</td>\n",
       "      <td>2143.098000</td>\n",
       "      <td>922.972000</td>\n",
       "    </tr>\n",
       "    <tr>\n",
       "      <th>8</th>\n",
       "      <td>USA</td>\n",
       "      <td>USA</td>\n",
       "      <td>1988</td>\n",
       "      <td>5050.475381</td>\n",
       "      <td>1792.727000</td>\n",
       "      <td>2241.115000</td>\n",
       "      <td>964.373000</td>\n",
       "    </tr>\n",
       "    <tr>\n",
       "      <th>9</th>\n",
       "      <td>USA</td>\n",
       "      <td>USA</td>\n",
       "      <td>1989</td>\n",
       "      <td>5132.134279</td>\n",
       "      <td>1813.144000</td>\n",
       "      <td>2239.733000</td>\n",
       "      <td>1026.955000</td>\n",
       "    </tr>\n",
       "    <tr>\n",
       "      <th>10</th>\n",
       "      <td>USA</td>\n",
       "      <td>USA</td>\n",
       "      <td>1990</td>\n",
       "      <td>5122.496248</td>\n",
       "      <td>1815.064425</td>\n",
       "      <td>2179.491846</td>\n",
       "      <td>1023.458015</td>\n",
       "    </tr>\n",
       "    <tr>\n",
       "      <th>11</th>\n",
       "      <td>USA</td>\n",
       "      <td>USA</td>\n",
       "      <td>1991</td>\n",
       "      <td>5064.987175</td>\n",
       "      <td>1797.788993</td>\n",
       "      <td>2121.764756</td>\n",
       "      <td>1043.025858</td>\n",
       "    </tr>\n",
       "    <tr>\n",
       "      <th>12</th>\n",
       "      <td>USA</td>\n",
       "      <td>USA</td>\n",
       "      <td>1992</td>\n",
       "      <td>5175.219975</td>\n",
       "      <td>1817.520294</td>\n",
       "      <td>2174.649644</td>\n",
       "      <td>1080.669786</td>\n",
       "    </tr>\n",
       "    <tr>\n",
       "      <th>13</th>\n",
       "      <td>USA</td>\n",
       "      <td>USA</td>\n",
       "      <td>1993</td>\n",
       "      <td>5274.362630</td>\n",
       "      <td>1879.878271</td>\n",
       "      <td>2182.044987</td>\n",
       "      <td>1109.642667</td>\n",
       "    </tr>\n",
       "    <tr>\n",
       "      <th>14</th>\n",
       "      <td>USA</td>\n",
       "      <td>USA</td>\n",
       "      <td>1994</td>\n",
       "      <td>5365.578825</td>\n",
       "      <td>1894.595547</td>\n",
       "      <td>2227.476052</td>\n",
       "      <td>1137.471221</td>\n",
       "    </tr>\n",
       "    <tr>\n",
       "      <th>15</th>\n",
       "      <td>USA</td>\n",
       "      <td>USA</td>\n",
       "      <td>1995</td>\n",
       "      <td>5427.798477</td>\n",
       "      <td>1914.163944</td>\n",
       "      <td>2218.736507</td>\n",
       "      <td>1186.695895</td>\n",
       "    </tr>\n",
       "    <tr>\n",
       "      <th>16</th>\n",
       "      <td>USA</td>\n",
       "      <td>USA</td>\n",
       "      <td>1996</td>\n",
       "      <td>5616.430864</td>\n",
       "      <td>1994.607430</td>\n",
       "      <td>2306.560227</td>\n",
       "      <td>1206.789637</td>\n",
       "    </tr>\n",
       "    <tr>\n",
       "      <th>17</th>\n",
       "      <td>USA</td>\n",
       "      <td>USA</td>\n",
       "      <td>1997</td>\n",
       "      <td>5691.864597</td>\n",
       "      <td>2040.030153</td>\n",
       "      <td>2327.345506</td>\n",
       "      <td>1214.479169</td>\n",
       "    </tr>\n",
       "    <tr>\n",
       "      <th>18</th>\n",
       "      <td>USA</td>\n",
       "      <td>USA</td>\n",
       "      <td>1998</td>\n",
       "      <td>5737.129370</td>\n",
       "      <td>2064.125452</td>\n",
       "      <td>2371.815860</td>\n",
       "      <td>1191.601288</td>\n",
       "    </tr>\n",
       "    <tr>\n",
       "      <th>19</th>\n",
       "      <td>USA</td>\n",
       "      <td>USA</td>\n",
       "      <td>1999</td>\n",
       "      <td>5810.331395</td>\n",
       "      <td>2065.357732</td>\n",
       "      <td>2435.456973</td>\n",
       "      <td>1199.103307</td>\n",
       "    </tr>\n",
       "    <tr>\n",
       "      <th>20</th>\n",
       "      <td>USA</td>\n",
       "      <td>USA</td>\n",
       "      <td>2000</td>\n",
       "      <td>6016.350574</td>\n",
       "      <td>2165.606328</td>\n",
       "      <td>2489.787517</td>\n",
       "      <td>1252.332071</td>\n",
       "    </tr>\n",
       "    <tr>\n",
       "      <th>21</th>\n",
       "      <td>USA</td>\n",
       "      <td>USA</td>\n",
       "      <td>2001</td>\n",
       "      <td>5911.988517</td>\n",
       "      <td>2100.693890</td>\n",
       "      <td>2503.543873</td>\n",
       "      <td>1199.432628</td>\n",
       "    </tr>\n",
       "    <tr>\n",
       "      <th>22</th>\n",
       "      <td>USA</td>\n",
       "      <td>USA</td>\n",
       "      <td>2002</td>\n",
       "      <td>5952.698581</td>\n",
       "      <td>2105.588304</td>\n",
       "      <td>2497.583755</td>\n",
       "      <td>1239.006806</td>\n",
       "    </tr>\n",
       "    <tr>\n",
       "      <th>23</th>\n",
       "      <td>USA</td>\n",
       "      <td>USA</td>\n",
       "      <td>2003</td>\n",
       "      <td>6015.804219</td>\n",
       "      <td>2145.491263</td>\n",
       "      <td>2559.108830</td>\n",
       "      <td>1201.862436</td>\n",
       "    </tr>\n",
       "    <tr>\n",
       "      <th>24</th>\n",
       "      <td>USA</td>\n",
       "      <td>USA</td>\n",
       "      <td>2004</td>\n",
       "      <td>6117.962686</td>\n",
       "      <td>2166.105560</td>\n",
       "      <td>2632.290252</td>\n",
       "      <td>1205.237349</td>\n",
       "    </tr>\n",
       "    <tr>\n",
       "      <th>25</th>\n",
       "      <td>USA</td>\n",
       "      <td>USA</td>\n",
       "      <td>2005</td>\n",
       "      <td>6137.603445</td>\n",
       "      <td>2189.646259</td>\n",
       "      <td>2644.236598</td>\n",
       "      <td>1187.618743</td>\n",
       "    </tr>\n",
       "    <tr>\n",
       "      <th>26</th>\n",
       "      <td>USA</td>\n",
       "      <td>USA</td>\n",
       "      <td>2006</td>\n",
       "      <td>6057.163161</td>\n",
       "      <td>2153.509929</td>\n",
       "      <td>2610.822803</td>\n",
       "      <td>1173.784429</td>\n",
       "    </tr>\n",
       "    <tr>\n",
       "      <th>27</th>\n",
       "      <td>USA</td>\n",
       "      <td>USA</td>\n",
       "      <td>2007</td>\n",
       "      <td>6135.287208</td>\n",
       "      <td>2176.462796</td>\n",
       "      <td>2593.582204</td>\n",
       "      <td>1248.121541</td>\n",
       "    </tr>\n",
       "    <tr>\n",
       "      <th>28</th>\n",
       "      <td>USA</td>\n",
       "      <td>USA</td>\n",
       "      <td>2008</td>\n",
       "      <td>5918.868654</td>\n",
       "      <td>2136.484804</td>\n",
       "      <td>2415.427499</td>\n",
       "      <td>1253.226709</td>\n",
       "    </tr>\n",
       "    <tr>\n",
       "      <th>29</th>\n",
       "      <td>USA</td>\n",
       "      <td>USA</td>\n",
       "      <td>2009</td>\n",
       "      <td>5482.977899</td>\n",
       "      <td>1872.668065</td>\n",
       "      <td>2280.456426</td>\n",
       "      <td>1231.750925</td>\n",
       "    </tr>\n",
       "    <tr>\n",
       "      <th>30</th>\n",
       "      <td>USA</td>\n",
       "      <td>USA</td>\n",
       "      <td>2010</td>\n",
       "      <td>5681.392035</td>\n",
       "      <td>1982.983381</td>\n",
       "      <td>2300.353344</td>\n",
       "      <td>1290.514500</td>\n",
       "    </tr>\n",
       "    <tr>\n",
       "      <th>31</th>\n",
       "      <td>USA</td>\n",
       "      <td>USA</td>\n",
       "      <td>2011</td>\n",
       "      <td>5546.628958</td>\n",
       "      <td>1872.951133</td>\n",
       "      <td>2251.761189</td>\n",
       "      <td>1310.473931</td>\n",
       "    </tr>\n",
       "    <tr>\n",
       "      <th>32</th>\n",
       "      <td>USA</td>\n",
       "      <td>USA</td>\n",
       "      <td>2012</td>\n",
       "      <td>5345.454261</td>\n",
       "      <td>1658.503321</td>\n",
       "      <td>2195.781516</td>\n",
       "      <td>1372.082466</td>\n",
       "    </tr>\n",
       "    <tr>\n",
       "      <th>33</th>\n",
       "      <td>USA</td>\n",
       "      <td>USA</td>\n",
       "      <td>2013</td>\n",
       "      <td>5480.926097</td>\n",
       "      <td>1720.268523</td>\n",
       "      <td>2224.219492</td>\n",
       "      <td>1410.366932</td>\n",
       "    </tr>\n",
       "    <tr>\n",
       "      <th>34</th>\n",
       "      <td>USA</td>\n",
       "      <td>USA</td>\n",
       "      <td>2014</td>\n",
       "      <td>5528.871276</td>\n",
       "      <td>1710.368415</td>\n",
       "      <td>2247.447818</td>\n",
       "      <td>1435.020150</td>\n",
       "    </tr>\n",
       "    <tr>\n",
       "      <th>35</th>\n",
       "      <td>USA</td>\n",
       "      <td>USA</td>\n",
       "      <td>2015</td>\n",
       "      <td>5376.577933</td>\n",
       "      <td>1479.001098</td>\n",
       "      <td>2285.320769</td>\n",
       "      <td>1475.992990</td>\n",
       "    </tr>\n",
       "    <tr>\n",
       "      <th>36</th>\n",
       "      <td>USA</td>\n",
       "      <td>USA</td>\n",
       "      <td>2016</td>\n",
       "      <td>5251.757629</td>\n",
       "      <td>1347.797519</td>\n",
       "      <td>2299.606916</td>\n",
       "      <td>1481.713018</td>\n",
       "    </tr>\n",
       "    <tr>\n",
       "      <th>37</th>\n",
       "      <td>USA</td>\n",
       "      <td>USA</td>\n",
       "      <td>2017</td>\n",
       "      <td>5210.957584</td>\n",
       "      <td>1308.479533</td>\n",
       "      <td>2314.675386</td>\n",
       "      <td>1460.391796</td>\n",
       "    </tr>\n",
       "    <tr>\n",
       "      <th>38</th>\n",
       "      <td>USA</td>\n",
       "      <td>USA</td>\n",
       "      <td>2018</td>\n",
       "      <td>5376.657233</td>\n",
       "      <td>1256.201494</td>\n",
       "      <td>2365.283480</td>\n",
       "      <td>1618.720337</td>\n",
       "    </tr>\n",
       "    <tr>\n",
       "      <th>39</th>\n",
       "      <td>USA</td>\n",
       "      <td>USA</td>\n",
       "      <td>2019</td>\n",
       "      <td>5259.143836</td>\n",
       "      <td>1070.723931</td>\n",
       "      <td>2358.831137</td>\n",
       "      <td>1673.999100</td>\n",
       "    </tr>\n",
       "    <tr>\n",
       "      <th>40</th>\n",
       "      <td>USA</td>\n",
       "      <td>USA</td>\n",
       "      <td>2020</td>\n",
       "      <td>4715.691109</td>\n",
       "      <td>878.972885</td>\n",
       "      <td>2049.336500</td>\n",
       "      <td>1653.677852</td>\n",
       "    </tr>\n",
       "    <tr>\n",
       "      <th>41</th>\n",
       "      <td>USA</td>\n",
       "      <td>USA</td>\n",
       "      <td>2021</td>\n",
       "      <td>5007.335889</td>\n",
       "      <td>1002.299987</td>\n",
       "      <td>2233.778180</td>\n",
       "      <td>1637.038462</td>\n",
       "    </tr>\n",
       "  </tbody>\n",
       "</table>\n",
       "</div>"
      ],
      "text/plain": [
       "   Country ISO 3166-1 alpha-3  Year        Total         Coal          Oil  \\\n",
       "0      USA                USA  1980  4808.520356  1453.794000  2244.444000   \n",
       "1      USA                USA  1981  4686.369198  1502.932000  2101.611000   \n",
       "2      USA                USA  1982  4447.255938  1449.085000  1994.450000   \n",
       "3      USA                USA  1983  4429.374051  1504.796000  1978.053000   \n",
       "4      USA                USA  1984  4662.141491  1616.103000  2034.520000   \n",
       "5      USA                USA  1985  4652.579989  1655.025000  2023.815000   \n",
       "6      USA                USA  1986  4663.369645  1635.733000  2112.065000   \n",
       "7      USA                USA  1987  4825.650651  1709.484000  2143.098000   \n",
       "8      USA                USA  1988  5050.475381  1792.727000  2241.115000   \n",
       "9      USA                USA  1989  5132.134279  1813.144000  2239.733000   \n",
       "10     USA                USA  1990  5122.496248  1815.064425  2179.491846   \n",
       "11     USA                USA  1991  5064.987175  1797.788993  2121.764756   \n",
       "12     USA                USA  1992  5175.219975  1817.520294  2174.649644   \n",
       "13     USA                USA  1993  5274.362630  1879.878271  2182.044987   \n",
       "14     USA                USA  1994  5365.578825  1894.595547  2227.476052   \n",
       "15     USA                USA  1995  5427.798477  1914.163944  2218.736507   \n",
       "16     USA                USA  1996  5616.430864  1994.607430  2306.560227   \n",
       "17     USA                USA  1997  5691.864597  2040.030153  2327.345506   \n",
       "18     USA                USA  1998  5737.129370  2064.125452  2371.815860   \n",
       "19     USA                USA  1999  5810.331395  2065.357732  2435.456973   \n",
       "20     USA                USA  2000  6016.350574  2165.606328  2489.787517   \n",
       "21     USA                USA  2001  5911.988517  2100.693890  2503.543873   \n",
       "22     USA                USA  2002  5952.698581  2105.588304  2497.583755   \n",
       "23     USA                USA  2003  6015.804219  2145.491263  2559.108830   \n",
       "24     USA                USA  2004  6117.962686  2166.105560  2632.290252   \n",
       "25     USA                USA  2005  6137.603445  2189.646259  2644.236598   \n",
       "26     USA                USA  2006  6057.163161  2153.509929  2610.822803   \n",
       "27     USA                USA  2007  6135.287208  2176.462796  2593.582204   \n",
       "28     USA                USA  2008  5918.868654  2136.484804  2415.427499   \n",
       "29     USA                USA  2009  5482.977899  1872.668065  2280.456426   \n",
       "30     USA                USA  2010  5681.392035  1982.983381  2300.353344   \n",
       "31     USA                USA  2011  5546.628958  1872.951133  2251.761189   \n",
       "32     USA                USA  2012  5345.454261  1658.503321  2195.781516   \n",
       "33     USA                USA  2013  5480.926097  1720.268523  2224.219492   \n",
       "34     USA                USA  2014  5528.871276  1710.368415  2247.447818   \n",
       "35     USA                USA  2015  5376.577933  1479.001098  2285.320769   \n",
       "36     USA                USA  2016  5251.757629  1347.797519  2299.606916   \n",
       "37     USA                USA  2017  5210.957584  1308.479533  2314.675386   \n",
       "38     USA                USA  2018  5376.657233  1256.201494  2365.283480   \n",
       "39     USA                USA  2019  5259.143836  1070.723931  2358.831137   \n",
       "40     USA                USA  2020  4715.691109   878.972885  2049.336500   \n",
       "41     USA                USA  2021  5007.335889  1002.299987  2233.778180   \n",
       "\n",
       "            Gas  \n",
       "0   1058.054000  \n",
       "1   1032.089000  \n",
       "2    960.901000  \n",
       "3    901.094000  \n",
       "4    962.252000  \n",
       "5    926.516000  \n",
       "6    867.866000  \n",
       "7    922.972000  \n",
       "8    964.373000  \n",
       "9   1026.955000  \n",
       "10  1023.458015  \n",
       "11  1043.025858  \n",
       "12  1080.669786  \n",
       "13  1109.642667  \n",
       "14  1137.471221  \n",
       "15  1186.695895  \n",
       "16  1206.789637  \n",
       "17  1214.479169  \n",
       "18  1191.601288  \n",
       "19  1199.103307  \n",
       "20  1252.332071  \n",
       "21  1199.432628  \n",
       "22  1239.006806  \n",
       "23  1201.862436  \n",
       "24  1205.237349  \n",
       "25  1187.618743  \n",
       "26  1173.784429  \n",
       "27  1248.121541  \n",
       "28  1253.226709  \n",
       "29  1231.750925  \n",
       "30  1290.514500  \n",
       "31  1310.473931  \n",
       "32  1372.082466  \n",
       "33  1410.366932  \n",
       "34  1435.020150  \n",
       "35  1475.992990  \n",
       "36  1481.713018  \n",
       "37  1460.391796  \n",
       "38  1618.720337  \n",
       "39  1673.999100  \n",
       "40  1653.677852  \n",
       "41  1637.038462  "
      ]
     },
     "execution_count": 40,
     "metadata": {},
     "output_type": "execute_result"
    }
   ],
   "source": [
    "# USA data set\n",
    "df_usa = df.loc[df['Country'] == 'USA']\n",
    "df_usa = df_usa.reset_index().drop(columns='index').drop(columns='level_0')\n",
    "df_usa"
   ]
  },
  {
   "cell_type": "code",
   "execution_count": 41,
   "id": "9e4a9b45",
   "metadata": {},
   "outputs": [
    {
     "data": {
      "text/html": [
       "<div>\n",
       "<style scoped>\n",
       "    .dataframe tbody tr th:only-of-type {\n",
       "        vertical-align: middle;\n",
       "    }\n",
       "\n",
       "    .dataframe tbody tr th {\n",
       "        vertical-align: top;\n",
       "    }\n",
       "\n",
       "    .dataframe thead th {\n",
       "        text-align: right;\n",
       "    }\n",
       "</style>\n",
       "<table border=\"1\" class=\"dataframe\">\n",
       "  <thead>\n",
       "    <tr style=\"text-align: right;\">\n",
       "      <th></th>\n",
       "      <th>Country</th>\n",
       "      <th>ISO 3166-1 alpha-3</th>\n",
       "      <th>Year</th>\n",
       "      <th>Total</th>\n",
       "      <th>Coal</th>\n",
       "      <th>Oil</th>\n",
       "      <th>Gas</th>\n",
       "    </tr>\n",
       "  </thead>\n",
       "  <tbody>\n",
       "    <tr>\n",
       "      <th>0</th>\n",
       "      <td>Japan</td>\n",
       "      <td>JPN</td>\n",
       "      <td>1980</td>\n",
       "      <td>944.868566</td>\n",
       "      <td>224.299088</td>\n",
       "      <td>630.658672</td>\n",
       "      <td>47.932448</td>\n",
       "    </tr>\n",
       "    <tr>\n",
       "      <th>1</th>\n",
       "      <td>Japan</td>\n",
       "      <td>JPN</td>\n",
       "      <td>1981</td>\n",
       "      <td>926.835495</td>\n",
       "      <td>247.357616</td>\n",
       "      <td>590.551194</td>\n",
       "      <td>48.592160</td>\n",
       "    </tr>\n",
       "    <tr>\n",
       "      <th>2</th>\n",
       "      <td>Japan</td>\n",
       "      <td>JPN</td>\n",
       "      <td>1982</td>\n",
       "      <td>897.407791</td>\n",
       "      <td>242.630080</td>\n",
       "      <td>566.787824</td>\n",
       "      <td>49.746128</td>\n",
       "    </tr>\n",
       "    <tr>\n",
       "      <th>3</th>\n",
       "      <td>Japan</td>\n",
       "      <td>JPN</td>\n",
       "      <td>1983</td>\n",
       "      <td>880.909402</td>\n",
       "      <td>229.795088</td>\n",
       "      <td>559.573408</td>\n",
       "      <td>53.347840</td>\n",
       "    </tr>\n",
       "    <tr>\n",
       "      <th>4</th>\n",
       "      <td>Japan</td>\n",
       "      <td>JPN</td>\n",
       "      <td>1984</td>\n",
       "      <td>937.069892</td>\n",
       "      <td>260.175961</td>\n",
       "      <td>568.097320</td>\n",
       "      <td>71.696872</td>\n",
       "    </tr>\n",
       "    <tr>\n",
       "      <th>5</th>\n",
       "      <td>Japan</td>\n",
       "      <td>JPN</td>\n",
       "      <td>1985</td>\n",
       "      <td>912.400813</td>\n",
       "      <td>271.788192</td>\n",
       "      <td>529.480976</td>\n",
       "      <td>76.980640</td>\n",
       "    </tr>\n",
       "    <tr>\n",
       "      <th>6</th>\n",
       "      <td>Japan</td>\n",
       "      <td>JPN</td>\n",
       "      <td>1986</td>\n",
       "      <td>912.259933</td>\n",
       "      <td>257.465616</td>\n",
       "      <td>540.355728</td>\n",
       "      <td>81.252864</td>\n",
       "    </tr>\n",
       "    <tr>\n",
       "      <th>7</th>\n",
       "      <td>Japan</td>\n",
       "      <td>JPN</td>\n",
       "      <td>1987</td>\n",
       "      <td>902.530350</td>\n",
       "      <td>250.394096</td>\n",
       "      <td>536.237392</td>\n",
       "      <td>82.707472</td>\n",
       "    </tr>\n",
       "    <tr>\n",
       "      <th>8</th>\n",
       "      <td>Japan</td>\n",
       "      <td>JPN</td>\n",
       "      <td>1988</td>\n",
       "      <td>985.464274</td>\n",
       "      <td>278.511632</td>\n",
       "      <td>584.909968</td>\n",
       "      <td>86.206592</td>\n",
       "    </tr>\n",
       "    <tr>\n",
       "      <th>9</th>\n",
       "      <td>Japan</td>\n",
       "      <td>JPN</td>\n",
       "      <td>1989</td>\n",
       "      <td>1021.681739</td>\n",
       "      <td>277.104656</td>\n",
       "      <td>615.156288</td>\n",
       "      <td>92.724848</td>\n",
       "    </tr>\n",
       "    <tr>\n",
       "      <th>10</th>\n",
       "      <td>Japan</td>\n",
       "      <td>JPN</td>\n",
       "      <td>1990</td>\n",
       "      <td>1158.129439</td>\n",
       "      <td>317.934282</td>\n",
       "      <td>670.647609</td>\n",
       "      <td>118.872345</td>\n",
       "    </tr>\n",
       "    <tr>\n",
       "      <th>11</th>\n",
       "      <td>Japan</td>\n",
       "      <td>JPN</td>\n",
       "      <td>1991</td>\n",
       "      <td>1169.777716</td>\n",
       "      <td>317.799425</td>\n",
       "      <td>673.006559</td>\n",
       "      <td>126.994406</td>\n",
       "    </tr>\n",
       "    <tr>\n",
       "      <th>12</th>\n",
       "      <td>Japan</td>\n",
       "      <td>JPN</td>\n",
       "      <td>1992</td>\n",
       "      <td>1179.504316</td>\n",
       "      <td>312.155887</td>\n",
       "      <td>686.565290</td>\n",
       "      <td>128.434625</td>\n",
       "    </tr>\n",
       "    <tr>\n",
       "      <th>13</th>\n",
       "      <td>Japan</td>\n",
       "      <td>JPN</td>\n",
       "      <td>1993</td>\n",
       "      <td>1172.487308</td>\n",
       "      <td>317.625427</td>\n",
       "      <td>672.018016</td>\n",
       "      <td>131.217458</td>\n",
       "    </tr>\n",
       "    <tr>\n",
       "      <th>14</th>\n",
       "      <td>Japan</td>\n",
       "      <td>JPN</td>\n",
       "      <td>1994</td>\n",
       "      <td>1227.513532</td>\n",
       "      <td>325.337790</td>\n",
       "      <td>712.016299</td>\n",
       "      <td>137.667840</td>\n",
       "    </tr>\n",
       "    <tr>\n",
       "      <th>15</th>\n",
       "      <td>Japan</td>\n",
       "      <td>JPN</td>\n",
       "      <td>1995</td>\n",
       "      <td>1239.909400</td>\n",
       "      <td>335.293184</td>\n",
       "      <td>709.328445</td>\n",
       "      <td>142.649074</td>\n",
       "    </tr>\n",
       "    <tr>\n",
       "      <th>16</th>\n",
       "      <td>Japan</td>\n",
       "      <td>JPN</td>\n",
       "      <td>1996</td>\n",
       "      <td>1252.447045</td>\n",
       "      <td>344.117349</td>\n",
       "      <td>706.887939</td>\n",
       "      <td>148.448270</td>\n",
       "    </tr>\n",
       "    <tr>\n",
       "      <th>17</th>\n",
       "      <td>Japan</td>\n",
       "      <td>JPN</td>\n",
       "      <td>1997</td>\n",
       "      <td>1245.139360</td>\n",
       "      <td>349.675392</td>\n",
       "      <td>692.050712</td>\n",
       "      <td>153.033751</td>\n",
       "    </tr>\n",
       "    <tr>\n",
       "      <th>18</th>\n",
       "      <td>Japan</td>\n",
       "      <td>JPN</td>\n",
       "      <td>1998</td>\n",
       "      <td>1205.249923</td>\n",
       "      <td>327.404665</td>\n",
       "      <td>676.243855</td>\n",
       "      <td>156.330316</td>\n",
       "    </tr>\n",
       "    <tr>\n",
       "      <th>19</th>\n",
       "      <td>Japan</td>\n",
       "      <td>JPN</td>\n",
       "      <td>1999</td>\n",
       "      <td>1241.835604</td>\n",
       "      <td>345.281251</td>\n",
       "      <td>685.684394</td>\n",
       "      <td>165.804437</td>\n",
       "    </tr>\n",
       "    <tr>\n",
       "      <th>20</th>\n",
       "      <td>Japan</td>\n",
       "      <td>JPN</td>\n",
       "      <td>2000</td>\n",
       "      <td>1264.594656</td>\n",
       "      <td>372.149786</td>\n",
       "      <td>676.422214</td>\n",
       "      <td>170.603597</td>\n",
       "    </tr>\n",
       "    <tr>\n",
       "      <th>21</th>\n",
       "      <td>Japan</td>\n",
       "      <td>JPN</td>\n",
       "      <td>2001</td>\n",
       "      <td>1249.988539</td>\n",
       "      <td>381.227601</td>\n",
       "      <td>654.741169</td>\n",
       "      <td>169.623171</td>\n",
       "    </tr>\n",
       "    <tr>\n",
       "      <th>22</th>\n",
       "      <td>Japan</td>\n",
       "      <td>JPN</td>\n",
       "      <td>2002</td>\n",
       "      <td>1279.362300</td>\n",
       "      <td>398.394136</td>\n",
       "      <td>665.694780</td>\n",
       "      <td>173.418885</td>\n",
       "    </tr>\n",
       "    <tr>\n",
       "      <th>23</th>\n",
       "      <td>Japan</td>\n",
       "      <td>JPN</td>\n",
       "      <td>2003</td>\n",
       "      <td>1287.691834</td>\n",
       "      <td>411.820508</td>\n",
       "      <td>655.805004</td>\n",
       "      <td>178.651846</td>\n",
       "    </tr>\n",
       "    <tr>\n",
       "      <th>24</th>\n",
       "      <td>Japan</td>\n",
       "      <td>JPN</td>\n",
       "      <td>2004</td>\n",
       "      <td>1283.076662</td>\n",
       "      <td>419.813966</td>\n",
       "      <td>644.657995</td>\n",
       "      <td>177.564951</td>\n",
       "    </tr>\n",
       "    <tr>\n",
       "      <th>25</th>\n",
       "      <td>Japan</td>\n",
       "      <td>JPN</td>\n",
       "      <td>2005</td>\n",
       "      <td>1290.599508</td>\n",
       "      <td>430.348308</td>\n",
       "      <td>641.774213</td>\n",
       "      <td>176.001001</td>\n",
       "    </tr>\n",
       "    <tr>\n",
       "      <th>26</th>\n",
       "      <td>Japan</td>\n",
       "      <td>JPN</td>\n",
       "      <td>2006</td>\n",
       "      <td>1267.623958</td>\n",
       "      <td>427.482811</td>\n",
       "      <td>604.984148</td>\n",
       "      <td>192.654372</td>\n",
       "    </tr>\n",
       "    <tr>\n",
       "      <th>27</th>\n",
       "      <td>Japan</td>\n",
       "      <td>JPN</td>\n",
       "      <td>2007</td>\n",
       "      <td>1303.362030</td>\n",
       "      <td>444.982442</td>\n",
       "      <td>607.551169</td>\n",
       "      <td>209.122344</td>\n",
       "    </tr>\n",
       "    <tr>\n",
       "      <th>28</th>\n",
       "      <td>Japan</td>\n",
       "      <td>JPN</td>\n",
       "      <td>2008</td>\n",
       "      <td>1232.480695</td>\n",
       "      <td>426.290792</td>\n",
       "      <td>562.867939</td>\n",
       "      <td>204.484663</td>\n",
       "    </tr>\n",
       "    <tr>\n",
       "      <th>29</th>\n",
       "      <td>Japan</td>\n",
       "      <td>JPN</td>\n",
       "      <td>2009</td>\n",
       "      <td>1163.375134</td>\n",
       "      <td>411.271552</td>\n",
       "      <td>515.862741</td>\n",
       "      <td>202.176743</td>\n",
       "    </tr>\n",
       "    <tr>\n",
       "      <th>30</th>\n",
       "      <td>Japan</td>\n",
       "      <td>JPN</td>\n",
       "      <td>2010</td>\n",
       "      <td>1215.058103</td>\n",
       "      <td>445.976928</td>\n",
       "      <td>521.743014</td>\n",
       "      <td>213.341562</td>\n",
       "    </tr>\n",
       "    <tr>\n",
       "      <th>31</th>\n",
       "      <td>Japan</td>\n",
       "      <td>JPN</td>\n",
       "      <td>2011</td>\n",
       "      <td>1265.034863</td>\n",
       "      <td>430.475991</td>\n",
       "      <td>552.298459</td>\n",
       "      <td>247.922677</td>\n",
       "    </tr>\n",
       "    <tr>\n",
       "      <th>32</th>\n",
       "      <td>Japan</td>\n",
       "      <td>JPN</td>\n",
       "      <td>2012</td>\n",
       "      <td>1306.182513</td>\n",
       "      <td>450.013486</td>\n",
       "      <td>564.128956</td>\n",
       "      <td>257.022425</td>\n",
       "    </tr>\n",
       "    <tr>\n",
       "      <th>33</th>\n",
       "      <td>Japan</td>\n",
       "      <td>JPN</td>\n",
       "      <td>2013</td>\n",
       "      <td>1315.568700</td>\n",
       "      <td>481.216134</td>\n",
       "      <td>541.435289</td>\n",
       "      <td>256.490809</td>\n",
       "    </tr>\n",
       "    <tr>\n",
       "      <th>34</th>\n",
       "      <td>Japan</td>\n",
       "      <td>JPN</td>\n",
       "      <td>2014</td>\n",
       "      <td>1264.413251</td>\n",
       "      <td>472.934047</td>\n",
       "      <td>496.771315</td>\n",
       "      <td>258.548469</td>\n",
       "    </tr>\n",
       "    <tr>\n",
       "      <th>35</th>\n",
       "      <td>Japan</td>\n",
       "      <td>JPN</td>\n",
       "      <td>2015</td>\n",
       "      <td>1223.605161</td>\n",
       "      <td>465.830288</td>\n",
       "      <td>476.378763</td>\n",
       "      <td>246.428641</td>\n",
       "    </tr>\n",
       "    <tr>\n",
       "      <th>36</th>\n",
       "      <td>Japan</td>\n",
       "      <td>JPN</td>\n",
       "      <td>2016</td>\n",
       "      <td>1203.888206</td>\n",
       "      <td>456.551209</td>\n",
       "      <td>460.878576</td>\n",
       "      <td>251.595944</td>\n",
       "    </tr>\n",
       "    <tr>\n",
       "      <th>37</th>\n",
       "      <td>Japan</td>\n",
       "      <td>JPN</td>\n",
       "      <td>2017</td>\n",
       "      <td>1188.358949</td>\n",
       "      <td>458.482158</td>\n",
       "      <td>448.847338</td>\n",
       "      <td>245.692546</td>\n",
       "    </tr>\n",
       "    <tr>\n",
       "      <th>38</th>\n",
       "      <td>Japan</td>\n",
       "      <td>JPN</td>\n",
       "      <td>2018</td>\n",
       "      <td>1143.411908</td>\n",
       "      <td>441.964043</td>\n",
       "      <td>432.510939</td>\n",
       "      <td>233.953267</td>\n",
       "    </tr>\n",
       "    <tr>\n",
       "      <th>39</th>\n",
       "      <td>Japan</td>\n",
       "      <td>JPN</td>\n",
       "      <td>2019</td>\n",
       "      <td>1106.015486</td>\n",
       "      <td>432.250117</td>\n",
       "      <td>415.860472</td>\n",
       "      <td>224.230136</td>\n",
       "    </tr>\n",
       "    <tr>\n",
       "      <th>40</th>\n",
       "      <td>Japan</td>\n",
       "      <td>JPN</td>\n",
       "      <td>2020</td>\n",
       "      <td>1042.224016</td>\n",
       "      <td>399.366949</td>\n",
       "      <td>387.857350</td>\n",
       "      <td>222.604846</td>\n",
       "    </tr>\n",
       "    <tr>\n",
       "      <th>41</th>\n",
       "      <td>Japan</td>\n",
       "      <td>JPN</td>\n",
       "      <td>2021</td>\n",
       "      <td>1067.398435</td>\n",
       "      <td>418.820499</td>\n",
       "      <td>395.359389</td>\n",
       "      <td>221.525076</td>\n",
       "    </tr>\n",
       "  </tbody>\n",
       "</table>\n",
       "</div>"
      ],
      "text/plain": [
       "   Country ISO 3166-1 alpha-3  Year        Total        Coal         Oil  \\\n",
       "0    Japan                JPN  1980   944.868566  224.299088  630.658672   \n",
       "1    Japan                JPN  1981   926.835495  247.357616  590.551194   \n",
       "2    Japan                JPN  1982   897.407791  242.630080  566.787824   \n",
       "3    Japan                JPN  1983   880.909402  229.795088  559.573408   \n",
       "4    Japan                JPN  1984   937.069892  260.175961  568.097320   \n",
       "5    Japan                JPN  1985   912.400813  271.788192  529.480976   \n",
       "6    Japan                JPN  1986   912.259933  257.465616  540.355728   \n",
       "7    Japan                JPN  1987   902.530350  250.394096  536.237392   \n",
       "8    Japan                JPN  1988   985.464274  278.511632  584.909968   \n",
       "9    Japan                JPN  1989  1021.681739  277.104656  615.156288   \n",
       "10   Japan                JPN  1990  1158.129439  317.934282  670.647609   \n",
       "11   Japan                JPN  1991  1169.777716  317.799425  673.006559   \n",
       "12   Japan                JPN  1992  1179.504316  312.155887  686.565290   \n",
       "13   Japan                JPN  1993  1172.487308  317.625427  672.018016   \n",
       "14   Japan                JPN  1994  1227.513532  325.337790  712.016299   \n",
       "15   Japan                JPN  1995  1239.909400  335.293184  709.328445   \n",
       "16   Japan                JPN  1996  1252.447045  344.117349  706.887939   \n",
       "17   Japan                JPN  1997  1245.139360  349.675392  692.050712   \n",
       "18   Japan                JPN  1998  1205.249923  327.404665  676.243855   \n",
       "19   Japan                JPN  1999  1241.835604  345.281251  685.684394   \n",
       "20   Japan                JPN  2000  1264.594656  372.149786  676.422214   \n",
       "21   Japan                JPN  2001  1249.988539  381.227601  654.741169   \n",
       "22   Japan                JPN  2002  1279.362300  398.394136  665.694780   \n",
       "23   Japan                JPN  2003  1287.691834  411.820508  655.805004   \n",
       "24   Japan                JPN  2004  1283.076662  419.813966  644.657995   \n",
       "25   Japan                JPN  2005  1290.599508  430.348308  641.774213   \n",
       "26   Japan                JPN  2006  1267.623958  427.482811  604.984148   \n",
       "27   Japan                JPN  2007  1303.362030  444.982442  607.551169   \n",
       "28   Japan                JPN  2008  1232.480695  426.290792  562.867939   \n",
       "29   Japan                JPN  2009  1163.375134  411.271552  515.862741   \n",
       "30   Japan                JPN  2010  1215.058103  445.976928  521.743014   \n",
       "31   Japan                JPN  2011  1265.034863  430.475991  552.298459   \n",
       "32   Japan                JPN  2012  1306.182513  450.013486  564.128956   \n",
       "33   Japan                JPN  2013  1315.568700  481.216134  541.435289   \n",
       "34   Japan                JPN  2014  1264.413251  472.934047  496.771315   \n",
       "35   Japan                JPN  2015  1223.605161  465.830288  476.378763   \n",
       "36   Japan                JPN  2016  1203.888206  456.551209  460.878576   \n",
       "37   Japan                JPN  2017  1188.358949  458.482158  448.847338   \n",
       "38   Japan                JPN  2018  1143.411908  441.964043  432.510939   \n",
       "39   Japan                JPN  2019  1106.015486  432.250117  415.860472   \n",
       "40   Japan                JPN  2020  1042.224016  399.366949  387.857350   \n",
       "41   Japan                JPN  2021  1067.398435  418.820499  395.359389   \n",
       "\n",
       "           Gas  \n",
       "0    47.932448  \n",
       "1    48.592160  \n",
       "2    49.746128  \n",
       "3    53.347840  \n",
       "4    71.696872  \n",
       "5    76.980640  \n",
       "6    81.252864  \n",
       "7    82.707472  \n",
       "8    86.206592  \n",
       "9    92.724848  \n",
       "10  118.872345  \n",
       "11  126.994406  \n",
       "12  128.434625  \n",
       "13  131.217458  \n",
       "14  137.667840  \n",
       "15  142.649074  \n",
       "16  148.448270  \n",
       "17  153.033751  \n",
       "18  156.330316  \n",
       "19  165.804437  \n",
       "20  170.603597  \n",
       "21  169.623171  \n",
       "22  173.418885  \n",
       "23  178.651846  \n",
       "24  177.564951  \n",
       "25  176.001001  \n",
       "26  192.654372  \n",
       "27  209.122344  \n",
       "28  204.484663  \n",
       "29  202.176743  \n",
       "30  213.341562  \n",
       "31  247.922677  \n",
       "32  257.022425  \n",
       "33  256.490809  \n",
       "34  258.548469  \n",
       "35  246.428641  \n",
       "36  251.595944  \n",
       "37  245.692546  \n",
       "38  233.953267  \n",
       "39  224.230136  \n",
       "40  222.604846  \n",
       "41  221.525076  "
      ]
     },
     "execution_count": 41,
     "metadata": {},
     "output_type": "execute_result"
    }
   ],
   "source": [
    "# Japan data set\n",
    "df_jap = df.loc[df['Country'] == 'Japan']\n",
    "df_jap = df_jap.reset_index().drop(columns='index').drop(columns='level_0')\n",
    "df_jap"
   ]
  },
  {
   "cell_type": "code",
   "execution_count": 42,
   "id": "9e16969c",
   "metadata": {
    "scrolled": true
   },
   "outputs": [
    {
     "data": {
      "text/html": [
       "<div>\n",
       "<style scoped>\n",
       "    .dataframe tbody tr th:only-of-type {\n",
       "        vertical-align: middle;\n",
       "    }\n",
       "\n",
       "    .dataframe tbody tr th {\n",
       "        vertical-align: top;\n",
       "    }\n",
       "\n",
       "    .dataframe thead th {\n",
       "        text-align: right;\n",
       "    }\n",
       "</style>\n",
       "<table border=\"1\" class=\"dataframe\">\n",
       "  <thead>\n",
       "    <tr style=\"text-align: right;\">\n",
       "      <th></th>\n",
       "      <th>Country</th>\n",
       "      <th>ISO 3166-1 alpha-3</th>\n",
       "      <th>Year</th>\n",
       "      <th>Total</th>\n",
       "      <th>Coal</th>\n",
       "      <th>Oil</th>\n",
       "      <th>Gas</th>\n",
       "    </tr>\n",
       "  </thead>\n",
       "  <tbody>\n",
       "    <tr>\n",
       "      <th>0</th>\n",
       "      <td>Germany</td>\n",
       "      <td>DEU</td>\n",
       "      <td>1980</td>\n",
       "      <td>1100.065995</td>\n",
       "      <td>551.175520</td>\n",
       "      <td>412.456480</td>\n",
       "      <td>115.452640</td>\n",
       "    </tr>\n",
       "    <tr>\n",
       "      <th>1</th>\n",
       "      <td>Germany</td>\n",
       "      <td>DEU</td>\n",
       "      <td>1981</td>\n",
       "      <td>1048.523357</td>\n",
       "      <td>557.748736</td>\n",
       "      <td>361.299712</td>\n",
       "      <td>110.000608</td>\n",
       "    </tr>\n",
       "    <tr>\n",
       "      <th>2</th>\n",
       "      <td>Germany</td>\n",
       "      <td>DEU</td>\n",
       "      <td>1982</td>\n",
       "      <td>1015.733894</td>\n",
       "      <td>550.812784</td>\n",
       "      <td>344.463632</td>\n",
       "      <td>102.016752</td>\n",
       "    </tr>\n",
       "    <tr>\n",
       "      <th>3</th>\n",
       "      <td>Germany</td>\n",
       "      <td>DEU</td>\n",
       "      <td>1983</td>\n",
       "      <td>1011.604905</td>\n",
       "      <td>553.738320</td>\n",
       "      <td>333.397148</td>\n",
       "      <td>106.021121</td>\n",
       "    </tr>\n",
       "    <tr>\n",
       "      <th>4</th>\n",
       "      <td>Germany</td>\n",
       "      <td>DEU</td>\n",
       "      <td>1984</td>\n",
       "      <td>1033.244579</td>\n",
       "      <td>572.331456</td>\n",
       "      <td>334.889600</td>\n",
       "      <td>108.531344</td>\n",
       "    </tr>\n",
       "    <tr>\n",
       "      <th>5</th>\n",
       "      <td>Germany</td>\n",
       "      <td>DEU</td>\n",
       "      <td>1985</td>\n",
       "      <td>1044.117955</td>\n",
       "      <td>579.375692</td>\n",
       "      <td>340.221911</td>\n",
       "      <td>108.531724</td>\n",
       "    </tr>\n",
       "    <tr>\n",
       "      <th>6</th>\n",
       "      <td>Germany</td>\n",
       "      <td>DEU</td>\n",
       "      <td>1986</td>\n",
       "      <td>1047.471904</td>\n",
       "      <td>573.762079</td>\n",
       "      <td>356.828387</td>\n",
       "      <td>100.550801</td>\n",
       "    </tr>\n",
       "    <tr>\n",
       "      <th>7</th>\n",
       "      <td>Germany</td>\n",
       "      <td>DEU</td>\n",
       "      <td>1987</td>\n",
       "      <td>1032.442842</td>\n",
       "      <td>560.223918</td>\n",
       "      <td>345.534743</td>\n",
       "      <td>109.546660</td>\n",
       "    </tr>\n",
       "    <tr>\n",
       "      <th>8</th>\n",
       "      <td>Germany</td>\n",
       "      <td>DEU</td>\n",
       "      <td>1988</td>\n",
       "      <td>1029.024130</td>\n",
       "      <td>552.860960</td>\n",
       "      <td>351.260352</td>\n",
       "      <td>107.637328</td>\n",
       "    </tr>\n",
       "    <tr>\n",
       "      <th>9</th>\n",
       "      <td>Germany</td>\n",
       "      <td>DEU</td>\n",
       "      <td>1989</td>\n",
       "      <td>1008.792342</td>\n",
       "      <td>546.778720</td>\n",
       "      <td>322.794736</td>\n",
       "      <td>121.908608</td>\n",
       "    </tr>\n",
       "    <tr>\n",
       "      <th>10</th>\n",
       "      <td>Germany</td>\n",
       "      <td>DEU</td>\n",
       "      <td>1990</td>\n",
       "      <td>1051.979103</td>\n",
       "      <td>569.133933</td>\n",
       "      <td>330.471639</td>\n",
       "      <td>122.299717</td>\n",
       "    </tr>\n",
       "    <tr>\n",
       "      <th>11</th>\n",
       "      <td>Germany</td>\n",
       "      <td>DEU</td>\n",
       "      <td>1991</td>\n",
       "      <td>1013.824095</td>\n",
       "      <td>504.058363</td>\n",
       "      <td>352.174663</td>\n",
       "      <td>130.161891</td>\n",
       "    </tr>\n",
       "    <tr>\n",
       "      <th>12</th>\n",
       "      <td>Germany</td>\n",
       "      <td>DEU</td>\n",
       "      <td>1992</td>\n",
       "      <td>965.541817</td>\n",
       "      <td>454.324533</td>\n",
       "      <td>353.960905</td>\n",
       "      <td>129.383593</td>\n",
       "    </tr>\n",
       "    <tr>\n",
       "      <th>13</th>\n",
       "      <td>Germany</td>\n",
       "      <td>DEU</td>\n",
       "      <td>1993</td>\n",
       "      <td>955.819934</td>\n",
       "      <td>430.790061</td>\n",
       "      <td>360.998807</td>\n",
       "      <td>136.302146</td>\n",
       "    </tr>\n",
       "    <tr>\n",
       "      <th>14</th>\n",
       "      <td>Germany</td>\n",
       "      <td>DEU</td>\n",
       "      <td>1994</td>\n",
       "      <td>939.492314</td>\n",
       "      <td>418.197070</td>\n",
       "      <td>350.052061</td>\n",
       "      <td>142.162168</td>\n",
       "    </tr>\n",
       "    <tr>\n",
       "      <th>15</th>\n",
       "      <td>Germany</td>\n",
       "      <td>DEU</td>\n",
       "      <td>1995</td>\n",
       "      <td>938.613565</td>\n",
       "      <td>406.059831</td>\n",
       "      <td>350.352795</td>\n",
       "      <td>152.984341</td>\n",
       "    </tr>\n",
       "    <tr>\n",
       "      <th>16</th>\n",
       "      <td>Germany</td>\n",
       "      <td>DEU</td>\n",
       "      <td>1996</td>\n",
       "      <td>958.700377</td>\n",
       "      <td>400.626928</td>\n",
       "      <td>360.038099</td>\n",
       "      <td>169.970819</td>\n",
       "    </tr>\n",
       "    <tr>\n",
       "      <th>17</th>\n",
       "      <td>Germany</td>\n",
       "      <td>DEU</td>\n",
       "      <td>1997</td>\n",
       "      <td>930.870087</td>\n",
       "      <td>386.878583</td>\n",
       "      <td>352.402027</td>\n",
       "      <td>162.892045</td>\n",
       "    </tr>\n",
       "    <tr>\n",
       "      <th>18</th>\n",
       "      <td>Germany</td>\n",
       "      <td>DEU</td>\n",
       "      <td>1998</td>\n",
       "      <td>922.812222</td>\n",
       "      <td>377.494523</td>\n",
       "      <td>351.197603</td>\n",
       "      <td>165.392745</td>\n",
       "    </tr>\n",
       "    <tr>\n",
       "      <th>19</th>\n",
       "      <td>Germany</td>\n",
       "      <td>DEU</td>\n",
       "      <td>1999</td>\n",
       "      <td>895.352121</td>\n",
       "      <td>360.066312</td>\n",
       "      <td>340.727569</td>\n",
       "      <td>165.641747</td>\n",
       "    </tr>\n",
       "    <tr>\n",
       "      <th>20</th>\n",
       "      <td>Germany</td>\n",
       "      <td>DEU</td>\n",
       "      <td>2000</td>\n",
       "      <td>899.351824</td>\n",
       "      <td>373.473132</td>\n",
       "      <td>331.125243</td>\n",
       "      <td>166.433444</td>\n",
       "    </tr>\n",
       "    <tr>\n",
       "      <th>21</th>\n",
       "      <td>Germany</td>\n",
       "      <td>DEU</td>\n",
       "      <td>2001</td>\n",
       "      <td>916.144477</td>\n",
       "      <td>376.533195</td>\n",
       "      <td>339.732989</td>\n",
       "      <td>173.813082</td>\n",
       "    </tr>\n",
       "    <tr>\n",
       "      <th>22</th>\n",
       "      <td>Germany</td>\n",
       "      <td>DEU</td>\n",
       "      <td>2002</td>\n",
       "      <td>899.449765</td>\n",
       "      <td>375.799127</td>\n",
       "      <td>325.001720</td>\n",
       "      <td>173.623112</td>\n",
       "    </tr>\n",
       "    <tr>\n",
       "      <th>23</th>\n",
       "      <td>Germany</td>\n",
       "      <td>DEU</td>\n",
       "      <td>2003</td>\n",
       "      <td>900.627666</td>\n",
       "      <td>379.536724</td>\n",
       "      <td>320.455570</td>\n",
       "      <td>174.872568</td>\n",
       "    </tr>\n",
       "    <tr>\n",
       "      <th>24</th>\n",
       "      <td>Germany</td>\n",
       "      <td>DEU</td>\n",
       "      <td>2004</td>\n",
       "      <td>886.637162</td>\n",
       "      <td>375.990449</td>\n",
       "      <td>311.160949</td>\n",
       "      <td>173.357043</td>\n",
       "    </tr>\n",
       "    <tr>\n",
       "      <th>25</th>\n",
       "      <td>Germany</td>\n",
       "      <td>DEU</td>\n",
       "      <td>2005</td>\n",
       "      <td>866.302770</td>\n",
       "      <td>363.239675</td>\n",
       "      <td>304.818223</td>\n",
       "      <td>173.429605</td>\n",
       "    </tr>\n",
       "    <tr>\n",
       "      <th>26</th>\n",
       "      <td>Germany</td>\n",
       "      <td>DEU</td>\n",
       "      <td>2006</td>\n",
       "      <td>877.938802</td>\n",
       "      <td>369.596095</td>\n",
       "      <td>304.553748</td>\n",
       "      <td>178.395732</td>\n",
       "    </tr>\n",
       "    <tr>\n",
       "      <th>27</th>\n",
       "      <td>Germany</td>\n",
       "      <td>DEU</td>\n",
       "      <td>2007</td>\n",
       "      <td>851.222968</td>\n",
       "      <td>379.386987</td>\n",
       "      <td>270.769920</td>\n",
       "      <td>174.440529</td>\n",
       "    </tr>\n",
       "    <tr>\n",
       "      <th>28</th>\n",
       "      <td>Germany</td>\n",
       "      <td>DEU</td>\n",
       "      <td>2008</td>\n",
       "      <td>854.508174</td>\n",
       "      <td>356.220854</td>\n",
       "      <td>292.852668</td>\n",
       "      <td>179.833964</td>\n",
       "    </tr>\n",
       "    <tr>\n",
       "      <th>29</th>\n",
       "      <td>Germany</td>\n",
       "      <td>DEU</td>\n",
       "      <td>2009</td>\n",
       "      <td>789.899980</td>\n",
       "      <td>317.904574</td>\n",
       "      <td>281.751205</td>\n",
       "      <td>167.411633</td>\n",
       "    </tr>\n",
       "    <tr>\n",
       "      <th>30</th>\n",
       "      <td>Germany</td>\n",
       "      <td>DEU</td>\n",
       "      <td>2010</td>\n",
       "      <td>832.540983</td>\n",
       "      <td>343.363951</td>\n",
       "      <td>281.833440</td>\n",
       "      <td>184.003635</td>\n",
       "    </tr>\n",
       "    <tr>\n",
       "      <th>31</th>\n",
       "      <td>Germany</td>\n",
       "      <td>DEU</td>\n",
       "      <td>2011</td>\n",
       "      <td>808.911525</td>\n",
       "      <td>344.697883</td>\n",
       "      <td>271.122024</td>\n",
       "      <td>168.410508</td>\n",
       "    </tr>\n",
       "    <tr>\n",
       "      <th>32</th>\n",
       "      <td>Germany</td>\n",
       "      <td>DEU</td>\n",
       "      <td>2012</td>\n",
       "      <td>813.693048</td>\n",
       "      <td>349.803212</td>\n",
       "      <td>271.558844</td>\n",
       "      <td>168.062225</td>\n",
       "    </tr>\n",
       "    <tr>\n",
       "      <th>33</th>\n",
       "      <td>Germany</td>\n",
       "      <td>DEU</td>\n",
       "      <td>2013</td>\n",
       "      <td>831.207653</td>\n",
       "      <td>356.889616</td>\n",
       "      <td>280.001778</td>\n",
       "      <td>170.536123</td>\n",
       "    </tr>\n",
       "    <tr>\n",
       "      <th>34</th>\n",
       "      <td>Germany</td>\n",
       "      <td>DEU</td>\n",
       "      <td>2014</td>\n",
       "      <td>792.255427</td>\n",
       "      <td>344.850129</td>\n",
       "      <td>270.940421</td>\n",
       "      <td>152.270963</td>\n",
       "    </tr>\n",
       "    <tr>\n",
       "      <th>35</th>\n",
       "      <td>Germany</td>\n",
       "      <td>DEU</td>\n",
       "      <td>2015</td>\n",
       "      <td>795.556570</td>\n",
       "      <td>341.018336</td>\n",
       "      <td>273.407683</td>\n",
       "      <td>157.455432</td>\n",
       "    </tr>\n",
       "    <tr>\n",
       "      <th>36</th>\n",
       "      <td>Germany</td>\n",
       "      <td>DEU</td>\n",
       "      <td>2016</td>\n",
       "      <td>800.339834</td>\n",
       "      <td>329.445089</td>\n",
       "      <td>277.783622</td>\n",
       "      <td>169.467961</td>\n",
       "    </tr>\n",
       "    <tr>\n",
       "      <th>37</th>\n",
       "      <td>Germany</td>\n",
       "      <td>DEU</td>\n",
       "      <td>2017</td>\n",
       "      <td>785.616471</td>\n",
       "      <td>310.763015</td>\n",
       "      <td>279.180926</td>\n",
       "      <td>171.412164</td>\n",
       "    </tr>\n",
       "    <tr>\n",
       "      <th>38</th>\n",
       "      <td>Germany</td>\n",
       "      <td>DEU</td>\n",
       "      <td>2018</td>\n",
       "      <td>754.408432</td>\n",
       "      <td>295.673550</td>\n",
       "      <td>265.224228</td>\n",
       "      <td>169.548548</td>\n",
       "    </tr>\n",
       "    <tr>\n",
       "      <th>39</th>\n",
       "      <td>Germany</td>\n",
       "      <td>DEU</td>\n",
       "      <td>2019</td>\n",
       "      <td>707.149948</td>\n",
       "      <td>240.086494</td>\n",
       "      <td>270.910415</td>\n",
       "      <td>172.478938</td>\n",
       "    </tr>\n",
       "    <tr>\n",
       "      <th>40</th>\n",
       "      <td>Germany</td>\n",
       "      <td>DEU</td>\n",
       "      <td>2020</td>\n",
       "      <td>639.381013</td>\n",
       "      <td>197.357678</td>\n",
       "      <td>251.383941</td>\n",
       "      <td>167.628086</td>\n",
       "    </tr>\n",
       "    <tr>\n",
       "      <th>41</th>\n",
       "      <td>Germany</td>\n",
       "      <td>DEU</td>\n",
       "      <td>2021</td>\n",
       "      <td>674.753566</td>\n",
       "      <td>230.221049</td>\n",
       "      <td>248.200624</td>\n",
       "      <td>173.484052</td>\n",
       "    </tr>\n",
       "  </tbody>\n",
       "</table>\n",
       "</div>"
      ],
      "text/plain": [
       "    Country ISO 3166-1 alpha-3  Year        Total        Coal         Oil  \\\n",
       "0   Germany                DEU  1980  1100.065995  551.175520  412.456480   \n",
       "1   Germany                DEU  1981  1048.523357  557.748736  361.299712   \n",
       "2   Germany                DEU  1982  1015.733894  550.812784  344.463632   \n",
       "3   Germany                DEU  1983  1011.604905  553.738320  333.397148   \n",
       "4   Germany                DEU  1984  1033.244579  572.331456  334.889600   \n",
       "5   Germany                DEU  1985  1044.117955  579.375692  340.221911   \n",
       "6   Germany                DEU  1986  1047.471904  573.762079  356.828387   \n",
       "7   Germany                DEU  1987  1032.442842  560.223918  345.534743   \n",
       "8   Germany                DEU  1988  1029.024130  552.860960  351.260352   \n",
       "9   Germany                DEU  1989  1008.792342  546.778720  322.794736   \n",
       "10  Germany                DEU  1990  1051.979103  569.133933  330.471639   \n",
       "11  Germany                DEU  1991  1013.824095  504.058363  352.174663   \n",
       "12  Germany                DEU  1992   965.541817  454.324533  353.960905   \n",
       "13  Germany                DEU  1993   955.819934  430.790061  360.998807   \n",
       "14  Germany                DEU  1994   939.492314  418.197070  350.052061   \n",
       "15  Germany                DEU  1995   938.613565  406.059831  350.352795   \n",
       "16  Germany                DEU  1996   958.700377  400.626928  360.038099   \n",
       "17  Germany                DEU  1997   930.870087  386.878583  352.402027   \n",
       "18  Germany                DEU  1998   922.812222  377.494523  351.197603   \n",
       "19  Germany                DEU  1999   895.352121  360.066312  340.727569   \n",
       "20  Germany                DEU  2000   899.351824  373.473132  331.125243   \n",
       "21  Germany                DEU  2001   916.144477  376.533195  339.732989   \n",
       "22  Germany                DEU  2002   899.449765  375.799127  325.001720   \n",
       "23  Germany                DEU  2003   900.627666  379.536724  320.455570   \n",
       "24  Germany                DEU  2004   886.637162  375.990449  311.160949   \n",
       "25  Germany                DEU  2005   866.302770  363.239675  304.818223   \n",
       "26  Germany                DEU  2006   877.938802  369.596095  304.553748   \n",
       "27  Germany                DEU  2007   851.222968  379.386987  270.769920   \n",
       "28  Germany                DEU  2008   854.508174  356.220854  292.852668   \n",
       "29  Germany                DEU  2009   789.899980  317.904574  281.751205   \n",
       "30  Germany                DEU  2010   832.540983  343.363951  281.833440   \n",
       "31  Germany                DEU  2011   808.911525  344.697883  271.122024   \n",
       "32  Germany                DEU  2012   813.693048  349.803212  271.558844   \n",
       "33  Germany                DEU  2013   831.207653  356.889616  280.001778   \n",
       "34  Germany                DEU  2014   792.255427  344.850129  270.940421   \n",
       "35  Germany                DEU  2015   795.556570  341.018336  273.407683   \n",
       "36  Germany                DEU  2016   800.339834  329.445089  277.783622   \n",
       "37  Germany                DEU  2017   785.616471  310.763015  279.180926   \n",
       "38  Germany                DEU  2018   754.408432  295.673550  265.224228   \n",
       "39  Germany                DEU  2019   707.149948  240.086494  270.910415   \n",
       "40  Germany                DEU  2020   639.381013  197.357678  251.383941   \n",
       "41  Germany                DEU  2021   674.753566  230.221049  248.200624   \n",
       "\n",
       "           Gas  \n",
       "0   115.452640  \n",
       "1   110.000608  \n",
       "2   102.016752  \n",
       "3   106.021121  \n",
       "4   108.531344  \n",
       "5   108.531724  \n",
       "6   100.550801  \n",
       "7   109.546660  \n",
       "8   107.637328  \n",
       "9   121.908608  \n",
       "10  122.299717  \n",
       "11  130.161891  \n",
       "12  129.383593  \n",
       "13  136.302146  \n",
       "14  142.162168  \n",
       "15  152.984341  \n",
       "16  169.970819  \n",
       "17  162.892045  \n",
       "18  165.392745  \n",
       "19  165.641747  \n",
       "20  166.433444  \n",
       "21  173.813082  \n",
       "22  173.623112  \n",
       "23  174.872568  \n",
       "24  173.357043  \n",
       "25  173.429605  \n",
       "26  178.395732  \n",
       "27  174.440529  \n",
       "28  179.833964  \n",
       "29  167.411633  \n",
       "30  184.003635  \n",
       "31  168.410508  \n",
       "32  168.062225  \n",
       "33  170.536123  \n",
       "34  152.270963  \n",
       "35  157.455432  \n",
       "36  169.467961  \n",
       "37  171.412164  \n",
       "38  169.548548  \n",
       "39  172.478938  \n",
       "40  167.628086  \n",
       "41  173.484052  "
      ]
     },
     "execution_count": 42,
     "metadata": {},
     "output_type": "execute_result"
    }
   ],
   "source": [
    "# Germany data set\n",
    "df_ger = df.loc[df['Country'] == 'Germany']\n",
    "df_ger = df_ger.reset_index().drop(columns='index').drop(columns='level_0')\n",
    "df_ger"
   ]
  },
  {
   "cell_type": "markdown",
   "id": "0fd74736",
   "metadata": {},
   "source": [
    "For developing and underdeveloped countries, we start from 1950 as there was no entry before that"
   ]
  },
  {
   "cell_type": "code",
   "execution_count": 43,
   "id": "b8f12f68",
   "metadata": {},
   "outputs": [
    {
     "data": {
      "text/html": [
       "<div>\n",
       "<style scoped>\n",
       "    .dataframe tbody tr th:only-of-type {\n",
       "        vertical-align: middle;\n",
       "    }\n",
       "\n",
       "    .dataframe tbody tr th {\n",
       "        vertical-align: top;\n",
       "    }\n",
       "\n",
       "    .dataframe thead th {\n",
       "        text-align: right;\n",
       "    }\n",
       "</style>\n",
       "<table border=\"1\" class=\"dataframe\">\n",
       "  <thead>\n",
       "    <tr style=\"text-align: right;\">\n",
       "      <th></th>\n",
       "      <th>Country</th>\n",
       "      <th>ISO 3166-1 alpha-3</th>\n",
       "      <th>Year</th>\n",
       "      <th>Total</th>\n",
       "      <th>Coal</th>\n",
       "      <th>Oil</th>\n",
       "      <th>Gas</th>\n",
       "    </tr>\n",
       "  </thead>\n",
       "  <tbody>\n",
       "    <tr>\n",
       "      <th>0</th>\n",
       "      <td>China</td>\n",
       "      <td>CHN</td>\n",
       "      <td>1980</td>\n",
       "      <td>1494.495884</td>\n",
       "      <td>1122.664256</td>\n",
       "      <td>273.202496</td>\n",
       "      <td>27.318784</td>\n",
       "    </tr>\n",
       "    <tr>\n",
       "      <th>1</th>\n",
       "      <td>China</td>\n",
       "      <td>CHN</td>\n",
       "      <td>1981</td>\n",
       "      <td>1476.487854</td>\n",
       "      <td>1125.004730</td>\n",
       "      <td>256.374392</td>\n",
       "      <td>24.387646</td>\n",
       "    </tr>\n",
       "    <tr>\n",
       "      <th>2</th>\n",
       "      <td>China</td>\n",
       "      <td>CHN</td>\n",
       "      <td>1982</td>\n",
       "      <td>1606.585013</td>\n",
       "      <td>1248.856080</td>\n",
       "      <td>257.810032</td>\n",
       "      <td>22.900000</td>\n",
       "    </tr>\n",
       "    <tr>\n",
       "      <th>3</th>\n",
       "      <td>China</td>\n",
       "      <td>CHN</td>\n",
       "      <td>1983</td>\n",
       "      <td>1694.216811</td>\n",
       "      <td>1321.842960</td>\n",
       "      <td>263.771360</td>\n",
       "      <td>23.438608</td>\n",
       "    </tr>\n",
       "    <tr>\n",
       "      <th>4</th>\n",
       "      <td>China</td>\n",
       "      <td>CHN</td>\n",
       "      <td>1984</td>\n",
       "      <td>1844.828012</td>\n",
       "      <td>1454.197632</td>\n",
       "      <td>271.451104</td>\n",
       "      <td>24.226368</td>\n",
       "    </tr>\n",
       "    <tr>\n",
       "      <th>5</th>\n",
       "      <td>China</td>\n",
       "      <td>CHN</td>\n",
       "      <td>1985</td>\n",
       "      <td>1998.082904</td>\n",
       "      <td>1584.511456</td>\n",
       "      <td>284.593872</td>\n",
       "      <td>24.819936</td>\n",
       "    </tr>\n",
       "    <tr>\n",
       "      <th>6</th>\n",
       "      <td>China</td>\n",
       "      <td>CHN</td>\n",
       "      <td>1986</td>\n",
       "      <td>2104.213354</td>\n",
       "      <td>1657.391354</td>\n",
       "      <td>303.068297</td>\n",
       "      <td>26.351535</td>\n",
       "    </tr>\n",
       "    <tr>\n",
       "      <th>7</th>\n",
       "      <td>China</td>\n",
       "      <td>CHN</td>\n",
       "      <td>1987</td>\n",
       "      <td>2257.738539</td>\n",
       "      <td>1770.268928</td>\n",
       "      <td>321.523328</td>\n",
       "      <td>26.600640</td>\n",
       "    </tr>\n",
       "    <tr>\n",
       "      <th>8</th>\n",
       "      <td>China</td>\n",
       "      <td>CHN</td>\n",
       "      <td>1988</td>\n",
       "      <td>2425.893553</td>\n",
       "      <td>1892.697824</td>\n",
       "      <td>343.129936</td>\n",
       "      <td>27.311456</td>\n",
       "    </tr>\n",
       "    <tr>\n",
       "      <th>9</th>\n",
       "      <td>China</td>\n",
       "      <td>CHN</td>\n",
       "      <td>1989</td>\n",
       "      <td>2463.654367</td>\n",
       "      <td>1920.239372</td>\n",
       "      <td>354.441244</td>\n",
       "      <td>28.821068</td>\n",
       "    </tr>\n",
       "    <tr>\n",
       "      <th>10</th>\n",
       "      <td>China</td>\n",
       "      <td>CHN</td>\n",
       "      <td>1990</td>\n",
       "      <td>2484.854820</td>\n",
       "      <td>1976.684032</td>\n",
       "      <td>330.291280</td>\n",
       "      <td>29.301008</td>\n",
       "    </tr>\n",
       "    <tr>\n",
       "      <th>11</th>\n",
       "      <td>China</td>\n",
       "      <td>CHN</td>\n",
       "      <td>1991</td>\n",
       "      <td>2606.096182</td>\n",
       "      <td>2049.920064</td>\n",
       "      <td>356.027216</td>\n",
       "      <td>30.777600</td>\n",
       "    </tr>\n",
       "    <tr>\n",
       "      <th>12</th>\n",
       "      <td>China</td>\n",
       "      <td>CHN</td>\n",
       "      <td>1992</td>\n",
       "      <td>2730.787587</td>\n",
       "      <td>2114.714976</td>\n",
       "      <td>385.793018</td>\n",
       "      <td>30.238950</td>\n",
       "    </tr>\n",
       "    <tr>\n",
       "      <th>13</th>\n",
       "      <td>China</td>\n",
       "      <td>CHN</td>\n",
       "      <td>1993</td>\n",
       "      <td>2921.650956</td>\n",
       "      <td>2228.745248</td>\n",
       "      <td>428.548768</td>\n",
       "      <td>35.727664</td>\n",
       "    </tr>\n",
       "    <tr>\n",
       "      <th>14</th>\n",
       "      <td>China</td>\n",
       "      <td>CHN</td>\n",
       "      <td>1994</td>\n",
       "      <td>3100.002045</td>\n",
       "      <td>2380.585832</td>\n",
       "      <td>423.711771</td>\n",
       "      <td>41.568029</td>\n",
       "    </tr>\n",
       "    <tr>\n",
       "      <th>15</th>\n",
       "      <td>China</td>\n",
       "      <td>CHN</td>\n",
       "      <td>1995</td>\n",
       "      <td>3357.908888</td>\n",
       "      <td>2569.753728</td>\n",
       "      <td>468.229888</td>\n",
       "      <td>42.436448</td>\n",
       "    </tr>\n",
       "    <tr>\n",
       "      <th>16</th>\n",
       "      <td>China</td>\n",
       "      <td>CHN</td>\n",
       "      <td>1996</td>\n",
       "      <td>3503.233703</td>\n",
       "      <td>2660.401088</td>\n",
       "      <td>510.622368</td>\n",
       "      <td>44.469968</td>\n",
       "    </tr>\n",
       "    <tr>\n",
       "      <th>17</th>\n",
       "      <td>China</td>\n",
       "      <td>CHN</td>\n",
       "      <td>1997</td>\n",
       "      <td>3510.169286</td>\n",
       "      <td>2609.555760</td>\n",
       "      <td>557.961248</td>\n",
       "      <td>44.158528</td>\n",
       "    </tr>\n",
       "    <tr>\n",
       "      <th>18</th>\n",
       "      <td>China</td>\n",
       "      <td>CHN</td>\n",
       "      <td>1998</td>\n",
       "      <td>3360.455433</td>\n",
       "      <td>2444.771024</td>\n",
       "      <td>559.261968</td>\n",
       "      <td>50.500912</td>\n",
       "    </tr>\n",
       "    <tr>\n",
       "      <th>19</th>\n",
       "      <td>China</td>\n",
       "      <td>CHN</td>\n",
       "      <td>1999</td>\n",
       "      <td>3552.842067</td>\n",
       "      <td>2580.992136</td>\n",
       "      <td>596.751382</td>\n",
       "      <td>54.571558</td>\n",
       "    </tr>\n",
       "    <tr>\n",
       "      <th>20</th>\n",
       "      <td>China</td>\n",
       "      <td>CHN</td>\n",
       "      <td>2000</td>\n",
       "      <td>3644.464203</td>\n",
       "      <td>2601.736784</td>\n",
       "      <td>648.685552</td>\n",
       "      <td>59.796480</td>\n",
       "    </tr>\n",
       "    <tr>\n",
       "      <th>21</th>\n",
       "      <td>China</td>\n",
       "      <td>CHN</td>\n",
       "      <td>2001</td>\n",
       "      <td>3723.730766</td>\n",
       "      <td>2637.654976</td>\n",
       "      <td>659.300160</td>\n",
       "      <td>67.157456</td>\n",
       "    </tr>\n",
       "    <tr>\n",
       "      <th>22</th>\n",
       "      <td>China</td>\n",
       "      <td>CHN</td>\n",
       "      <td>2002</td>\n",
       "      <td>4112.459057</td>\n",
       "      <td>3018.634032</td>\n",
       "      <td>653.086016</td>\n",
       "      <td>53.992704</td>\n",
       "    </tr>\n",
       "    <tr>\n",
       "      <th>23</th>\n",
       "      <td>China</td>\n",
       "      <td>CHN</td>\n",
       "      <td>2003</td>\n",
       "      <td>4827.445998</td>\n",
       "      <td>3601.712000</td>\n",
       "      <td>727.098816</td>\n",
       "      <td>60.745456</td>\n",
       "    </tr>\n",
       "    <tr>\n",
       "      <th>24</th>\n",
       "      <td>China</td>\n",
       "      <td>CHN</td>\n",
       "      <td>2004</td>\n",
       "      <td>5223.754656</td>\n",
       "      <td>3835.288336</td>\n",
       "      <td>839.092640</td>\n",
       "      <td>71.521280</td>\n",
       "    </tr>\n",
       "    <tr>\n",
       "      <th>25</th>\n",
       "      <td>China</td>\n",
       "      <td>CHN</td>\n",
       "      <td>2005</td>\n",
       "      <td>5876.555340</td>\n",
       "      <td>4424.389920</td>\n",
       "      <td>850.172576</td>\n",
       "      <td>84.957168</td>\n",
       "    </tr>\n",
       "    <tr>\n",
       "      <th>26</th>\n",
       "      <td>China</td>\n",
       "      <td>CHN</td>\n",
       "      <td>2006</td>\n",
       "      <td>6488.803816</td>\n",
       "      <td>4905.374192</td>\n",
       "      <td>898.533712</td>\n",
       "      <td>103.753488</td>\n",
       "    </tr>\n",
       "    <tr>\n",
       "      <th>27</th>\n",
       "      <td>China</td>\n",
       "      <td>CHN</td>\n",
       "      <td>2007</td>\n",
       "      <td>6978.611952</td>\n",
       "      <td>5289.903664</td>\n",
       "      <td>927.351072</td>\n",
       "      <td>129.515072</td>\n",
       "    </tr>\n",
       "    <tr>\n",
       "      <th>28</th>\n",
       "      <td>China</td>\n",
       "      <td>CHN</td>\n",
       "      <td>2008</td>\n",
       "      <td>7496.832207</td>\n",
       "      <td>5729.473744</td>\n",
       "      <td>970.117280</td>\n",
       "      <td>149.674400</td>\n",
       "    </tr>\n",
       "    <tr>\n",
       "      <th>29</th>\n",
       "      <td>China</td>\n",
       "      <td>CHN</td>\n",
       "      <td>2009</td>\n",
       "      <td>7886.532768</td>\n",
       "      <td>6028.500112</td>\n",
       "      <td>982.347712</td>\n",
       "      <td>164.403680</td>\n",
       "    </tr>\n",
       "    <tr>\n",
       "      <th>30</th>\n",
       "      <td>China</td>\n",
       "      <td>CHN</td>\n",
       "      <td>2010</td>\n",
       "      <td>8616.652695</td>\n",
       "      <td>6568.793552</td>\n",
       "      <td>1092.571824</td>\n",
       "      <td>199.585408</td>\n",
       "    </tr>\n",
       "    <tr>\n",
       "      <th>31</th>\n",
       "      <td>China</td>\n",
       "      <td>CHN</td>\n",
       "      <td>2011</td>\n",
       "      <td>9528.555734</td>\n",
       "      <td>7309.786256</td>\n",
       "      <td>1123.858720</td>\n",
       "      <td>245.989968</td>\n",
       "    </tr>\n",
       "    <tr>\n",
       "      <th>32</th>\n",
       "      <td>China</td>\n",
       "      <td>CHN</td>\n",
       "      <td>2012</td>\n",
       "      <td>9779.281618</td>\n",
       "      <td>7464.806432</td>\n",
       "      <td>1176.711920</td>\n",
       "      <td>277.599296</td>\n",
       "    </tr>\n",
       "    <tr>\n",
       "      <th>33</th>\n",
       "      <td>China</td>\n",
       "      <td>CHN</td>\n",
       "      <td>2013</td>\n",
       "      <td>9956.308273</td>\n",
       "      <td>7493.454393</td>\n",
       "      <td>1234.621903</td>\n",
       "      <td>320.127464</td>\n",
       "    </tr>\n",
       "    <tr>\n",
       "      <th>34</th>\n",
       "      <td>China</td>\n",
       "      <td>CHN</td>\n",
       "      <td>2014</td>\n",
       "      <td>9998.621253</td>\n",
       "      <td>7425.066688</td>\n",
       "      <td>1255.605168</td>\n",
       "      <td>370.221552</td>\n",
       "    </tr>\n",
       "    <tr>\n",
       "      <th>35</th>\n",
       "      <td>China</td>\n",
       "      <td>CHN</td>\n",
       "      <td>2015</td>\n",
       "      <td>9866.904318</td>\n",
       "      <td>7266.978828</td>\n",
       "      <td>1328.805063</td>\n",
       "      <td>380.052208</td>\n",
       "    </tr>\n",
       "    <tr>\n",
       "      <th>36</th>\n",
       "      <td>China</td>\n",
       "      <td>CHN</td>\n",
       "      <td>2016</td>\n",
       "      <td>9764.979745</td>\n",
       "      <td>7071.403711</td>\n",
       "      <td>1357.837577</td>\n",
       "      <td>421.726239</td>\n",
       "    </tr>\n",
       "    <tr>\n",
       "      <th>37</th>\n",
       "      <td>China</td>\n",
       "      <td>CHN</td>\n",
       "      <td>2017</td>\n",
       "      <td>10011.107108</td>\n",
       "      <td>7163.317856</td>\n",
       "      <td>1430.586816</td>\n",
       "      <td>486.359360</td>\n",
       "    </tr>\n",
       "    <tr>\n",
       "      <th>38</th>\n",
       "      <td>China</td>\n",
       "      <td>CHN</td>\n",
       "      <td>2018</td>\n",
       "      <td>10353.876989</td>\n",
       "      <td>7316.399776</td>\n",
       "      <td>1500.473952</td>\n",
       "      <td>575.368912</td>\n",
       "    </tr>\n",
       "    <tr>\n",
       "      <th>39</th>\n",
       "      <td>China</td>\n",
       "      <td>CHN</td>\n",
       "      <td>2019</td>\n",
       "      <td>10740.996069</td>\n",
       "      <td>7543.157408</td>\n",
       "      <td>1559.728160</td>\n",
       "      <td>630.171360</td>\n",
       "    </tr>\n",
       "    <tr>\n",
       "      <th>40</th>\n",
       "      <td>China</td>\n",
       "      <td>CHN</td>\n",
       "      <td>2020</td>\n",
       "      <td>10956.213369</td>\n",
       "      <td>7605.716883</td>\n",
       "      <td>1627.725238</td>\n",
       "      <td>687.880944</td>\n",
       "    </tr>\n",
       "    <tr>\n",
       "      <th>41</th>\n",
       "      <td>China</td>\n",
       "      <td>CHN</td>\n",
       "      <td>2021</td>\n",
       "      <td>11472.369171</td>\n",
       "      <td>7955.985419</td>\n",
       "      <td>1713.339980</td>\n",
       "      <td>773.866062</td>\n",
       "    </tr>\n",
       "  </tbody>\n",
       "</table>\n",
       "</div>"
      ],
      "text/plain": [
       "   Country ISO 3166-1 alpha-3  Year         Total         Coal          Oil  \\\n",
       "0    China                CHN  1980   1494.495884  1122.664256   273.202496   \n",
       "1    China                CHN  1981   1476.487854  1125.004730   256.374392   \n",
       "2    China                CHN  1982   1606.585013  1248.856080   257.810032   \n",
       "3    China                CHN  1983   1694.216811  1321.842960   263.771360   \n",
       "4    China                CHN  1984   1844.828012  1454.197632   271.451104   \n",
       "5    China                CHN  1985   1998.082904  1584.511456   284.593872   \n",
       "6    China                CHN  1986   2104.213354  1657.391354   303.068297   \n",
       "7    China                CHN  1987   2257.738539  1770.268928   321.523328   \n",
       "8    China                CHN  1988   2425.893553  1892.697824   343.129936   \n",
       "9    China                CHN  1989   2463.654367  1920.239372   354.441244   \n",
       "10   China                CHN  1990   2484.854820  1976.684032   330.291280   \n",
       "11   China                CHN  1991   2606.096182  2049.920064   356.027216   \n",
       "12   China                CHN  1992   2730.787587  2114.714976   385.793018   \n",
       "13   China                CHN  1993   2921.650956  2228.745248   428.548768   \n",
       "14   China                CHN  1994   3100.002045  2380.585832   423.711771   \n",
       "15   China                CHN  1995   3357.908888  2569.753728   468.229888   \n",
       "16   China                CHN  1996   3503.233703  2660.401088   510.622368   \n",
       "17   China                CHN  1997   3510.169286  2609.555760   557.961248   \n",
       "18   China                CHN  1998   3360.455433  2444.771024   559.261968   \n",
       "19   China                CHN  1999   3552.842067  2580.992136   596.751382   \n",
       "20   China                CHN  2000   3644.464203  2601.736784   648.685552   \n",
       "21   China                CHN  2001   3723.730766  2637.654976   659.300160   \n",
       "22   China                CHN  2002   4112.459057  3018.634032   653.086016   \n",
       "23   China                CHN  2003   4827.445998  3601.712000   727.098816   \n",
       "24   China                CHN  2004   5223.754656  3835.288336   839.092640   \n",
       "25   China                CHN  2005   5876.555340  4424.389920   850.172576   \n",
       "26   China                CHN  2006   6488.803816  4905.374192   898.533712   \n",
       "27   China                CHN  2007   6978.611952  5289.903664   927.351072   \n",
       "28   China                CHN  2008   7496.832207  5729.473744   970.117280   \n",
       "29   China                CHN  2009   7886.532768  6028.500112   982.347712   \n",
       "30   China                CHN  2010   8616.652695  6568.793552  1092.571824   \n",
       "31   China                CHN  2011   9528.555734  7309.786256  1123.858720   \n",
       "32   China                CHN  2012   9779.281618  7464.806432  1176.711920   \n",
       "33   China                CHN  2013   9956.308273  7493.454393  1234.621903   \n",
       "34   China                CHN  2014   9998.621253  7425.066688  1255.605168   \n",
       "35   China                CHN  2015   9866.904318  7266.978828  1328.805063   \n",
       "36   China                CHN  2016   9764.979745  7071.403711  1357.837577   \n",
       "37   China                CHN  2017  10011.107108  7163.317856  1430.586816   \n",
       "38   China                CHN  2018  10353.876989  7316.399776  1500.473952   \n",
       "39   China                CHN  2019  10740.996069  7543.157408  1559.728160   \n",
       "40   China                CHN  2020  10956.213369  7605.716883  1627.725238   \n",
       "41   China                CHN  2021  11472.369171  7955.985419  1713.339980   \n",
       "\n",
       "           Gas  \n",
       "0    27.318784  \n",
       "1    24.387646  \n",
       "2    22.900000  \n",
       "3    23.438608  \n",
       "4    24.226368  \n",
       "5    24.819936  \n",
       "6    26.351535  \n",
       "7    26.600640  \n",
       "8    27.311456  \n",
       "9    28.821068  \n",
       "10   29.301008  \n",
       "11   30.777600  \n",
       "12   30.238950  \n",
       "13   35.727664  \n",
       "14   41.568029  \n",
       "15   42.436448  \n",
       "16   44.469968  \n",
       "17   44.158528  \n",
       "18   50.500912  \n",
       "19   54.571558  \n",
       "20   59.796480  \n",
       "21   67.157456  \n",
       "22   53.992704  \n",
       "23   60.745456  \n",
       "24   71.521280  \n",
       "25   84.957168  \n",
       "26  103.753488  \n",
       "27  129.515072  \n",
       "28  149.674400  \n",
       "29  164.403680  \n",
       "30  199.585408  \n",
       "31  245.989968  \n",
       "32  277.599296  \n",
       "33  320.127464  \n",
       "34  370.221552  \n",
       "35  380.052208  \n",
       "36  421.726239  \n",
       "37  486.359360  \n",
       "38  575.368912  \n",
       "39  630.171360  \n",
       "40  687.880944  \n",
       "41  773.866062  "
      ]
     },
     "execution_count": 43,
     "metadata": {},
     "output_type": "execute_result"
    }
   ],
   "source": [
    "# China data set\n",
    "df_chi = df.loc[df['Country'] == 'China']\n",
    "df_chi = df_chi.reset_index().drop(columns='index').drop(columns='level_0')\n",
    "\n",
    "df_chi.drop(df_chi[df_chi['Year'] < 1950].index, inplace = True)\n",
    "\n",
    "df_chi"
   ]
  },
  {
   "cell_type": "code",
   "execution_count": 44,
   "id": "c6d0a93e",
   "metadata": {},
   "outputs": [
    {
     "data": {
      "text/html": [
       "<div>\n",
       "<style scoped>\n",
       "    .dataframe tbody tr th:only-of-type {\n",
       "        vertical-align: middle;\n",
       "    }\n",
       "\n",
       "    .dataframe tbody tr th {\n",
       "        vertical-align: top;\n",
       "    }\n",
       "\n",
       "    .dataframe thead th {\n",
       "        text-align: right;\n",
       "    }\n",
       "</style>\n",
       "<table border=\"1\" class=\"dataframe\">\n",
       "  <thead>\n",
       "    <tr style=\"text-align: right;\">\n",
       "      <th></th>\n",
       "      <th>Country</th>\n",
       "      <th>ISO 3166-1 alpha-3</th>\n",
       "      <th>Year</th>\n",
       "      <th>Total</th>\n",
       "      <th>Coal</th>\n",
       "      <th>Oil</th>\n",
       "      <th>Gas</th>\n",
       "    </tr>\n",
       "  </thead>\n",
       "  <tbody>\n",
       "    <tr>\n",
       "      <th>0</th>\n",
       "      <td>India</td>\n",
       "      <td>IND</td>\n",
       "      <td>1980</td>\n",
       "      <td>291.711364</td>\n",
       "      <td>197.337053</td>\n",
       "      <td>83.176464</td>\n",
       "      <td>2.487856</td>\n",
       "    </tr>\n",
       "    <tr>\n",
       "      <th>1</th>\n",
       "      <td>India</td>\n",
       "      <td>IND</td>\n",
       "      <td>1981</td>\n",
       "      <td>314.966469</td>\n",
       "      <td>210.305446</td>\n",
       "      <td>89.713040</td>\n",
       "      <td>2.883568</td>\n",
       "    </tr>\n",
       "    <tr>\n",
       "      <th>2</th>\n",
       "      <td>India</td>\n",
       "      <td>IND</td>\n",
       "      <td>1982</td>\n",
       "      <td>325.380295</td>\n",
       "      <td>213.123221</td>\n",
       "      <td>94.406624</td>\n",
       "      <td>4.360160</td>\n",
       "    </tr>\n",
       "    <tr>\n",
       "      <th>3</th>\n",
       "      <td>India</td>\n",
       "      <td>IND</td>\n",
       "      <td>1983</td>\n",
       "      <td>352.199157</td>\n",
       "      <td>232.519456</td>\n",
       "      <td>99.169824</td>\n",
       "      <td>5.243184</td>\n",
       "    </tr>\n",
       "    <tr>\n",
       "      <th>4</th>\n",
       "      <td>India</td>\n",
       "      <td>IND</td>\n",
       "      <td>1984</td>\n",
       "      <td>361.559743</td>\n",
       "      <td>231.492925</td>\n",
       "      <td>106.104774</td>\n",
       "      <td>6.170118</td>\n",
       "    </tr>\n",
       "    <tr>\n",
       "      <th>5</th>\n",
       "      <td>India</td>\n",
       "      <td>IND</td>\n",
       "      <td>1985</td>\n",
       "      <td>397.592455</td>\n",
       "      <td>253.289252</td>\n",
       "      <td>116.759685</td>\n",
       "      <td>7.199698</td>\n",
       "    </tr>\n",
       "    <tr>\n",
       "      <th>6</th>\n",
       "      <td>India</td>\n",
       "      <td>IND</td>\n",
       "      <td>1986</td>\n",
       "      <td>426.309754</td>\n",
       "      <td>273.171658</td>\n",
       "      <td>121.857312</td>\n",
       "      <td>10.310496</td>\n",
       "    </tr>\n",
       "    <tr>\n",
       "      <th>7</th>\n",
       "      <td>India</td>\n",
       "      <td>IND</td>\n",
       "      <td>1987</td>\n",
       "      <td>455.343444</td>\n",
       "      <td>291.856287</td>\n",
       "      <td>127.671122</td>\n",
       "      <td>12.776272</td>\n",
       "    </tr>\n",
       "    <tr>\n",
       "      <th>8</th>\n",
       "      <td>India</td>\n",
       "      <td>IND</td>\n",
       "      <td>1988</td>\n",
       "      <td>491.692596</td>\n",
       "      <td>317.172040</td>\n",
       "      <td>133.615088</td>\n",
       "      <td>15.205600</td>\n",
       "    </tr>\n",
       "    <tr>\n",
       "      <th>9</th>\n",
       "      <td>India</td>\n",
       "      <td>IND</td>\n",
       "      <td>1989</td>\n",
       "      <td>540.651493</td>\n",
       "      <td>339.625896</td>\n",
       "      <td>150.714021</td>\n",
       "      <td>18.517739</td>\n",
       "    </tr>\n",
       "    <tr>\n",
       "      <th>10</th>\n",
       "      <td>India</td>\n",
       "      <td>IND</td>\n",
       "      <td>1990</td>\n",
       "      <td>577.996538</td>\n",
       "      <td>366.514068</td>\n",
       "      <td>158.166611</td>\n",
       "      <td>21.097187</td>\n",
       "    </tr>\n",
       "    <tr>\n",
       "      <th>11</th>\n",
       "      <td>India</td>\n",
       "      <td>IND</td>\n",
       "      <td>1991</td>\n",
       "      <td>615.365508</td>\n",
       "      <td>393.043111</td>\n",
       "      <td>166.422544</td>\n",
       "      <td>23.563184</td>\n",
       "    </tr>\n",
       "    <tr>\n",
       "      <th>12</th>\n",
       "      <td>India</td>\n",
       "      <td>IND</td>\n",
       "      <td>1992</td>\n",
       "      <td>655.447568</td>\n",
       "      <td>411.415002</td>\n",
       "      <td>188.054800</td>\n",
       "      <td>27.256496</td>\n",
       "    </tr>\n",
       "    <tr>\n",
       "      <th>13</th>\n",
       "      <td>India</td>\n",
       "      <td>IND</td>\n",
       "      <td>1993</td>\n",
       "      <td>677.299816</td>\n",
       "      <td>433.121813</td>\n",
       "      <td>186.878656</td>\n",
       "      <td>26.996352</td>\n",
       "    </tr>\n",
       "    <tr>\n",
       "      <th>14</th>\n",
       "      <td>India</td>\n",
       "      <td>IND</td>\n",
       "      <td>1994</td>\n",
       "      <td>716.268589</td>\n",
       "      <td>455.720366</td>\n",
       "      <td>198.955200</td>\n",
       "      <td>28.996896</td>\n",
       "    </tr>\n",
       "    <tr>\n",
       "      <th>15</th>\n",
       "      <td>India</td>\n",
       "      <td>IND</td>\n",
       "      <td>1995</td>\n",
       "      <td>761.449242</td>\n",
       "      <td>471.723186</td>\n",
       "      <td>216.281275</td>\n",
       "      <td>39.050735</td>\n",
       "    </tr>\n",
       "    <tr>\n",
       "      <th>16</th>\n",
       "      <td>India</td>\n",
       "      <td>IND</td>\n",
       "      <td>1996</td>\n",
       "      <td>825.200806</td>\n",
       "      <td>504.498913</td>\n",
       "      <td>243.160345</td>\n",
       "      <td>39.746906</td>\n",
       "    </tr>\n",
       "    <tr>\n",
       "      <th>17</th>\n",
       "      <td>India</td>\n",
       "      <td>IND</td>\n",
       "      <td>1997</td>\n",
       "      <td>858.935134</td>\n",
       "      <td>527.722798</td>\n",
       "      <td>244.201936</td>\n",
       "      <td>46.023504</td>\n",
       "    </tr>\n",
       "    <tr>\n",
       "      <th>18</th>\n",
       "      <td>India</td>\n",
       "      <td>IND</td>\n",
       "      <td>1998</td>\n",
       "      <td>876.952083</td>\n",
       "      <td>524.125992</td>\n",
       "      <td>262.892000</td>\n",
       "      <td>47.595360</td>\n",
       "    </tr>\n",
       "    <tr>\n",
       "      <th>19</th>\n",
       "      <td>India</td>\n",
       "      <td>IND</td>\n",
       "      <td>1999</td>\n",
       "      <td>950.950878</td>\n",
       "      <td>560.528326</td>\n",
       "      <td>300.510056</td>\n",
       "      <td>42.315536</td>\n",
       "    </tr>\n",
       "    <tr>\n",
       "      <th>20</th>\n",
       "      <td>India</td>\n",
       "      <td>IND</td>\n",
       "      <td>2000</td>\n",
       "      <td>978.103843</td>\n",
       "      <td>572.876810</td>\n",
       "      <td>312.286549</td>\n",
       "      <td>43.872736</td>\n",
       "    </tr>\n",
       "    <tr>\n",
       "      <th>21</th>\n",
       "      <td>India</td>\n",
       "      <td>IND</td>\n",
       "      <td>2001</td>\n",
       "      <td>991.731661</td>\n",
       "      <td>582.083456</td>\n",
       "      <td>316.115271</td>\n",
       "      <td>43.568933</td>\n",
       "    </tr>\n",
       "    <tr>\n",
       "      <th>22</th>\n",
       "      <td>India</td>\n",
       "      <td>IND</td>\n",
       "      <td>2002</td>\n",
       "      <td>1022.175223</td>\n",
       "      <td>598.598121</td>\n",
       "      <td>324.587833</td>\n",
       "      <td>47.133696</td>\n",
       "    </tr>\n",
       "    <tr>\n",
       "      <th>23</th>\n",
       "      <td>India</td>\n",
       "      <td>IND</td>\n",
       "      <td>2003</td>\n",
       "      <td>1058.725338</td>\n",
       "      <td>625.890755</td>\n",
       "      <td>329.936696</td>\n",
       "      <td>49.987952</td>\n",
       "    </tr>\n",
       "    <tr>\n",
       "      <th>24</th>\n",
       "      <td>India</td>\n",
       "      <td>IND</td>\n",
       "      <td>2004</td>\n",
       "      <td>1124.517704</td>\n",
       "      <td>669.968548</td>\n",
       "      <td>347.518127</td>\n",
       "      <td>49.584753</td>\n",
       "    </tr>\n",
       "    <tr>\n",
       "      <th>25</th>\n",
       "      <td>India</td>\n",
       "      <td>IND</td>\n",
       "      <td>2005</td>\n",
       "      <td>1184.926501</td>\n",
       "      <td>721.469674</td>\n",
       "      <td>351.646194</td>\n",
       "      <td>50.438624</td>\n",
       "    </tr>\n",
       "    <tr>\n",
       "      <th>26</th>\n",
       "      <td>India</td>\n",
       "      <td>IND</td>\n",
       "      <td>2006</td>\n",
       "      <td>1258.643267</td>\n",
       "      <td>773.565357</td>\n",
       "      <td>368.891165</td>\n",
       "      <td>49.442016</td>\n",
       "    </tr>\n",
       "    <tr>\n",
       "      <th>27</th>\n",
       "      <td>India</td>\n",
       "      <td>IND</td>\n",
       "      <td>2007</td>\n",
       "      <td>1356.953125</td>\n",
       "      <td>842.478182</td>\n",
       "      <td>391.027790</td>\n",
       "      <td>52.695648</td>\n",
       "    </tr>\n",
       "    <tr>\n",
       "      <th>28</th>\n",
       "      <td>India</td>\n",
       "      <td>IND</td>\n",
       "      <td>2008</td>\n",
       "      <td>1461.518268</td>\n",
       "      <td>910.796506</td>\n",
       "      <td>412.316303</td>\n",
       "      <td>63.046601</td>\n",
       "    </tr>\n",
       "    <tr>\n",
       "      <th>29</th>\n",
       "      <td>India</td>\n",
       "      <td>IND</td>\n",
       "      <td>2009</td>\n",
       "      <td>1611.416152</td>\n",
       "      <td>983.948220</td>\n",
       "      <td>431.609933</td>\n",
       "      <td>112.684767</td>\n",
       "    </tr>\n",
       "    <tr>\n",
       "      <th>30</th>\n",
       "      <td>India</td>\n",
       "      <td>IND</td>\n",
       "      <td>2010</td>\n",
       "      <td>1676.495006</td>\n",
       "      <td>1015.983089</td>\n",
       "      <td>438.373461</td>\n",
       "      <td>134.244240</td>\n",
       "    </tr>\n",
       "    <tr>\n",
       "      <th>31</th>\n",
       "      <td>India</td>\n",
       "      <td>IND</td>\n",
       "      <td>2011</td>\n",
       "      <td>1778.472509</td>\n",
       "      <td>1089.807084</td>\n",
       "      <td>458.909201</td>\n",
       "      <td>136.364239</td>\n",
       "    </tr>\n",
       "    <tr>\n",
       "      <th>32</th>\n",
       "      <td>India</td>\n",
       "      <td>IND</td>\n",
       "      <td>2012</td>\n",
       "      <td>1962.594350</td>\n",
       "      <td>1244.606043</td>\n",
       "      <td>488.554125</td>\n",
       "      <td>125.604798</td>\n",
       "    </tr>\n",
       "    <tr>\n",
       "      <th>33</th>\n",
       "      <td>India</td>\n",
       "      <td>IND</td>\n",
       "      <td>2013</td>\n",
       "      <td>2037.415492</td>\n",
       "      <td>1319.998650</td>\n",
       "      <td>495.642138</td>\n",
       "      <td>110.689227</td>\n",
       "    </tr>\n",
       "    <tr>\n",
       "      <th>34</th>\n",
       "      <td>India</td>\n",
       "      <td>IND</td>\n",
       "      <td>2014</td>\n",
       "      <td>2187.343005</td>\n",
       "      <td>1447.354894</td>\n",
       "      <td>511.166221</td>\n",
       "      <td>109.467500</td>\n",
       "    </tr>\n",
       "    <tr>\n",
       "      <th>35</th>\n",
       "      <td>India</td>\n",
       "      <td>IND</td>\n",
       "      <td>2015</td>\n",
       "      <td>2270.766191</td>\n",
       "      <td>1487.461399</td>\n",
       "      <td>554.788779</td>\n",
       "      <td>106.870633</td>\n",
       "    </tr>\n",
       "    <tr>\n",
       "      <th>36</th>\n",
       "      <td>India</td>\n",
       "      <td>IND</td>\n",
       "      <td>2016</td>\n",
       "      <td>2383.815964</td>\n",
       "      <td>1529.990408</td>\n",
       "      <td>613.165557</td>\n",
       "      <td>113.622467</td>\n",
       "    </tr>\n",
       "    <tr>\n",
       "      <th>37</th>\n",
       "      <td>India</td>\n",
       "      <td>IND</td>\n",
       "      <td>2017</td>\n",
       "      <td>2434.867906</td>\n",
       "      <td>1560.988150</td>\n",
       "      <td>631.087430</td>\n",
       "      <td>118.922003</td>\n",
       "    </tr>\n",
       "    <tr>\n",
       "      <th>38</th>\n",
       "      <td>India</td>\n",
       "      <td>IND</td>\n",
       "      <td>2018</td>\n",
       "      <td>2600.446463</td>\n",
       "      <td>1677.600364</td>\n",
       "      <td>655.190293</td>\n",
       "      <td>126.201229</td>\n",
       "    </tr>\n",
       "    <tr>\n",
       "      <th>39</th>\n",
       "      <td>India</td>\n",
       "      <td>IND</td>\n",
       "      <td>2019</td>\n",
       "      <td>2626.459473</td>\n",
       "      <td>1677.653708</td>\n",
       "      <td>674.011463</td>\n",
       "      <td>128.675994</td>\n",
       "    </tr>\n",
       "    <tr>\n",
       "      <th>40</th>\n",
       "      <td>India</td>\n",
       "      <td>IND</td>\n",
       "      <td>2020</td>\n",
       "      <td>2445.011942</td>\n",
       "      <td>1588.060207</td>\n",
       "      <td>603.602160</td>\n",
       "      <td>127.635380</td>\n",
       "    </tr>\n",
       "    <tr>\n",
       "      <th>41</th>\n",
       "      <td>India</td>\n",
       "      <td>IND</td>\n",
       "      <td>2021</td>\n",
       "      <td>2709.683625</td>\n",
       "      <td>1802.311897</td>\n",
       "      <td>622.148121</td>\n",
       "      <td>133.450811</td>\n",
       "    </tr>\n",
       "  </tbody>\n",
       "</table>\n",
       "</div>"
      ],
      "text/plain": [
       "   Country ISO 3166-1 alpha-3  Year        Total         Coal         Oil  \\\n",
       "0    India                IND  1980   291.711364   197.337053   83.176464   \n",
       "1    India                IND  1981   314.966469   210.305446   89.713040   \n",
       "2    India                IND  1982   325.380295   213.123221   94.406624   \n",
       "3    India                IND  1983   352.199157   232.519456   99.169824   \n",
       "4    India                IND  1984   361.559743   231.492925  106.104774   \n",
       "5    India                IND  1985   397.592455   253.289252  116.759685   \n",
       "6    India                IND  1986   426.309754   273.171658  121.857312   \n",
       "7    India                IND  1987   455.343444   291.856287  127.671122   \n",
       "8    India                IND  1988   491.692596   317.172040  133.615088   \n",
       "9    India                IND  1989   540.651493   339.625896  150.714021   \n",
       "10   India                IND  1990   577.996538   366.514068  158.166611   \n",
       "11   India                IND  1991   615.365508   393.043111  166.422544   \n",
       "12   India                IND  1992   655.447568   411.415002  188.054800   \n",
       "13   India                IND  1993   677.299816   433.121813  186.878656   \n",
       "14   India                IND  1994   716.268589   455.720366  198.955200   \n",
       "15   India                IND  1995   761.449242   471.723186  216.281275   \n",
       "16   India                IND  1996   825.200806   504.498913  243.160345   \n",
       "17   India                IND  1997   858.935134   527.722798  244.201936   \n",
       "18   India                IND  1998   876.952083   524.125992  262.892000   \n",
       "19   India                IND  1999   950.950878   560.528326  300.510056   \n",
       "20   India                IND  2000   978.103843   572.876810  312.286549   \n",
       "21   India                IND  2001   991.731661   582.083456  316.115271   \n",
       "22   India                IND  2002  1022.175223   598.598121  324.587833   \n",
       "23   India                IND  2003  1058.725338   625.890755  329.936696   \n",
       "24   India                IND  2004  1124.517704   669.968548  347.518127   \n",
       "25   India                IND  2005  1184.926501   721.469674  351.646194   \n",
       "26   India                IND  2006  1258.643267   773.565357  368.891165   \n",
       "27   India                IND  2007  1356.953125   842.478182  391.027790   \n",
       "28   India                IND  2008  1461.518268   910.796506  412.316303   \n",
       "29   India                IND  2009  1611.416152   983.948220  431.609933   \n",
       "30   India                IND  2010  1676.495006  1015.983089  438.373461   \n",
       "31   India                IND  2011  1778.472509  1089.807084  458.909201   \n",
       "32   India                IND  2012  1962.594350  1244.606043  488.554125   \n",
       "33   India                IND  2013  2037.415492  1319.998650  495.642138   \n",
       "34   India                IND  2014  2187.343005  1447.354894  511.166221   \n",
       "35   India                IND  2015  2270.766191  1487.461399  554.788779   \n",
       "36   India                IND  2016  2383.815964  1529.990408  613.165557   \n",
       "37   India                IND  2017  2434.867906  1560.988150  631.087430   \n",
       "38   India                IND  2018  2600.446463  1677.600364  655.190293   \n",
       "39   India                IND  2019  2626.459473  1677.653708  674.011463   \n",
       "40   India                IND  2020  2445.011942  1588.060207  603.602160   \n",
       "41   India                IND  2021  2709.683625  1802.311897  622.148121   \n",
       "\n",
       "           Gas  \n",
       "0     2.487856  \n",
       "1     2.883568  \n",
       "2     4.360160  \n",
       "3     5.243184  \n",
       "4     6.170118  \n",
       "5     7.199698  \n",
       "6    10.310496  \n",
       "7    12.776272  \n",
       "8    15.205600  \n",
       "9    18.517739  \n",
       "10   21.097187  \n",
       "11   23.563184  \n",
       "12   27.256496  \n",
       "13   26.996352  \n",
       "14   28.996896  \n",
       "15   39.050735  \n",
       "16   39.746906  \n",
       "17   46.023504  \n",
       "18   47.595360  \n",
       "19   42.315536  \n",
       "20   43.872736  \n",
       "21   43.568933  \n",
       "22   47.133696  \n",
       "23   49.987952  \n",
       "24   49.584753  \n",
       "25   50.438624  \n",
       "26   49.442016  \n",
       "27   52.695648  \n",
       "28   63.046601  \n",
       "29  112.684767  \n",
       "30  134.244240  \n",
       "31  136.364239  \n",
       "32  125.604798  \n",
       "33  110.689227  \n",
       "34  109.467500  \n",
       "35  106.870633  \n",
       "36  113.622467  \n",
       "37  118.922003  \n",
       "38  126.201229  \n",
       "39  128.675994  \n",
       "40  127.635380  \n",
       "41  133.450811  "
      ]
     },
     "execution_count": 44,
     "metadata": {},
     "output_type": "execute_result"
    }
   ],
   "source": [
    "# India data set\n",
    "df_ind = df.loc[df['Country'] == 'India']\n",
    "df_ind = df_ind.reset_index().drop(columns='index').drop(columns='level_0')\n",
    "\n",
    "df_ind.drop(df_ind[df_ind['Year'] < 1950].index, inplace = True)\n",
    "\n",
    "df_ind"
   ]
  },
  {
   "cell_type": "code",
   "execution_count": 45,
   "id": "dbc60e34",
   "metadata": {},
   "outputs": [
    {
     "data": {
      "text/html": [
       "<div>\n",
       "<style scoped>\n",
       "    .dataframe tbody tr th:only-of-type {\n",
       "        vertical-align: middle;\n",
       "    }\n",
       "\n",
       "    .dataframe tbody tr th {\n",
       "        vertical-align: top;\n",
       "    }\n",
       "\n",
       "    .dataframe thead th {\n",
       "        text-align: right;\n",
       "    }\n",
       "</style>\n",
       "<table border=\"1\" class=\"dataframe\">\n",
       "  <thead>\n",
       "    <tr style=\"text-align: right;\">\n",
       "      <th></th>\n",
       "      <th>Country</th>\n",
       "      <th>ISO 3166-1 alpha-3</th>\n",
       "      <th>Year</th>\n",
       "      <th>Total</th>\n",
       "      <th>Coal</th>\n",
       "      <th>Oil</th>\n",
       "      <th>Gas</th>\n",
       "    </tr>\n",
       "  </thead>\n",
       "  <tbody>\n",
       "    <tr>\n",
       "      <th>0</th>\n",
       "      <td>Brazil</td>\n",
       "      <td>BRA</td>\n",
       "      <td>1980</td>\n",
       "      <td>185.471117</td>\n",
       "      <td>19.986728</td>\n",
       "      <td>150.210064</td>\n",
       "      <td>1.883259</td>\n",
       "    </tr>\n",
       "    <tr>\n",
       "      <th>1</th>\n",
       "      <td>Brazil</td>\n",
       "      <td>BRA</td>\n",
       "      <td>1981</td>\n",
       "      <td>170.613975</td>\n",
       "      <td>19.723312</td>\n",
       "      <td>135.527696</td>\n",
       "      <td>1.685440</td>\n",
       "    </tr>\n",
       "    <tr>\n",
       "      <th>2</th>\n",
       "      <td>Brazil</td>\n",
       "      <td>BRA</td>\n",
       "      <td>1982</td>\n",
       "      <td>170.811520</td>\n",
       "      <td>21.551648</td>\n",
       "      <td>133.193728</td>\n",
       "      <td>2.381600</td>\n",
       "    </tr>\n",
       "    <tr>\n",
       "      <th>3</th>\n",
       "      <td>Brazil</td>\n",
       "      <td>BRA</td>\n",
       "      <td>1983</td>\n",
       "      <td>165.348839</td>\n",
       "      <td>23.926447</td>\n",
       "      <td>125.740255</td>\n",
       "      <td>3.378282</td>\n",
       "    </tr>\n",
       "    <tr>\n",
       "      <th>4</th>\n",
       "      <td>Brazil</td>\n",
       "      <td>BRA</td>\n",
       "      <td>1984</td>\n",
       "      <td>167.076404</td>\n",
       "      <td>28.996896</td>\n",
       "      <td>122.062496</td>\n",
       "      <td>4.169632</td>\n",
       "    </tr>\n",
       "    <tr>\n",
       "      <th>5</th>\n",
       "      <td>Brazil</td>\n",
       "      <td>BRA</td>\n",
       "      <td>1985</td>\n",
       "      <td>179.589112</td>\n",
       "      <td>34.870994</td>\n",
       "      <td>127.517108</td>\n",
       "      <td>4.994133</td>\n",
       "    </tr>\n",
       "    <tr>\n",
       "      <th>6</th>\n",
       "      <td>Brazil</td>\n",
       "      <td>BRA</td>\n",
       "      <td>1986</td>\n",
       "      <td>196.613291</td>\n",
       "      <td>35.123104</td>\n",
       "      <td>142.375712</td>\n",
       "      <td>5.986976</td>\n",
       "    </tr>\n",
       "    <tr>\n",
       "      <th>7</th>\n",
       "      <td>Brazil</td>\n",
       "      <td>BRA</td>\n",
       "      <td>1987</td>\n",
       "      <td>205.332593</td>\n",
       "      <td>40.234384</td>\n",
       "      <td>145.541408</td>\n",
       "      <td>6.639168</td>\n",
       "    </tr>\n",
       "    <tr>\n",
       "      <th>8</th>\n",
       "      <td>Brazil</td>\n",
       "      <td>BRA</td>\n",
       "      <td>1988</td>\n",
       "      <td>207.069970</td>\n",
       "      <td>39.776384</td>\n",
       "      <td>147.651872</td>\n",
       "      <td>6.840688</td>\n",
       "    </tr>\n",
       "    <tr>\n",
       "      <th>9</th>\n",
       "      <td>Brazil</td>\n",
       "      <td>BRA</td>\n",
       "      <td>1989</td>\n",
       "      <td>211.444880</td>\n",
       "      <td>39.930272</td>\n",
       "      <td>151.579680</td>\n",
       "      <td>7.306016</td>\n",
       "    </tr>\n",
       "    <tr>\n",
       "      <th>10</th>\n",
       "      <td>Brazil</td>\n",
       "      <td>BRA</td>\n",
       "      <td>1990</td>\n",
       "      <td>218.658000</td>\n",
       "      <td>37.094715</td>\n",
       "      <td>151.775296</td>\n",
       "      <td>7.483989</td>\n",
       "    </tr>\n",
       "    <tr>\n",
       "      <th>11</th>\n",
       "      <td>Brazil</td>\n",
       "      <td>BRA</td>\n",
       "      <td>1991</td>\n",
       "      <td>229.394000</td>\n",
       "      <td>42.466107</td>\n",
       "      <td>156.700232</td>\n",
       "      <td>7.335661</td>\n",
       "    </tr>\n",
       "    <tr>\n",
       "      <th>12</th>\n",
       "      <td>Brazil</td>\n",
       "      <td>BRA</td>\n",
       "      <td>1992</td>\n",
       "      <td>233.601000</td>\n",
       "      <td>41.203075</td>\n",
       "      <td>163.251665</td>\n",
       "      <td>7.983260</td>\n",
       "    </tr>\n",
       "    <tr>\n",
       "      <th>13</th>\n",
       "      <td>Brazil</td>\n",
       "      <td>BRA</td>\n",
       "      <td>1993</td>\n",
       "      <td>244.306000</td>\n",
       "      <td>42.342610</td>\n",
       "      <td>171.252419</td>\n",
       "      <td>8.729970</td>\n",
       "    </tr>\n",
       "    <tr>\n",
       "      <th>14</th>\n",
       "      <td>Brazil</td>\n",
       "      <td>BRA</td>\n",
       "      <td>1994</td>\n",
       "      <td>254.002000</td>\n",
       "      <td>43.666838</td>\n",
       "      <td>179.161864</td>\n",
       "      <td>8.985299</td>\n",
       "    </tr>\n",
       "    <tr>\n",
       "      <th>15</th>\n",
       "      <td>Brazil</td>\n",
       "      <td>BRA</td>\n",
       "      <td>1995</td>\n",
       "      <td>268.678000</td>\n",
       "      <td>45.582308</td>\n",
       "      <td>190.346969</td>\n",
       "      <td>9.602722</td>\n",
       "    </tr>\n",
       "    <tr>\n",
       "      <th>16</th>\n",
       "      <td>Brazil</td>\n",
       "      <td>BRA</td>\n",
       "      <td>1996</td>\n",
       "      <td>289.311000</td>\n",
       "      <td>46.468484</td>\n",
       "      <td>206.281426</td>\n",
       "      <td>10.608090</td>\n",
       "    </tr>\n",
       "    <tr>\n",
       "      <th>17</th>\n",
       "      <td>Brazil</td>\n",
       "      <td>BRA</td>\n",
       "      <td>1997</td>\n",
       "      <td>306.949000</td>\n",
       "      <td>47.044057</td>\n",
       "      <td>219.832627</td>\n",
       "      <td>11.863316</td>\n",
       "    </tr>\n",
       "    <tr>\n",
       "      <th>18</th>\n",
       "      <td>Brazil</td>\n",
       "      <td>BRA</td>\n",
       "      <td>1998</td>\n",
       "      <td>317.359000</td>\n",
       "      <td>45.590741</td>\n",
       "      <td>229.578140</td>\n",
       "      <td>12.411119</td>\n",
       "    </tr>\n",
       "    <tr>\n",
       "      <th>19</th>\n",
       "      <td>Brazil</td>\n",
       "      <td>BRA</td>\n",
       "      <td>1999</td>\n",
       "      <td>327.256000</td>\n",
       "      <td>46.804688</td>\n",
       "      <td>235.468487</td>\n",
       "      <td>14.068825</td>\n",
       "    </tr>\n",
       "    <tr>\n",
       "      <th>20</th>\n",
       "      <td>Brazil</td>\n",
       "      <td>BRA</td>\n",
       "      <td>2000</td>\n",
       "      <td>340.183000</td>\n",
       "      <td>50.460434</td>\n",
       "      <td>239.488193</td>\n",
       "      <td>18.442373</td>\n",
       "    </tr>\n",
       "    <tr>\n",
       "      <th>21</th>\n",
       "      <td>Brazil</td>\n",
       "      <td>BRA</td>\n",
       "      <td>2001</td>\n",
       "      <td>346.166000</td>\n",
       "      <td>49.426704</td>\n",
       "      <td>241.794706</td>\n",
       "      <td>23.185590</td>\n",
       "    </tr>\n",
       "    <tr>\n",
       "      <th>22</th>\n",
       "      <td>Brazil</td>\n",
       "      <td>BRA</td>\n",
       "      <td>2002</td>\n",
       "      <td>347.765000</td>\n",
       "      <td>48.688815</td>\n",
       "      <td>239.219326</td>\n",
       "      <td>29.292858</td>\n",
       "    </tr>\n",
       "    <tr>\n",
       "      <th>23</th>\n",
       "      <td>Brazil</td>\n",
       "      <td>BRA</td>\n",
       "      <td>2003</td>\n",
       "      <td>344.645000</td>\n",
       "      <td>51.933112</td>\n",
       "      <td>232.433668</td>\n",
       "      <td>30.919220</td>\n",
       "    </tr>\n",
       "    <tr>\n",
       "      <th>24</th>\n",
       "      <td>Brazil</td>\n",
       "      <td>BRA</td>\n",
       "      <td>2004</td>\n",
       "      <td>361.434000</td>\n",
       "      <td>53.832656</td>\n",
       "      <td>239.768252</td>\n",
       "      <td>38.215091</td>\n",
       "    </tr>\n",
       "    <tr>\n",
       "      <th>25</th>\n",
       "      <td>Brazil</td>\n",
       "      <td>BRA</td>\n",
       "      <td>2005</td>\n",
       "      <td>364.371000</td>\n",
       "      <td>50.948421</td>\n",
       "      <td>240.221198</td>\n",
       "      <td>39.619381</td>\n",
       "    </tr>\n",
       "    <tr>\n",
       "      <th>26</th>\n",
       "      <td>Brazil</td>\n",
       "      <td>BRA</td>\n",
       "      <td>2006</td>\n",
       "      <td>368.871000</td>\n",
       "      <td>50.837875</td>\n",
       "      <td>242.248571</td>\n",
       "      <td>42.052554</td>\n",
       "    </tr>\n",
       "    <tr>\n",
       "      <th>27</th>\n",
       "      <td>Brazil</td>\n",
       "      <td>BRA</td>\n",
       "      <td>2007</td>\n",
       "      <td>390.573000</td>\n",
       "      <td>54.989055</td>\n",
       "      <td>256.003342</td>\n",
       "      <td>43.245603</td>\n",
       "    </tr>\n",
       "    <tr>\n",
       "      <th>28</th>\n",
       "      <td>Brazil</td>\n",
       "      <td>BRA</td>\n",
       "      <td>2008</td>\n",
       "      <td>412.638000</td>\n",
       "      <td>55.315497</td>\n",
       "      <td>267.238809</td>\n",
       "      <td>51.302693</td>\n",
       "    </tr>\n",
       "    <tr>\n",
       "      <th>29</th>\n",
       "      <td>Brazil</td>\n",
       "      <td>BRA</td>\n",
       "      <td>2009</td>\n",
       "      <td>389.775000</td>\n",
       "      <td>43.586053</td>\n",
       "      <td>262.705409</td>\n",
       "      <td>40.958538</td>\n",
       "    </tr>\n",
       "    <tr>\n",
       "      <th>30</th>\n",
       "      <td>Brazil</td>\n",
       "      <td>BRA</td>\n",
       "      <td>2010</td>\n",
       "      <td>440.269000</td>\n",
       "      <td>56.688185</td>\n",
       "      <td>286.079991</td>\n",
       "      <td>55.048824</td>\n",
       "    </tr>\n",
       "    <tr>\n",
       "      <th>31</th>\n",
       "      <td>Brazil</td>\n",
       "      <td>BRA</td>\n",
       "      <td>2011</td>\n",
       "      <td>462.580000</td>\n",
       "      <td>62.292401</td>\n",
       "      <td>303.885017</td>\n",
       "      <td>53.100582</td>\n",
       "    </tr>\n",
       "    <tr>\n",
       "      <th>32</th>\n",
       "      <td>Brazil</td>\n",
       "      <td>BRA</td>\n",
       "      <td>2012</td>\n",
       "      <td>498.309000</td>\n",
       "      <td>61.016471</td>\n",
       "      <td>327.733969</td>\n",
       "      <td>63.396560</td>\n",
       "    </tr>\n",
       "    <tr>\n",
       "      <th>33</th>\n",
       "      <td>Brazil</td>\n",
       "      <td>BRA</td>\n",
       "      <td>2013</td>\n",
       "      <td>532.418000</td>\n",
       "      <td>65.604089</td>\n",
       "      <td>342.338124</td>\n",
       "      <td>74.703787</td>\n",
       "    </tr>\n",
       "    <tr>\n",
       "      <th>34</th>\n",
       "      <td>Brazil</td>\n",
       "      <td>BRA</td>\n",
       "      <td>2014</td>\n",
       "      <td>557.901000</td>\n",
       "      <td>69.033897</td>\n",
       "      <td>356.753378</td>\n",
       "      <td>81.285725</td>\n",
       "    </tr>\n",
       "    <tr>\n",
       "      <th>35</th>\n",
       "      <td>Brazil</td>\n",
       "      <td>BRA</td>\n",
       "      <td>2015</td>\n",
       "      <td>529.353000</td>\n",
       "      <td>69.451663</td>\n",
       "      <td>330.358576</td>\n",
       "      <td>80.464761</td>\n",
       "    </tr>\n",
       "    <tr>\n",
       "      <th>36</th>\n",
       "      <td>Brazil</td>\n",
       "      <td>BRA</td>\n",
       "      <td>2016</td>\n",
       "      <td>492.748000</td>\n",
       "      <td>63.831218</td>\n",
       "      <td>312.939113</td>\n",
       "      <td>69.665669</td>\n",
       "    </tr>\n",
       "    <tr>\n",
       "      <th>37</th>\n",
       "      <td>Brazil</td>\n",
       "      <td>BRA</td>\n",
       "      <td>2017</td>\n",
       "      <td>497.412678</td>\n",
       "      <td>67.321878</td>\n",
       "      <td>316.425222</td>\n",
       "      <td>70.687790</td>\n",
       "    </tr>\n",
       "    <tr>\n",
       "      <th>38</th>\n",
       "      <td>Brazil</td>\n",
       "      <td>BRA</td>\n",
       "      <td>2018</td>\n",
       "      <td>477.102130</td>\n",
       "      <td>65.840737</td>\n",
       "      <td>300.605153</td>\n",
       "      <td>67.417072</td>\n",
       "    </tr>\n",
       "    <tr>\n",
       "      <th>39</th>\n",
       "      <td>Brazil</td>\n",
       "      <td>BRA</td>\n",
       "      <td>2019</td>\n",
       "      <td>475.104581</td>\n",
       "      <td>61.887745</td>\n",
       "      <td>302.333585</td>\n",
       "      <td>67.121321</td>\n",
       "    </tr>\n",
       "    <tr>\n",
       "      <th>40</th>\n",
       "      <td>Brazil</td>\n",
       "      <td>BRA</td>\n",
       "      <td>2020</td>\n",
       "      <td>442.306003</td>\n",
       "      <td>56.240806</td>\n",
       "      <td>281.089414</td>\n",
       "      <td>59.026096</td>\n",
       "    </tr>\n",
       "    <tr>\n",
       "      <th>41</th>\n",
       "      <td>Brazil</td>\n",
       "      <td>BRA</td>\n",
       "      <td>2021</td>\n",
       "      <td>488.881070</td>\n",
       "      <td>68.229888</td>\n",
       "      <td>296.986854</td>\n",
       "      <td>75.974385</td>\n",
       "    </tr>\n",
       "  </tbody>\n",
       "</table>\n",
       "</div>"
      ],
      "text/plain": [
       "   Country ISO 3166-1 alpha-3  Year       Total       Coal         Oil  \\\n",
       "0   Brazil                BRA  1980  185.471117  19.986728  150.210064   \n",
       "1   Brazil                BRA  1981  170.613975  19.723312  135.527696   \n",
       "2   Brazil                BRA  1982  170.811520  21.551648  133.193728   \n",
       "3   Brazil                BRA  1983  165.348839  23.926447  125.740255   \n",
       "4   Brazil                BRA  1984  167.076404  28.996896  122.062496   \n",
       "5   Brazil                BRA  1985  179.589112  34.870994  127.517108   \n",
       "6   Brazil                BRA  1986  196.613291  35.123104  142.375712   \n",
       "7   Brazil                BRA  1987  205.332593  40.234384  145.541408   \n",
       "8   Brazil                BRA  1988  207.069970  39.776384  147.651872   \n",
       "9   Brazil                BRA  1989  211.444880  39.930272  151.579680   \n",
       "10  Brazil                BRA  1990  218.658000  37.094715  151.775296   \n",
       "11  Brazil                BRA  1991  229.394000  42.466107  156.700232   \n",
       "12  Brazil                BRA  1992  233.601000  41.203075  163.251665   \n",
       "13  Brazil                BRA  1993  244.306000  42.342610  171.252419   \n",
       "14  Brazil                BRA  1994  254.002000  43.666838  179.161864   \n",
       "15  Brazil                BRA  1995  268.678000  45.582308  190.346969   \n",
       "16  Brazil                BRA  1996  289.311000  46.468484  206.281426   \n",
       "17  Brazil                BRA  1997  306.949000  47.044057  219.832627   \n",
       "18  Brazil                BRA  1998  317.359000  45.590741  229.578140   \n",
       "19  Brazil                BRA  1999  327.256000  46.804688  235.468487   \n",
       "20  Brazil                BRA  2000  340.183000  50.460434  239.488193   \n",
       "21  Brazil                BRA  2001  346.166000  49.426704  241.794706   \n",
       "22  Brazil                BRA  2002  347.765000  48.688815  239.219326   \n",
       "23  Brazil                BRA  2003  344.645000  51.933112  232.433668   \n",
       "24  Brazil                BRA  2004  361.434000  53.832656  239.768252   \n",
       "25  Brazil                BRA  2005  364.371000  50.948421  240.221198   \n",
       "26  Brazil                BRA  2006  368.871000  50.837875  242.248571   \n",
       "27  Brazil                BRA  2007  390.573000  54.989055  256.003342   \n",
       "28  Brazil                BRA  2008  412.638000  55.315497  267.238809   \n",
       "29  Brazil                BRA  2009  389.775000  43.586053  262.705409   \n",
       "30  Brazil                BRA  2010  440.269000  56.688185  286.079991   \n",
       "31  Brazil                BRA  2011  462.580000  62.292401  303.885017   \n",
       "32  Brazil                BRA  2012  498.309000  61.016471  327.733969   \n",
       "33  Brazil                BRA  2013  532.418000  65.604089  342.338124   \n",
       "34  Brazil                BRA  2014  557.901000  69.033897  356.753378   \n",
       "35  Brazil                BRA  2015  529.353000  69.451663  330.358576   \n",
       "36  Brazil                BRA  2016  492.748000  63.831218  312.939113   \n",
       "37  Brazil                BRA  2017  497.412678  67.321878  316.425222   \n",
       "38  Brazil                BRA  2018  477.102130  65.840737  300.605153   \n",
       "39  Brazil                BRA  2019  475.104581  61.887745  302.333585   \n",
       "40  Brazil                BRA  2020  442.306003  56.240806  281.089414   \n",
       "41  Brazil                BRA  2021  488.881070  68.229888  296.986854   \n",
       "\n",
       "          Gas  \n",
       "0    1.883259  \n",
       "1    1.685440  \n",
       "2    2.381600  \n",
       "3    3.378282  \n",
       "4    4.169632  \n",
       "5    4.994133  \n",
       "6    5.986976  \n",
       "7    6.639168  \n",
       "8    6.840688  \n",
       "9    7.306016  \n",
       "10   7.483989  \n",
       "11   7.335661  \n",
       "12   7.983260  \n",
       "13   8.729970  \n",
       "14   8.985299  \n",
       "15   9.602722  \n",
       "16  10.608090  \n",
       "17  11.863316  \n",
       "18  12.411119  \n",
       "19  14.068825  \n",
       "20  18.442373  \n",
       "21  23.185590  \n",
       "22  29.292858  \n",
       "23  30.919220  \n",
       "24  38.215091  \n",
       "25  39.619381  \n",
       "26  42.052554  \n",
       "27  43.245603  \n",
       "28  51.302693  \n",
       "29  40.958538  \n",
       "30  55.048824  \n",
       "31  53.100582  \n",
       "32  63.396560  \n",
       "33  74.703787  \n",
       "34  81.285725  \n",
       "35  80.464761  \n",
       "36  69.665669  \n",
       "37  70.687790  \n",
       "38  67.417072  \n",
       "39  67.121321  \n",
       "40  59.026096  \n",
       "41  75.974385  "
      ]
     },
     "execution_count": 45,
     "metadata": {},
     "output_type": "execute_result"
    }
   ],
   "source": [
    "# Brazil data set\n",
    "df_bra = df.loc[df['Country'] == 'Brazil']\n",
    "df_bra = df_bra.reset_index().drop(columns='index').drop(columns='level_0')\n",
    "\n",
    "df_bra.drop(df_bra[df_bra['Year'] < 1950].index, inplace = True)\n",
    "\n",
    "df_bra"
   ]
  },
  {
   "cell_type": "code",
   "execution_count": 46,
   "id": "258e5a65",
   "metadata": {},
   "outputs": [
    {
     "data": {
      "text/html": [
       "<div>\n",
       "<style scoped>\n",
       "    .dataframe tbody tr th:only-of-type {\n",
       "        vertical-align: middle;\n",
       "    }\n",
       "\n",
       "    .dataframe tbody tr th {\n",
       "        vertical-align: top;\n",
       "    }\n",
       "\n",
       "    .dataframe thead th {\n",
       "        text-align: right;\n",
       "    }\n",
       "</style>\n",
       "<table border=\"1\" class=\"dataframe\">\n",
       "  <thead>\n",
       "    <tr style=\"text-align: right;\">\n",
       "      <th></th>\n",
       "      <th>Country</th>\n",
       "      <th>ISO 3166-1 alpha-3</th>\n",
       "      <th>Year</th>\n",
       "      <th>Total</th>\n",
       "      <th>Coal</th>\n",
       "      <th>Oil</th>\n",
       "      <th>Gas</th>\n",
       "    </tr>\n",
       "  </thead>\n",
       "  <tbody>\n",
       "    <tr>\n",
       "      <th>0</th>\n",
       "      <td>Senegal</td>\n",
       "      <td>SEN</td>\n",
       "      <td>1980</td>\n",
       "      <td>3.336441</td>\n",
       "      <td>0.000000</td>\n",
       "      <td>3.154704</td>\n",
       "      <td>0.000000</td>\n",
       "    </tr>\n",
       "    <tr>\n",
       "      <th>1</th>\n",
       "      <td>Senegal</td>\n",
       "      <td>SEN</td>\n",
       "      <td>1981</td>\n",
       "      <td>3.279857</td>\n",
       "      <td>0.000000</td>\n",
       "      <td>3.107072</td>\n",
       "      <td>0.000000</td>\n",
       "    </tr>\n",
       "    <tr>\n",
       "      <th>2</th>\n",
       "      <td>Senegal</td>\n",
       "      <td>SEN</td>\n",
       "      <td>1982</td>\n",
       "      <td>3.036573</td>\n",
       "      <td>0.000000</td>\n",
       "      <td>2.872576</td>\n",
       "      <td>0.000000</td>\n",
       "    </tr>\n",
       "    <tr>\n",
       "      <th>3</th>\n",
       "      <td>Senegal</td>\n",
       "      <td>SEN</td>\n",
       "      <td>1983</td>\n",
       "      <td>2.611411</td>\n",
       "      <td>0.000000</td>\n",
       "      <td>2.432896</td>\n",
       "      <td>0.000000</td>\n",
       "    </tr>\n",
       "    <tr>\n",
       "      <th>4</th>\n",
       "      <td>Senegal</td>\n",
       "      <td>SEN</td>\n",
       "      <td>1984</td>\n",
       "      <td>3.284168</td>\n",
       "      <td>0.000000</td>\n",
       "      <td>3.114400</td>\n",
       "      <td>0.000000</td>\n",
       "    </tr>\n",
       "    <tr>\n",
       "      <th>5</th>\n",
       "      <td>Senegal</td>\n",
       "      <td>SEN</td>\n",
       "      <td>1985</td>\n",
       "      <td>2.650504</td>\n",
       "      <td>0.000000</td>\n",
       "      <td>2.473200</td>\n",
       "      <td>0.000000</td>\n",
       "    </tr>\n",
       "    <tr>\n",
       "      <th>6</th>\n",
       "      <td>Senegal</td>\n",
       "      <td>SEN</td>\n",
       "      <td>1986</td>\n",
       "      <td>2.636446</td>\n",
       "      <td>0.000000</td>\n",
       "      <td>2.480280</td>\n",
       "      <td>0.000000</td>\n",
       "    </tr>\n",
       "    <tr>\n",
       "      <th>7</th>\n",
       "      <td>Senegal</td>\n",
       "      <td>SEN</td>\n",
       "      <td>1987</td>\n",
       "      <td>2.424574</td>\n",
       "      <td>0.000000</td>\n",
       "      <td>2.264352</td>\n",
       "      <td>0.000000</td>\n",
       "    </tr>\n",
       "    <tr>\n",
       "      <th>8</th>\n",
       "      <td>Senegal</td>\n",
       "      <td>SEN</td>\n",
       "      <td>1988</td>\n",
       "      <td>2.710809</td>\n",
       "      <td>0.000000</td>\n",
       "      <td>2.531824</td>\n",
       "      <td>0.014656</td>\n",
       "    </tr>\n",
       "    <tr>\n",
       "      <th>9</th>\n",
       "      <td>Senegal</td>\n",
       "      <td>SEN</td>\n",
       "      <td>1989</td>\n",
       "      <td>3.661877</td>\n",
       "      <td>0.000000</td>\n",
       "      <td>3.488128</td>\n",
       "      <td>0.014656</td>\n",
       "    </tr>\n",
       "    <tr>\n",
       "      <th>10</th>\n",
       "      <td>Senegal</td>\n",
       "      <td>SEN</td>\n",
       "      <td>1990</td>\n",
       "      <td>3.138804</td>\n",
       "      <td>0.000000</td>\n",
       "      <td>2.934864</td>\n",
       "      <td>0.010992</td>\n",
       "    </tr>\n",
       "    <tr>\n",
       "      <th>11</th>\n",
       "      <td>Senegal</td>\n",
       "      <td>SEN</td>\n",
       "      <td>1991</td>\n",
       "      <td>3.379206</td>\n",
       "      <td>0.000000</td>\n",
       "      <td>3.165696</td>\n",
       "      <td>0.007328</td>\n",
       "    </tr>\n",
       "    <tr>\n",
       "      <th>12</th>\n",
       "      <td>Senegal</td>\n",
       "      <td>SEN</td>\n",
       "      <td>1992</td>\n",
       "      <td>3.422666</td>\n",
       "      <td>0.000000</td>\n",
       "      <td>3.173024</td>\n",
       "      <td>0.003664</td>\n",
       "    </tr>\n",
       "    <tr>\n",
       "      <th>13</th>\n",
       "      <td>Senegal</td>\n",
       "      <td>SEN</td>\n",
       "      <td>1993</td>\n",
       "      <td>3.538709</td>\n",
       "      <td>0.000000</td>\n",
       "      <td>3.271952</td>\n",
       "      <td>0.025648</td>\n",
       "    </tr>\n",
       "    <tr>\n",
       "      <th>14</th>\n",
       "      <td>Senegal</td>\n",
       "      <td>SEN</td>\n",
       "      <td>1994</td>\n",
       "      <td>3.836950</td>\n",
       "      <td>0.000000</td>\n",
       "      <td>3.520771</td>\n",
       "      <td>0.036675</td>\n",
       "    </tr>\n",
       "    <tr>\n",
       "      <th>15</th>\n",
       "      <td>Senegal</td>\n",
       "      <td>SEN</td>\n",
       "      <td>1995</td>\n",
       "      <td>3.430121</td>\n",
       "      <td>0.000000</td>\n",
       "      <td>3.055776</td>\n",
       "      <td>0.091600</td>\n",
       "    </tr>\n",
       "    <tr>\n",
       "      <th>16</th>\n",
       "      <td>Senegal</td>\n",
       "      <td>SEN</td>\n",
       "      <td>1996</td>\n",
       "      <td>3.664147</td>\n",
       "      <td>0.000000</td>\n",
       "      <td>3.249968</td>\n",
       "      <td>0.084272</td>\n",
       "    </tr>\n",
       "    <tr>\n",
       "      <th>17</th>\n",
       "      <td>Senegal</td>\n",
       "      <td>SEN</td>\n",
       "      <td>1997</td>\n",
       "      <td>3.182368</td>\n",
       "      <td>0.000000</td>\n",
       "      <td>2.791483</td>\n",
       "      <td>0.044018</td>\n",
       "    </tr>\n",
       "    <tr>\n",
       "      <th>18</th>\n",
       "      <td>Senegal</td>\n",
       "      <td>SEN</td>\n",
       "      <td>1998</td>\n",
       "      <td>3.333565</td>\n",
       "      <td>0.000000</td>\n",
       "      <td>2.887761</td>\n",
       "      <td>0.040260</td>\n",
       "    </tr>\n",
       "    <tr>\n",
       "      <th>19</th>\n",
       "      <td>Senegal</td>\n",
       "      <td>SEN</td>\n",
       "      <td>1999</td>\n",
       "      <td>3.603593</td>\n",
       "      <td>0.000000</td>\n",
       "      <td>3.187680</td>\n",
       "      <td>0.010992</td>\n",
       "    </tr>\n",
       "    <tr>\n",
       "      <th>20</th>\n",
       "      <td>Senegal</td>\n",
       "      <td>SEN</td>\n",
       "      <td>2000</td>\n",
       "      <td>3.902052</td>\n",
       "      <td>0.000000</td>\n",
       "      <td>3.359888</td>\n",
       "      <td>0.000000</td>\n",
       "    </tr>\n",
       "    <tr>\n",
       "      <th>21</th>\n",
       "      <td>Senegal</td>\n",
       "      <td>SEN</td>\n",
       "      <td>2001</td>\n",
       "      <td>4.258100</td>\n",
       "      <td>0.000000</td>\n",
       "      <td>3.638352</td>\n",
       "      <td>0.000000</td>\n",
       "    </tr>\n",
       "    <tr>\n",
       "      <th>22</th>\n",
       "      <td>Senegal</td>\n",
       "      <td>SEN</td>\n",
       "      <td>2002</td>\n",
       "      <td>4.436925</td>\n",
       "      <td>0.271136</td>\n",
       "      <td>3.495456</td>\n",
       "      <td>0.007328</td>\n",
       "    </tr>\n",
       "    <tr>\n",
       "      <th>23</th>\n",
       "      <td>Senegal</td>\n",
       "      <td>SEN</td>\n",
       "      <td>2003</td>\n",
       "      <td>4.927512</td>\n",
       "      <td>0.281921</td>\n",
       "      <td>3.946890</td>\n",
       "      <td>0.021968</td>\n",
       "    </tr>\n",
       "    <tr>\n",
       "      <th>24</th>\n",
       "      <td>Senegal</td>\n",
       "      <td>SEN</td>\n",
       "      <td>2004</td>\n",
       "      <td>5.238223</td>\n",
       "      <td>0.370064</td>\n",
       "      <td>3.891168</td>\n",
       "      <td>0.025648</td>\n",
       "    </tr>\n",
       "    <tr>\n",
       "      <th>25</th>\n",
       "      <td>Senegal</td>\n",
       "      <td>SEN</td>\n",
       "      <td>2005</td>\n",
       "      <td>5.538919</td>\n",
       "      <td>0.370064</td>\n",
       "      <td>4.103680</td>\n",
       "      <td>0.025648</td>\n",
       "    </tr>\n",
       "    <tr>\n",
       "      <th>26</th>\n",
       "      <td>Senegal</td>\n",
       "      <td>SEN</td>\n",
       "      <td>2006</td>\n",
       "      <td>4.422390</td>\n",
       "      <td>0.447008</td>\n",
       "      <td>2.821280</td>\n",
       "      <td>0.021984</td>\n",
       "    </tr>\n",
       "    <tr>\n",
       "      <th>27</th>\n",
       "      <td>Senegal</td>\n",
       "      <td>SEN</td>\n",
       "      <td>2007</td>\n",
       "      <td>4.862531</td>\n",
       "      <td>0.707152</td>\n",
       "      <td>2.912880</td>\n",
       "      <td>0.021984</td>\n",
       "    </tr>\n",
       "    <tr>\n",
       "      <th>28</th>\n",
       "      <td>Senegal</td>\n",
       "      <td>SEN</td>\n",
       "      <td>2008</td>\n",
       "      <td>4.740295</td>\n",
       "      <td>0.597232</td>\n",
       "      <td>2.934864</td>\n",
       "      <td>0.021984</td>\n",
       "    </tr>\n",
       "    <tr>\n",
       "      <th>29</th>\n",
       "      <td>Senegal</td>\n",
       "      <td>SEN</td>\n",
       "      <td>2009</td>\n",
       "      <td>5.257668</td>\n",
       "      <td>0.740128</td>\n",
       "      <td>3.206000</td>\n",
       "      <td>0.032976</td>\n",
       "    </tr>\n",
       "    <tr>\n",
       "      <th>30</th>\n",
       "      <td>Senegal</td>\n",
       "      <td>SEN</td>\n",
       "      <td>2010</td>\n",
       "      <td>6.862391</td>\n",
       "      <td>0.674176</td>\n",
       "      <td>4.572672</td>\n",
       "      <td>0.047632</td>\n",
       "    </tr>\n",
       "    <tr>\n",
       "      <th>31</th>\n",
       "      <td>Senegal</td>\n",
       "      <td>SEN</td>\n",
       "      <td>2011</td>\n",
       "      <td>7.818837</td>\n",
       "      <td>0.942082</td>\n",
       "      <td>5.051319</td>\n",
       "      <td>0.036657</td>\n",
       "    </tr>\n",
       "    <tr>\n",
       "      <th>32</th>\n",
       "      <td>Senegal</td>\n",
       "      <td>SEN</td>\n",
       "      <td>2012</td>\n",
       "      <td>7.362129</td>\n",
       "      <td>0.817072</td>\n",
       "      <td>4.697248</td>\n",
       "      <td>0.054960</td>\n",
       "    </tr>\n",
       "    <tr>\n",
       "      <th>33</th>\n",
       "      <td>Senegal</td>\n",
       "      <td>SEN</td>\n",
       "      <td>2013</td>\n",
       "      <td>7.852669</td>\n",
       "      <td>0.813784</td>\n",
       "      <td>4.934021</td>\n",
       "      <td>0.084311</td>\n",
       "    </tr>\n",
       "    <tr>\n",
       "      <th>34</th>\n",
       "      <td>Senegal</td>\n",
       "      <td>SEN</td>\n",
       "      <td>2014</td>\n",
       "      <td>8.724360</td>\n",
       "      <td>1.099200</td>\n",
       "      <td>5.653552</td>\n",
       "      <td>0.073280</td>\n",
       "    </tr>\n",
       "    <tr>\n",
       "      <th>35</th>\n",
       "      <td>Senegal</td>\n",
       "      <td>SEN</td>\n",
       "      <td>2015</td>\n",
       "      <td>9.845416</td>\n",
       "      <td>1.150496</td>\n",
       "      <td>6.859008</td>\n",
       "      <td>0.047632</td>\n",
       "    </tr>\n",
       "    <tr>\n",
       "      <th>36</th>\n",
       "      <td>Senegal</td>\n",
       "      <td>SEN</td>\n",
       "      <td>2016</td>\n",
       "      <td>10.015698</td>\n",
       "      <td>1.205456</td>\n",
       "      <td>6.771072</td>\n",
       "      <td>0.043968</td>\n",
       "    </tr>\n",
       "    <tr>\n",
       "      <th>37</th>\n",
       "      <td>Senegal</td>\n",
       "      <td>SEN</td>\n",
       "      <td>2017</td>\n",
       "      <td>10.760132</td>\n",
       "      <td>1.439952</td>\n",
       "      <td>7.258384</td>\n",
       "      <td>0.036640</td>\n",
       "    </tr>\n",
       "    <tr>\n",
       "      <th>38</th>\n",
       "      <td>Senegal</td>\n",
       "      <td>SEN</td>\n",
       "      <td>2018</td>\n",
       "      <td>11.330392</td>\n",
       "      <td>2.260688</td>\n",
       "      <td>6.950608</td>\n",
       "      <td>0.021984</td>\n",
       "    </tr>\n",
       "    <tr>\n",
       "      <th>39</th>\n",
       "      <td>Senegal</td>\n",
       "      <td>SEN</td>\n",
       "      <td>2019</td>\n",
       "      <td>12.761457</td>\n",
       "      <td>2.087880</td>\n",
       "      <td>7.970572</td>\n",
       "      <td>0.029304</td>\n",
       "    </tr>\n",
       "    <tr>\n",
       "      <th>40</th>\n",
       "      <td>Senegal</td>\n",
       "      <td>SEN</td>\n",
       "      <td>2020</td>\n",
       "      <td>12.743876</td>\n",
       "      <td>1.894052</td>\n",
       "      <td>8.144750</td>\n",
       "      <td>0.031372</td>\n",
       "    </tr>\n",
       "    <tr>\n",
       "      <th>41</th>\n",
       "      <td>Senegal</td>\n",
       "      <td>SEN</td>\n",
       "      <td>2021</td>\n",
       "      <td>13.597910</td>\n",
       "      <td>2.190262</td>\n",
       "      <td>8.700009</td>\n",
       "      <td>0.033937</td>\n",
       "    </tr>\n",
       "  </tbody>\n",
       "</table>\n",
       "</div>"
      ],
      "text/plain": [
       "    Country ISO 3166-1 alpha-3  Year      Total      Coal       Oil       Gas\n",
       "0   Senegal                SEN  1980   3.336441  0.000000  3.154704  0.000000\n",
       "1   Senegal                SEN  1981   3.279857  0.000000  3.107072  0.000000\n",
       "2   Senegal                SEN  1982   3.036573  0.000000  2.872576  0.000000\n",
       "3   Senegal                SEN  1983   2.611411  0.000000  2.432896  0.000000\n",
       "4   Senegal                SEN  1984   3.284168  0.000000  3.114400  0.000000\n",
       "5   Senegal                SEN  1985   2.650504  0.000000  2.473200  0.000000\n",
       "6   Senegal                SEN  1986   2.636446  0.000000  2.480280  0.000000\n",
       "7   Senegal                SEN  1987   2.424574  0.000000  2.264352  0.000000\n",
       "8   Senegal                SEN  1988   2.710809  0.000000  2.531824  0.014656\n",
       "9   Senegal                SEN  1989   3.661877  0.000000  3.488128  0.014656\n",
       "10  Senegal                SEN  1990   3.138804  0.000000  2.934864  0.010992\n",
       "11  Senegal                SEN  1991   3.379206  0.000000  3.165696  0.007328\n",
       "12  Senegal                SEN  1992   3.422666  0.000000  3.173024  0.003664\n",
       "13  Senegal                SEN  1993   3.538709  0.000000  3.271952  0.025648\n",
       "14  Senegal                SEN  1994   3.836950  0.000000  3.520771  0.036675\n",
       "15  Senegal                SEN  1995   3.430121  0.000000  3.055776  0.091600\n",
       "16  Senegal                SEN  1996   3.664147  0.000000  3.249968  0.084272\n",
       "17  Senegal                SEN  1997   3.182368  0.000000  2.791483  0.044018\n",
       "18  Senegal                SEN  1998   3.333565  0.000000  2.887761  0.040260\n",
       "19  Senegal                SEN  1999   3.603593  0.000000  3.187680  0.010992\n",
       "20  Senegal                SEN  2000   3.902052  0.000000  3.359888  0.000000\n",
       "21  Senegal                SEN  2001   4.258100  0.000000  3.638352  0.000000\n",
       "22  Senegal                SEN  2002   4.436925  0.271136  3.495456  0.007328\n",
       "23  Senegal                SEN  2003   4.927512  0.281921  3.946890  0.021968\n",
       "24  Senegal                SEN  2004   5.238223  0.370064  3.891168  0.025648\n",
       "25  Senegal                SEN  2005   5.538919  0.370064  4.103680  0.025648\n",
       "26  Senegal                SEN  2006   4.422390  0.447008  2.821280  0.021984\n",
       "27  Senegal                SEN  2007   4.862531  0.707152  2.912880  0.021984\n",
       "28  Senegal                SEN  2008   4.740295  0.597232  2.934864  0.021984\n",
       "29  Senegal                SEN  2009   5.257668  0.740128  3.206000  0.032976\n",
       "30  Senegal                SEN  2010   6.862391  0.674176  4.572672  0.047632\n",
       "31  Senegal                SEN  2011   7.818837  0.942082  5.051319  0.036657\n",
       "32  Senegal                SEN  2012   7.362129  0.817072  4.697248  0.054960\n",
       "33  Senegal                SEN  2013   7.852669  0.813784  4.934021  0.084311\n",
       "34  Senegal                SEN  2014   8.724360  1.099200  5.653552  0.073280\n",
       "35  Senegal                SEN  2015   9.845416  1.150496  6.859008  0.047632\n",
       "36  Senegal                SEN  2016  10.015698  1.205456  6.771072  0.043968\n",
       "37  Senegal                SEN  2017  10.760132  1.439952  7.258384  0.036640\n",
       "38  Senegal                SEN  2018  11.330392  2.260688  6.950608  0.021984\n",
       "39  Senegal                SEN  2019  12.761457  2.087880  7.970572  0.029304\n",
       "40  Senegal                SEN  2020  12.743876  1.894052  8.144750  0.031372\n",
       "41  Senegal                SEN  2021  13.597910  2.190262  8.700009  0.033937"
      ]
     },
     "execution_count": 46,
     "metadata": {},
     "output_type": "execute_result"
    }
   ],
   "source": [
    "# Senegal data set\n",
    "df_sen = df.loc[df['Country'] == 'Senegal']\n",
    "df_sen = df_sen.reset_index().drop(columns='index').drop(columns='level_0')\n",
    "\n",
    "df_sen.drop(df_sen[df_sen['Year'] < 1950].index, inplace = True)\n",
    "\n",
    "df_sen"
   ]
  },
  {
   "cell_type": "code",
   "execution_count": 47,
   "id": "35893608",
   "metadata": {},
   "outputs": [
    {
     "data": {
      "text/html": [
       "<div>\n",
       "<style scoped>\n",
       "    .dataframe tbody tr th:only-of-type {\n",
       "        vertical-align: middle;\n",
       "    }\n",
       "\n",
       "    .dataframe tbody tr th {\n",
       "        vertical-align: top;\n",
       "    }\n",
       "\n",
       "    .dataframe thead th {\n",
       "        text-align: right;\n",
       "    }\n",
       "</style>\n",
       "<table border=\"1\" class=\"dataframe\">\n",
       "  <thead>\n",
       "    <tr style=\"text-align: right;\">\n",
       "      <th></th>\n",
       "      <th>Country</th>\n",
       "      <th>ISO 3166-1 alpha-3</th>\n",
       "      <th>Year</th>\n",
       "      <th>Total</th>\n",
       "      <th>Coal</th>\n",
       "      <th>Oil</th>\n",
       "      <th>Gas</th>\n",
       "    </tr>\n",
       "  </thead>\n",
       "  <tbody>\n",
       "    <tr>\n",
       "      <th>0</th>\n",
       "      <td>Cambodia</td>\n",
       "      <td>KHM</td>\n",
       "      <td>1980</td>\n",
       "      <td>0.285792</td>\n",
       "      <td>0.000000</td>\n",
       "      <td>0.285792</td>\n",
       "      <td>0.0</td>\n",
       "    </tr>\n",
       "    <tr>\n",
       "      <th>1</th>\n",
       "      <td>Cambodia</td>\n",
       "      <td>KHM</td>\n",
       "      <td>1981</td>\n",
       "      <td>0.300448</td>\n",
       "      <td>0.000000</td>\n",
       "      <td>0.300448</td>\n",
       "      <td>0.0</td>\n",
       "    </tr>\n",
       "    <tr>\n",
       "      <th>2</th>\n",
       "      <td>Cambodia</td>\n",
       "      <td>KHM</td>\n",
       "      <td>1982</td>\n",
       "      <td>0.337088</td>\n",
       "      <td>0.000000</td>\n",
       "      <td>0.337088</td>\n",
       "      <td>0.0</td>\n",
       "    </tr>\n",
       "    <tr>\n",
       "      <th>3</th>\n",
       "      <td>Cambodia</td>\n",
       "      <td>KHM</td>\n",
       "      <td>1983</td>\n",
       "      <td>0.366400</td>\n",
       "      <td>0.000000</td>\n",
       "      <td>0.366400</td>\n",
       "      <td>0.0</td>\n",
       "    </tr>\n",
       "    <tr>\n",
       "      <th>4</th>\n",
       "      <td>Cambodia</td>\n",
       "      <td>KHM</td>\n",
       "      <td>1984</td>\n",
       "      <td>0.410368</td>\n",
       "      <td>0.000000</td>\n",
       "      <td>0.410368</td>\n",
       "      <td>0.0</td>\n",
       "    </tr>\n",
       "    <tr>\n",
       "      <th>5</th>\n",
       "      <td>Cambodia</td>\n",
       "      <td>KHM</td>\n",
       "      <td>1985</td>\n",
       "      <td>0.417696</td>\n",
       "      <td>0.000000</td>\n",
       "      <td>0.417696</td>\n",
       "      <td>0.0</td>\n",
       "    </tr>\n",
       "    <tr>\n",
       "      <th>6</th>\n",
       "      <td>Cambodia</td>\n",
       "      <td>KHM</td>\n",
       "      <td>1986</td>\n",
       "      <td>0.432352</td>\n",
       "      <td>0.000000</td>\n",
       "      <td>0.432352</td>\n",
       "      <td>0.0</td>\n",
       "    </tr>\n",
       "    <tr>\n",
       "      <th>7</th>\n",
       "      <td>Cambodia</td>\n",
       "      <td>KHM</td>\n",
       "      <td>1987</td>\n",
       "      <td>0.436016</td>\n",
       "      <td>0.000000</td>\n",
       "      <td>0.436016</td>\n",
       "      <td>0.0</td>\n",
       "    </tr>\n",
       "    <tr>\n",
       "      <th>8</th>\n",
       "      <td>Cambodia</td>\n",
       "      <td>KHM</td>\n",
       "      <td>1988</td>\n",
       "      <td>0.450672</td>\n",
       "      <td>0.000000</td>\n",
       "      <td>0.450672</td>\n",
       "      <td>0.0</td>\n",
       "    </tr>\n",
       "    <tr>\n",
       "      <th>9</th>\n",
       "      <td>Cambodia</td>\n",
       "      <td>KHM</td>\n",
       "      <td>1989</td>\n",
       "      <td>0.450672</td>\n",
       "      <td>0.000000</td>\n",
       "      <td>0.450672</td>\n",
       "      <td>0.0</td>\n",
       "    </tr>\n",
       "    <tr>\n",
       "      <th>10</th>\n",
       "      <td>Cambodia</td>\n",
       "      <td>KHM</td>\n",
       "      <td>1990</td>\n",
       "      <td>1.260416</td>\n",
       "      <td>0.000000</td>\n",
       "      <td>1.260416</td>\n",
       "      <td>0.0</td>\n",
       "    </tr>\n",
       "    <tr>\n",
       "      <th>11</th>\n",
       "      <td>Cambodia</td>\n",
       "      <td>KHM</td>\n",
       "      <td>1991</td>\n",
       "      <td>1.304384</td>\n",
       "      <td>0.000000</td>\n",
       "      <td>1.304384</td>\n",
       "      <td>0.0</td>\n",
       "    </tr>\n",
       "    <tr>\n",
       "      <th>12</th>\n",
       "      <td>Cambodia</td>\n",
       "      <td>KHM</td>\n",
       "      <td>1992</td>\n",
       "      <td>1.348352</td>\n",
       "      <td>0.000000</td>\n",
       "      <td>1.348352</td>\n",
       "      <td>0.0</td>\n",
       "    </tr>\n",
       "    <tr>\n",
       "      <th>13</th>\n",
       "      <td>Cambodia</td>\n",
       "      <td>KHM</td>\n",
       "      <td>1993</td>\n",
       "      <td>1.384992</td>\n",
       "      <td>0.000000</td>\n",
       "      <td>1.384992</td>\n",
       "      <td>0.0</td>\n",
       "    </tr>\n",
       "    <tr>\n",
       "      <th>14</th>\n",
       "      <td>Cambodia</td>\n",
       "      <td>KHM</td>\n",
       "      <td>1994</td>\n",
       "      <td>1.425296</td>\n",
       "      <td>0.000000</td>\n",
       "      <td>1.425296</td>\n",
       "      <td>0.0</td>\n",
       "    </tr>\n",
       "    <tr>\n",
       "      <th>15</th>\n",
       "      <td>Cambodia</td>\n",
       "      <td>KHM</td>\n",
       "      <td>1995</td>\n",
       "      <td>1.498576</td>\n",
       "      <td>0.000000</td>\n",
       "      <td>1.498576</td>\n",
       "      <td>0.0</td>\n",
       "    </tr>\n",
       "    <tr>\n",
       "      <th>16</th>\n",
       "      <td>Cambodia</td>\n",
       "      <td>KHM</td>\n",
       "      <td>1996</td>\n",
       "      <td>1.516896</td>\n",
       "      <td>0.000000</td>\n",
       "      <td>1.516896</td>\n",
       "      <td>0.0</td>\n",
       "    </tr>\n",
       "    <tr>\n",
       "      <th>17</th>\n",
       "      <td>Cambodia</td>\n",
       "      <td>KHM</td>\n",
       "      <td>1997</td>\n",
       "      <td>1.465600</td>\n",
       "      <td>0.000000</td>\n",
       "      <td>1.465600</td>\n",
       "      <td>0.0</td>\n",
       "    </tr>\n",
       "    <tr>\n",
       "      <th>18</th>\n",
       "      <td>Cambodia</td>\n",
       "      <td>KHM</td>\n",
       "      <td>1998</td>\n",
       "      <td>1.875968</td>\n",
       "      <td>0.000000</td>\n",
       "      <td>1.875968</td>\n",
       "      <td>0.0</td>\n",
       "    </tr>\n",
       "    <tr>\n",
       "      <th>19</th>\n",
       "      <td>Cambodia</td>\n",
       "      <td>KHM</td>\n",
       "      <td>1999</td>\n",
       "      <td>1.894288</td>\n",
       "      <td>0.000000</td>\n",
       "      <td>1.894288</td>\n",
       "      <td>0.0</td>\n",
       "    </tr>\n",
       "    <tr>\n",
       "      <th>20</th>\n",
       "      <td>Cambodia</td>\n",
       "      <td>KHM</td>\n",
       "      <td>2000</td>\n",
       "      <td>1.974896</td>\n",
       "      <td>0.000000</td>\n",
       "      <td>1.974896</td>\n",
       "      <td>0.0</td>\n",
       "    </tr>\n",
       "    <tr>\n",
       "      <th>21</th>\n",
       "      <td>Cambodia</td>\n",
       "      <td>KHM</td>\n",
       "      <td>2001</td>\n",
       "      <td>2.249696</td>\n",
       "      <td>0.000000</td>\n",
       "      <td>2.249696</td>\n",
       "      <td>0.0</td>\n",
       "    </tr>\n",
       "    <tr>\n",
       "      <th>22</th>\n",
       "      <td>Cambodia</td>\n",
       "      <td>KHM</td>\n",
       "      <td>2002</td>\n",
       "      <td>2.205728</td>\n",
       "      <td>0.000000</td>\n",
       "      <td>2.205728</td>\n",
       "      <td>0.0</td>\n",
       "    </tr>\n",
       "    <tr>\n",
       "      <th>23</th>\n",
       "      <td>Cambodia</td>\n",
       "      <td>KHM</td>\n",
       "      <td>2003</td>\n",
       "      <td>2.377936</td>\n",
       "      <td>0.000000</td>\n",
       "      <td>2.377936</td>\n",
       "      <td>0.0</td>\n",
       "    </tr>\n",
       "    <tr>\n",
       "      <th>24</th>\n",
       "      <td>Cambodia</td>\n",
       "      <td>KHM</td>\n",
       "      <td>2004</td>\n",
       "      <td>2.443888</td>\n",
       "      <td>0.000000</td>\n",
       "      <td>2.443888</td>\n",
       "      <td>0.0</td>\n",
       "    </tr>\n",
       "    <tr>\n",
       "      <th>25</th>\n",
       "      <td>Cambodia</td>\n",
       "      <td>KHM</td>\n",
       "      <td>2005</td>\n",
       "      <td>2.773648</td>\n",
       "      <td>0.000000</td>\n",
       "      <td>2.773648</td>\n",
       "      <td>0.0</td>\n",
       "    </tr>\n",
       "    <tr>\n",
       "      <th>26</th>\n",
       "      <td>Cambodia</td>\n",
       "      <td>KHM</td>\n",
       "      <td>2006</td>\n",
       "      <td>2.997152</td>\n",
       "      <td>0.000000</td>\n",
       "      <td>2.997152</td>\n",
       "      <td>0.0</td>\n",
       "    </tr>\n",
       "    <tr>\n",
       "      <th>27</th>\n",
       "      <td>Cambodia</td>\n",
       "      <td>KHM</td>\n",
       "      <td>2007</td>\n",
       "      <td>3.471142</td>\n",
       "      <td>0.000000</td>\n",
       "      <td>3.418512</td>\n",
       "      <td>0.0</td>\n",
       "    </tr>\n",
       "    <tr>\n",
       "      <th>28</th>\n",
       "      <td>Cambodia</td>\n",
       "      <td>KHM</td>\n",
       "      <td>2008</td>\n",
       "      <td>3.866716</td>\n",
       "      <td>0.000000</td>\n",
       "      <td>3.495456</td>\n",
       "      <td>0.0</td>\n",
       "    </tr>\n",
       "    <tr>\n",
       "      <th>29</th>\n",
       "      <td>Cambodia</td>\n",
       "      <td>KHM</td>\n",
       "      <td>2009</td>\n",
       "      <td>4.557086</td>\n",
       "      <td>0.029335</td>\n",
       "      <td>4.180291</td>\n",
       "      <td>0.0</td>\n",
       "    </tr>\n",
       "    <tr>\n",
       "      <th>30</th>\n",
       "      <td>Cambodia</td>\n",
       "      <td>KHM</td>\n",
       "      <td>2010</td>\n",
       "      <td>5.078142</td>\n",
       "      <td>0.095333</td>\n",
       "      <td>4.612669</td>\n",
       "      <td>0.0</td>\n",
       "    </tr>\n",
       "    <tr>\n",
       "      <th>31</th>\n",
       "      <td>Cambodia</td>\n",
       "      <td>KHM</td>\n",
       "      <td>2011</td>\n",
       "      <td>5.274698</td>\n",
       "      <td>0.109920</td>\n",
       "      <td>4.733888</td>\n",
       "      <td>0.0</td>\n",
       "    </tr>\n",
       "    <tr>\n",
       "      <th>32</th>\n",
       "      <td>Cambodia</td>\n",
       "      <td>KHM</td>\n",
       "      <td>2012</td>\n",
       "      <td>5.576016</td>\n",
       "      <td>0.153888</td>\n",
       "      <td>4.935408</td>\n",
       "      <td>0.0</td>\n",
       "    </tr>\n",
       "    <tr>\n",
       "      <th>33</th>\n",
       "      <td>Cambodia</td>\n",
       "      <td>KHM</td>\n",
       "      <td>2013</td>\n",
       "      <td>5.636730</td>\n",
       "      <td>0.223504</td>\n",
       "      <td>4.906096</td>\n",
       "      <td>0.0</td>\n",
       "    </tr>\n",
       "    <tr>\n",
       "      <th>34</th>\n",
       "      <td>Cambodia</td>\n",
       "      <td>KHM</td>\n",
       "      <td>2014</td>\n",
       "      <td>6.834254</td>\n",
       "      <td>1.242757</td>\n",
       "      <td>5.081007</td>\n",
       "      <td>0.0</td>\n",
       "    </tr>\n",
       "    <tr>\n",
       "      <th>35</th>\n",
       "      <td>Cambodia</td>\n",
       "      <td>KHM</td>\n",
       "      <td>2015</td>\n",
       "      <td>8.365610</td>\n",
       "      <td>2.205728</td>\n",
       "      <td>5.506992</td>\n",
       "      <td>0.0</td>\n",
       "    </tr>\n",
       "    <tr>\n",
       "      <th>36</th>\n",
       "      <td>Cambodia</td>\n",
       "      <td>KHM</td>\n",
       "      <td>2016</td>\n",
       "      <td>10.921712</td>\n",
       "      <td>3.055776</td>\n",
       "      <td>6.444976</td>\n",
       "      <td>0.0</td>\n",
       "    </tr>\n",
       "    <tr>\n",
       "      <th>37</th>\n",
       "      <td>Cambodia</td>\n",
       "      <td>KHM</td>\n",
       "      <td>2017</td>\n",
       "      <td>12.504842</td>\n",
       "      <td>3.612704</td>\n",
       "      <td>6.591536</td>\n",
       "      <td>0.0</td>\n",
       "    </tr>\n",
       "    <tr>\n",
       "      <th>38</th>\n",
       "      <td>Cambodia</td>\n",
       "      <td>KHM</td>\n",
       "      <td>2018</td>\n",
       "      <td>14.388181</td>\n",
       "      <td>3.839872</td>\n",
       "      <td>7.232736</td>\n",
       "      <td>0.0</td>\n",
       "    </tr>\n",
       "    <tr>\n",
       "      <th>39</th>\n",
       "      <td>Cambodia</td>\n",
       "      <td>KHM</td>\n",
       "      <td>2019</td>\n",
       "      <td>18.024641</td>\n",
       "      <td>4.418784</td>\n",
       "      <td>8.280640</td>\n",
       "      <td>0.0</td>\n",
       "    </tr>\n",
       "    <tr>\n",
       "      <th>40</th>\n",
       "      <td>Cambodia</td>\n",
       "      <td>KHM</td>\n",
       "      <td>2020</td>\n",
       "      <td>18.703284</td>\n",
       "      <td>4.638542</td>\n",
       "      <td>8.739525</td>\n",
       "      <td>0.0</td>\n",
       "    </tr>\n",
       "    <tr>\n",
       "      <th>41</th>\n",
       "      <td>Cambodia</td>\n",
       "      <td>KHM</td>\n",
       "      <td>2021</td>\n",
       "      <td>19.028598</td>\n",
       "      <td>4.698298</td>\n",
       "      <td>8.981376</td>\n",
       "      <td>0.0</td>\n",
       "    </tr>\n",
       "  </tbody>\n",
       "</table>\n",
       "</div>"
      ],
      "text/plain": [
       "     Country ISO 3166-1 alpha-3  Year      Total      Coal       Oil  Gas\n",
       "0   Cambodia                KHM  1980   0.285792  0.000000  0.285792  0.0\n",
       "1   Cambodia                KHM  1981   0.300448  0.000000  0.300448  0.0\n",
       "2   Cambodia                KHM  1982   0.337088  0.000000  0.337088  0.0\n",
       "3   Cambodia                KHM  1983   0.366400  0.000000  0.366400  0.0\n",
       "4   Cambodia                KHM  1984   0.410368  0.000000  0.410368  0.0\n",
       "5   Cambodia                KHM  1985   0.417696  0.000000  0.417696  0.0\n",
       "6   Cambodia                KHM  1986   0.432352  0.000000  0.432352  0.0\n",
       "7   Cambodia                KHM  1987   0.436016  0.000000  0.436016  0.0\n",
       "8   Cambodia                KHM  1988   0.450672  0.000000  0.450672  0.0\n",
       "9   Cambodia                KHM  1989   0.450672  0.000000  0.450672  0.0\n",
       "10  Cambodia                KHM  1990   1.260416  0.000000  1.260416  0.0\n",
       "11  Cambodia                KHM  1991   1.304384  0.000000  1.304384  0.0\n",
       "12  Cambodia                KHM  1992   1.348352  0.000000  1.348352  0.0\n",
       "13  Cambodia                KHM  1993   1.384992  0.000000  1.384992  0.0\n",
       "14  Cambodia                KHM  1994   1.425296  0.000000  1.425296  0.0\n",
       "15  Cambodia                KHM  1995   1.498576  0.000000  1.498576  0.0\n",
       "16  Cambodia                KHM  1996   1.516896  0.000000  1.516896  0.0\n",
       "17  Cambodia                KHM  1997   1.465600  0.000000  1.465600  0.0\n",
       "18  Cambodia                KHM  1998   1.875968  0.000000  1.875968  0.0\n",
       "19  Cambodia                KHM  1999   1.894288  0.000000  1.894288  0.0\n",
       "20  Cambodia                KHM  2000   1.974896  0.000000  1.974896  0.0\n",
       "21  Cambodia                KHM  2001   2.249696  0.000000  2.249696  0.0\n",
       "22  Cambodia                KHM  2002   2.205728  0.000000  2.205728  0.0\n",
       "23  Cambodia                KHM  2003   2.377936  0.000000  2.377936  0.0\n",
       "24  Cambodia                KHM  2004   2.443888  0.000000  2.443888  0.0\n",
       "25  Cambodia                KHM  2005   2.773648  0.000000  2.773648  0.0\n",
       "26  Cambodia                KHM  2006   2.997152  0.000000  2.997152  0.0\n",
       "27  Cambodia                KHM  2007   3.471142  0.000000  3.418512  0.0\n",
       "28  Cambodia                KHM  2008   3.866716  0.000000  3.495456  0.0\n",
       "29  Cambodia                KHM  2009   4.557086  0.029335  4.180291  0.0\n",
       "30  Cambodia                KHM  2010   5.078142  0.095333  4.612669  0.0\n",
       "31  Cambodia                KHM  2011   5.274698  0.109920  4.733888  0.0\n",
       "32  Cambodia                KHM  2012   5.576016  0.153888  4.935408  0.0\n",
       "33  Cambodia                KHM  2013   5.636730  0.223504  4.906096  0.0\n",
       "34  Cambodia                KHM  2014   6.834254  1.242757  5.081007  0.0\n",
       "35  Cambodia                KHM  2015   8.365610  2.205728  5.506992  0.0\n",
       "36  Cambodia                KHM  2016  10.921712  3.055776  6.444976  0.0\n",
       "37  Cambodia                KHM  2017  12.504842  3.612704  6.591536  0.0\n",
       "38  Cambodia                KHM  2018  14.388181  3.839872  7.232736  0.0\n",
       "39  Cambodia                KHM  2019  18.024641  4.418784  8.280640  0.0\n",
       "40  Cambodia                KHM  2020  18.703284  4.638542  8.739525  0.0\n",
       "41  Cambodia                KHM  2021  19.028598  4.698298  8.981376  0.0"
      ]
     },
     "execution_count": 47,
     "metadata": {},
     "output_type": "execute_result"
    }
   ],
   "source": [
    "# Cambodia data set\n",
    "df_cam = df.loc[df['Country'] == 'Cambodia']\n",
    "df_cam = df_cam.reset_index().drop(columns='index').drop(columns='level_0')\n",
    "\n",
    "df_cam.drop(df_cam[df_cam['Year'] < 1950].index, inplace = True)\n",
    "\n",
    "df_cam"
   ]
  },
  {
   "cell_type": "code",
   "execution_count": 48,
   "id": "311a706f",
   "metadata": {},
   "outputs": [
    {
     "data": {
      "text/html": [
       "<div>\n",
       "<style scoped>\n",
       "    .dataframe tbody tr th:only-of-type {\n",
       "        vertical-align: middle;\n",
       "    }\n",
       "\n",
       "    .dataframe tbody tr th {\n",
       "        vertical-align: top;\n",
       "    }\n",
       "\n",
       "    .dataframe thead th {\n",
       "        text-align: right;\n",
       "    }\n",
       "</style>\n",
       "<table border=\"1\" class=\"dataframe\">\n",
       "  <thead>\n",
       "    <tr style=\"text-align: right;\">\n",
       "      <th></th>\n",
       "      <th>Country</th>\n",
       "      <th>ISO 3166-1 alpha-3</th>\n",
       "      <th>Year</th>\n",
       "      <th>Total</th>\n",
       "      <th>Coal</th>\n",
       "      <th>Oil</th>\n",
       "      <th>Gas</th>\n",
       "    </tr>\n",
       "  </thead>\n",
       "  <tbody>\n",
       "    <tr>\n",
       "      <th>0</th>\n",
       "      <td>Congo</td>\n",
       "      <td>COG</td>\n",
       "      <td>1980</td>\n",
       "      <td>0.405529</td>\n",
       "      <td>0.0</td>\n",
       "      <td>0.274800</td>\n",
       "      <td>0.003664</td>\n",
       "    </tr>\n",
       "    <tr>\n",
       "      <th>1</th>\n",
       "      <td>Congo</td>\n",
       "      <td>COG</td>\n",
       "      <td>1981</td>\n",
       "      <td>0.470724</td>\n",
       "      <td>0.0</td>\n",
       "      <td>0.318768</td>\n",
       "      <td>0.000000</td>\n",
       "    </tr>\n",
       "    <tr>\n",
       "      <th>2</th>\n",
       "      <td>Congo</td>\n",
       "      <td>COG</td>\n",
       "      <td>1982</td>\n",
       "      <td>1.343102</td>\n",
       "      <td>0.0</td>\n",
       "      <td>1.168816</td>\n",
       "      <td>0.003664</td>\n",
       "    </tr>\n",
       "    <tr>\n",
       "      <th>3</th>\n",
       "      <td>Congo</td>\n",
       "      <td>COG</td>\n",
       "      <td>1983</td>\n",
       "      <td>1.142452</td>\n",
       "      <td>0.0</td>\n",
       "      <td>0.970960</td>\n",
       "      <td>0.003664</td>\n",
       "    </tr>\n",
       "    <tr>\n",
       "      <th>4</th>\n",
       "      <td>Congo</td>\n",
       "      <td>COG</td>\n",
       "      <td>1984</td>\n",
       "      <td>1.139504</td>\n",
       "      <td>0.0</td>\n",
       "      <td>0.970960</td>\n",
       "      <td>0.003664</td>\n",
       "    </tr>\n",
       "    <tr>\n",
       "      <th>5</th>\n",
       "      <td>Congo</td>\n",
       "      <td>COG</td>\n",
       "      <td>1985</td>\n",
       "      <td>1.275224</td>\n",
       "      <td>0.0</td>\n",
       "      <td>1.077792</td>\n",
       "      <td>0.007307</td>\n",
       "    </tr>\n",
       "    <tr>\n",
       "      <th>6</th>\n",
       "      <td>Congo</td>\n",
       "      <td>COG</td>\n",
       "      <td>1986</td>\n",
       "      <td>1.062373</td>\n",
       "      <td>0.0</td>\n",
       "      <td>0.864704</td>\n",
       "      <td>0.003664</td>\n",
       "    </tr>\n",
       "    <tr>\n",
       "      <th>7</th>\n",
       "      <td>Congo</td>\n",
       "      <td>COG</td>\n",
       "      <td>1987</td>\n",
       "      <td>1.320092</td>\n",
       "      <td>0.0</td>\n",
       "      <td>1.132176</td>\n",
       "      <td>0.003664</td>\n",
       "    </tr>\n",
       "    <tr>\n",
       "      <th>8</th>\n",
       "      <td>Congo</td>\n",
       "      <td>COG</td>\n",
       "      <td>1988</td>\n",
       "      <td>1.492941</td>\n",
       "      <td>0.0</td>\n",
       "      <td>1.289728</td>\n",
       "      <td>0.003664</td>\n",
       "    </tr>\n",
       "    <tr>\n",
       "      <th>9</th>\n",
       "      <td>Congo</td>\n",
       "      <td>COG</td>\n",
       "      <td>1989</td>\n",
       "      <td>1.495627</td>\n",
       "      <td>0.0</td>\n",
       "      <td>1.271408</td>\n",
       "      <td>0.003664</td>\n",
       "    </tr>\n",
       "    <tr>\n",
       "      <th>10</th>\n",
       "      <td>Congo</td>\n",
       "      <td>COG</td>\n",
       "      <td>1990</td>\n",
       "      <td>1.007907</td>\n",
       "      <td>0.0</td>\n",
       "      <td>0.970960</td>\n",
       "      <td>0.000000</td>\n",
       "    </tr>\n",
       "    <tr>\n",
       "      <th>11</th>\n",
       "      <td>Congo</td>\n",
       "      <td>COG</td>\n",
       "      <td>1991</td>\n",
       "      <td>1.082796</td>\n",
       "      <td>0.0</td>\n",
       "      <td>1.040576</td>\n",
       "      <td>0.000000</td>\n",
       "    </tr>\n",
       "    <tr>\n",
       "      <th>12</th>\n",
       "      <td>Congo</td>\n",
       "      <td>COG</td>\n",
       "      <td>1992</td>\n",
       "      <td>1.289163</td>\n",
       "      <td>0.0</td>\n",
       "      <td>1.242096</td>\n",
       "      <td>0.000000</td>\n",
       "    </tr>\n",
       "    <tr>\n",
       "      <th>13</th>\n",
       "      <td>Congo</td>\n",
       "      <td>COG</td>\n",
       "      <td>1993</td>\n",
       "      <td>1.160443</td>\n",
       "      <td>0.0</td>\n",
       "      <td>1.113856</td>\n",
       "      <td>0.000000</td>\n",
       "    </tr>\n",
       "    <tr>\n",
       "      <th>14</th>\n",
       "      <td>Congo</td>\n",
       "      <td>COG</td>\n",
       "      <td>1994</td>\n",
       "      <td>1.768571</td>\n",
       "      <td>0.0</td>\n",
       "      <td>1.733072</td>\n",
       "      <td>0.000000</td>\n",
       "    </tr>\n",
       "    <tr>\n",
       "      <th>15</th>\n",
       "      <td>Congo</td>\n",
       "      <td>COG</td>\n",
       "      <td>1995</td>\n",
       "      <td>1.185944</td>\n",
       "      <td>0.0</td>\n",
       "      <td>1.146832</td>\n",
       "      <td>0.000000</td>\n",
       "    </tr>\n",
       "    <tr>\n",
       "      <th>16</th>\n",
       "      <td>Congo</td>\n",
       "      <td>COG</td>\n",
       "      <td>1996</td>\n",
       "      <td>1.339380</td>\n",
       "      <td>0.0</td>\n",
       "      <td>1.319040</td>\n",
       "      <td>0.000000</td>\n",
       "    </tr>\n",
       "    <tr>\n",
       "      <th>17</th>\n",
       "      <td>Congo</td>\n",
       "      <td>COG</td>\n",
       "      <td>1997</td>\n",
       "      <td>1.920731</td>\n",
       "      <td>0.0</td>\n",
       "      <td>1.912608</td>\n",
       "      <td>0.000000</td>\n",
       "    </tr>\n",
       "    <tr>\n",
       "      <th>18</th>\n",
       "      <td>Congo</td>\n",
       "      <td>COG</td>\n",
       "      <td>1998</td>\n",
       "      <td>0.355408</td>\n",
       "      <td>0.0</td>\n",
       "      <td>0.355408</td>\n",
       "      <td>0.000000</td>\n",
       "    </tr>\n",
       "    <tr>\n",
       "      <th>19</th>\n",
       "      <td>Congo</td>\n",
       "      <td>COG</td>\n",
       "      <td>1999</td>\n",
       "      <td>0.362736</td>\n",
       "      <td>0.0</td>\n",
       "      <td>0.362736</td>\n",
       "      <td>0.000000</td>\n",
       "    </tr>\n",
       "    <tr>\n",
       "      <th>20</th>\n",
       "      <td>Congo</td>\n",
       "      <td>COG</td>\n",
       "      <td>2000</td>\n",
       "      <td>0.480742</td>\n",
       "      <td>0.0</td>\n",
       "      <td>0.472656</td>\n",
       "      <td>0.000000</td>\n",
       "    </tr>\n",
       "    <tr>\n",
       "      <th>21</th>\n",
       "      <td>Congo</td>\n",
       "      <td>COG</td>\n",
       "      <td>2001</td>\n",
       "      <td>0.604560</td>\n",
       "      <td>0.0</td>\n",
       "      <td>0.604560</td>\n",
       "      <td>0.000000</td>\n",
       "    </tr>\n",
       "    <tr>\n",
       "      <th>22</th>\n",
       "      <td>Congo</td>\n",
       "      <td>COG</td>\n",
       "      <td>2002</td>\n",
       "      <td>0.490976</td>\n",
       "      <td>0.0</td>\n",
       "      <td>0.490976</td>\n",
       "      <td>0.000000</td>\n",
       "    </tr>\n",
       "    <tr>\n",
       "      <th>23</th>\n",
       "      <td>Congo</td>\n",
       "      <td>COG</td>\n",
       "      <td>2003</td>\n",
       "      <td>0.809744</td>\n",
       "      <td>0.0</td>\n",
       "      <td>0.776768</td>\n",
       "      <td>0.032976</td>\n",
       "    </tr>\n",
       "    <tr>\n",
       "      <th>24</th>\n",
       "      <td>Congo</td>\n",
       "      <td>COG</td>\n",
       "      <td>2004</td>\n",
       "      <td>0.857376</td>\n",
       "      <td>0.0</td>\n",
       "      <td>0.820736</td>\n",
       "      <td>0.036640</td>\n",
       "    </tr>\n",
       "    <tr>\n",
       "      <th>25</th>\n",
       "      <td>Congo</td>\n",
       "      <td>COG</td>\n",
       "      <td>2005</td>\n",
       "      <td>0.996093</td>\n",
       "      <td>0.0</td>\n",
       "      <td>0.912657</td>\n",
       "      <td>0.043808</td>\n",
       "    </tr>\n",
       "    <tr>\n",
       "      <th>26</th>\n",
       "      <td>Congo</td>\n",
       "      <td>COG</td>\n",
       "      <td>2006</td>\n",
       "      <td>1.127466</td>\n",
       "      <td>0.0</td>\n",
       "      <td>1.044240</td>\n",
       "      <td>0.043968</td>\n",
       "    </tr>\n",
       "    <tr>\n",
       "      <th>27</th>\n",
       "      <td>Congo</td>\n",
       "      <td>COG</td>\n",
       "      <td>2007</td>\n",
       "      <td>1.211198</td>\n",
       "      <td>0.0</td>\n",
       "      <td>1.132176</td>\n",
       "      <td>0.040304</td>\n",
       "    </tr>\n",
       "    <tr>\n",
       "      <th>28</th>\n",
       "      <td>Congo</td>\n",
       "      <td>COG</td>\n",
       "      <td>2008</td>\n",
       "      <td>1.329994</td>\n",
       "      <td>0.0</td>\n",
       "      <td>1.241844</td>\n",
       "      <td>0.047763</td>\n",
       "    </tr>\n",
       "    <tr>\n",
       "      <th>29</th>\n",
       "      <td>Congo</td>\n",
       "      <td>COG</td>\n",
       "      <td>2009</td>\n",
       "      <td>1.724138</td>\n",
       "      <td>0.0</td>\n",
       "      <td>1.575520</td>\n",
       "      <td>0.106256</td>\n",
       "    </tr>\n",
       "    <tr>\n",
       "      <th>30</th>\n",
       "      <td>Congo</td>\n",
       "      <td>COG</td>\n",
       "      <td>2010</td>\n",
       "      <td>1.961777</td>\n",
       "      <td>0.0</td>\n",
       "      <td>1.736736</td>\n",
       "      <td>0.194192</td>\n",
       "    </tr>\n",
       "    <tr>\n",
       "      <th>31</th>\n",
       "      <td>Congo</td>\n",
       "      <td>COG</td>\n",
       "      <td>2011</td>\n",
       "      <td>2.239828</td>\n",
       "      <td>0.0</td>\n",
       "      <td>1.930928</td>\n",
       "      <td>0.282128</td>\n",
       "    </tr>\n",
       "    <tr>\n",
       "      <th>32</th>\n",
       "      <td>Congo</td>\n",
       "      <td>COG</td>\n",
       "      <td>2012</td>\n",
       "      <td>5.019520</td>\n",
       "      <td>0.0</td>\n",
       "      <td>2.479945</td>\n",
       "      <td>0.407210</td>\n",
       "    </tr>\n",
       "    <tr>\n",
       "      <th>33</th>\n",
       "      <td>Congo</td>\n",
       "      <td>COG</td>\n",
       "      <td>2013</td>\n",
       "      <td>5.892292</td>\n",
       "      <td>0.0</td>\n",
       "      <td>2.531824</td>\n",
       "      <td>0.578912</td>\n",
       "    </tr>\n",
       "    <tr>\n",
       "      <th>34</th>\n",
       "      <td>Congo</td>\n",
       "      <td>COG</td>\n",
       "      <td>2014</td>\n",
       "      <td>5.469574</td>\n",
       "      <td>0.0</td>\n",
       "      <td>2.400753</td>\n",
       "      <td>0.523335</td>\n",
       "    </tr>\n",
       "    <tr>\n",
       "      <th>35</th>\n",
       "      <td>Congo</td>\n",
       "      <td>COG</td>\n",
       "      <td>2015</td>\n",
       "      <td>5.662327</td>\n",
       "      <td>0.0</td>\n",
       "      <td>2.198400</td>\n",
       "      <td>0.981952</td>\n",
       "    </tr>\n",
       "    <tr>\n",
       "      <th>36</th>\n",
       "      <td>Congo</td>\n",
       "      <td>COG</td>\n",
       "      <td>2016</td>\n",
       "      <td>5.809876</td>\n",
       "      <td>0.0</td>\n",
       "      <td>2.209392</td>\n",
       "      <td>1.124848</td>\n",
       "    </tr>\n",
       "    <tr>\n",
       "      <th>37</th>\n",
       "      <td>Congo</td>\n",
       "      <td>COG</td>\n",
       "      <td>2017</td>\n",
       "      <td>5.702250</td>\n",
       "      <td>0.0</td>\n",
       "      <td>1.974896</td>\n",
       "      <td>1.183472</td>\n",
       "    </tr>\n",
       "    <tr>\n",
       "      <th>38</th>\n",
       "      <td>Congo</td>\n",
       "      <td>COG</td>\n",
       "      <td>2018</td>\n",
       "      <td>6.596230</td>\n",
       "      <td>0.0</td>\n",
       "      <td>2.005842</td>\n",
       "      <td>1.343328</td>\n",
       "    </tr>\n",
       "    <tr>\n",
       "      <th>39</th>\n",
       "      <td>Congo</td>\n",
       "      <td>COG</td>\n",
       "      <td>2019</td>\n",
       "      <td>7.341473</td>\n",
       "      <td>0.0</td>\n",
       "      <td>2.024422</td>\n",
       "      <td>1.885312</td>\n",
       "    </tr>\n",
       "    <tr>\n",
       "      <th>40</th>\n",
       "      <td>Congo</td>\n",
       "      <td>COG</td>\n",
       "      <td>2020</td>\n",
       "      <td>7.529862</td>\n",
       "      <td>0.0</td>\n",
       "      <td>1.910896</td>\n",
       "      <td>1.972983</td>\n",
       "    </tr>\n",
       "    <tr>\n",
       "      <th>41</th>\n",
       "      <td>Congo</td>\n",
       "      <td>COG</td>\n",
       "      <td>2021</td>\n",
       "      <td>7.464369</td>\n",
       "      <td>0.0</td>\n",
       "      <td>2.027334</td>\n",
       "      <td>2.292486</td>\n",
       "    </tr>\n",
       "  </tbody>\n",
       "</table>\n",
       "</div>"
      ],
      "text/plain": [
       "   Country ISO 3166-1 alpha-3  Year     Total  Coal       Oil       Gas\n",
       "0    Congo                COG  1980  0.405529   0.0  0.274800  0.003664\n",
       "1    Congo                COG  1981  0.470724   0.0  0.318768  0.000000\n",
       "2    Congo                COG  1982  1.343102   0.0  1.168816  0.003664\n",
       "3    Congo                COG  1983  1.142452   0.0  0.970960  0.003664\n",
       "4    Congo                COG  1984  1.139504   0.0  0.970960  0.003664\n",
       "5    Congo                COG  1985  1.275224   0.0  1.077792  0.007307\n",
       "6    Congo                COG  1986  1.062373   0.0  0.864704  0.003664\n",
       "7    Congo                COG  1987  1.320092   0.0  1.132176  0.003664\n",
       "8    Congo                COG  1988  1.492941   0.0  1.289728  0.003664\n",
       "9    Congo                COG  1989  1.495627   0.0  1.271408  0.003664\n",
       "10   Congo                COG  1990  1.007907   0.0  0.970960  0.000000\n",
       "11   Congo                COG  1991  1.082796   0.0  1.040576  0.000000\n",
       "12   Congo                COG  1992  1.289163   0.0  1.242096  0.000000\n",
       "13   Congo                COG  1993  1.160443   0.0  1.113856  0.000000\n",
       "14   Congo                COG  1994  1.768571   0.0  1.733072  0.000000\n",
       "15   Congo                COG  1995  1.185944   0.0  1.146832  0.000000\n",
       "16   Congo                COG  1996  1.339380   0.0  1.319040  0.000000\n",
       "17   Congo                COG  1997  1.920731   0.0  1.912608  0.000000\n",
       "18   Congo                COG  1998  0.355408   0.0  0.355408  0.000000\n",
       "19   Congo                COG  1999  0.362736   0.0  0.362736  0.000000\n",
       "20   Congo                COG  2000  0.480742   0.0  0.472656  0.000000\n",
       "21   Congo                COG  2001  0.604560   0.0  0.604560  0.000000\n",
       "22   Congo                COG  2002  0.490976   0.0  0.490976  0.000000\n",
       "23   Congo                COG  2003  0.809744   0.0  0.776768  0.032976\n",
       "24   Congo                COG  2004  0.857376   0.0  0.820736  0.036640\n",
       "25   Congo                COG  2005  0.996093   0.0  0.912657  0.043808\n",
       "26   Congo                COG  2006  1.127466   0.0  1.044240  0.043968\n",
       "27   Congo                COG  2007  1.211198   0.0  1.132176  0.040304\n",
       "28   Congo                COG  2008  1.329994   0.0  1.241844  0.047763\n",
       "29   Congo                COG  2009  1.724138   0.0  1.575520  0.106256\n",
       "30   Congo                COG  2010  1.961777   0.0  1.736736  0.194192\n",
       "31   Congo                COG  2011  2.239828   0.0  1.930928  0.282128\n",
       "32   Congo                COG  2012  5.019520   0.0  2.479945  0.407210\n",
       "33   Congo                COG  2013  5.892292   0.0  2.531824  0.578912\n",
       "34   Congo                COG  2014  5.469574   0.0  2.400753  0.523335\n",
       "35   Congo                COG  2015  5.662327   0.0  2.198400  0.981952\n",
       "36   Congo                COG  2016  5.809876   0.0  2.209392  1.124848\n",
       "37   Congo                COG  2017  5.702250   0.0  1.974896  1.183472\n",
       "38   Congo                COG  2018  6.596230   0.0  2.005842  1.343328\n",
       "39   Congo                COG  2019  7.341473   0.0  2.024422  1.885312\n",
       "40   Congo                COG  2020  7.529862   0.0  1.910896  1.972983\n",
       "41   Congo                COG  2021  7.464369   0.0  2.027334  2.292486"
      ]
     },
     "execution_count": 48,
     "metadata": {},
     "output_type": "execute_result"
    }
   ],
   "source": [
    "# Congo data set\n",
    "df_con = df.loc[df['Country'] == 'Congo']\n",
    "df_con = df_con.reset_index().drop(columns='index').drop(columns='level_0')\n",
    "\n",
    "df_con.drop(df_con[df_con['Year'] < 1950].index, inplace = True)\n",
    "\n",
    "df_con"
   ]
  },
  {
   "cell_type": "code",
   "execution_count": 49,
   "id": "a8e5906e",
   "metadata": {},
   "outputs": [
    {
     "data": {
      "text/html": [
       "<div>\n",
       "<style scoped>\n",
       "    .dataframe tbody tr th:only-of-type {\n",
       "        vertical-align: middle;\n",
       "    }\n",
       "\n",
       "    .dataframe tbody tr th {\n",
       "        vertical-align: top;\n",
       "    }\n",
       "\n",
       "    .dataframe thead th {\n",
       "        text-align: right;\n",
       "    }\n",
       "</style>\n",
       "<table border=\"1\" class=\"dataframe\">\n",
       "  <thead>\n",
       "    <tr style=\"text-align: right;\">\n",
       "      <th></th>\n",
       "      <th>Country</th>\n",
       "      <th>ISO 3166-1 alpha-3</th>\n",
       "      <th>Year</th>\n",
       "      <th>Total</th>\n",
       "      <th>Coal</th>\n",
       "      <th>Oil</th>\n",
       "      <th>Gas</th>\n",
       "    </tr>\n",
       "  </thead>\n",
       "  <tbody>\n",
       "    <tr>\n",
       "      <th>0</th>\n",
       "      <td>Global</td>\n",
       "      <td>WLD</td>\n",
       "      <td>1980</td>\n",
       "      <td>19501.263339</td>\n",
       "      <td>7024.128811</td>\n",
       "      <td>8951.775558</td>\n",
       "      <td>2758.101427</td>\n",
       "    </tr>\n",
       "    <tr>\n",
       "      <th>1</th>\n",
       "      <td>Global</td>\n",
       "      <td>WLD</td>\n",
       "      <td>1981</td>\n",
       "      <td>19036.118109</td>\n",
       "      <td>7004.883319</td>\n",
       "      <td>8550.304967</td>\n",
       "      <td>2794.346721</td>\n",
       "    </tr>\n",
       "    <tr>\n",
       "      <th>2</th>\n",
       "      <td>Global</td>\n",
       "      <td>WLD</td>\n",
       "      <td>1982</td>\n",
       "      <td>18884.487014</td>\n",
       "      <td>7126.512351</td>\n",
       "      <td>8345.175954</td>\n",
       "      <td>2731.273279</td>\n",
       "    </tr>\n",
       "    <tr>\n",
       "      <th>3</th>\n",
       "      <td>Global</td>\n",
       "      <td>WLD</td>\n",
       "      <td>1983</td>\n",
       "      <td>19006.539624</td>\n",
       "      <td>7314.190173</td>\n",
       "      <td>8260.815187</td>\n",
       "      <td>2760.541893</td>\n",
       "    </tr>\n",
       "    <tr>\n",
       "      <th>4</th>\n",
       "      <td>Global</td>\n",
       "      <td>WLD</td>\n",
       "      <td>1984</td>\n",
       "      <td>19664.753809</td>\n",
       "      <td>7668.797447</td>\n",
       "      <td>8328.840383</td>\n",
       "      <td>3010.425483</td>\n",
       "    </tr>\n",
       "    <tr>\n",
       "      <th>5</th>\n",
       "      <td>Global</td>\n",
       "      <td>WLD</td>\n",
       "      <td>1985</td>\n",
       "      <td>20325.486795</td>\n",
       "      <td>8217.823510</td>\n",
       "      <td>8326.771194</td>\n",
       "      <td>3121.400874</td>\n",
       "    </tr>\n",
       "    <tr>\n",
       "      <th>6</th>\n",
       "      <td>Global</td>\n",
       "      <td>WLD</td>\n",
       "      <td>1986</td>\n",
       "      <td>20627.358491</td>\n",
       "      <td>8335.814386</td>\n",
       "      <td>8576.333790</td>\n",
       "      <td>3045.544194</td>\n",
       "    </tr>\n",
       "    <tr>\n",
       "      <th>7</th>\n",
       "      <td>Global</td>\n",
       "      <td>WLD</td>\n",
       "      <td>1987</td>\n",
       "      <td>21273.904184</td>\n",
       "      <td>8617.360981</td>\n",
       "      <td>8654.658723</td>\n",
       "      <td>3305.280002</td>\n",
       "    </tr>\n",
       "    <tr>\n",
       "      <th>8</th>\n",
       "      <td>Global</td>\n",
       "      <td>WLD</td>\n",
       "      <td>1988</td>\n",
       "      <td>22107.794982</td>\n",
       "      <td>8910.819131</td>\n",
       "      <td>8972.672132</td>\n",
       "      <td>3466.022378</td>\n",
       "    </tr>\n",
       "    <tr>\n",
       "      <th>9</th>\n",
       "      <td>Global</td>\n",
       "      <td>WLD</td>\n",
       "      <td>1989</td>\n",
       "      <td>22410.401527</td>\n",
       "      <td>8909.615731</td>\n",
       "      <td>9130.079809</td>\n",
       "      <td>3639.817109</td>\n",
       "    </tr>\n",
       "    <tr>\n",
       "      <th>10</th>\n",
       "      <td>Global</td>\n",
       "      <td>WLD</td>\n",
       "      <td>1990</td>\n",
       "      <td>22757.480501</td>\n",
       "      <td>8688.659628</td>\n",
       "      <td>9249.362779</td>\n",
       "      <td>3833.133407</td>\n",
       "    </tr>\n",
       "    <tr>\n",
       "      <th>11</th>\n",
       "      <td>Global</td>\n",
       "      <td>WLD</td>\n",
       "      <td>1991</td>\n",
       "      <td>23244.805747</td>\n",
       "      <td>8604.035333</td>\n",
       "      <td>9723.429325</td>\n",
       "      <td>3909.677268</td>\n",
       "    </tr>\n",
       "    <tr>\n",
       "      <th>12</th>\n",
       "      <td>Global</td>\n",
       "      <td>WLD</td>\n",
       "      <td>1992</td>\n",
       "      <td>22580.023401</td>\n",
       "      <td>8399.006350</td>\n",
       "      <td>9226.138958</td>\n",
       "      <td>3958.119661</td>\n",
       "    </tr>\n",
       "    <tr>\n",
       "      <th>13</th>\n",
       "      <td>Global</td>\n",
       "      <td>WLD</td>\n",
       "      <td>1993</td>\n",
       "      <td>22812.899822</td>\n",
       "      <td>8500.946752</td>\n",
       "      <td>9232.772870</td>\n",
       "      <td>4067.061088</td>\n",
       "    </tr>\n",
       "    <tr>\n",
       "      <th>14</th>\n",
       "      <td>Global</td>\n",
       "      <td>WLD</td>\n",
       "      <td>1994</td>\n",
       "      <td>22969.498357</td>\n",
       "      <td>8548.628481</td>\n",
       "      <td>9265.657084</td>\n",
       "      <td>4102.083232</td>\n",
       "    </tr>\n",
       "    <tr>\n",
       "      <th>15</th>\n",
       "      <td>Global</td>\n",
       "      <td>WLD</td>\n",
       "      <td>1995</td>\n",
       "      <td>23458.713064</td>\n",
       "      <td>8793.982796</td>\n",
       "      <td>9363.845279</td>\n",
       "      <td>4209.967591</td>\n",
       "    </tr>\n",
       "    <tr>\n",
       "      <th>16</th>\n",
       "      <td>Global</td>\n",
       "      <td>WLD</td>\n",
       "      <td>1996</td>\n",
       "      <td>24159.382272</td>\n",
       "      <td>9015.793678</td>\n",
       "      <td>9643.208497</td>\n",
       "      <td>4395.991935</td>\n",
       "    </tr>\n",
       "    <tr>\n",
       "      <th>17</th>\n",
       "      <td>Global</td>\n",
       "      <td>WLD</td>\n",
       "      <td>1997</td>\n",
       "      <td>24302.583028</td>\n",
       "      <td>8967.539839</td>\n",
       "      <td>9786.860718</td>\n",
       "      <td>4412.477760</td>\n",
       "    </tr>\n",
       "    <tr>\n",
       "      <th>18</th>\n",
       "      <td>Global</td>\n",
       "      <td>WLD</td>\n",
       "      <td>1998</td>\n",
       "      <td>24213.260513</td>\n",
       "      <td>8725.984770</td>\n",
       "      <td>9883.466872</td>\n",
       "      <td>4484.475325</td>\n",
       "    </tr>\n",
       "    <tr>\n",
       "      <th>19</th>\n",
       "      <td>Global</td>\n",
       "      <td>WLD</td>\n",
       "      <td>1999</td>\n",
       "      <td>24732.388369</td>\n",
       "      <td>8855.187209</td>\n",
       "      <td>10112.427162</td>\n",
       "      <td>4621.802576</td>\n",
       "    </tr>\n",
       "    <tr>\n",
       "      <th>20</th>\n",
       "      <td>Global</td>\n",
       "      <td>WLD</td>\n",
       "      <td>2000</td>\n",
       "      <td>25453.622139</td>\n",
       "      <td>9203.117603</td>\n",
       "      <td>10302.090594</td>\n",
       "      <td>4731.291034</td>\n",
       "    </tr>\n",
       "    <tr>\n",
       "      <th>21</th>\n",
       "      <td>Global</td>\n",
       "      <td>WLD</td>\n",
       "      <td>2001</td>\n",
       "      <td>25668.048326</td>\n",
       "      <td>9255.256797</td>\n",
       "      <td>10390.668975</td>\n",
       "      <td>4773.584851</td>\n",
       "    </tr>\n",
       "    <tr>\n",
       "      <th>22</th>\n",
       "      <td>Global</td>\n",
       "      <td>WLD</td>\n",
       "      <td>2002</td>\n",
       "      <td>26281.037468</td>\n",
       "      <td>9678.959137</td>\n",
       "      <td>10385.864180</td>\n",
       "      <td>4905.853640</td>\n",
       "    </tr>\n",
       "    <tr>\n",
       "      <th>23</th>\n",
       "      <td>Global</td>\n",
       "      <td>WLD</td>\n",
       "      <td>2003</td>\n",
       "      <td>27651.596453</td>\n",
       "      <td>10518.463642</td>\n",
       "      <td>10679.654448</td>\n",
       "      <td>5081.468111</td>\n",
       "    </tr>\n",
       "    <tr>\n",
       "      <th>24</th>\n",
       "      <td>Global</td>\n",
       "      <td>WLD</td>\n",
       "      <td>2004</td>\n",
       "      <td>28636.695037</td>\n",
       "      <td>10871.584335</td>\n",
       "      <td>11042.504634</td>\n",
       "      <td>5257.190057</td>\n",
       "    </tr>\n",
       "    <tr>\n",
       "      <th>25</th>\n",
       "      <td>Global</td>\n",
       "      <td>WLD</td>\n",
       "      <td>2005</td>\n",
       "      <td>29614.602256</td>\n",
       "      <td>11543.334878</td>\n",
       "      <td>11139.399176</td>\n",
       "      <td>5380.665522</td>\n",
       "    </tr>\n",
       "    <tr>\n",
       "      <th>26</th>\n",
       "      <td>Global</td>\n",
       "      <td>WLD</td>\n",
       "      <td>2006</td>\n",
       "      <td>30593.116788</td>\n",
       "      <td>12188.840276</td>\n",
       "      <td>11246.321550</td>\n",
       "      <td>5506.809201</td>\n",
       "    </tr>\n",
       "    <tr>\n",
       "      <th>27</th>\n",
       "      <td>Global</td>\n",
       "      <td>WLD</td>\n",
       "      <td>2007</td>\n",
       "      <td>31506.789200</td>\n",
       "      <td>12776.360246</td>\n",
       "      <td>11283.665343</td>\n",
       "      <td>5694.133805</td>\n",
       "    </tr>\n",
       "    <tr>\n",
       "      <th>28</th>\n",
       "      <td>Global</td>\n",
       "      <td>WLD</td>\n",
       "      <td>2008</td>\n",
       "      <td>32085.836322</td>\n",
       "      <td>13192.796643</td>\n",
       "      <td>11251.325081</td>\n",
       "      <td>5864.291234</td>\n",
       "    </tr>\n",
       "    <tr>\n",
       "      <th>29</th>\n",
       "      <td>Global</td>\n",
       "      <td>WLD</td>\n",
       "      <td>2009</td>\n",
       "      <td>31564.030692</td>\n",
       "      <td>13016.427997</td>\n",
       "      <td>10996.948677</td>\n",
       "      <td>5751.954007</td>\n",
       "    </tr>\n",
       "    <tr>\n",
       "      <th>30</th>\n",
       "      <td>Global</td>\n",
       "      <td>WLD</td>\n",
       "      <td>2010</td>\n",
       "      <td>33364.346496</td>\n",
       "      <td>13926.620921</td>\n",
       "      <td>11359.882721</td>\n",
       "      <td>6195.343757</td>\n",
       "    </tr>\n",
       "    <tr>\n",
       "      <th>31</th>\n",
       "      <td>Global</td>\n",
       "      <td>WLD</td>\n",
       "      <td>2011</td>\n",
       "      <td>34487.011618</td>\n",
       "      <td>14737.125795</td>\n",
       "      <td>11388.085507</td>\n",
       "      <td>6366.902202</td>\n",
       "    </tr>\n",
       "    <tr>\n",
       "      <th>32</th>\n",
       "      <td>Global</td>\n",
       "      <td>WLD</td>\n",
       "      <td>2012</td>\n",
       "      <td>35006.267581</td>\n",
       "      <td>14922.759403</td>\n",
       "      <td>11541.707139</td>\n",
       "      <td>6500.593776</td>\n",
       "    </tr>\n",
       "    <tr>\n",
       "      <th>33</th>\n",
       "      <td>Global</td>\n",
       "      <td>WLD</td>\n",
       "      <td>2013</td>\n",
       "      <td>35319.201624</td>\n",
       "      <td>15024.486027</td>\n",
       "      <td>11626.445964</td>\n",
       "      <td>6542.527061</td>\n",
       "    </tr>\n",
       "    <tr>\n",
       "      <th>34</th>\n",
       "      <td>Global</td>\n",
       "      <td>WLD</td>\n",
       "      <td>2014</td>\n",
       "      <td>35577.534774</td>\n",
       "      <td>15051.512770</td>\n",
       "      <td>11678.782147</td>\n",
       "      <td>6654.555376</td>\n",
       "    </tr>\n",
       "    <tr>\n",
       "      <th>35</th>\n",
       "      <td>Global</td>\n",
       "      <td>WLD</td>\n",
       "      <td>2015</td>\n",
       "      <td>35558.565735</td>\n",
       "      <td>14710.087469</td>\n",
       "      <td>11929.665762</td>\n",
       "      <td>6788.073864</td>\n",
       "    </tr>\n",
       "    <tr>\n",
       "      <th>36</th>\n",
       "      <td>Global</td>\n",
       "      <td>WLD</td>\n",
       "      <td>2016</td>\n",
       "      <td>35524.193212</td>\n",
       "      <td>14360.605245</td>\n",
       "      <td>12023.833280</td>\n",
       "      <td>6973.648992</td>\n",
       "    </tr>\n",
       "    <tr>\n",
       "      <th>37</th>\n",
       "      <td>Global</td>\n",
       "      <td>WLD</td>\n",
       "      <td>2017</td>\n",
       "      <td>36096.739276</td>\n",
       "      <td>14506.973805</td>\n",
       "      <td>12242.627935</td>\n",
       "      <td>7144.928128</td>\n",
       "    </tr>\n",
       "    <tr>\n",
       "      <th>38</th>\n",
       "      <td>Global</td>\n",
       "      <td>WLD</td>\n",
       "      <td>2018</td>\n",
       "      <td>36826.506600</td>\n",
       "      <td>14746.830688</td>\n",
       "      <td>12266.016285</td>\n",
       "      <td>7529.846784</td>\n",
       "    </tr>\n",
       "    <tr>\n",
       "      <th>39</th>\n",
       "      <td>Global</td>\n",
       "      <td>WLD</td>\n",
       "      <td>2019</td>\n",
       "      <td>37082.558969</td>\n",
       "      <td>14725.978025</td>\n",
       "      <td>12345.653374</td>\n",
       "      <td>7647.528220</td>\n",
       "    </tr>\n",
       "    <tr>\n",
       "      <th>40</th>\n",
       "      <td>Global</td>\n",
       "      <td>WLD</td>\n",
       "      <td>2020</td>\n",
       "      <td>35264.085734</td>\n",
       "      <td>14174.564010</td>\n",
       "      <td>11191.808551</td>\n",
       "      <td>7556.290283</td>\n",
       "    </tr>\n",
       "    <tr>\n",
       "      <th>41</th>\n",
       "      <td>Global</td>\n",
       "      <td>WLD</td>\n",
       "      <td>2021</td>\n",
       "      <td>37123.850352</td>\n",
       "      <td>14979.598083</td>\n",
       "      <td>11837.159116</td>\n",
       "      <td>7921.829472</td>\n",
       "    </tr>\n",
       "  </tbody>\n",
       "</table>\n",
       "</div>"
      ],
      "text/plain": [
       "   Country ISO 3166-1 alpha-3  Year         Total          Coal           Oil  \\\n",
       "0   Global                WLD  1980  19501.263339   7024.128811   8951.775558   \n",
       "1   Global                WLD  1981  19036.118109   7004.883319   8550.304967   \n",
       "2   Global                WLD  1982  18884.487014   7126.512351   8345.175954   \n",
       "3   Global                WLD  1983  19006.539624   7314.190173   8260.815187   \n",
       "4   Global                WLD  1984  19664.753809   7668.797447   8328.840383   \n",
       "5   Global                WLD  1985  20325.486795   8217.823510   8326.771194   \n",
       "6   Global                WLD  1986  20627.358491   8335.814386   8576.333790   \n",
       "7   Global                WLD  1987  21273.904184   8617.360981   8654.658723   \n",
       "8   Global                WLD  1988  22107.794982   8910.819131   8972.672132   \n",
       "9   Global                WLD  1989  22410.401527   8909.615731   9130.079809   \n",
       "10  Global                WLD  1990  22757.480501   8688.659628   9249.362779   \n",
       "11  Global                WLD  1991  23244.805747   8604.035333   9723.429325   \n",
       "12  Global                WLD  1992  22580.023401   8399.006350   9226.138958   \n",
       "13  Global                WLD  1993  22812.899822   8500.946752   9232.772870   \n",
       "14  Global                WLD  1994  22969.498357   8548.628481   9265.657084   \n",
       "15  Global                WLD  1995  23458.713064   8793.982796   9363.845279   \n",
       "16  Global                WLD  1996  24159.382272   9015.793678   9643.208497   \n",
       "17  Global                WLD  1997  24302.583028   8967.539839   9786.860718   \n",
       "18  Global                WLD  1998  24213.260513   8725.984770   9883.466872   \n",
       "19  Global                WLD  1999  24732.388369   8855.187209  10112.427162   \n",
       "20  Global                WLD  2000  25453.622139   9203.117603  10302.090594   \n",
       "21  Global                WLD  2001  25668.048326   9255.256797  10390.668975   \n",
       "22  Global                WLD  2002  26281.037468   9678.959137  10385.864180   \n",
       "23  Global                WLD  2003  27651.596453  10518.463642  10679.654448   \n",
       "24  Global                WLD  2004  28636.695037  10871.584335  11042.504634   \n",
       "25  Global                WLD  2005  29614.602256  11543.334878  11139.399176   \n",
       "26  Global                WLD  2006  30593.116788  12188.840276  11246.321550   \n",
       "27  Global                WLD  2007  31506.789200  12776.360246  11283.665343   \n",
       "28  Global                WLD  2008  32085.836322  13192.796643  11251.325081   \n",
       "29  Global                WLD  2009  31564.030692  13016.427997  10996.948677   \n",
       "30  Global                WLD  2010  33364.346496  13926.620921  11359.882721   \n",
       "31  Global                WLD  2011  34487.011618  14737.125795  11388.085507   \n",
       "32  Global                WLD  2012  35006.267581  14922.759403  11541.707139   \n",
       "33  Global                WLD  2013  35319.201624  15024.486027  11626.445964   \n",
       "34  Global                WLD  2014  35577.534774  15051.512770  11678.782147   \n",
       "35  Global                WLD  2015  35558.565735  14710.087469  11929.665762   \n",
       "36  Global                WLD  2016  35524.193212  14360.605245  12023.833280   \n",
       "37  Global                WLD  2017  36096.739276  14506.973805  12242.627935   \n",
       "38  Global                WLD  2018  36826.506600  14746.830688  12266.016285   \n",
       "39  Global                WLD  2019  37082.558969  14725.978025  12345.653374   \n",
       "40  Global                WLD  2020  35264.085734  14174.564010  11191.808551   \n",
       "41  Global                WLD  2021  37123.850352  14979.598083  11837.159116   \n",
       "\n",
       "            Gas  \n",
       "0   2758.101427  \n",
       "1   2794.346721  \n",
       "2   2731.273279  \n",
       "3   2760.541893  \n",
       "4   3010.425483  \n",
       "5   3121.400874  \n",
       "6   3045.544194  \n",
       "7   3305.280002  \n",
       "8   3466.022378  \n",
       "9   3639.817109  \n",
       "10  3833.133407  \n",
       "11  3909.677268  \n",
       "12  3958.119661  \n",
       "13  4067.061088  \n",
       "14  4102.083232  \n",
       "15  4209.967591  \n",
       "16  4395.991935  \n",
       "17  4412.477760  \n",
       "18  4484.475325  \n",
       "19  4621.802576  \n",
       "20  4731.291034  \n",
       "21  4773.584851  \n",
       "22  4905.853640  \n",
       "23  5081.468111  \n",
       "24  5257.190057  \n",
       "25  5380.665522  \n",
       "26  5506.809201  \n",
       "27  5694.133805  \n",
       "28  5864.291234  \n",
       "29  5751.954007  \n",
       "30  6195.343757  \n",
       "31  6366.902202  \n",
       "32  6500.593776  \n",
       "33  6542.527061  \n",
       "34  6654.555376  \n",
       "35  6788.073864  \n",
       "36  6973.648992  \n",
       "37  7144.928128  \n",
       "38  7529.846784  \n",
       "39  7647.528220  \n",
       "40  7556.290283  \n",
       "41  7921.829472  "
      ]
     },
     "execution_count": 49,
     "metadata": {},
     "output_type": "execute_result"
    }
   ],
   "source": [
    "# Global data set\n",
    "df_glob = df.loc[df['Country'] == 'Global']\n",
    "df_glob = df_glob.reset_index().drop(columns='index').drop(columns='level_0')\n",
    "df_glob"
   ]
  },
  {
   "cell_type": "code",
   "execution_count": 50,
   "id": "e09becad",
   "metadata": {
    "scrolled": true
   },
   "outputs": [
    {
     "data": {
      "application/vnd.plotly.v1+json": {
       "config": {
        "plotlyServerURL": "https://plot.ly"
       },
       "data": [
        {
         "hovertemplate": "Year=%{x}<br>Total=%{y}<extra></extra>",
         "legendgroup": "",
         "line": {
          "color": "#636efa",
          "dash": "solid"
         },
         "marker": {
          "symbol": "circle"
         },
         "mode": "lines",
         "name": "",
         "orientation": "v",
         "showlegend": false,
         "type": "scatter",
         "x": [
          1980,
          1981,
          1982,
          1983,
          1984,
          1985,
          1986,
          1987,
          1988,
          1989,
          1990,
          1991,
          1992,
          1993,
          1994,
          1995,
          1996,
          1997,
          1998,
          1999,
          2000,
          2001,
          2002,
          2003,
          2004,
          2005,
          2006,
          2007,
          2008,
          2009,
          2010,
          2011,
          2012,
          2013,
          2014,
          2015,
          2016,
          2017,
          2018,
          2019,
          2020,
          2021
         ],
         "xaxis": "x",
         "y": [
          19501.263339,
          19036.118109,
          18884.487014,
          19006.539624,
          19664.753809,
          20325.486795,
          20627.358491,
          21273.904184,
          22107.794982,
          22410.401527,
          22757.480501,
          23244.805747,
          22580.023401,
          22812.899822,
          22969.498357,
          23458.713064,
          24159.382272,
          24302.583028,
          24213.260513,
          24732.388369,
          25453.622139,
          25668.048326,
          26281.037468,
          27651.596453,
          28636.695037,
          29614.602256,
          30593.116788,
          31506.7892,
          32085.836322,
          31564.030692,
          33364.346496,
          34487.011618,
          35006.267581,
          35319.201624,
          35577.534774,
          35558.565735,
          35524.193212,
          36096.739276,
          36826.5066,
          37082.558969,
          35264.085734,
          37123.850352
         ],
         "yaxis": "y"
        }
       ],
       "layout": {
        "legend": {
         "tracegroupgap": 0
        },
        "margin": {
         "t": 60
        },
        "template": {
         "data": {
          "bar": [
           {
            "error_x": {
             "color": "#2a3f5f"
            },
            "error_y": {
             "color": "#2a3f5f"
            },
            "marker": {
             "line": {
              "color": "#E5ECF6",
              "width": 0.5
             },
             "pattern": {
              "fillmode": "overlay",
              "size": 10,
              "solidity": 0.2
             }
            },
            "type": "bar"
           }
          ],
          "barpolar": [
           {
            "marker": {
             "line": {
              "color": "#E5ECF6",
              "width": 0.5
             },
             "pattern": {
              "fillmode": "overlay",
              "size": 10,
              "solidity": 0.2
             }
            },
            "type": "barpolar"
           }
          ],
          "carpet": [
           {
            "aaxis": {
             "endlinecolor": "#2a3f5f",
             "gridcolor": "white",
             "linecolor": "white",
             "minorgridcolor": "white",
             "startlinecolor": "#2a3f5f"
            },
            "baxis": {
             "endlinecolor": "#2a3f5f",
             "gridcolor": "white",
             "linecolor": "white",
             "minorgridcolor": "white",
             "startlinecolor": "#2a3f5f"
            },
            "type": "carpet"
           }
          ],
          "choropleth": [
           {
            "colorbar": {
             "outlinewidth": 0,
             "ticks": ""
            },
            "type": "choropleth"
           }
          ],
          "contour": [
           {
            "colorbar": {
             "outlinewidth": 0,
             "ticks": ""
            },
            "colorscale": [
             [
              0,
              "#0d0887"
             ],
             [
              0.1111111111111111,
              "#46039f"
             ],
             [
              0.2222222222222222,
              "#7201a8"
             ],
             [
              0.3333333333333333,
              "#9c179e"
             ],
             [
              0.4444444444444444,
              "#bd3786"
             ],
             [
              0.5555555555555556,
              "#d8576b"
             ],
             [
              0.6666666666666666,
              "#ed7953"
             ],
             [
              0.7777777777777778,
              "#fb9f3a"
             ],
             [
              0.8888888888888888,
              "#fdca26"
             ],
             [
              1,
              "#f0f921"
             ]
            ],
            "type": "contour"
           }
          ],
          "contourcarpet": [
           {
            "colorbar": {
             "outlinewidth": 0,
             "ticks": ""
            },
            "type": "contourcarpet"
           }
          ],
          "heatmap": [
           {
            "colorbar": {
             "outlinewidth": 0,
             "ticks": ""
            },
            "colorscale": [
             [
              0,
              "#0d0887"
             ],
             [
              0.1111111111111111,
              "#46039f"
             ],
             [
              0.2222222222222222,
              "#7201a8"
             ],
             [
              0.3333333333333333,
              "#9c179e"
             ],
             [
              0.4444444444444444,
              "#bd3786"
             ],
             [
              0.5555555555555556,
              "#d8576b"
             ],
             [
              0.6666666666666666,
              "#ed7953"
             ],
             [
              0.7777777777777778,
              "#fb9f3a"
             ],
             [
              0.8888888888888888,
              "#fdca26"
             ],
             [
              1,
              "#f0f921"
             ]
            ],
            "type": "heatmap"
           }
          ],
          "heatmapgl": [
           {
            "colorbar": {
             "outlinewidth": 0,
             "ticks": ""
            },
            "colorscale": [
             [
              0,
              "#0d0887"
             ],
             [
              0.1111111111111111,
              "#46039f"
             ],
             [
              0.2222222222222222,
              "#7201a8"
             ],
             [
              0.3333333333333333,
              "#9c179e"
             ],
             [
              0.4444444444444444,
              "#bd3786"
             ],
             [
              0.5555555555555556,
              "#d8576b"
             ],
             [
              0.6666666666666666,
              "#ed7953"
             ],
             [
              0.7777777777777778,
              "#fb9f3a"
             ],
             [
              0.8888888888888888,
              "#fdca26"
             ],
             [
              1,
              "#f0f921"
             ]
            ],
            "type": "heatmapgl"
           }
          ],
          "histogram": [
           {
            "marker": {
             "pattern": {
              "fillmode": "overlay",
              "size": 10,
              "solidity": 0.2
             }
            },
            "type": "histogram"
           }
          ],
          "histogram2d": [
           {
            "colorbar": {
             "outlinewidth": 0,
             "ticks": ""
            },
            "colorscale": [
             [
              0,
              "#0d0887"
             ],
             [
              0.1111111111111111,
              "#46039f"
             ],
             [
              0.2222222222222222,
              "#7201a8"
             ],
             [
              0.3333333333333333,
              "#9c179e"
             ],
             [
              0.4444444444444444,
              "#bd3786"
             ],
             [
              0.5555555555555556,
              "#d8576b"
             ],
             [
              0.6666666666666666,
              "#ed7953"
             ],
             [
              0.7777777777777778,
              "#fb9f3a"
             ],
             [
              0.8888888888888888,
              "#fdca26"
             ],
             [
              1,
              "#f0f921"
             ]
            ],
            "type": "histogram2d"
           }
          ],
          "histogram2dcontour": [
           {
            "colorbar": {
             "outlinewidth": 0,
             "ticks": ""
            },
            "colorscale": [
             [
              0,
              "#0d0887"
             ],
             [
              0.1111111111111111,
              "#46039f"
             ],
             [
              0.2222222222222222,
              "#7201a8"
             ],
             [
              0.3333333333333333,
              "#9c179e"
             ],
             [
              0.4444444444444444,
              "#bd3786"
             ],
             [
              0.5555555555555556,
              "#d8576b"
             ],
             [
              0.6666666666666666,
              "#ed7953"
             ],
             [
              0.7777777777777778,
              "#fb9f3a"
             ],
             [
              0.8888888888888888,
              "#fdca26"
             ],
             [
              1,
              "#f0f921"
             ]
            ],
            "type": "histogram2dcontour"
           }
          ],
          "mesh3d": [
           {
            "colorbar": {
             "outlinewidth": 0,
             "ticks": ""
            },
            "type": "mesh3d"
           }
          ],
          "parcoords": [
           {
            "line": {
             "colorbar": {
              "outlinewidth": 0,
              "ticks": ""
             }
            },
            "type": "parcoords"
           }
          ],
          "pie": [
           {
            "automargin": true,
            "type": "pie"
           }
          ],
          "scatter": [
           {
            "fillpattern": {
             "fillmode": "overlay",
             "size": 10,
             "solidity": 0.2
            },
            "type": "scatter"
           }
          ],
          "scatter3d": [
           {
            "line": {
             "colorbar": {
              "outlinewidth": 0,
              "ticks": ""
             }
            },
            "marker": {
             "colorbar": {
              "outlinewidth": 0,
              "ticks": ""
             }
            },
            "type": "scatter3d"
           }
          ],
          "scattercarpet": [
           {
            "marker": {
             "colorbar": {
              "outlinewidth": 0,
              "ticks": ""
             }
            },
            "type": "scattercarpet"
           }
          ],
          "scattergeo": [
           {
            "marker": {
             "colorbar": {
              "outlinewidth": 0,
              "ticks": ""
             }
            },
            "type": "scattergeo"
           }
          ],
          "scattergl": [
           {
            "marker": {
             "colorbar": {
              "outlinewidth": 0,
              "ticks": ""
             }
            },
            "type": "scattergl"
           }
          ],
          "scattermapbox": [
           {
            "marker": {
             "colorbar": {
              "outlinewidth": 0,
              "ticks": ""
             }
            },
            "type": "scattermapbox"
           }
          ],
          "scatterpolar": [
           {
            "marker": {
             "colorbar": {
              "outlinewidth": 0,
              "ticks": ""
             }
            },
            "type": "scatterpolar"
           }
          ],
          "scatterpolargl": [
           {
            "marker": {
             "colorbar": {
              "outlinewidth": 0,
              "ticks": ""
             }
            },
            "type": "scatterpolargl"
           }
          ],
          "scatterternary": [
           {
            "marker": {
             "colorbar": {
              "outlinewidth": 0,
              "ticks": ""
             }
            },
            "type": "scatterternary"
           }
          ],
          "surface": [
           {
            "colorbar": {
             "outlinewidth": 0,
             "ticks": ""
            },
            "colorscale": [
             [
              0,
              "#0d0887"
             ],
             [
              0.1111111111111111,
              "#46039f"
             ],
             [
              0.2222222222222222,
              "#7201a8"
             ],
             [
              0.3333333333333333,
              "#9c179e"
             ],
             [
              0.4444444444444444,
              "#bd3786"
             ],
             [
              0.5555555555555556,
              "#d8576b"
             ],
             [
              0.6666666666666666,
              "#ed7953"
             ],
             [
              0.7777777777777778,
              "#fb9f3a"
             ],
             [
              0.8888888888888888,
              "#fdca26"
             ],
             [
              1,
              "#f0f921"
             ]
            ],
            "type": "surface"
           }
          ],
          "table": [
           {
            "cells": {
             "fill": {
              "color": "#EBF0F8"
             },
             "line": {
              "color": "white"
             }
            },
            "header": {
             "fill": {
              "color": "#C8D4E3"
             },
             "line": {
              "color": "white"
             }
            },
            "type": "table"
           }
          ]
         },
         "layout": {
          "annotationdefaults": {
           "arrowcolor": "#2a3f5f",
           "arrowhead": 0,
           "arrowwidth": 1
          },
          "autotypenumbers": "strict",
          "coloraxis": {
           "colorbar": {
            "outlinewidth": 0,
            "ticks": ""
           }
          },
          "colorscale": {
           "diverging": [
            [
             0,
             "#8e0152"
            ],
            [
             0.1,
             "#c51b7d"
            ],
            [
             0.2,
             "#de77ae"
            ],
            [
             0.3,
             "#f1b6da"
            ],
            [
             0.4,
             "#fde0ef"
            ],
            [
             0.5,
             "#f7f7f7"
            ],
            [
             0.6,
             "#e6f5d0"
            ],
            [
             0.7,
             "#b8e186"
            ],
            [
             0.8,
             "#7fbc41"
            ],
            [
             0.9,
             "#4d9221"
            ],
            [
             1,
             "#276419"
            ]
           ],
           "sequential": [
            [
             0,
             "#0d0887"
            ],
            [
             0.1111111111111111,
             "#46039f"
            ],
            [
             0.2222222222222222,
             "#7201a8"
            ],
            [
             0.3333333333333333,
             "#9c179e"
            ],
            [
             0.4444444444444444,
             "#bd3786"
            ],
            [
             0.5555555555555556,
             "#d8576b"
            ],
            [
             0.6666666666666666,
             "#ed7953"
            ],
            [
             0.7777777777777778,
             "#fb9f3a"
            ],
            [
             0.8888888888888888,
             "#fdca26"
            ],
            [
             1,
             "#f0f921"
            ]
           ],
           "sequentialminus": [
            [
             0,
             "#0d0887"
            ],
            [
             0.1111111111111111,
             "#46039f"
            ],
            [
             0.2222222222222222,
             "#7201a8"
            ],
            [
             0.3333333333333333,
             "#9c179e"
            ],
            [
             0.4444444444444444,
             "#bd3786"
            ],
            [
             0.5555555555555556,
             "#d8576b"
            ],
            [
             0.6666666666666666,
             "#ed7953"
            ],
            [
             0.7777777777777778,
             "#fb9f3a"
            ],
            [
             0.8888888888888888,
             "#fdca26"
            ],
            [
             1,
             "#f0f921"
            ]
           ]
          },
          "colorway": [
           "#636efa",
           "#EF553B",
           "#00cc96",
           "#ab63fa",
           "#FFA15A",
           "#19d3f3",
           "#FF6692",
           "#B6E880",
           "#FF97FF",
           "#FECB52"
          ],
          "font": {
           "color": "#2a3f5f"
          },
          "geo": {
           "bgcolor": "white",
           "lakecolor": "white",
           "landcolor": "#E5ECF6",
           "showlakes": true,
           "showland": true,
           "subunitcolor": "white"
          },
          "hoverlabel": {
           "align": "left"
          },
          "hovermode": "closest",
          "mapbox": {
           "style": "light"
          },
          "paper_bgcolor": "white",
          "plot_bgcolor": "#E5ECF6",
          "polar": {
           "angularaxis": {
            "gridcolor": "white",
            "linecolor": "white",
            "ticks": ""
           },
           "bgcolor": "#E5ECF6",
           "radialaxis": {
            "gridcolor": "white",
            "linecolor": "white",
            "ticks": ""
           }
          },
          "scene": {
           "xaxis": {
            "backgroundcolor": "#E5ECF6",
            "gridcolor": "white",
            "gridwidth": 2,
            "linecolor": "white",
            "showbackground": true,
            "ticks": "",
            "zerolinecolor": "white"
           },
           "yaxis": {
            "backgroundcolor": "#E5ECF6",
            "gridcolor": "white",
            "gridwidth": 2,
            "linecolor": "white",
            "showbackground": true,
            "ticks": "",
            "zerolinecolor": "white"
           },
           "zaxis": {
            "backgroundcolor": "#E5ECF6",
            "gridcolor": "white",
            "gridwidth": 2,
            "linecolor": "white",
            "showbackground": true,
            "ticks": "",
            "zerolinecolor": "white"
           }
          },
          "shapedefaults": {
           "line": {
            "color": "#2a3f5f"
           }
          },
          "ternary": {
           "aaxis": {
            "gridcolor": "white",
            "linecolor": "white",
            "ticks": ""
           },
           "baxis": {
            "gridcolor": "white",
            "linecolor": "white",
            "ticks": ""
           },
           "bgcolor": "#E5ECF6",
           "caxis": {
            "gridcolor": "white",
            "linecolor": "white",
            "ticks": ""
           }
          },
          "title": {
           "x": 0.05
          },
          "xaxis": {
           "automargin": true,
           "gridcolor": "white",
           "linecolor": "white",
           "ticks": "",
           "title": {
            "standoff": 15
           },
           "zerolinecolor": "white",
           "zerolinewidth": 2
          },
          "yaxis": {
           "automargin": true,
           "gridcolor": "white",
           "linecolor": "white",
           "ticks": "",
           "title": {
            "standoff": 15
           },
           "zerolinecolor": "white",
           "zerolinewidth": 2
          }
         }
        },
        "xaxis": {
         "anchor": "y",
         "domain": [
          0,
          1
         ],
         "rangeslider": {
          "visible": true
         },
         "title": {
          "text": "Year"
         }
        },
        "yaxis": {
         "anchor": "x",
         "domain": [
          0,
          1
         ],
         "title": {
          "text": "Total"
         }
        }
       }
      },
      "text/html": [
       "<div>                            <div id=\"00071549-6913-4085-baf9-003050689c25\" class=\"plotly-graph-div\" style=\"height:525px; width:100%;\"></div>            <script type=\"text/javascript\">                require([\"plotly\"], function(Plotly) {                    window.PLOTLYENV=window.PLOTLYENV || {};                                    if (document.getElementById(\"00071549-6913-4085-baf9-003050689c25\")) {                    Plotly.newPlot(                        \"00071549-6913-4085-baf9-003050689c25\",                        [{\"hovertemplate\":\"Year=%{x}<br>Total=%{y}<extra></extra>\",\"legendgroup\":\"\",\"line\":{\"color\":\"#636efa\",\"dash\":\"solid\"},\"marker\":{\"symbol\":\"circle\"},\"mode\":\"lines\",\"name\":\"\",\"orientation\":\"v\",\"showlegend\":false,\"x\":[1980,1981,1982,1983,1984,1985,1986,1987,1988,1989,1990,1991,1992,1993,1994,1995,1996,1997,1998,1999,2000,2001,2002,2003,2004,2005,2006,2007,2008,2009,2010,2011,2012,2013,2014,2015,2016,2017,2018,2019,2020,2021],\"xaxis\":\"x\",\"y\":[19501.263339,19036.118109,18884.487014,19006.539624,19664.753809,20325.486795,20627.358491,21273.904184,22107.794982,22410.401527,22757.480501,23244.805747,22580.023401,22812.899822,22969.498357,23458.713064,24159.382272,24302.583028,24213.260513,24732.388369,25453.622139,25668.048326,26281.037468,27651.596453,28636.695037,29614.602256,30593.116788,31506.7892,32085.836322,31564.030692,33364.346496,34487.011618,35006.267581,35319.201624,35577.534774,35558.565735,35524.193212,36096.739276,36826.5066,37082.558969,35264.085734,37123.850352],\"yaxis\":\"y\",\"type\":\"scatter\"}],                        {\"template\":{\"data\":{\"histogram2dcontour\":[{\"type\":\"histogram2dcontour\",\"colorbar\":{\"outlinewidth\":0,\"ticks\":\"\"},\"colorscale\":[[0.0,\"#0d0887\"],[0.1111111111111111,\"#46039f\"],[0.2222222222222222,\"#7201a8\"],[0.3333333333333333,\"#9c179e\"],[0.4444444444444444,\"#bd3786\"],[0.5555555555555556,\"#d8576b\"],[0.6666666666666666,\"#ed7953\"],[0.7777777777777778,\"#fb9f3a\"],[0.8888888888888888,\"#fdca26\"],[1.0,\"#f0f921\"]]}],\"choropleth\":[{\"type\":\"choropleth\",\"colorbar\":{\"outlinewidth\":0,\"ticks\":\"\"}}],\"histogram2d\":[{\"type\":\"histogram2d\",\"colorbar\":{\"outlinewidth\":0,\"ticks\":\"\"},\"colorscale\":[[0.0,\"#0d0887\"],[0.1111111111111111,\"#46039f\"],[0.2222222222222222,\"#7201a8\"],[0.3333333333333333,\"#9c179e\"],[0.4444444444444444,\"#bd3786\"],[0.5555555555555556,\"#d8576b\"],[0.6666666666666666,\"#ed7953\"],[0.7777777777777778,\"#fb9f3a\"],[0.8888888888888888,\"#fdca26\"],[1.0,\"#f0f921\"]]}],\"heatmap\":[{\"type\":\"heatmap\",\"colorbar\":{\"outlinewidth\":0,\"ticks\":\"\"},\"colorscale\":[[0.0,\"#0d0887\"],[0.1111111111111111,\"#46039f\"],[0.2222222222222222,\"#7201a8\"],[0.3333333333333333,\"#9c179e\"],[0.4444444444444444,\"#bd3786\"],[0.5555555555555556,\"#d8576b\"],[0.6666666666666666,\"#ed7953\"],[0.7777777777777778,\"#fb9f3a\"],[0.8888888888888888,\"#fdca26\"],[1.0,\"#f0f921\"]]}],\"heatmapgl\":[{\"type\":\"heatmapgl\",\"colorbar\":{\"outlinewidth\":0,\"ticks\":\"\"},\"colorscale\":[[0.0,\"#0d0887\"],[0.1111111111111111,\"#46039f\"],[0.2222222222222222,\"#7201a8\"],[0.3333333333333333,\"#9c179e\"],[0.4444444444444444,\"#bd3786\"],[0.5555555555555556,\"#d8576b\"],[0.6666666666666666,\"#ed7953\"],[0.7777777777777778,\"#fb9f3a\"],[0.8888888888888888,\"#fdca26\"],[1.0,\"#f0f921\"]]}],\"contourcarpet\":[{\"type\":\"contourcarpet\",\"colorbar\":{\"outlinewidth\":0,\"ticks\":\"\"}}],\"contour\":[{\"type\":\"contour\",\"colorbar\":{\"outlinewidth\":0,\"ticks\":\"\"},\"colorscale\":[[0.0,\"#0d0887\"],[0.1111111111111111,\"#46039f\"],[0.2222222222222222,\"#7201a8\"],[0.3333333333333333,\"#9c179e\"],[0.4444444444444444,\"#bd3786\"],[0.5555555555555556,\"#d8576b\"],[0.6666666666666666,\"#ed7953\"],[0.7777777777777778,\"#fb9f3a\"],[0.8888888888888888,\"#fdca26\"],[1.0,\"#f0f921\"]]}],\"surface\":[{\"type\":\"surface\",\"colorbar\":{\"outlinewidth\":0,\"ticks\":\"\"},\"colorscale\":[[0.0,\"#0d0887\"],[0.1111111111111111,\"#46039f\"],[0.2222222222222222,\"#7201a8\"],[0.3333333333333333,\"#9c179e\"],[0.4444444444444444,\"#bd3786\"],[0.5555555555555556,\"#d8576b\"],[0.6666666666666666,\"#ed7953\"],[0.7777777777777778,\"#fb9f3a\"],[0.8888888888888888,\"#fdca26\"],[1.0,\"#f0f921\"]]}],\"mesh3d\":[{\"type\":\"mesh3d\",\"colorbar\":{\"outlinewidth\":0,\"ticks\":\"\"}}],\"scatter\":[{\"fillpattern\":{\"fillmode\":\"overlay\",\"size\":10,\"solidity\":0.2},\"type\":\"scatter\"}],\"parcoords\":[{\"type\":\"parcoords\",\"line\":{\"colorbar\":{\"outlinewidth\":0,\"ticks\":\"\"}}}],\"scatterpolargl\":[{\"type\":\"scatterpolargl\",\"marker\":{\"colorbar\":{\"outlinewidth\":0,\"ticks\":\"\"}}}],\"bar\":[{\"error_x\":{\"color\":\"#2a3f5f\"},\"error_y\":{\"color\":\"#2a3f5f\"},\"marker\":{\"line\":{\"color\":\"#E5ECF6\",\"width\":0.5},\"pattern\":{\"fillmode\":\"overlay\",\"size\":10,\"solidity\":0.2}},\"type\":\"bar\"}],\"scattergeo\":[{\"type\":\"scattergeo\",\"marker\":{\"colorbar\":{\"outlinewidth\":0,\"ticks\":\"\"}}}],\"scatterpolar\":[{\"type\":\"scatterpolar\",\"marker\":{\"colorbar\":{\"outlinewidth\":0,\"ticks\":\"\"}}}],\"histogram\":[{\"marker\":{\"pattern\":{\"fillmode\":\"overlay\",\"size\":10,\"solidity\":0.2}},\"type\":\"histogram\"}],\"scattergl\":[{\"type\":\"scattergl\",\"marker\":{\"colorbar\":{\"outlinewidth\":0,\"ticks\":\"\"}}}],\"scatter3d\":[{\"type\":\"scatter3d\",\"line\":{\"colorbar\":{\"outlinewidth\":0,\"ticks\":\"\"}},\"marker\":{\"colorbar\":{\"outlinewidth\":0,\"ticks\":\"\"}}}],\"scattermapbox\":[{\"type\":\"scattermapbox\",\"marker\":{\"colorbar\":{\"outlinewidth\":0,\"ticks\":\"\"}}}],\"scatterternary\":[{\"type\":\"scatterternary\",\"marker\":{\"colorbar\":{\"outlinewidth\":0,\"ticks\":\"\"}}}],\"scattercarpet\":[{\"type\":\"scattercarpet\",\"marker\":{\"colorbar\":{\"outlinewidth\":0,\"ticks\":\"\"}}}],\"carpet\":[{\"aaxis\":{\"endlinecolor\":\"#2a3f5f\",\"gridcolor\":\"white\",\"linecolor\":\"white\",\"minorgridcolor\":\"white\",\"startlinecolor\":\"#2a3f5f\"},\"baxis\":{\"endlinecolor\":\"#2a3f5f\",\"gridcolor\":\"white\",\"linecolor\":\"white\",\"minorgridcolor\":\"white\",\"startlinecolor\":\"#2a3f5f\"},\"type\":\"carpet\"}],\"table\":[{\"cells\":{\"fill\":{\"color\":\"#EBF0F8\"},\"line\":{\"color\":\"white\"}},\"header\":{\"fill\":{\"color\":\"#C8D4E3\"},\"line\":{\"color\":\"white\"}},\"type\":\"table\"}],\"barpolar\":[{\"marker\":{\"line\":{\"color\":\"#E5ECF6\",\"width\":0.5},\"pattern\":{\"fillmode\":\"overlay\",\"size\":10,\"solidity\":0.2}},\"type\":\"barpolar\"}],\"pie\":[{\"automargin\":true,\"type\":\"pie\"}]},\"layout\":{\"autotypenumbers\":\"strict\",\"colorway\":[\"#636efa\",\"#EF553B\",\"#00cc96\",\"#ab63fa\",\"#FFA15A\",\"#19d3f3\",\"#FF6692\",\"#B6E880\",\"#FF97FF\",\"#FECB52\"],\"font\":{\"color\":\"#2a3f5f\"},\"hovermode\":\"closest\",\"hoverlabel\":{\"align\":\"left\"},\"paper_bgcolor\":\"white\",\"plot_bgcolor\":\"#E5ECF6\",\"polar\":{\"bgcolor\":\"#E5ECF6\",\"angularaxis\":{\"gridcolor\":\"white\",\"linecolor\":\"white\",\"ticks\":\"\"},\"radialaxis\":{\"gridcolor\":\"white\",\"linecolor\":\"white\",\"ticks\":\"\"}},\"ternary\":{\"bgcolor\":\"#E5ECF6\",\"aaxis\":{\"gridcolor\":\"white\",\"linecolor\":\"white\",\"ticks\":\"\"},\"baxis\":{\"gridcolor\":\"white\",\"linecolor\":\"white\",\"ticks\":\"\"},\"caxis\":{\"gridcolor\":\"white\",\"linecolor\":\"white\",\"ticks\":\"\"}},\"coloraxis\":{\"colorbar\":{\"outlinewidth\":0,\"ticks\":\"\"}},\"colorscale\":{\"sequential\":[[0.0,\"#0d0887\"],[0.1111111111111111,\"#46039f\"],[0.2222222222222222,\"#7201a8\"],[0.3333333333333333,\"#9c179e\"],[0.4444444444444444,\"#bd3786\"],[0.5555555555555556,\"#d8576b\"],[0.6666666666666666,\"#ed7953\"],[0.7777777777777778,\"#fb9f3a\"],[0.8888888888888888,\"#fdca26\"],[1.0,\"#f0f921\"]],\"sequentialminus\":[[0.0,\"#0d0887\"],[0.1111111111111111,\"#46039f\"],[0.2222222222222222,\"#7201a8\"],[0.3333333333333333,\"#9c179e\"],[0.4444444444444444,\"#bd3786\"],[0.5555555555555556,\"#d8576b\"],[0.6666666666666666,\"#ed7953\"],[0.7777777777777778,\"#fb9f3a\"],[0.8888888888888888,\"#fdca26\"],[1.0,\"#f0f921\"]],\"diverging\":[[0,\"#8e0152\"],[0.1,\"#c51b7d\"],[0.2,\"#de77ae\"],[0.3,\"#f1b6da\"],[0.4,\"#fde0ef\"],[0.5,\"#f7f7f7\"],[0.6,\"#e6f5d0\"],[0.7,\"#b8e186\"],[0.8,\"#7fbc41\"],[0.9,\"#4d9221\"],[1,\"#276419\"]]},\"xaxis\":{\"gridcolor\":\"white\",\"linecolor\":\"white\",\"ticks\":\"\",\"title\":{\"standoff\":15},\"zerolinecolor\":\"white\",\"automargin\":true,\"zerolinewidth\":2},\"yaxis\":{\"gridcolor\":\"white\",\"linecolor\":\"white\",\"ticks\":\"\",\"title\":{\"standoff\":15},\"zerolinecolor\":\"white\",\"automargin\":true,\"zerolinewidth\":2},\"scene\":{\"xaxis\":{\"backgroundcolor\":\"#E5ECF6\",\"gridcolor\":\"white\",\"linecolor\":\"white\",\"showbackground\":true,\"ticks\":\"\",\"zerolinecolor\":\"white\",\"gridwidth\":2},\"yaxis\":{\"backgroundcolor\":\"#E5ECF6\",\"gridcolor\":\"white\",\"linecolor\":\"white\",\"showbackground\":true,\"ticks\":\"\",\"zerolinecolor\":\"white\",\"gridwidth\":2},\"zaxis\":{\"backgroundcolor\":\"#E5ECF6\",\"gridcolor\":\"white\",\"linecolor\":\"white\",\"showbackground\":true,\"ticks\":\"\",\"zerolinecolor\":\"white\",\"gridwidth\":2}},\"shapedefaults\":{\"line\":{\"color\":\"#2a3f5f\"}},\"annotationdefaults\":{\"arrowcolor\":\"#2a3f5f\",\"arrowhead\":0,\"arrowwidth\":1},\"geo\":{\"bgcolor\":\"white\",\"landcolor\":\"#E5ECF6\",\"subunitcolor\":\"white\",\"showland\":true,\"showlakes\":true,\"lakecolor\":\"white\"},\"title\":{\"x\":0.05},\"mapbox\":{\"style\":\"light\"}}},\"xaxis\":{\"anchor\":\"y\",\"domain\":[0.0,1.0],\"title\":{\"text\":\"Year\"},\"rangeslider\":{\"visible\":true}},\"yaxis\":{\"anchor\":\"x\",\"domain\":[0.0,1.0],\"title\":{\"text\":\"Total\"}},\"legend\":{\"tracegroupgap\":0},\"margin\":{\"t\":60}},                        {\"responsive\": true}                    ).then(function(){\n",
       "                            \n",
       "var gd = document.getElementById('00071549-6913-4085-baf9-003050689c25');\n",
       "var x = new MutationObserver(function (mutations, observer) {{\n",
       "        var display = window.getComputedStyle(gd).display;\n",
       "        if (!display || display === 'none') {{\n",
       "            console.log([gd, 'removed!']);\n",
       "            Plotly.purge(gd);\n",
       "            observer.disconnect();\n",
       "        }}\n",
       "}});\n",
       "\n",
       "// Listen for the removal of the full notebook cells\n",
       "var notebookContainer = gd.closest('#notebook-container');\n",
       "if (notebookContainer) {{\n",
       "    x.observe(notebookContainer, {childList: true});\n",
       "}}\n",
       "\n",
       "// Listen for the clearing of the current output cell\n",
       "var outputEl = gd.closest('.output');\n",
       "if (outputEl) {{\n",
       "    x.observe(outputEl, {childList: true});\n",
       "}}\n",
       "\n",
       "                        })                };                });            </script>        </div>"
      ]
     },
     "metadata": {},
     "output_type": "display_data"
    }
   ],
   "source": [
    "#  plot to see total emission versus year for 'global'\n",
    "fig_glob = px.line(df_glob, x=\"Year\", y=\"Total\")\n",
    "fig_glob.update_xaxes(rangeslider_visible=True)\n",
    "fig_glob.show()"
   ]
  },
  {
   "cell_type": "code",
   "execution_count": 51,
   "id": "f1154515",
   "metadata": {
    "scrolled": true
   },
   "outputs": [
    {
     "data": {
      "application/vnd.plotly.v1+json": {
       "config": {
        "plotlyServerURL": "https://plot.ly"
       },
       "data": [
        {
         "hovertemplate": "Year=%{x}<br>Total=%{y}<extra></extra>",
         "legendgroup": "",
         "line": {
          "color": "#636efa",
          "dash": "solid"
         },
         "marker": {
          "symbol": "circle"
         },
         "mode": "lines",
         "name": "",
         "orientation": "v",
         "showlegend": false,
         "type": "scatter",
         "x": [
          1980,
          1981,
          1982,
          1983,
          1984,
          1985,
          1986,
          1987,
          1988,
          1989,
          1990,
          1991,
          1992,
          1993,
          1994,
          1995,
          1996,
          1997,
          1998,
          1999,
          2000,
          2001,
          2002,
          2003,
          2004,
          2005,
          2006,
          2007,
          2008,
          2009,
          2010,
          2011,
          2012,
          2013,
          2014,
          2015,
          2016,
          2017,
          2018,
          2019,
          2020,
          2021
         ],
         "xaxis": "x",
         "y": [
          3.336441,
          3.279857,
          3.036573,
          2.611411,
          3.284168,
          2.650504,
          2.636446,
          2.424574,
          2.710809,
          3.661877,
          3.138804,
          3.379206,
          3.422666,
          3.538709,
          3.83695,
          3.430121,
          3.664147,
          3.182368,
          3.333565,
          3.603593,
          3.902052,
          4.2581,
          4.436925,
          4.927512,
          5.238223,
          5.538919,
          4.42239,
          4.862531,
          4.740295,
          5.257668,
          6.862391,
          7.818837,
          7.362129,
          7.852669,
          8.72436,
          9.845416,
          10.015698,
          10.760132,
          11.330392,
          12.761457,
          12.743876,
          13.59791
         ],
         "yaxis": "y"
        }
       ],
       "layout": {
        "legend": {
         "tracegroupgap": 0
        },
        "margin": {
         "t": 60
        },
        "template": {
         "data": {
          "bar": [
           {
            "error_x": {
             "color": "#2a3f5f"
            },
            "error_y": {
             "color": "#2a3f5f"
            },
            "marker": {
             "line": {
              "color": "#E5ECF6",
              "width": 0.5
             },
             "pattern": {
              "fillmode": "overlay",
              "size": 10,
              "solidity": 0.2
             }
            },
            "type": "bar"
           }
          ],
          "barpolar": [
           {
            "marker": {
             "line": {
              "color": "#E5ECF6",
              "width": 0.5
             },
             "pattern": {
              "fillmode": "overlay",
              "size": 10,
              "solidity": 0.2
             }
            },
            "type": "barpolar"
           }
          ],
          "carpet": [
           {
            "aaxis": {
             "endlinecolor": "#2a3f5f",
             "gridcolor": "white",
             "linecolor": "white",
             "minorgridcolor": "white",
             "startlinecolor": "#2a3f5f"
            },
            "baxis": {
             "endlinecolor": "#2a3f5f",
             "gridcolor": "white",
             "linecolor": "white",
             "minorgridcolor": "white",
             "startlinecolor": "#2a3f5f"
            },
            "type": "carpet"
           }
          ],
          "choropleth": [
           {
            "colorbar": {
             "outlinewidth": 0,
             "ticks": ""
            },
            "type": "choropleth"
           }
          ],
          "contour": [
           {
            "colorbar": {
             "outlinewidth": 0,
             "ticks": ""
            },
            "colorscale": [
             [
              0,
              "#0d0887"
             ],
             [
              0.1111111111111111,
              "#46039f"
             ],
             [
              0.2222222222222222,
              "#7201a8"
             ],
             [
              0.3333333333333333,
              "#9c179e"
             ],
             [
              0.4444444444444444,
              "#bd3786"
             ],
             [
              0.5555555555555556,
              "#d8576b"
             ],
             [
              0.6666666666666666,
              "#ed7953"
             ],
             [
              0.7777777777777778,
              "#fb9f3a"
             ],
             [
              0.8888888888888888,
              "#fdca26"
             ],
             [
              1,
              "#f0f921"
             ]
            ],
            "type": "contour"
           }
          ],
          "contourcarpet": [
           {
            "colorbar": {
             "outlinewidth": 0,
             "ticks": ""
            },
            "type": "contourcarpet"
           }
          ],
          "heatmap": [
           {
            "colorbar": {
             "outlinewidth": 0,
             "ticks": ""
            },
            "colorscale": [
             [
              0,
              "#0d0887"
             ],
             [
              0.1111111111111111,
              "#46039f"
             ],
             [
              0.2222222222222222,
              "#7201a8"
             ],
             [
              0.3333333333333333,
              "#9c179e"
             ],
             [
              0.4444444444444444,
              "#bd3786"
             ],
             [
              0.5555555555555556,
              "#d8576b"
             ],
             [
              0.6666666666666666,
              "#ed7953"
             ],
             [
              0.7777777777777778,
              "#fb9f3a"
             ],
             [
              0.8888888888888888,
              "#fdca26"
             ],
             [
              1,
              "#f0f921"
             ]
            ],
            "type": "heatmap"
           }
          ],
          "heatmapgl": [
           {
            "colorbar": {
             "outlinewidth": 0,
             "ticks": ""
            },
            "colorscale": [
             [
              0,
              "#0d0887"
             ],
             [
              0.1111111111111111,
              "#46039f"
             ],
             [
              0.2222222222222222,
              "#7201a8"
             ],
             [
              0.3333333333333333,
              "#9c179e"
             ],
             [
              0.4444444444444444,
              "#bd3786"
             ],
             [
              0.5555555555555556,
              "#d8576b"
             ],
             [
              0.6666666666666666,
              "#ed7953"
             ],
             [
              0.7777777777777778,
              "#fb9f3a"
             ],
             [
              0.8888888888888888,
              "#fdca26"
             ],
             [
              1,
              "#f0f921"
             ]
            ],
            "type": "heatmapgl"
           }
          ],
          "histogram": [
           {
            "marker": {
             "pattern": {
              "fillmode": "overlay",
              "size": 10,
              "solidity": 0.2
             }
            },
            "type": "histogram"
           }
          ],
          "histogram2d": [
           {
            "colorbar": {
             "outlinewidth": 0,
             "ticks": ""
            },
            "colorscale": [
             [
              0,
              "#0d0887"
             ],
             [
              0.1111111111111111,
              "#46039f"
             ],
             [
              0.2222222222222222,
              "#7201a8"
             ],
             [
              0.3333333333333333,
              "#9c179e"
             ],
             [
              0.4444444444444444,
              "#bd3786"
             ],
             [
              0.5555555555555556,
              "#d8576b"
             ],
             [
              0.6666666666666666,
              "#ed7953"
             ],
             [
              0.7777777777777778,
              "#fb9f3a"
             ],
             [
              0.8888888888888888,
              "#fdca26"
             ],
             [
              1,
              "#f0f921"
             ]
            ],
            "type": "histogram2d"
           }
          ],
          "histogram2dcontour": [
           {
            "colorbar": {
             "outlinewidth": 0,
             "ticks": ""
            },
            "colorscale": [
             [
              0,
              "#0d0887"
             ],
             [
              0.1111111111111111,
              "#46039f"
             ],
             [
              0.2222222222222222,
              "#7201a8"
             ],
             [
              0.3333333333333333,
              "#9c179e"
             ],
             [
              0.4444444444444444,
              "#bd3786"
             ],
             [
              0.5555555555555556,
              "#d8576b"
             ],
             [
              0.6666666666666666,
              "#ed7953"
             ],
             [
              0.7777777777777778,
              "#fb9f3a"
             ],
             [
              0.8888888888888888,
              "#fdca26"
             ],
             [
              1,
              "#f0f921"
             ]
            ],
            "type": "histogram2dcontour"
           }
          ],
          "mesh3d": [
           {
            "colorbar": {
             "outlinewidth": 0,
             "ticks": ""
            },
            "type": "mesh3d"
           }
          ],
          "parcoords": [
           {
            "line": {
             "colorbar": {
              "outlinewidth": 0,
              "ticks": ""
             }
            },
            "type": "parcoords"
           }
          ],
          "pie": [
           {
            "automargin": true,
            "type": "pie"
           }
          ],
          "scatter": [
           {
            "fillpattern": {
             "fillmode": "overlay",
             "size": 10,
             "solidity": 0.2
            },
            "type": "scatter"
           }
          ],
          "scatter3d": [
           {
            "line": {
             "colorbar": {
              "outlinewidth": 0,
              "ticks": ""
             }
            },
            "marker": {
             "colorbar": {
              "outlinewidth": 0,
              "ticks": ""
             }
            },
            "type": "scatter3d"
           }
          ],
          "scattercarpet": [
           {
            "marker": {
             "colorbar": {
              "outlinewidth": 0,
              "ticks": ""
             }
            },
            "type": "scattercarpet"
           }
          ],
          "scattergeo": [
           {
            "marker": {
             "colorbar": {
              "outlinewidth": 0,
              "ticks": ""
             }
            },
            "type": "scattergeo"
           }
          ],
          "scattergl": [
           {
            "marker": {
             "colorbar": {
              "outlinewidth": 0,
              "ticks": ""
             }
            },
            "type": "scattergl"
           }
          ],
          "scattermapbox": [
           {
            "marker": {
             "colorbar": {
              "outlinewidth": 0,
              "ticks": ""
             }
            },
            "type": "scattermapbox"
           }
          ],
          "scatterpolar": [
           {
            "marker": {
             "colorbar": {
              "outlinewidth": 0,
              "ticks": ""
             }
            },
            "type": "scatterpolar"
           }
          ],
          "scatterpolargl": [
           {
            "marker": {
             "colorbar": {
              "outlinewidth": 0,
              "ticks": ""
             }
            },
            "type": "scatterpolargl"
           }
          ],
          "scatterternary": [
           {
            "marker": {
             "colorbar": {
              "outlinewidth": 0,
              "ticks": ""
             }
            },
            "type": "scatterternary"
           }
          ],
          "surface": [
           {
            "colorbar": {
             "outlinewidth": 0,
             "ticks": ""
            },
            "colorscale": [
             [
              0,
              "#0d0887"
             ],
             [
              0.1111111111111111,
              "#46039f"
             ],
             [
              0.2222222222222222,
              "#7201a8"
             ],
             [
              0.3333333333333333,
              "#9c179e"
             ],
             [
              0.4444444444444444,
              "#bd3786"
             ],
             [
              0.5555555555555556,
              "#d8576b"
             ],
             [
              0.6666666666666666,
              "#ed7953"
             ],
             [
              0.7777777777777778,
              "#fb9f3a"
             ],
             [
              0.8888888888888888,
              "#fdca26"
             ],
             [
              1,
              "#f0f921"
             ]
            ],
            "type": "surface"
           }
          ],
          "table": [
           {
            "cells": {
             "fill": {
              "color": "#EBF0F8"
             },
             "line": {
              "color": "white"
             }
            },
            "header": {
             "fill": {
              "color": "#C8D4E3"
             },
             "line": {
              "color": "white"
             }
            },
            "type": "table"
           }
          ]
         },
         "layout": {
          "annotationdefaults": {
           "arrowcolor": "#2a3f5f",
           "arrowhead": 0,
           "arrowwidth": 1
          },
          "autotypenumbers": "strict",
          "coloraxis": {
           "colorbar": {
            "outlinewidth": 0,
            "ticks": ""
           }
          },
          "colorscale": {
           "diverging": [
            [
             0,
             "#8e0152"
            ],
            [
             0.1,
             "#c51b7d"
            ],
            [
             0.2,
             "#de77ae"
            ],
            [
             0.3,
             "#f1b6da"
            ],
            [
             0.4,
             "#fde0ef"
            ],
            [
             0.5,
             "#f7f7f7"
            ],
            [
             0.6,
             "#e6f5d0"
            ],
            [
             0.7,
             "#b8e186"
            ],
            [
             0.8,
             "#7fbc41"
            ],
            [
             0.9,
             "#4d9221"
            ],
            [
             1,
             "#276419"
            ]
           ],
           "sequential": [
            [
             0,
             "#0d0887"
            ],
            [
             0.1111111111111111,
             "#46039f"
            ],
            [
             0.2222222222222222,
             "#7201a8"
            ],
            [
             0.3333333333333333,
             "#9c179e"
            ],
            [
             0.4444444444444444,
             "#bd3786"
            ],
            [
             0.5555555555555556,
             "#d8576b"
            ],
            [
             0.6666666666666666,
             "#ed7953"
            ],
            [
             0.7777777777777778,
             "#fb9f3a"
            ],
            [
             0.8888888888888888,
             "#fdca26"
            ],
            [
             1,
             "#f0f921"
            ]
           ],
           "sequentialminus": [
            [
             0,
             "#0d0887"
            ],
            [
             0.1111111111111111,
             "#46039f"
            ],
            [
             0.2222222222222222,
             "#7201a8"
            ],
            [
             0.3333333333333333,
             "#9c179e"
            ],
            [
             0.4444444444444444,
             "#bd3786"
            ],
            [
             0.5555555555555556,
             "#d8576b"
            ],
            [
             0.6666666666666666,
             "#ed7953"
            ],
            [
             0.7777777777777778,
             "#fb9f3a"
            ],
            [
             0.8888888888888888,
             "#fdca26"
            ],
            [
             1,
             "#f0f921"
            ]
           ]
          },
          "colorway": [
           "#636efa",
           "#EF553B",
           "#00cc96",
           "#ab63fa",
           "#FFA15A",
           "#19d3f3",
           "#FF6692",
           "#B6E880",
           "#FF97FF",
           "#FECB52"
          ],
          "font": {
           "color": "#2a3f5f"
          },
          "geo": {
           "bgcolor": "white",
           "lakecolor": "white",
           "landcolor": "#E5ECF6",
           "showlakes": true,
           "showland": true,
           "subunitcolor": "white"
          },
          "hoverlabel": {
           "align": "left"
          },
          "hovermode": "closest",
          "mapbox": {
           "style": "light"
          },
          "paper_bgcolor": "white",
          "plot_bgcolor": "#E5ECF6",
          "polar": {
           "angularaxis": {
            "gridcolor": "white",
            "linecolor": "white",
            "ticks": ""
           },
           "bgcolor": "#E5ECF6",
           "radialaxis": {
            "gridcolor": "white",
            "linecolor": "white",
            "ticks": ""
           }
          },
          "scene": {
           "xaxis": {
            "backgroundcolor": "#E5ECF6",
            "gridcolor": "white",
            "gridwidth": 2,
            "linecolor": "white",
            "showbackground": true,
            "ticks": "",
            "zerolinecolor": "white"
           },
           "yaxis": {
            "backgroundcolor": "#E5ECF6",
            "gridcolor": "white",
            "gridwidth": 2,
            "linecolor": "white",
            "showbackground": true,
            "ticks": "",
            "zerolinecolor": "white"
           },
           "zaxis": {
            "backgroundcolor": "#E5ECF6",
            "gridcolor": "white",
            "gridwidth": 2,
            "linecolor": "white",
            "showbackground": true,
            "ticks": "",
            "zerolinecolor": "white"
           }
          },
          "shapedefaults": {
           "line": {
            "color": "#2a3f5f"
           }
          },
          "ternary": {
           "aaxis": {
            "gridcolor": "white",
            "linecolor": "white",
            "ticks": ""
           },
           "baxis": {
            "gridcolor": "white",
            "linecolor": "white",
            "ticks": ""
           },
           "bgcolor": "#E5ECF6",
           "caxis": {
            "gridcolor": "white",
            "linecolor": "white",
            "ticks": ""
           }
          },
          "title": {
           "x": 0.05
          },
          "xaxis": {
           "automargin": true,
           "gridcolor": "white",
           "linecolor": "white",
           "ticks": "",
           "title": {
            "standoff": 15
           },
           "zerolinecolor": "white",
           "zerolinewidth": 2
          },
          "yaxis": {
           "automargin": true,
           "gridcolor": "white",
           "linecolor": "white",
           "ticks": "",
           "title": {
            "standoff": 15
           },
           "zerolinecolor": "white",
           "zerolinewidth": 2
          }
         }
        },
        "xaxis": {
         "anchor": "y",
         "domain": [
          0,
          1
         ],
         "rangeslider": {
          "visible": true
         },
         "title": {
          "text": "Year"
         }
        },
        "yaxis": {
         "anchor": "x",
         "domain": [
          0,
          1
         ],
         "title": {
          "text": "Total"
         }
        }
       }
      },
      "text/html": [
       "<div>                            <div id=\"657beb8e-09d0-4155-9026-12df2a56089a\" class=\"plotly-graph-div\" style=\"height:525px; width:100%;\"></div>            <script type=\"text/javascript\">                require([\"plotly\"], function(Plotly) {                    window.PLOTLYENV=window.PLOTLYENV || {};                                    if (document.getElementById(\"657beb8e-09d0-4155-9026-12df2a56089a\")) {                    Plotly.newPlot(                        \"657beb8e-09d0-4155-9026-12df2a56089a\",                        [{\"hovertemplate\":\"Year=%{x}<br>Total=%{y}<extra></extra>\",\"legendgroup\":\"\",\"line\":{\"color\":\"#636efa\",\"dash\":\"solid\"},\"marker\":{\"symbol\":\"circle\"},\"mode\":\"lines\",\"name\":\"\",\"orientation\":\"v\",\"showlegend\":false,\"x\":[1980,1981,1982,1983,1984,1985,1986,1987,1988,1989,1990,1991,1992,1993,1994,1995,1996,1997,1998,1999,2000,2001,2002,2003,2004,2005,2006,2007,2008,2009,2010,2011,2012,2013,2014,2015,2016,2017,2018,2019,2020,2021],\"xaxis\":\"x\",\"y\":[3.336441,3.279857,3.036573,2.611411,3.284168,2.650504,2.636446,2.424574,2.710809,3.661877,3.138804,3.379206,3.422666,3.538709,3.83695,3.430121,3.664147,3.182368,3.333565,3.603593,3.902052,4.2581,4.436925,4.927512,5.238223,5.538919,4.42239,4.862531,4.740295,5.257668,6.862391,7.818837,7.362129,7.852669,8.72436,9.845416,10.015698,10.760132,11.330392,12.761457,12.743876,13.59791],\"yaxis\":\"y\",\"type\":\"scatter\"}],                        {\"template\":{\"data\":{\"histogram2dcontour\":[{\"type\":\"histogram2dcontour\",\"colorbar\":{\"outlinewidth\":0,\"ticks\":\"\"},\"colorscale\":[[0.0,\"#0d0887\"],[0.1111111111111111,\"#46039f\"],[0.2222222222222222,\"#7201a8\"],[0.3333333333333333,\"#9c179e\"],[0.4444444444444444,\"#bd3786\"],[0.5555555555555556,\"#d8576b\"],[0.6666666666666666,\"#ed7953\"],[0.7777777777777778,\"#fb9f3a\"],[0.8888888888888888,\"#fdca26\"],[1.0,\"#f0f921\"]]}],\"choropleth\":[{\"type\":\"choropleth\",\"colorbar\":{\"outlinewidth\":0,\"ticks\":\"\"}}],\"histogram2d\":[{\"type\":\"histogram2d\",\"colorbar\":{\"outlinewidth\":0,\"ticks\":\"\"},\"colorscale\":[[0.0,\"#0d0887\"],[0.1111111111111111,\"#46039f\"],[0.2222222222222222,\"#7201a8\"],[0.3333333333333333,\"#9c179e\"],[0.4444444444444444,\"#bd3786\"],[0.5555555555555556,\"#d8576b\"],[0.6666666666666666,\"#ed7953\"],[0.7777777777777778,\"#fb9f3a\"],[0.8888888888888888,\"#fdca26\"],[1.0,\"#f0f921\"]]}],\"heatmap\":[{\"type\":\"heatmap\",\"colorbar\":{\"outlinewidth\":0,\"ticks\":\"\"},\"colorscale\":[[0.0,\"#0d0887\"],[0.1111111111111111,\"#46039f\"],[0.2222222222222222,\"#7201a8\"],[0.3333333333333333,\"#9c179e\"],[0.4444444444444444,\"#bd3786\"],[0.5555555555555556,\"#d8576b\"],[0.6666666666666666,\"#ed7953\"],[0.7777777777777778,\"#fb9f3a\"],[0.8888888888888888,\"#fdca26\"],[1.0,\"#f0f921\"]]}],\"heatmapgl\":[{\"type\":\"heatmapgl\",\"colorbar\":{\"outlinewidth\":0,\"ticks\":\"\"},\"colorscale\":[[0.0,\"#0d0887\"],[0.1111111111111111,\"#46039f\"],[0.2222222222222222,\"#7201a8\"],[0.3333333333333333,\"#9c179e\"],[0.4444444444444444,\"#bd3786\"],[0.5555555555555556,\"#d8576b\"],[0.6666666666666666,\"#ed7953\"],[0.7777777777777778,\"#fb9f3a\"],[0.8888888888888888,\"#fdca26\"],[1.0,\"#f0f921\"]]}],\"contourcarpet\":[{\"type\":\"contourcarpet\",\"colorbar\":{\"outlinewidth\":0,\"ticks\":\"\"}}],\"contour\":[{\"type\":\"contour\",\"colorbar\":{\"outlinewidth\":0,\"ticks\":\"\"},\"colorscale\":[[0.0,\"#0d0887\"],[0.1111111111111111,\"#46039f\"],[0.2222222222222222,\"#7201a8\"],[0.3333333333333333,\"#9c179e\"],[0.4444444444444444,\"#bd3786\"],[0.5555555555555556,\"#d8576b\"],[0.6666666666666666,\"#ed7953\"],[0.7777777777777778,\"#fb9f3a\"],[0.8888888888888888,\"#fdca26\"],[1.0,\"#f0f921\"]]}],\"surface\":[{\"type\":\"surface\",\"colorbar\":{\"outlinewidth\":0,\"ticks\":\"\"},\"colorscale\":[[0.0,\"#0d0887\"],[0.1111111111111111,\"#46039f\"],[0.2222222222222222,\"#7201a8\"],[0.3333333333333333,\"#9c179e\"],[0.4444444444444444,\"#bd3786\"],[0.5555555555555556,\"#d8576b\"],[0.6666666666666666,\"#ed7953\"],[0.7777777777777778,\"#fb9f3a\"],[0.8888888888888888,\"#fdca26\"],[1.0,\"#f0f921\"]]}],\"mesh3d\":[{\"type\":\"mesh3d\",\"colorbar\":{\"outlinewidth\":0,\"ticks\":\"\"}}],\"scatter\":[{\"fillpattern\":{\"fillmode\":\"overlay\",\"size\":10,\"solidity\":0.2},\"type\":\"scatter\"}],\"parcoords\":[{\"type\":\"parcoords\",\"line\":{\"colorbar\":{\"outlinewidth\":0,\"ticks\":\"\"}}}],\"scatterpolargl\":[{\"type\":\"scatterpolargl\",\"marker\":{\"colorbar\":{\"outlinewidth\":0,\"ticks\":\"\"}}}],\"bar\":[{\"error_x\":{\"color\":\"#2a3f5f\"},\"error_y\":{\"color\":\"#2a3f5f\"},\"marker\":{\"line\":{\"color\":\"#E5ECF6\",\"width\":0.5},\"pattern\":{\"fillmode\":\"overlay\",\"size\":10,\"solidity\":0.2}},\"type\":\"bar\"}],\"scattergeo\":[{\"type\":\"scattergeo\",\"marker\":{\"colorbar\":{\"outlinewidth\":0,\"ticks\":\"\"}}}],\"scatterpolar\":[{\"type\":\"scatterpolar\",\"marker\":{\"colorbar\":{\"outlinewidth\":0,\"ticks\":\"\"}}}],\"histogram\":[{\"marker\":{\"pattern\":{\"fillmode\":\"overlay\",\"size\":10,\"solidity\":0.2}},\"type\":\"histogram\"}],\"scattergl\":[{\"type\":\"scattergl\",\"marker\":{\"colorbar\":{\"outlinewidth\":0,\"ticks\":\"\"}}}],\"scatter3d\":[{\"type\":\"scatter3d\",\"line\":{\"colorbar\":{\"outlinewidth\":0,\"ticks\":\"\"}},\"marker\":{\"colorbar\":{\"outlinewidth\":0,\"ticks\":\"\"}}}],\"scattermapbox\":[{\"type\":\"scattermapbox\",\"marker\":{\"colorbar\":{\"outlinewidth\":0,\"ticks\":\"\"}}}],\"scatterternary\":[{\"type\":\"scatterternary\",\"marker\":{\"colorbar\":{\"outlinewidth\":0,\"ticks\":\"\"}}}],\"scattercarpet\":[{\"type\":\"scattercarpet\",\"marker\":{\"colorbar\":{\"outlinewidth\":0,\"ticks\":\"\"}}}],\"carpet\":[{\"aaxis\":{\"endlinecolor\":\"#2a3f5f\",\"gridcolor\":\"white\",\"linecolor\":\"white\",\"minorgridcolor\":\"white\",\"startlinecolor\":\"#2a3f5f\"},\"baxis\":{\"endlinecolor\":\"#2a3f5f\",\"gridcolor\":\"white\",\"linecolor\":\"white\",\"minorgridcolor\":\"white\",\"startlinecolor\":\"#2a3f5f\"},\"type\":\"carpet\"}],\"table\":[{\"cells\":{\"fill\":{\"color\":\"#EBF0F8\"},\"line\":{\"color\":\"white\"}},\"header\":{\"fill\":{\"color\":\"#C8D4E3\"},\"line\":{\"color\":\"white\"}},\"type\":\"table\"}],\"barpolar\":[{\"marker\":{\"line\":{\"color\":\"#E5ECF6\",\"width\":0.5},\"pattern\":{\"fillmode\":\"overlay\",\"size\":10,\"solidity\":0.2}},\"type\":\"barpolar\"}],\"pie\":[{\"automargin\":true,\"type\":\"pie\"}]},\"layout\":{\"autotypenumbers\":\"strict\",\"colorway\":[\"#636efa\",\"#EF553B\",\"#00cc96\",\"#ab63fa\",\"#FFA15A\",\"#19d3f3\",\"#FF6692\",\"#B6E880\",\"#FF97FF\",\"#FECB52\"],\"font\":{\"color\":\"#2a3f5f\"},\"hovermode\":\"closest\",\"hoverlabel\":{\"align\":\"left\"},\"paper_bgcolor\":\"white\",\"plot_bgcolor\":\"#E5ECF6\",\"polar\":{\"bgcolor\":\"#E5ECF6\",\"angularaxis\":{\"gridcolor\":\"white\",\"linecolor\":\"white\",\"ticks\":\"\"},\"radialaxis\":{\"gridcolor\":\"white\",\"linecolor\":\"white\",\"ticks\":\"\"}},\"ternary\":{\"bgcolor\":\"#E5ECF6\",\"aaxis\":{\"gridcolor\":\"white\",\"linecolor\":\"white\",\"ticks\":\"\"},\"baxis\":{\"gridcolor\":\"white\",\"linecolor\":\"white\",\"ticks\":\"\"},\"caxis\":{\"gridcolor\":\"white\",\"linecolor\":\"white\",\"ticks\":\"\"}},\"coloraxis\":{\"colorbar\":{\"outlinewidth\":0,\"ticks\":\"\"}},\"colorscale\":{\"sequential\":[[0.0,\"#0d0887\"],[0.1111111111111111,\"#46039f\"],[0.2222222222222222,\"#7201a8\"],[0.3333333333333333,\"#9c179e\"],[0.4444444444444444,\"#bd3786\"],[0.5555555555555556,\"#d8576b\"],[0.6666666666666666,\"#ed7953\"],[0.7777777777777778,\"#fb9f3a\"],[0.8888888888888888,\"#fdca26\"],[1.0,\"#f0f921\"]],\"sequentialminus\":[[0.0,\"#0d0887\"],[0.1111111111111111,\"#46039f\"],[0.2222222222222222,\"#7201a8\"],[0.3333333333333333,\"#9c179e\"],[0.4444444444444444,\"#bd3786\"],[0.5555555555555556,\"#d8576b\"],[0.6666666666666666,\"#ed7953\"],[0.7777777777777778,\"#fb9f3a\"],[0.8888888888888888,\"#fdca26\"],[1.0,\"#f0f921\"]],\"diverging\":[[0,\"#8e0152\"],[0.1,\"#c51b7d\"],[0.2,\"#de77ae\"],[0.3,\"#f1b6da\"],[0.4,\"#fde0ef\"],[0.5,\"#f7f7f7\"],[0.6,\"#e6f5d0\"],[0.7,\"#b8e186\"],[0.8,\"#7fbc41\"],[0.9,\"#4d9221\"],[1,\"#276419\"]]},\"xaxis\":{\"gridcolor\":\"white\",\"linecolor\":\"white\",\"ticks\":\"\",\"title\":{\"standoff\":15},\"zerolinecolor\":\"white\",\"automargin\":true,\"zerolinewidth\":2},\"yaxis\":{\"gridcolor\":\"white\",\"linecolor\":\"white\",\"ticks\":\"\",\"title\":{\"standoff\":15},\"zerolinecolor\":\"white\",\"automargin\":true,\"zerolinewidth\":2},\"scene\":{\"xaxis\":{\"backgroundcolor\":\"#E5ECF6\",\"gridcolor\":\"white\",\"linecolor\":\"white\",\"showbackground\":true,\"ticks\":\"\",\"zerolinecolor\":\"white\",\"gridwidth\":2},\"yaxis\":{\"backgroundcolor\":\"#E5ECF6\",\"gridcolor\":\"white\",\"linecolor\":\"white\",\"showbackground\":true,\"ticks\":\"\",\"zerolinecolor\":\"white\",\"gridwidth\":2},\"zaxis\":{\"backgroundcolor\":\"#E5ECF6\",\"gridcolor\":\"white\",\"linecolor\":\"white\",\"showbackground\":true,\"ticks\":\"\",\"zerolinecolor\":\"white\",\"gridwidth\":2}},\"shapedefaults\":{\"line\":{\"color\":\"#2a3f5f\"}},\"annotationdefaults\":{\"arrowcolor\":\"#2a3f5f\",\"arrowhead\":0,\"arrowwidth\":1},\"geo\":{\"bgcolor\":\"white\",\"landcolor\":\"#E5ECF6\",\"subunitcolor\":\"white\",\"showland\":true,\"showlakes\":true,\"lakecolor\":\"white\"},\"title\":{\"x\":0.05},\"mapbox\":{\"style\":\"light\"}}},\"xaxis\":{\"anchor\":\"y\",\"domain\":[0.0,1.0],\"title\":{\"text\":\"Year\"},\"rangeslider\":{\"visible\":true}},\"yaxis\":{\"anchor\":\"x\",\"domain\":[0.0,1.0],\"title\":{\"text\":\"Total\"}},\"legend\":{\"tracegroupgap\":0},\"margin\":{\"t\":60}},                        {\"responsive\": true}                    ).then(function(){\n",
       "                            \n",
       "var gd = document.getElementById('657beb8e-09d0-4155-9026-12df2a56089a');\n",
       "var x = new MutationObserver(function (mutations, observer) {{\n",
       "        var display = window.getComputedStyle(gd).display;\n",
       "        if (!display || display === 'none') {{\n",
       "            console.log([gd, 'removed!']);\n",
       "            Plotly.purge(gd);\n",
       "            observer.disconnect();\n",
       "        }}\n",
       "}});\n",
       "\n",
       "// Listen for the removal of the full notebook cells\n",
       "var notebookContainer = gd.closest('#notebook-container');\n",
       "if (notebookContainer) {{\n",
       "    x.observe(notebookContainer, {childList: true});\n",
       "}}\n",
       "\n",
       "// Listen for the clearing of the current output cell\n",
       "var outputEl = gd.closest('.output');\n",
       "if (outputEl) {{\n",
       "    x.observe(outputEl, {childList: true});\n",
       "}}\n",
       "\n",
       "                        })                };                });            </script>        </div>"
      ]
     },
     "metadata": {},
     "output_type": "display_data"
    }
   ],
   "source": [
    "#  plot to see total emission versus year for 'Senegal'\n",
    "fig_sen = px.line(df_sen, x=\"Year\", y=\"Total\")\n",
    "fig_sen.update_xaxes(rangeslider_visible=True)\n",
    "fig_sen.show()"
   ]
  },
  {
   "cell_type": "code",
   "execution_count": 52,
   "id": "21f78ab5",
   "metadata": {
    "scrolled": true
   },
   "outputs": [
    {
     "data": {
      "application/vnd.plotly.v1+json": {
       "config": {
        "plotlyServerURL": "https://plot.ly"
       },
       "data": [
        {
         "hovertemplate": "Year=%{x}<br>Total=%{y}<extra></extra>",
         "legendgroup": "",
         "line": {
          "color": "#636efa",
          "dash": "solid"
         },
         "marker": {
          "symbol": "circle"
         },
         "mode": "lines",
         "name": "",
         "orientation": "v",
         "showlegend": false,
         "type": "scatter",
         "x": [
          1980,
          1981,
          1982,
          1983,
          1984,
          1985,
          1986,
          1987,
          1988,
          1989,
          1990,
          1991,
          1992,
          1993,
          1994,
          1995,
          1996,
          1997,
          1998,
          1999,
          2000,
          2001,
          2002,
          2003,
          2004,
          2005,
          2006,
          2007,
          2008,
          2009,
          2010,
          2011,
          2012,
          2013,
          2014,
          2015,
          2016,
          2017,
          2018,
          2019,
          2020,
          2021
         ],
         "xaxis": "x",
         "y": [
          4808.520356,
          4686.369198,
          4447.255938,
          4429.374051,
          4662.141491,
          4652.579989,
          4663.369645,
          4825.650651,
          5050.475381,
          5132.134279,
          5122.496248,
          5064.987175,
          5175.219975,
          5274.36263,
          5365.578825,
          5427.798477,
          5616.430864,
          5691.864597,
          5737.12937,
          5810.331395,
          6016.350574,
          5911.988517,
          5952.698581,
          6015.804219,
          6117.962686,
          6137.603445,
          6057.163161,
          6135.287208,
          5918.868654,
          5482.977899,
          5681.392035,
          5546.628958,
          5345.454261,
          5480.926097,
          5528.871276,
          5376.577933,
          5251.757629,
          5210.957584,
          5376.657233,
          5259.143836,
          4715.691109,
          5007.335889
         ],
         "yaxis": "y"
        }
       ],
       "layout": {
        "legend": {
         "tracegroupgap": 0
        },
        "margin": {
         "t": 60
        },
        "template": {
         "data": {
          "bar": [
           {
            "error_x": {
             "color": "#2a3f5f"
            },
            "error_y": {
             "color": "#2a3f5f"
            },
            "marker": {
             "line": {
              "color": "#E5ECF6",
              "width": 0.5
             },
             "pattern": {
              "fillmode": "overlay",
              "size": 10,
              "solidity": 0.2
             }
            },
            "type": "bar"
           }
          ],
          "barpolar": [
           {
            "marker": {
             "line": {
              "color": "#E5ECF6",
              "width": 0.5
             },
             "pattern": {
              "fillmode": "overlay",
              "size": 10,
              "solidity": 0.2
             }
            },
            "type": "barpolar"
           }
          ],
          "carpet": [
           {
            "aaxis": {
             "endlinecolor": "#2a3f5f",
             "gridcolor": "white",
             "linecolor": "white",
             "minorgridcolor": "white",
             "startlinecolor": "#2a3f5f"
            },
            "baxis": {
             "endlinecolor": "#2a3f5f",
             "gridcolor": "white",
             "linecolor": "white",
             "minorgridcolor": "white",
             "startlinecolor": "#2a3f5f"
            },
            "type": "carpet"
           }
          ],
          "choropleth": [
           {
            "colorbar": {
             "outlinewidth": 0,
             "ticks": ""
            },
            "type": "choropleth"
           }
          ],
          "contour": [
           {
            "colorbar": {
             "outlinewidth": 0,
             "ticks": ""
            },
            "colorscale": [
             [
              0,
              "#0d0887"
             ],
             [
              0.1111111111111111,
              "#46039f"
             ],
             [
              0.2222222222222222,
              "#7201a8"
             ],
             [
              0.3333333333333333,
              "#9c179e"
             ],
             [
              0.4444444444444444,
              "#bd3786"
             ],
             [
              0.5555555555555556,
              "#d8576b"
             ],
             [
              0.6666666666666666,
              "#ed7953"
             ],
             [
              0.7777777777777778,
              "#fb9f3a"
             ],
             [
              0.8888888888888888,
              "#fdca26"
             ],
             [
              1,
              "#f0f921"
             ]
            ],
            "type": "contour"
           }
          ],
          "contourcarpet": [
           {
            "colorbar": {
             "outlinewidth": 0,
             "ticks": ""
            },
            "type": "contourcarpet"
           }
          ],
          "heatmap": [
           {
            "colorbar": {
             "outlinewidth": 0,
             "ticks": ""
            },
            "colorscale": [
             [
              0,
              "#0d0887"
             ],
             [
              0.1111111111111111,
              "#46039f"
             ],
             [
              0.2222222222222222,
              "#7201a8"
             ],
             [
              0.3333333333333333,
              "#9c179e"
             ],
             [
              0.4444444444444444,
              "#bd3786"
             ],
             [
              0.5555555555555556,
              "#d8576b"
             ],
             [
              0.6666666666666666,
              "#ed7953"
             ],
             [
              0.7777777777777778,
              "#fb9f3a"
             ],
             [
              0.8888888888888888,
              "#fdca26"
             ],
             [
              1,
              "#f0f921"
             ]
            ],
            "type": "heatmap"
           }
          ],
          "heatmapgl": [
           {
            "colorbar": {
             "outlinewidth": 0,
             "ticks": ""
            },
            "colorscale": [
             [
              0,
              "#0d0887"
             ],
             [
              0.1111111111111111,
              "#46039f"
             ],
             [
              0.2222222222222222,
              "#7201a8"
             ],
             [
              0.3333333333333333,
              "#9c179e"
             ],
             [
              0.4444444444444444,
              "#bd3786"
             ],
             [
              0.5555555555555556,
              "#d8576b"
             ],
             [
              0.6666666666666666,
              "#ed7953"
             ],
             [
              0.7777777777777778,
              "#fb9f3a"
             ],
             [
              0.8888888888888888,
              "#fdca26"
             ],
             [
              1,
              "#f0f921"
             ]
            ],
            "type": "heatmapgl"
           }
          ],
          "histogram": [
           {
            "marker": {
             "pattern": {
              "fillmode": "overlay",
              "size": 10,
              "solidity": 0.2
             }
            },
            "type": "histogram"
           }
          ],
          "histogram2d": [
           {
            "colorbar": {
             "outlinewidth": 0,
             "ticks": ""
            },
            "colorscale": [
             [
              0,
              "#0d0887"
             ],
             [
              0.1111111111111111,
              "#46039f"
             ],
             [
              0.2222222222222222,
              "#7201a8"
             ],
             [
              0.3333333333333333,
              "#9c179e"
             ],
             [
              0.4444444444444444,
              "#bd3786"
             ],
             [
              0.5555555555555556,
              "#d8576b"
             ],
             [
              0.6666666666666666,
              "#ed7953"
             ],
             [
              0.7777777777777778,
              "#fb9f3a"
             ],
             [
              0.8888888888888888,
              "#fdca26"
             ],
             [
              1,
              "#f0f921"
             ]
            ],
            "type": "histogram2d"
           }
          ],
          "histogram2dcontour": [
           {
            "colorbar": {
             "outlinewidth": 0,
             "ticks": ""
            },
            "colorscale": [
             [
              0,
              "#0d0887"
             ],
             [
              0.1111111111111111,
              "#46039f"
             ],
             [
              0.2222222222222222,
              "#7201a8"
             ],
             [
              0.3333333333333333,
              "#9c179e"
             ],
             [
              0.4444444444444444,
              "#bd3786"
             ],
             [
              0.5555555555555556,
              "#d8576b"
             ],
             [
              0.6666666666666666,
              "#ed7953"
             ],
             [
              0.7777777777777778,
              "#fb9f3a"
             ],
             [
              0.8888888888888888,
              "#fdca26"
             ],
             [
              1,
              "#f0f921"
             ]
            ],
            "type": "histogram2dcontour"
           }
          ],
          "mesh3d": [
           {
            "colorbar": {
             "outlinewidth": 0,
             "ticks": ""
            },
            "type": "mesh3d"
           }
          ],
          "parcoords": [
           {
            "line": {
             "colorbar": {
              "outlinewidth": 0,
              "ticks": ""
             }
            },
            "type": "parcoords"
           }
          ],
          "pie": [
           {
            "automargin": true,
            "type": "pie"
           }
          ],
          "scatter": [
           {
            "fillpattern": {
             "fillmode": "overlay",
             "size": 10,
             "solidity": 0.2
            },
            "type": "scatter"
           }
          ],
          "scatter3d": [
           {
            "line": {
             "colorbar": {
              "outlinewidth": 0,
              "ticks": ""
             }
            },
            "marker": {
             "colorbar": {
              "outlinewidth": 0,
              "ticks": ""
             }
            },
            "type": "scatter3d"
           }
          ],
          "scattercarpet": [
           {
            "marker": {
             "colorbar": {
              "outlinewidth": 0,
              "ticks": ""
             }
            },
            "type": "scattercarpet"
           }
          ],
          "scattergeo": [
           {
            "marker": {
             "colorbar": {
              "outlinewidth": 0,
              "ticks": ""
             }
            },
            "type": "scattergeo"
           }
          ],
          "scattergl": [
           {
            "marker": {
             "colorbar": {
              "outlinewidth": 0,
              "ticks": ""
             }
            },
            "type": "scattergl"
           }
          ],
          "scattermapbox": [
           {
            "marker": {
             "colorbar": {
              "outlinewidth": 0,
              "ticks": ""
             }
            },
            "type": "scattermapbox"
           }
          ],
          "scatterpolar": [
           {
            "marker": {
             "colorbar": {
              "outlinewidth": 0,
              "ticks": ""
             }
            },
            "type": "scatterpolar"
           }
          ],
          "scatterpolargl": [
           {
            "marker": {
             "colorbar": {
              "outlinewidth": 0,
              "ticks": ""
             }
            },
            "type": "scatterpolargl"
           }
          ],
          "scatterternary": [
           {
            "marker": {
             "colorbar": {
              "outlinewidth": 0,
              "ticks": ""
             }
            },
            "type": "scatterternary"
           }
          ],
          "surface": [
           {
            "colorbar": {
             "outlinewidth": 0,
             "ticks": ""
            },
            "colorscale": [
             [
              0,
              "#0d0887"
             ],
             [
              0.1111111111111111,
              "#46039f"
             ],
             [
              0.2222222222222222,
              "#7201a8"
             ],
             [
              0.3333333333333333,
              "#9c179e"
             ],
             [
              0.4444444444444444,
              "#bd3786"
             ],
             [
              0.5555555555555556,
              "#d8576b"
             ],
             [
              0.6666666666666666,
              "#ed7953"
             ],
             [
              0.7777777777777778,
              "#fb9f3a"
             ],
             [
              0.8888888888888888,
              "#fdca26"
             ],
             [
              1,
              "#f0f921"
             ]
            ],
            "type": "surface"
           }
          ],
          "table": [
           {
            "cells": {
             "fill": {
              "color": "#EBF0F8"
             },
             "line": {
              "color": "white"
             }
            },
            "header": {
             "fill": {
              "color": "#C8D4E3"
             },
             "line": {
              "color": "white"
             }
            },
            "type": "table"
           }
          ]
         },
         "layout": {
          "annotationdefaults": {
           "arrowcolor": "#2a3f5f",
           "arrowhead": 0,
           "arrowwidth": 1
          },
          "autotypenumbers": "strict",
          "coloraxis": {
           "colorbar": {
            "outlinewidth": 0,
            "ticks": ""
           }
          },
          "colorscale": {
           "diverging": [
            [
             0,
             "#8e0152"
            ],
            [
             0.1,
             "#c51b7d"
            ],
            [
             0.2,
             "#de77ae"
            ],
            [
             0.3,
             "#f1b6da"
            ],
            [
             0.4,
             "#fde0ef"
            ],
            [
             0.5,
             "#f7f7f7"
            ],
            [
             0.6,
             "#e6f5d0"
            ],
            [
             0.7,
             "#b8e186"
            ],
            [
             0.8,
             "#7fbc41"
            ],
            [
             0.9,
             "#4d9221"
            ],
            [
             1,
             "#276419"
            ]
           ],
           "sequential": [
            [
             0,
             "#0d0887"
            ],
            [
             0.1111111111111111,
             "#46039f"
            ],
            [
             0.2222222222222222,
             "#7201a8"
            ],
            [
             0.3333333333333333,
             "#9c179e"
            ],
            [
             0.4444444444444444,
             "#bd3786"
            ],
            [
             0.5555555555555556,
             "#d8576b"
            ],
            [
             0.6666666666666666,
             "#ed7953"
            ],
            [
             0.7777777777777778,
             "#fb9f3a"
            ],
            [
             0.8888888888888888,
             "#fdca26"
            ],
            [
             1,
             "#f0f921"
            ]
           ],
           "sequentialminus": [
            [
             0,
             "#0d0887"
            ],
            [
             0.1111111111111111,
             "#46039f"
            ],
            [
             0.2222222222222222,
             "#7201a8"
            ],
            [
             0.3333333333333333,
             "#9c179e"
            ],
            [
             0.4444444444444444,
             "#bd3786"
            ],
            [
             0.5555555555555556,
             "#d8576b"
            ],
            [
             0.6666666666666666,
             "#ed7953"
            ],
            [
             0.7777777777777778,
             "#fb9f3a"
            ],
            [
             0.8888888888888888,
             "#fdca26"
            ],
            [
             1,
             "#f0f921"
            ]
           ]
          },
          "colorway": [
           "#636efa",
           "#EF553B",
           "#00cc96",
           "#ab63fa",
           "#FFA15A",
           "#19d3f3",
           "#FF6692",
           "#B6E880",
           "#FF97FF",
           "#FECB52"
          ],
          "font": {
           "color": "#2a3f5f"
          },
          "geo": {
           "bgcolor": "white",
           "lakecolor": "white",
           "landcolor": "#E5ECF6",
           "showlakes": true,
           "showland": true,
           "subunitcolor": "white"
          },
          "hoverlabel": {
           "align": "left"
          },
          "hovermode": "closest",
          "mapbox": {
           "style": "light"
          },
          "paper_bgcolor": "white",
          "plot_bgcolor": "#E5ECF6",
          "polar": {
           "angularaxis": {
            "gridcolor": "white",
            "linecolor": "white",
            "ticks": ""
           },
           "bgcolor": "#E5ECF6",
           "radialaxis": {
            "gridcolor": "white",
            "linecolor": "white",
            "ticks": ""
           }
          },
          "scene": {
           "xaxis": {
            "backgroundcolor": "#E5ECF6",
            "gridcolor": "white",
            "gridwidth": 2,
            "linecolor": "white",
            "showbackground": true,
            "ticks": "",
            "zerolinecolor": "white"
           },
           "yaxis": {
            "backgroundcolor": "#E5ECF6",
            "gridcolor": "white",
            "gridwidth": 2,
            "linecolor": "white",
            "showbackground": true,
            "ticks": "",
            "zerolinecolor": "white"
           },
           "zaxis": {
            "backgroundcolor": "#E5ECF6",
            "gridcolor": "white",
            "gridwidth": 2,
            "linecolor": "white",
            "showbackground": true,
            "ticks": "",
            "zerolinecolor": "white"
           }
          },
          "shapedefaults": {
           "line": {
            "color": "#2a3f5f"
           }
          },
          "ternary": {
           "aaxis": {
            "gridcolor": "white",
            "linecolor": "white",
            "ticks": ""
           },
           "baxis": {
            "gridcolor": "white",
            "linecolor": "white",
            "ticks": ""
           },
           "bgcolor": "#E5ECF6",
           "caxis": {
            "gridcolor": "white",
            "linecolor": "white",
            "ticks": ""
           }
          },
          "title": {
           "x": 0.05
          },
          "xaxis": {
           "automargin": true,
           "gridcolor": "white",
           "linecolor": "white",
           "ticks": "",
           "title": {
            "standoff": 15
           },
           "zerolinecolor": "white",
           "zerolinewidth": 2
          },
          "yaxis": {
           "automargin": true,
           "gridcolor": "white",
           "linecolor": "white",
           "ticks": "",
           "title": {
            "standoff": 15
           },
           "zerolinecolor": "white",
           "zerolinewidth": 2
          }
         }
        },
        "xaxis": {
         "anchor": "y",
         "domain": [
          0,
          1
         ],
         "rangeslider": {
          "visible": true
         },
         "title": {
          "text": "Year"
         }
        },
        "yaxis": {
         "anchor": "x",
         "domain": [
          0,
          1
         ],
         "title": {
          "text": "Total"
         }
        }
       }
      },
      "text/html": [
       "<div>                            <div id=\"c6315d96-eafc-49e8-a613-32b7250baf80\" class=\"plotly-graph-div\" style=\"height:525px; width:100%;\"></div>            <script type=\"text/javascript\">                require([\"plotly\"], function(Plotly) {                    window.PLOTLYENV=window.PLOTLYENV || {};                                    if (document.getElementById(\"c6315d96-eafc-49e8-a613-32b7250baf80\")) {                    Plotly.newPlot(                        \"c6315d96-eafc-49e8-a613-32b7250baf80\",                        [{\"hovertemplate\":\"Year=%{x}<br>Total=%{y}<extra></extra>\",\"legendgroup\":\"\",\"line\":{\"color\":\"#636efa\",\"dash\":\"solid\"},\"marker\":{\"symbol\":\"circle\"},\"mode\":\"lines\",\"name\":\"\",\"orientation\":\"v\",\"showlegend\":false,\"x\":[1980,1981,1982,1983,1984,1985,1986,1987,1988,1989,1990,1991,1992,1993,1994,1995,1996,1997,1998,1999,2000,2001,2002,2003,2004,2005,2006,2007,2008,2009,2010,2011,2012,2013,2014,2015,2016,2017,2018,2019,2020,2021],\"xaxis\":\"x\",\"y\":[4808.520356,4686.369198,4447.255938,4429.374051,4662.141491,4652.579989,4663.369645,4825.650651,5050.475381,5132.134279,5122.496248,5064.987175,5175.219975,5274.36263,5365.578825,5427.798477,5616.430864,5691.864597,5737.12937,5810.331395,6016.350574,5911.988517,5952.698581,6015.804219,6117.962686,6137.603445,6057.163161,6135.287208,5918.868654,5482.977899,5681.392035,5546.628958,5345.454261,5480.926097,5528.871276,5376.577933,5251.757629,5210.957584,5376.657233,5259.143836,4715.691109,5007.335889],\"yaxis\":\"y\",\"type\":\"scatter\"}],                        {\"template\":{\"data\":{\"histogram2dcontour\":[{\"type\":\"histogram2dcontour\",\"colorbar\":{\"outlinewidth\":0,\"ticks\":\"\"},\"colorscale\":[[0.0,\"#0d0887\"],[0.1111111111111111,\"#46039f\"],[0.2222222222222222,\"#7201a8\"],[0.3333333333333333,\"#9c179e\"],[0.4444444444444444,\"#bd3786\"],[0.5555555555555556,\"#d8576b\"],[0.6666666666666666,\"#ed7953\"],[0.7777777777777778,\"#fb9f3a\"],[0.8888888888888888,\"#fdca26\"],[1.0,\"#f0f921\"]]}],\"choropleth\":[{\"type\":\"choropleth\",\"colorbar\":{\"outlinewidth\":0,\"ticks\":\"\"}}],\"histogram2d\":[{\"type\":\"histogram2d\",\"colorbar\":{\"outlinewidth\":0,\"ticks\":\"\"},\"colorscale\":[[0.0,\"#0d0887\"],[0.1111111111111111,\"#46039f\"],[0.2222222222222222,\"#7201a8\"],[0.3333333333333333,\"#9c179e\"],[0.4444444444444444,\"#bd3786\"],[0.5555555555555556,\"#d8576b\"],[0.6666666666666666,\"#ed7953\"],[0.7777777777777778,\"#fb9f3a\"],[0.8888888888888888,\"#fdca26\"],[1.0,\"#f0f921\"]]}],\"heatmap\":[{\"type\":\"heatmap\",\"colorbar\":{\"outlinewidth\":0,\"ticks\":\"\"},\"colorscale\":[[0.0,\"#0d0887\"],[0.1111111111111111,\"#46039f\"],[0.2222222222222222,\"#7201a8\"],[0.3333333333333333,\"#9c179e\"],[0.4444444444444444,\"#bd3786\"],[0.5555555555555556,\"#d8576b\"],[0.6666666666666666,\"#ed7953\"],[0.7777777777777778,\"#fb9f3a\"],[0.8888888888888888,\"#fdca26\"],[1.0,\"#f0f921\"]]}],\"heatmapgl\":[{\"type\":\"heatmapgl\",\"colorbar\":{\"outlinewidth\":0,\"ticks\":\"\"},\"colorscale\":[[0.0,\"#0d0887\"],[0.1111111111111111,\"#46039f\"],[0.2222222222222222,\"#7201a8\"],[0.3333333333333333,\"#9c179e\"],[0.4444444444444444,\"#bd3786\"],[0.5555555555555556,\"#d8576b\"],[0.6666666666666666,\"#ed7953\"],[0.7777777777777778,\"#fb9f3a\"],[0.8888888888888888,\"#fdca26\"],[1.0,\"#f0f921\"]]}],\"contourcarpet\":[{\"type\":\"contourcarpet\",\"colorbar\":{\"outlinewidth\":0,\"ticks\":\"\"}}],\"contour\":[{\"type\":\"contour\",\"colorbar\":{\"outlinewidth\":0,\"ticks\":\"\"},\"colorscale\":[[0.0,\"#0d0887\"],[0.1111111111111111,\"#46039f\"],[0.2222222222222222,\"#7201a8\"],[0.3333333333333333,\"#9c179e\"],[0.4444444444444444,\"#bd3786\"],[0.5555555555555556,\"#d8576b\"],[0.6666666666666666,\"#ed7953\"],[0.7777777777777778,\"#fb9f3a\"],[0.8888888888888888,\"#fdca26\"],[1.0,\"#f0f921\"]]}],\"surface\":[{\"type\":\"surface\",\"colorbar\":{\"outlinewidth\":0,\"ticks\":\"\"},\"colorscale\":[[0.0,\"#0d0887\"],[0.1111111111111111,\"#46039f\"],[0.2222222222222222,\"#7201a8\"],[0.3333333333333333,\"#9c179e\"],[0.4444444444444444,\"#bd3786\"],[0.5555555555555556,\"#d8576b\"],[0.6666666666666666,\"#ed7953\"],[0.7777777777777778,\"#fb9f3a\"],[0.8888888888888888,\"#fdca26\"],[1.0,\"#f0f921\"]]}],\"mesh3d\":[{\"type\":\"mesh3d\",\"colorbar\":{\"outlinewidth\":0,\"ticks\":\"\"}}],\"scatter\":[{\"fillpattern\":{\"fillmode\":\"overlay\",\"size\":10,\"solidity\":0.2},\"type\":\"scatter\"}],\"parcoords\":[{\"type\":\"parcoords\",\"line\":{\"colorbar\":{\"outlinewidth\":0,\"ticks\":\"\"}}}],\"scatterpolargl\":[{\"type\":\"scatterpolargl\",\"marker\":{\"colorbar\":{\"outlinewidth\":0,\"ticks\":\"\"}}}],\"bar\":[{\"error_x\":{\"color\":\"#2a3f5f\"},\"error_y\":{\"color\":\"#2a3f5f\"},\"marker\":{\"line\":{\"color\":\"#E5ECF6\",\"width\":0.5},\"pattern\":{\"fillmode\":\"overlay\",\"size\":10,\"solidity\":0.2}},\"type\":\"bar\"}],\"scattergeo\":[{\"type\":\"scattergeo\",\"marker\":{\"colorbar\":{\"outlinewidth\":0,\"ticks\":\"\"}}}],\"scatterpolar\":[{\"type\":\"scatterpolar\",\"marker\":{\"colorbar\":{\"outlinewidth\":0,\"ticks\":\"\"}}}],\"histogram\":[{\"marker\":{\"pattern\":{\"fillmode\":\"overlay\",\"size\":10,\"solidity\":0.2}},\"type\":\"histogram\"}],\"scattergl\":[{\"type\":\"scattergl\",\"marker\":{\"colorbar\":{\"outlinewidth\":0,\"ticks\":\"\"}}}],\"scatter3d\":[{\"type\":\"scatter3d\",\"line\":{\"colorbar\":{\"outlinewidth\":0,\"ticks\":\"\"}},\"marker\":{\"colorbar\":{\"outlinewidth\":0,\"ticks\":\"\"}}}],\"scattermapbox\":[{\"type\":\"scattermapbox\",\"marker\":{\"colorbar\":{\"outlinewidth\":0,\"ticks\":\"\"}}}],\"scatterternary\":[{\"type\":\"scatterternary\",\"marker\":{\"colorbar\":{\"outlinewidth\":0,\"ticks\":\"\"}}}],\"scattercarpet\":[{\"type\":\"scattercarpet\",\"marker\":{\"colorbar\":{\"outlinewidth\":0,\"ticks\":\"\"}}}],\"carpet\":[{\"aaxis\":{\"endlinecolor\":\"#2a3f5f\",\"gridcolor\":\"white\",\"linecolor\":\"white\",\"minorgridcolor\":\"white\",\"startlinecolor\":\"#2a3f5f\"},\"baxis\":{\"endlinecolor\":\"#2a3f5f\",\"gridcolor\":\"white\",\"linecolor\":\"white\",\"minorgridcolor\":\"white\",\"startlinecolor\":\"#2a3f5f\"},\"type\":\"carpet\"}],\"table\":[{\"cells\":{\"fill\":{\"color\":\"#EBF0F8\"},\"line\":{\"color\":\"white\"}},\"header\":{\"fill\":{\"color\":\"#C8D4E3\"},\"line\":{\"color\":\"white\"}},\"type\":\"table\"}],\"barpolar\":[{\"marker\":{\"line\":{\"color\":\"#E5ECF6\",\"width\":0.5},\"pattern\":{\"fillmode\":\"overlay\",\"size\":10,\"solidity\":0.2}},\"type\":\"barpolar\"}],\"pie\":[{\"automargin\":true,\"type\":\"pie\"}]},\"layout\":{\"autotypenumbers\":\"strict\",\"colorway\":[\"#636efa\",\"#EF553B\",\"#00cc96\",\"#ab63fa\",\"#FFA15A\",\"#19d3f3\",\"#FF6692\",\"#B6E880\",\"#FF97FF\",\"#FECB52\"],\"font\":{\"color\":\"#2a3f5f\"},\"hovermode\":\"closest\",\"hoverlabel\":{\"align\":\"left\"},\"paper_bgcolor\":\"white\",\"plot_bgcolor\":\"#E5ECF6\",\"polar\":{\"bgcolor\":\"#E5ECF6\",\"angularaxis\":{\"gridcolor\":\"white\",\"linecolor\":\"white\",\"ticks\":\"\"},\"radialaxis\":{\"gridcolor\":\"white\",\"linecolor\":\"white\",\"ticks\":\"\"}},\"ternary\":{\"bgcolor\":\"#E5ECF6\",\"aaxis\":{\"gridcolor\":\"white\",\"linecolor\":\"white\",\"ticks\":\"\"},\"baxis\":{\"gridcolor\":\"white\",\"linecolor\":\"white\",\"ticks\":\"\"},\"caxis\":{\"gridcolor\":\"white\",\"linecolor\":\"white\",\"ticks\":\"\"}},\"coloraxis\":{\"colorbar\":{\"outlinewidth\":0,\"ticks\":\"\"}},\"colorscale\":{\"sequential\":[[0.0,\"#0d0887\"],[0.1111111111111111,\"#46039f\"],[0.2222222222222222,\"#7201a8\"],[0.3333333333333333,\"#9c179e\"],[0.4444444444444444,\"#bd3786\"],[0.5555555555555556,\"#d8576b\"],[0.6666666666666666,\"#ed7953\"],[0.7777777777777778,\"#fb9f3a\"],[0.8888888888888888,\"#fdca26\"],[1.0,\"#f0f921\"]],\"sequentialminus\":[[0.0,\"#0d0887\"],[0.1111111111111111,\"#46039f\"],[0.2222222222222222,\"#7201a8\"],[0.3333333333333333,\"#9c179e\"],[0.4444444444444444,\"#bd3786\"],[0.5555555555555556,\"#d8576b\"],[0.6666666666666666,\"#ed7953\"],[0.7777777777777778,\"#fb9f3a\"],[0.8888888888888888,\"#fdca26\"],[1.0,\"#f0f921\"]],\"diverging\":[[0,\"#8e0152\"],[0.1,\"#c51b7d\"],[0.2,\"#de77ae\"],[0.3,\"#f1b6da\"],[0.4,\"#fde0ef\"],[0.5,\"#f7f7f7\"],[0.6,\"#e6f5d0\"],[0.7,\"#b8e186\"],[0.8,\"#7fbc41\"],[0.9,\"#4d9221\"],[1,\"#276419\"]]},\"xaxis\":{\"gridcolor\":\"white\",\"linecolor\":\"white\",\"ticks\":\"\",\"title\":{\"standoff\":15},\"zerolinecolor\":\"white\",\"automargin\":true,\"zerolinewidth\":2},\"yaxis\":{\"gridcolor\":\"white\",\"linecolor\":\"white\",\"ticks\":\"\",\"title\":{\"standoff\":15},\"zerolinecolor\":\"white\",\"automargin\":true,\"zerolinewidth\":2},\"scene\":{\"xaxis\":{\"backgroundcolor\":\"#E5ECF6\",\"gridcolor\":\"white\",\"linecolor\":\"white\",\"showbackground\":true,\"ticks\":\"\",\"zerolinecolor\":\"white\",\"gridwidth\":2},\"yaxis\":{\"backgroundcolor\":\"#E5ECF6\",\"gridcolor\":\"white\",\"linecolor\":\"white\",\"showbackground\":true,\"ticks\":\"\",\"zerolinecolor\":\"white\",\"gridwidth\":2},\"zaxis\":{\"backgroundcolor\":\"#E5ECF6\",\"gridcolor\":\"white\",\"linecolor\":\"white\",\"showbackground\":true,\"ticks\":\"\",\"zerolinecolor\":\"white\",\"gridwidth\":2}},\"shapedefaults\":{\"line\":{\"color\":\"#2a3f5f\"}},\"annotationdefaults\":{\"arrowcolor\":\"#2a3f5f\",\"arrowhead\":0,\"arrowwidth\":1},\"geo\":{\"bgcolor\":\"white\",\"landcolor\":\"#E5ECF6\",\"subunitcolor\":\"white\",\"showland\":true,\"showlakes\":true,\"lakecolor\":\"white\"},\"title\":{\"x\":0.05},\"mapbox\":{\"style\":\"light\"}}},\"xaxis\":{\"anchor\":\"y\",\"domain\":[0.0,1.0],\"title\":{\"text\":\"Year\"},\"rangeslider\":{\"visible\":true}},\"yaxis\":{\"anchor\":\"x\",\"domain\":[0.0,1.0],\"title\":{\"text\":\"Total\"}},\"legend\":{\"tracegroupgap\":0},\"margin\":{\"t\":60}},                        {\"responsive\": true}                    ).then(function(){\n",
       "                            \n",
       "var gd = document.getElementById('c6315d96-eafc-49e8-a613-32b7250baf80');\n",
       "var x = new MutationObserver(function (mutations, observer) {{\n",
       "        var display = window.getComputedStyle(gd).display;\n",
       "        if (!display || display === 'none') {{\n",
       "            console.log([gd, 'removed!']);\n",
       "            Plotly.purge(gd);\n",
       "            observer.disconnect();\n",
       "        }}\n",
       "}});\n",
       "\n",
       "// Listen for the removal of the full notebook cells\n",
       "var notebookContainer = gd.closest('#notebook-container');\n",
       "if (notebookContainer) {{\n",
       "    x.observe(notebookContainer, {childList: true});\n",
       "}}\n",
       "\n",
       "// Listen for the clearing of the current output cell\n",
       "var outputEl = gd.closest('.output');\n",
       "if (outputEl) {{\n",
       "    x.observe(outputEl, {childList: true});\n",
       "}}\n",
       "\n",
       "                        })                };                });            </script>        </div>"
      ]
     },
     "metadata": {},
     "output_type": "display_data"
    }
   ],
   "source": [
    "#  plot to see total emission versus year for 'USA'\n",
    "fig_usa = px.line(df_usa, x=\"Year\", y=\"Total\")\n",
    "fig_usa.update_xaxes(rangeslider_visible=True)\n",
    "fig_usa.show()"
   ]
  },
  {
   "cell_type": "code",
   "execution_count": 53,
   "id": "566dfd49",
   "metadata": {},
   "outputs": [
    {
     "data": {
      "application/vnd.plotly.v1+json": {
       "config": {
        "plotlyServerURL": "https://plot.ly"
       },
       "data": [
        {
         "hovertemplate": "Year=%{x}<br>Total=%{y}<extra></extra>",
         "legendgroup": "",
         "line": {
          "color": "#636efa",
          "dash": "solid"
         },
         "marker": {
          "symbol": "circle"
         },
         "mode": "lines",
         "name": "",
         "orientation": "v",
         "showlegend": false,
         "type": "scatter",
         "x": [
          1980,
          1981,
          1982,
          1983,
          1984,
          1985,
          1986,
          1987,
          1988,
          1989,
          1990,
          1991,
          1992,
          1993,
          1994,
          1995,
          1996,
          1997,
          1998,
          1999,
          2000,
          2001,
          2002,
          2003,
          2004,
          2005,
          2006,
          2007,
          2008,
          2009,
          2010,
          2011,
          2012,
          2013,
          2014,
          2015,
          2016,
          2017,
          2018,
          2019,
          2020,
          2021
         ],
         "xaxis": "x",
         "y": [
          1100.065995,
          1048.523357,
          1015.733894,
          1011.604905,
          1033.244579,
          1044.117955,
          1047.471904,
          1032.442842,
          1029.02413,
          1008.792342,
          1051.979103,
          1013.824095,
          965.541817,
          955.819934,
          939.492314,
          938.613565,
          958.700377,
          930.870087,
          922.812222,
          895.352121,
          899.351824,
          916.144477,
          899.449765,
          900.627666,
          886.637162,
          866.30277,
          877.938802,
          851.222968,
          854.508174,
          789.89998,
          832.540983,
          808.911525,
          813.693048,
          831.207653,
          792.255427,
          795.55657,
          800.339834,
          785.616471,
          754.408432,
          707.149948,
          639.381013,
          674.753566
         ],
         "yaxis": "y"
        }
       ],
       "layout": {
        "legend": {
         "tracegroupgap": 0
        },
        "margin": {
         "t": 60
        },
        "template": {
         "data": {
          "bar": [
           {
            "error_x": {
             "color": "#2a3f5f"
            },
            "error_y": {
             "color": "#2a3f5f"
            },
            "marker": {
             "line": {
              "color": "#E5ECF6",
              "width": 0.5
             },
             "pattern": {
              "fillmode": "overlay",
              "size": 10,
              "solidity": 0.2
             }
            },
            "type": "bar"
           }
          ],
          "barpolar": [
           {
            "marker": {
             "line": {
              "color": "#E5ECF6",
              "width": 0.5
             },
             "pattern": {
              "fillmode": "overlay",
              "size": 10,
              "solidity": 0.2
             }
            },
            "type": "barpolar"
           }
          ],
          "carpet": [
           {
            "aaxis": {
             "endlinecolor": "#2a3f5f",
             "gridcolor": "white",
             "linecolor": "white",
             "minorgridcolor": "white",
             "startlinecolor": "#2a3f5f"
            },
            "baxis": {
             "endlinecolor": "#2a3f5f",
             "gridcolor": "white",
             "linecolor": "white",
             "minorgridcolor": "white",
             "startlinecolor": "#2a3f5f"
            },
            "type": "carpet"
           }
          ],
          "choropleth": [
           {
            "colorbar": {
             "outlinewidth": 0,
             "ticks": ""
            },
            "type": "choropleth"
           }
          ],
          "contour": [
           {
            "colorbar": {
             "outlinewidth": 0,
             "ticks": ""
            },
            "colorscale": [
             [
              0,
              "#0d0887"
             ],
             [
              0.1111111111111111,
              "#46039f"
             ],
             [
              0.2222222222222222,
              "#7201a8"
             ],
             [
              0.3333333333333333,
              "#9c179e"
             ],
             [
              0.4444444444444444,
              "#bd3786"
             ],
             [
              0.5555555555555556,
              "#d8576b"
             ],
             [
              0.6666666666666666,
              "#ed7953"
             ],
             [
              0.7777777777777778,
              "#fb9f3a"
             ],
             [
              0.8888888888888888,
              "#fdca26"
             ],
             [
              1,
              "#f0f921"
             ]
            ],
            "type": "contour"
           }
          ],
          "contourcarpet": [
           {
            "colorbar": {
             "outlinewidth": 0,
             "ticks": ""
            },
            "type": "contourcarpet"
           }
          ],
          "heatmap": [
           {
            "colorbar": {
             "outlinewidth": 0,
             "ticks": ""
            },
            "colorscale": [
             [
              0,
              "#0d0887"
             ],
             [
              0.1111111111111111,
              "#46039f"
             ],
             [
              0.2222222222222222,
              "#7201a8"
             ],
             [
              0.3333333333333333,
              "#9c179e"
             ],
             [
              0.4444444444444444,
              "#bd3786"
             ],
             [
              0.5555555555555556,
              "#d8576b"
             ],
             [
              0.6666666666666666,
              "#ed7953"
             ],
             [
              0.7777777777777778,
              "#fb9f3a"
             ],
             [
              0.8888888888888888,
              "#fdca26"
             ],
             [
              1,
              "#f0f921"
             ]
            ],
            "type": "heatmap"
           }
          ],
          "heatmapgl": [
           {
            "colorbar": {
             "outlinewidth": 0,
             "ticks": ""
            },
            "colorscale": [
             [
              0,
              "#0d0887"
             ],
             [
              0.1111111111111111,
              "#46039f"
             ],
             [
              0.2222222222222222,
              "#7201a8"
             ],
             [
              0.3333333333333333,
              "#9c179e"
             ],
             [
              0.4444444444444444,
              "#bd3786"
             ],
             [
              0.5555555555555556,
              "#d8576b"
             ],
             [
              0.6666666666666666,
              "#ed7953"
             ],
             [
              0.7777777777777778,
              "#fb9f3a"
             ],
             [
              0.8888888888888888,
              "#fdca26"
             ],
             [
              1,
              "#f0f921"
             ]
            ],
            "type": "heatmapgl"
           }
          ],
          "histogram": [
           {
            "marker": {
             "pattern": {
              "fillmode": "overlay",
              "size": 10,
              "solidity": 0.2
             }
            },
            "type": "histogram"
           }
          ],
          "histogram2d": [
           {
            "colorbar": {
             "outlinewidth": 0,
             "ticks": ""
            },
            "colorscale": [
             [
              0,
              "#0d0887"
             ],
             [
              0.1111111111111111,
              "#46039f"
             ],
             [
              0.2222222222222222,
              "#7201a8"
             ],
             [
              0.3333333333333333,
              "#9c179e"
             ],
             [
              0.4444444444444444,
              "#bd3786"
             ],
             [
              0.5555555555555556,
              "#d8576b"
             ],
             [
              0.6666666666666666,
              "#ed7953"
             ],
             [
              0.7777777777777778,
              "#fb9f3a"
             ],
             [
              0.8888888888888888,
              "#fdca26"
             ],
             [
              1,
              "#f0f921"
             ]
            ],
            "type": "histogram2d"
           }
          ],
          "histogram2dcontour": [
           {
            "colorbar": {
             "outlinewidth": 0,
             "ticks": ""
            },
            "colorscale": [
             [
              0,
              "#0d0887"
             ],
             [
              0.1111111111111111,
              "#46039f"
             ],
             [
              0.2222222222222222,
              "#7201a8"
             ],
             [
              0.3333333333333333,
              "#9c179e"
             ],
             [
              0.4444444444444444,
              "#bd3786"
             ],
             [
              0.5555555555555556,
              "#d8576b"
             ],
             [
              0.6666666666666666,
              "#ed7953"
             ],
             [
              0.7777777777777778,
              "#fb9f3a"
             ],
             [
              0.8888888888888888,
              "#fdca26"
             ],
             [
              1,
              "#f0f921"
             ]
            ],
            "type": "histogram2dcontour"
           }
          ],
          "mesh3d": [
           {
            "colorbar": {
             "outlinewidth": 0,
             "ticks": ""
            },
            "type": "mesh3d"
           }
          ],
          "parcoords": [
           {
            "line": {
             "colorbar": {
              "outlinewidth": 0,
              "ticks": ""
             }
            },
            "type": "parcoords"
           }
          ],
          "pie": [
           {
            "automargin": true,
            "type": "pie"
           }
          ],
          "scatter": [
           {
            "fillpattern": {
             "fillmode": "overlay",
             "size": 10,
             "solidity": 0.2
            },
            "type": "scatter"
           }
          ],
          "scatter3d": [
           {
            "line": {
             "colorbar": {
              "outlinewidth": 0,
              "ticks": ""
             }
            },
            "marker": {
             "colorbar": {
              "outlinewidth": 0,
              "ticks": ""
             }
            },
            "type": "scatter3d"
           }
          ],
          "scattercarpet": [
           {
            "marker": {
             "colorbar": {
              "outlinewidth": 0,
              "ticks": ""
             }
            },
            "type": "scattercarpet"
           }
          ],
          "scattergeo": [
           {
            "marker": {
             "colorbar": {
              "outlinewidth": 0,
              "ticks": ""
             }
            },
            "type": "scattergeo"
           }
          ],
          "scattergl": [
           {
            "marker": {
             "colorbar": {
              "outlinewidth": 0,
              "ticks": ""
             }
            },
            "type": "scattergl"
           }
          ],
          "scattermapbox": [
           {
            "marker": {
             "colorbar": {
              "outlinewidth": 0,
              "ticks": ""
             }
            },
            "type": "scattermapbox"
           }
          ],
          "scatterpolar": [
           {
            "marker": {
             "colorbar": {
              "outlinewidth": 0,
              "ticks": ""
             }
            },
            "type": "scatterpolar"
           }
          ],
          "scatterpolargl": [
           {
            "marker": {
             "colorbar": {
              "outlinewidth": 0,
              "ticks": ""
             }
            },
            "type": "scatterpolargl"
           }
          ],
          "scatterternary": [
           {
            "marker": {
             "colorbar": {
              "outlinewidth": 0,
              "ticks": ""
             }
            },
            "type": "scatterternary"
           }
          ],
          "surface": [
           {
            "colorbar": {
             "outlinewidth": 0,
             "ticks": ""
            },
            "colorscale": [
             [
              0,
              "#0d0887"
             ],
             [
              0.1111111111111111,
              "#46039f"
             ],
             [
              0.2222222222222222,
              "#7201a8"
             ],
             [
              0.3333333333333333,
              "#9c179e"
             ],
             [
              0.4444444444444444,
              "#bd3786"
             ],
             [
              0.5555555555555556,
              "#d8576b"
             ],
             [
              0.6666666666666666,
              "#ed7953"
             ],
             [
              0.7777777777777778,
              "#fb9f3a"
             ],
             [
              0.8888888888888888,
              "#fdca26"
             ],
             [
              1,
              "#f0f921"
             ]
            ],
            "type": "surface"
           }
          ],
          "table": [
           {
            "cells": {
             "fill": {
              "color": "#EBF0F8"
             },
             "line": {
              "color": "white"
             }
            },
            "header": {
             "fill": {
              "color": "#C8D4E3"
             },
             "line": {
              "color": "white"
             }
            },
            "type": "table"
           }
          ]
         },
         "layout": {
          "annotationdefaults": {
           "arrowcolor": "#2a3f5f",
           "arrowhead": 0,
           "arrowwidth": 1
          },
          "autotypenumbers": "strict",
          "coloraxis": {
           "colorbar": {
            "outlinewidth": 0,
            "ticks": ""
           }
          },
          "colorscale": {
           "diverging": [
            [
             0,
             "#8e0152"
            ],
            [
             0.1,
             "#c51b7d"
            ],
            [
             0.2,
             "#de77ae"
            ],
            [
             0.3,
             "#f1b6da"
            ],
            [
             0.4,
             "#fde0ef"
            ],
            [
             0.5,
             "#f7f7f7"
            ],
            [
             0.6,
             "#e6f5d0"
            ],
            [
             0.7,
             "#b8e186"
            ],
            [
             0.8,
             "#7fbc41"
            ],
            [
             0.9,
             "#4d9221"
            ],
            [
             1,
             "#276419"
            ]
           ],
           "sequential": [
            [
             0,
             "#0d0887"
            ],
            [
             0.1111111111111111,
             "#46039f"
            ],
            [
             0.2222222222222222,
             "#7201a8"
            ],
            [
             0.3333333333333333,
             "#9c179e"
            ],
            [
             0.4444444444444444,
             "#bd3786"
            ],
            [
             0.5555555555555556,
             "#d8576b"
            ],
            [
             0.6666666666666666,
             "#ed7953"
            ],
            [
             0.7777777777777778,
             "#fb9f3a"
            ],
            [
             0.8888888888888888,
             "#fdca26"
            ],
            [
             1,
             "#f0f921"
            ]
           ],
           "sequentialminus": [
            [
             0,
             "#0d0887"
            ],
            [
             0.1111111111111111,
             "#46039f"
            ],
            [
             0.2222222222222222,
             "#7201a8"
            ],
            [
             0.3333333333333333,
             "#9c179e"
            ],
            [
             0.4444444444444444,
             "#bd3786"
            ],
            [
             0.5555555555555556,
             "#d8576b"
            ],
            [
             0.6666666666666666,
             "#ed7953"
            ],
            [
             0.7777777777777778,
             "#fb9f3a"
            ],
            [
             0.8888888888888888,
             "#fdca26"
            ],
            [
             1,
             "#f0f921"
            ]
           ]
          },
          "colorway": [
           "#636efa",
           "#EF553B",
           "#00cc96",
           "#ab63fa",
           "#FFA15A",
           "#19d3f3",
           "#FF6692",
           "#B6E880",
           "#FF97FF",
           "#FECB52"
          ],
          "font": {
           "color": "#2a3f5f"
          },
          "geo": {
           "bgcolor": "white",
           "lakecolor": "white",
           "landcolor": "#E5ECF6",
           "showlakes": true,
           "showland": true,
           "subunitcolor": "white"
          },
          "hoverlabel": {
           "align": "left"
          },
          "hovermode": "closest",
          "mapbox": {
           "style": "light"
          },
          "paper_bgcolor": "white",
          "plot_bgcolor": "#E5ECF6",
          "polar": {
           "angularaxis": {
            "gridcolor": "white",
            "linecolor": "white",
            "ticks": ""
           },
           "bgcolor": "#E5ECF6",
           "radialaxis": {
            "gridcolor": "white",
            "linecolor": "white",
            "ticks": ""
           }
          },
          "scene": {
           "xaxis": {
            "backgroundcolor": "#E5ECF6",
            "gridcolor": "white",
            "gridwidth": 2,
            "linecolor": "white",
            "showbackground": true,
            "ticks": "",
            "zerolinecolor": "white"
           },
           "yaxis": {
            "backgroundcolor": "#E5ECF6",
            "gridcolor": "white",
            "gridwidth": 2,
            "linecolor": "white",
            "showbackground": true,
            "ticks": "",
            "zerolinecolor": "white"
           },
           "zaxis": {
            "backgroundcolor": "#E5ECF6",
            "gridcolor": "white",
            "gridwidth": 2,
            "linecolor": "white",
            "showbackground": true,
            "ticks": "",
            "zerolinecolor": "white"
           }
          },
          "shapedefaults": {
           "line": {
            "color": "#2a3f5f"
           }
          },
          "ternary": {
           "aaxis": {
            "gridcolor": "white",
            "linecolor": "white",
            "ticks": ""
           },
           "baxis": {
            "gridcolor": "white",
            "linecolor": "white",
            "ticks": ""
           },
           "bgcolor": "#E5ECF6",
           "caxis": {
            "gridcolor": "white",
            "linecolor": "white",
            "ticks": ""
           }
          },
          "title": {
           "x": 0.05
          },
          "xaxis": {
           "automargin": true,
           "gridcolor": "white",
           "linecolor": "white",
           "ticks": "",
           "title": {
            "standoff": 15
           },
           "zerolinecolor": "white",
           "zerolinewidth": 2
          },
          "yaxis": {
           "automargin": true,
           "gridcolor": "white",
           "linecolor": "white",
           "ticks": "",
           "title": {
            "standoff": 15
           },
           "zerolinecolor": "white",
           "zerolinewidth": 2
          }
         }
        },
        "xaxis": {
         "anchor": "y",
         "domain": [
          0,
          1
         ],
         "rangeslider": {
          "visible": true
         },
         "title": {
          "text": "Year"
         }
        },
        "yaxis": {
         "anchor": "x",
         "domain": [
          0,
          1
         ],
         "title": {
          "text": "Total"
         }
        }
       }
      },
      "text/html": [
       "<div>                            <div id=\"dba88e8a-1dcb-4cfe-92d1-1fddd83f959a\" class=\"plotly-graph-div\" style=\"height:525px; width:100%;\"></div>            <script type=\"text/javascript\">                require([\"plotly\"], function(Plotly) {                    window.PLOTLYENV=window.PLOTLYENV || {};                                    if (document.getElementById(\"dba88e8a-1dcb-4cfe-92d1-1fddd83f959a\")) {                    Plotly.newPlot(                        \"dba88e8a-1dcb-4cfe-92d1-1fddd83f959a\",                        [{\"hovertemplate\":\"Year=%{x}<br>Total=%{y}<extra></extra>\",\"legendgroup\":\"\",\"line\":{\"color\":\"#636efa\",\"dash\":\"solid\"},\"marker\":{\"symbol\":\"circle\"},\"mode\":\"lines\",\"name\":\"\",\"orientation\":\"v\",\"showlegend\":false,\"x\":[1980,1981,1982,1983,1984,1985,1986,1987,1988,1989,1990,1991,1992,1993,1994,1995,1996,1997,1998,1999,2000,2001,2002,2003,2004,2005,2006,2007,2008,2009,2010,2011,2012,2013,2014,2015,2016,2017,2018,2019,2020,2021],\"xaxis\":\"x\",\"y\":[1100.065995,1048.523357,1015.733894,1011.604905,1033.244579,1044.117955,1047.471904,1032.442842,1029.02413,1008.792342,1051.979103,1013.824095,965.541817,955.819934,939.492314,938.613565,958.700377,930.870087,922.812222,895.352121,899.351824,916.144477,899.449765,900.627666,886.637162,866.30277,877.938802,851.222968,854.508174,789.89998,832.540983,808.911525,813.693048,831.207653,792.255427,795.55657,800.339834,785.616471,754.408432,707.149948,639.381013,674.753566],\"yaxis\":\"y\",\"type\":\"scatter\"}],                        {\"template\":{\"data\":{\"histogram2dcontour\":[{\"type\":\"histogram2dcontour\",\"colorbar\":{\"outlinewidth\":0,\"ticks\":\"\"},\"colorscale\":[[0.0,\"#0d0887\"],[0.1111111111111111,\"#46039f\"],[0.2222222222222222,\"#7201a8\"],[0.3333333333333333,\"#9c179e\"],[0.4444444444444444,\"#bd3786\"],[0.5555555555555556,\"#d8576b\"],[0.6666666666666666,\"#ed7953\"],[0.7777777777777778,\"#fb9f3a\"],[0.8888888888888888,\"#fdca26\"],[1.0,\"#f0f921\"]]}],\"choropleth\":[{\"type\":\"choropleth\",\"colorbar\":{\"outlinewidth\":0,\"ticks\":\"\"}}],\"histogram2d\":[{\"type\":\"histogram2d\",\"colorbar\":{\"outlinewidth\":0,\"ticks\":\"\"},\"colorscale\":[[0.0,\"#0d0887\"],[0.1111111111111111,\"#46039f\"],[0.2222222222222222,\"#7201a8\"],[0.3333333333333333,\"#9c179e\"],[0.4444444444444444,\"#bd3786\"],[0.5555555555555556,\"#d8576b\"],[0.6666666666666666,\"#ed7953\"],[0.7777777777777778,\"#fb9f3a\"],[0.8888888888888888,\"#fdca26\"],[1.0,\"#f0f921\"]]}],\"heatmap\":[{\"type\":\"heatmap\",\"colorbar\":{\"outlinewidth\":0,\"ticks\":\"\"},\"colorscale\":[[0.0,\"#0d0887\"],[0.1111111111111111,\"#46039f\"],[0.2222222222222222,\"#7201a8\"],[0.3333333333333333,\"#9c179e\"],[0.4444444444444444,\"#bd3786\"],[0.5555555555555556,\"#d8576b\"],[0.6666666666666666,\"#ed7953\"],[0.7777777777777778,\"#fb9f3a\"],[0.8888888888888888,\"#fdca26\"],[1.0,\"#f0f921\"]]}],\"heatmapgl\":[{\"type\":\"heatmapgl\",\"colorbar\":{\"outlinewidth\":0,\"ticks\":\"\"},\"colorscale\":[[0.0,\"#0d0887\"],[0.1111111111111111,\"#46039f\"],[0.2222222222222222,\"#7201a8\"],[0.3333333333333333,\"#9c179e\"],[0.4444444444444444,\"#bd3786\"],[0.5555555555555556,\"#d8576b\"],[0.6666666666666666,\"#ed7953\"],[0.7777777777777778,\"#fb9f3a\"],[0.8888888888888888,\"#fdca26\"],[1.0,\"#f0f921\"]]}],\"contourcarpet\":[{\"type\":\"contourcarpet\",\"colorbar\":{\"outlinewidth\":0,\"ticks\":\"\"}}],\"contour\":[{\"type\":\"contour\",\"colorbar\":{\"outlinewidth\":0,\"ticks\":\"\"},\"colorscale\":[[0.0,\"#0d0887\"],[0.1111111111111111,\"#46039f\"],[0.2222222222222222,\"#7201a8\"],[0.3333333333333333,\"#9c179e\"],[0.4444444444444444,\"#bd3786\"],[0.5555555555555556,\"#d8576b\"],[0.6666666666666666,\"#ed7953\"],[0.7777777777777778,\"#fb9f3a\"],[0.8888888888888888,\"#fdca26\"],[1.0,\"#f0f921\"]]}],\"surface\":[{\"type\":\"surface\",\"colorbar\":{\"outlinewidth\":0,\"ticks\":\"\"},\"colorscale\":[[0.0,\"#0d0887\"],[0.1111111111111111,\"#46039f\"],[0.2222222222222222,\"#7201a8\"],[0.3333333333333333,\"#9c179e\"],[0.4444444444444444,\"#bd3786\"],[0.5555555555555556,\"#d8576b\"],[0.6666666666666666,\"#ed7953\"],[0.7777777777777778,\"#fb9f3a\"],[0.8888888888888888,\"#fdca26\"],[1.0,\"#f0f921\"]]}],\"mesh3d\":[{\"type\":\"mesh3d\",\"colorbar\":{\"outlinewidth\":0,\"ticks\":\"\"}}],\"scatter\":[{\"fillpattern\":{\"fillmode\":\"overlay\",\"size\":10,\"solidity\":0.2},\"type\":\"scatter\"}],\"parcoords\":[{\"type\":\"parcoords\",\"line\":{\"colorbar\":{\"outlinewidth\":0,\"ticks\":\"\"}}}],\"scatterpolargl\":[{\"type\":\"scatterpolargl\",\"marker\":{\"colorbar\":{\"outlinewidth\":0,\"ticks\":\"\"}}}],\"bar\":[{\"error_x\":{\"color\":\"#2a3f5f\"},\"error_y\":{\"color\":\"#2a3f5f\"},\"marker\":{\"line\":{\"color\":\"#E5ECF6\",\"width\":0.5},\"pattern\":{\"fillmode\":\"overlay\",\"size\":10,\"solidity\":0.2}},\"type\":\"bar\"}],\"scattergeo\":[{\"type\":\"scattergeo\",\"marker\":{\"colorbar\":{\"outlinewidth\":0,\"ticks\":\"\"}}}],\"scatterpolar\":[{\"type\":\"scatterpolar\",\"marker\":{\"colorbar\":{\"outlinewidth\":0,\"ticks\":\"\"}}}],\"histogram\":[{\"marker\":{\"pattern\":{\"fillmode\":\"overlay\",\"size\":10,\"solidity\":0.2}},\"type\":\"histogram\"}],\"scattergl\":[{\"type\":\"scattergl\",\"marker\":{\"colorbar\":{\"outlinewidth\":0,\"ticks\":\"\"}}}],\"scatter3d\":[{\"type\":\"scatter3d\",\"line\":{\"colorbar\":{\"outlinewidth\":0,\"ticks\":\"\"}},\"marker\":{\"colorbar\":{\"outlinewidth\":0,\"ticks\":\"\"}}}],\"scattermapbox\":[{\"type\":\"scattermapbox\",\"marker\":{\"colorbar\":{\"outlinewidth\":0,\"ticks\":\"\"}}}],\"scatterternary\":[{\"type\":\"scatterternary\",\"marker\":{\"colorbar\":{\"outlinewidth\":0,\"ticks\":\"\"}}}],\"scattercarpet\":[{\"type\":\"scattercarpet\",\"marker\":{\"colorbar\":{\"outlinewidth\":0,\"ticks\":\"\"}}}],\"carpet\":[{\"aaxis\":{\"endlinecolor\":\"#2a3f5f\",\"gridcolor\":\"white\",\"linecolor\":\"white\",\"minorgridcolor\":\"white\",\"startlinecolor\":\"#2a3f5f\"},\"baxis\":{\"endlinecolor\":\"#2a3f5f\",\"gridcolor\":\"white\",\"linecolor\":\"white\",\"minorgridcolor\":\"white\",\"startlinecolor\":\"#2a3f5f\"},\"type\":\"carpet\"}],\"table\":[{\"cells\":{\"fill\":{\"color\":\"#EBF0F8\"},\"line\":{\"color\":\"white\"}},\"header\":{\"fill\":{\"color\":\"#C8D4E3\"},\"line\":{\"color\":\"white\"}},\"type\":\"table\"}],\"barpolar\":[{\"marker\":{\"line\":{\"color\":\"#E5ECF6\",\"width\":0.5},\"pattern\":{\"fillmode\":\"overlay\",\"size\":10,\"solidity\":0.2}},\"type\":\"barpolar\"}],\"pie\":[{\"automargin\":true,\"type\":\"pie\"}]},\"layout\":{\"autotypenumbers\":\"strict\",\"colorway\":[\"#636efa\",\"#EF553B\",\"#00cc96\",\"#ab63fa\",\"#FFA15A\",\"#19d3f3\",\"#FF6692\",\"#B6E880\",\"#FF97FF\",\"#FECB52\"],\"font\":{\"color\":\"#2a3f5f\"},\"hovermode\":\"closest\",\"hoverlabel\":{\"align\":\"left\"},\"paper_bgcolor\":\"white\",\"plot_bgcolor\":\"#E5ECF6\",\"polar\":{\"bgcolor\":\"#E5ECF6\",\"angularaxis\":{\"gridcolor\":\"white\",\"linecolor\":\"white\",\"ticks\":\"\"},\"radialaxis\":{\"gridcolor\":\"white\",\"linecolor\":\"white\",\"ticks\":\"\"}},\"ternary\":{\"bgcolor\":\"#E5ECF6\",\"aaxis\":{\"gridcolor\":\"white\",\"linecolor\":\"white\",\"ticks\":\"\"},\"baxis\":{\"gridcolor\":\"white\",\"linecolor\":\"white\",\"ticks\":\"\"},\"caxis\":{\"gridcolor\":\"white\",\"linecolor\":\"white\",\"ticks\":\"\"}},\"coloraxis\":{\"colorbar\":{\"outlinewidth\":0,\"ticks\":\"\"}},\"colorscale\":{\"sequential\":[[0.0,\"#0d0887\"],[0.1111111111111111,\"#46039f\"],[0.2222222222222222,\"#7201a8\"],[0.3333333333333333,\"#9c179e\"],[0.4444444444444444,\"#bd3786\"],[0.5555555555555556,\"#d8576b\"],[0.6666666666666666,\"#ed7953\"],[0.7777777777777778,\"#fb9f3a\"],[0.8888888888888888,\"#fdca26\"],[1.0,\"#f0f921\"]],\"sequentialminus\":[[0.0,\"#0d0887\"],[0.1111111111111111,\"#46039f\"],[0.2222222222222222,\"#7201a8\"],[0.3333333333333333,\"#9c179e\"],[0.4444444444444444,\"#bd3786\"],[0.5555555555555556,\"#d8576b\"],[0.6666666666666666,\"#ed7953\"],[0.7777777777777778,\"#fb9f3a\"],[0.8888888888888888,\"#fdca26\"],[1.0,\"#f0f921\"]],\"diverging\":[[0,\"#8e0152\"],[0.1,\"#c51b7d\"],[0.2,\"#de77ae\"],[0.3,\"#f1b6da\"],[0.4,\"#fde0ef\"],[0.5,\"#f7f7f7\"],[0.6,\"#e6f5d0\"],[0.7,\"#b8e186\"],[0.8,\"#7fbc41\"],[0.9,\"#4d9221\"],[1,\"#276419\"]]},\"xaxis\":{\"gridcolor\":\"white\",\"linecolor\":\"white\",\"ticks\":\"\",\"title\":{\"standoff\":15},\"zerolinecolor\":\"white\",\"automargin\":true,\"zerolinewidth\":2},\"yaxis\":{\"gridcolor\":\"white\",\"linecolor\":\"white\",\"ticks\":\"\",\"title\":{\"standoff\":15},\"zerolinecolor\":\"white\",\"automargin\":true,\"zerolinewidth\":2},\"scene\":{\"xaxis\":{\"backgroundcolor\":\"#E5ECF6\",\"gridcolor\":\"white\",\"linecolor\":\"white\",\"showbackground\":true,\"ticks\":\"\",\"zerolinecolor\":\"white\",\"gridwidth\":2},\"yaxis\":{\"backgroundcolor\":\"#E5ECF6\",\"gridcolor\":\"white\",\"linecolor\":\"white\",\"showbackground\":true,\"ticks\":\"\",\"zerolinecolor\":\"white\",\"gridwidth\":2},\"zaxis\":{\"backgroundcolor\":\"#E5ECF6\",\"gridcolor\":\"white\",\"linecolor\":\"white\",\"showbackground\":true,\"ticks\":\"\",\"zerolinecolor\":\"white\",\"gridwidth\":2}},\"shapedefaults\":{\"line\":{\"color\":\"#2a3f5f\"}},\"annotationdefaults\":{\"arrowcolor\":\"#2a3f5f\",\"arrowhead\":0,\"arrowwidth\":1},\"geo\":{\"bgcolor\":\"white\",\"landcolor\":\"#E5ECF6\",\"subunitcolor\":\"white\",\"showland\":true,\"showlakes\":true,\"lakecolor\":\"white\"},\"title\":{\"x\":0.05},\"mapbox\":{\"style\":\"light\"}}},\"xaxis\":{\"anchor\":\"y\",\"domain\":[0.0,1.0],\"title\":{\"text\":\"Year\"},\"rangeslider\":{\"visible\":true}},\"yaxis\":{\"anchor\":\"x\",\"domain\":[0.0,1.0],\"title\":{\"text\":\"Total\"}},\"legend\":{\"tracegroupgap\":0},\"margin\":{\"t\":60}},                        {\"responsive\": true}                    ).then(function(){\n",
       "                            \n",
       "var gd = document.getElementById('dba88e8a-1dcb-4cfe-92d1-1fddd83f959a');\n",
       "var x = new MutationObserver(function (mutations, observer) {{\n",
       "        var display = window.getComputedStyle(gd).display;\n",
       "        if (!display || display === 'none') {{\n",
       "            console.log([gd, 'removed!']);\n",
       "            Plotly.purge(gd);\n",
       "            observer.disconnect();\n",
       "        }}\n",
       "}});\n",
       "\n",
       "// Listen for the removal of the full notebook cells\n",
       "var notebookContainer = gd.closest('#notebook-container');\n",
       "if (notebookContainer) {{\n",
       "    x.observe(notebookContainer, {childList: true});\n",
       "}}\n",
       "\n",
       "// Listen for the clearing of the current output cell\n",
       "var outputEl = gd.closest('.output');\n",
       "if (outputEl) {{\n",
       "    x.observe(outputEl, {childList: true});\n",
       "}}\n",
       "\n",
       "                        })                };                });            </script>        </div>"
      ]
     },
     "metadata": {},
     "output_type": "display_data"
    }
   ],
   "source": [
    "#  plot to see total emission versus year for 'Germany'\n",
    "fig_ger = px.line(df_ger, x=\"Year\", y=\"Total\")\n",
    "fig_ger.update_xaxes(rangeslider_visible=True)\n",
    "fig_ger.show()"
   ]
  },
  {
   "cell_type": "code",
   "execution_count": 54,
   "id": "313eb594",
   "metadata": {},
   "outputs": [],
   "source": [
    "# USA, Japan, Germany, China, India, Brazil, Senegal, Cambodia, Congo (9)\n",
    "df_usa.to_csv('Data/usa.csv', index=False)\n",
    "df_jap.to_csv('Data/japan.csv', index=False)\n",
    "df_ger.to_csv('Data/Germany.csv', index=False)\n",
    "df_chi.to_csv('Data/China.csv', index=False)\n",
    "df_ind.to_csv('Data/India.csv', index=False)\n",
    "df_bra.to_csv('Data/Brazil.csv', index=False)\n",
    "df_sen.to_csv('Data/Senegal.csv', index=False)\n",
    "df_cam.to_csv('Data/Cambodia.csv', index=False)\n",
    "df_con.to_csv('Data/Congo.csv', index=False)\n",
    "df_glob.to_csv('Data/Global.csv', index=False)\n",
    "df.to_csv('Data/Cleaned_whole_data.csv', index=False)\n"
   ]
  }
 ],
 "metadata": {
  "kernelspec": {
   "display_name": "Python 3 (ipykernel)",
   "language": "python",
   "name": "python3"
  },
  "language_info": {
   "codemirror_mode": {
    "name": "ipython",
    "version": 3
   },
   "file_extension": ".py",
   "mimetype": "text/x-python",
   "name": "python",
   "nbconvert_exporter": "python",
   "pygments_lexer": "ipython3",
   "version": "3.9.13"
  }
 },
 "nbformat": 4,
 "nbformat_minor": 5
}
