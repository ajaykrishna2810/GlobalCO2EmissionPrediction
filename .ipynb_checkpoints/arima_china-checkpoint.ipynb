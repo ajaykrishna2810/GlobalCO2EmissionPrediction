{
 "cells": [
  {
   "cell_type": "code",
   "execution_count": 77,
   "id": "3826aae7",
   "metadata": {},
   "outputs": [],
   "source": [
    "#importing libraries\n",
    "import pandas as pd\n",
    "import numpy as np\n",
    "import seaborn as sns\n",
    "import matplotlib.pyplot as plt\n",
    "import plotly.express as px\n",
    "# import lazypredict\n",
    "\n",
    "from plotly.subplots import make_subplots\n",
    "import plotly.graph_objects as go\n",
    "import warnings\n",
    "warnings.filterwarnings(\"ignore\")\n",
    "\n",
    "import statsmodels.tsa.stattools as st\n",
    "from statsmodels.tsa.arima_model import ARMA\n",
    "from statsmodels.tsa.seasonal import seasonal_decompose\n",
    "from sklearn.metrics import mean_absolute_error\n",
    "from statsmodels.tsa.arima.model import ARIMA\n",
    "\n",
    "from statsmodels.tsa.api import VAR\n",
    "from statsmodels.tsa.stattools import adfuller\n",
    "from statsmodels.tools.eval_measures import rmse, aic"
   ]
  },
  {
   "cell_type": "code",
   "execution_count": 78,
   "id": "771a8a66",
   "metadata": {
    "scrolled": true
   },
   "outputs": [
    {
     "data": {
      "text/html": [
       "<div>\n",
       "<style scoped>\n",
       "    .dataframe tbody tr th:only-of-type {\n",
       "        vertical-align: middle;\n",
       "    }\n",
       "\n",
       "    .dataframe tbody tr th {\n",
       "        vertical-align: top;\n",
       "    }\n",
       "\n",
       "    .dataframe thead th {\n",
       "        text-align: right;\n",
       "    }\n",
       "</style>\n",
       "<table border=\"1\" class=\"dataframe\">\n",
       "  <thead>\n",
       "    <tr style=\"text-align: right;\">\n",
       "      <th></th>\n",
       "      <th>Country</th>\n",
       "      <th>ISO 3166-1 alpha-3</th>\n",
       "      <th>Total</th>\n",
       "      <th>Coal</th>\n",
       "      <th>Oil</th>\n",
       "      <th>Gas</th>\n",
       "    </tr>\n",
       "    <tr>\n",
       "      <th>Year</th>\n",
       "      <th></th>\n",
       "      <th></th>\n",
       "      <th></th>\n",
       "      <th></th>\n",
       "      <th></th>\n",
       "      <th></th>\n",
       "    </tr>\n",
       "  </thead>\n",
       "  <tbody>\n",
       "    <tr>\n",
       "      <th>1950</th>\n",
       "      <td>China</td>\n",
       "      <td>CHN</td>\n",
       "      <td>78.835287</td>\n",
       "      <td>77.614512</td>\n",
       "      <td>0.619216</td>\n",
       "      <td>0.014656</td>\n",
       "    </tr>\n",
       "    <tr>\n",
       "      <th>1951</th>\n",
       "      <td>China</td>\n",
       "      <td>CHN</td>\n",
       "      <td>102.115213</td>\n",
       "      <td>100.133456</td>\n",
       "      <td>0.937984</td>\n",
       "      <td>0.007328</td>\n",
       "    </tr>\n",
       "    <tr>\n",
       "      <th>1952</th>\n",
       "      <td>China</td>\n",
       "      <td>CHN</td>\n",
       "      <td>127.999326</td>\n",
       "      <td>125.444368</td>\n",
       "      <td>1.337360</td>\n",
       "      <td>0.014656</td>\n",
       "    </tr>\n",
       "    <tr>\n",
       "      <th>1953</th>\n",
       "      <td>China</td>\n",
       "      <td>CHN</td>\n",
       "      <td>133.782883</td>\n",
       "      <td>130.236986</td>\n",
       "      <td>1.908892</td>\n",
       "      <td>0.021983</td>\n",
       "    </tr>\n",
       "    <tr>\n",
       "      <th>1954</th>\n",
       "      <td>China</td>\n",
       "      <td>CHN</td>\n",
       "      <td>160.877410</td>\n",
       "      <td>155.591889</td>\n",
       "      <td>3.341492</td>\n",
       "      <td>0.029311</td>\n",
       "    </tr>\n",
       "    <tr>\n",
       "      <th>...</th>\n",
       "      <td>...</td>\n",
       "      <td>...</td>\n",
       "      <td>...</td>\n",
       "      <td>...</td>\n",
       "      <td>...</td>\n",
       "      <td>...</td>\n",
       "    </tr>\n",
       "    <tr>\n",
       "      <th>2017</th>\n",
       "      <td>China</td>\n",
       "      <td>CHN</td>\n",
       "      <td>10011.107108</td>\n",
       "      <td>7163.317856</td>\n",
       "      <td>1430.586816</td>\n",
       "      <td>486.359360</td>\n",
       "    </tr>\n",
       "    <tr>\n",
       "      <th>2018</th>\n",
       "      <td>China</td>\n",
       "      <td>CHN</td>\n",
       "      <td>10353.876989</td>\n",
       "      <td>7316.399776</td>\n",
       "      <td>1500.473952</td>\n",
       "      <td>575.368912</td>\n",
       "    </tr>\n",
       "    <tr>\n",
       "      <th>2019</th>\n",
       "      <td>China</td>\n",
       "      <td>CHN</td>\n",
       "      <td>10740.996069</td>\n",
       "      <td>7543.157408</td>\n",
       "      <td>1559.728160</td>\n",
       "      <td>630.171360</td>\n",
       "    </tr>\n",
       "    <tr>\n",
       "      <th>2020</th>\n",
       "      <td>China</td>\n",
       "      <td>CHN</td>\n",
       "      <td>10956.213369</td>\n",
       "      <td>7605.716883</td>\n",
       "      <td>1627.725238</td>\n",
       "      <td>687.880944</td>\n",
       "    </tr>\n",
       "    <tr>\n",
       "      <th>2021</th>\n",
       "      <td>China</td>\n",
       "      <td>CHN</td>\n",
       "      <td>11472.369171</td>\n",
       "      <td>7955.985419</td>\n",
       "      <td>1713.339980</td>\n",
       "      <td>773.866062</td>\n",
       "    </tr>\n",
       "  </tbody>\n",
       "</table>\n",
       "<p>72 rows × 6 columns</p>\n",
       "</div>"
      ],
      "text/plain": [
       "     Country ISO 3166-1 alpha-3         Total         Coal          Oil  \\\n",
       "Year                                                                      \n",
       "1950   China                CHN     78.835287    77.614512     0.619216   \n",
       "1951   China                CHN    102.115213   100.133456     0.937984   \n",
       "1952   China                CHN    127.999326   125.444368     1.337360   \n",
       "1953   China                CHN    133.782883   130.236986     1.908892   \n",
       "1954   China                CHN    160.877410   155.591889     3.341492   \n",
       "...      ...                ...           ...          ...          ...   \n",
       "2017   China                CHN  10011.107108  7163.317856  1430.586816   \n",
       "2018   China                CHN  10353.876989  7316.399776  1500.473952   \n",
       "2019   China                CHN  10740.996069  7543.157408  1559.728160   \n",
       "2020   China                CHN  10956.213369  7605.716883  1627.725238   \n",
       "2021   China                CHN  11472.369171  7955.985419  1713.339980   \n",
       "\n",
       "             Gas  \n",
       "Year              \n",
       "1950    0.014656  \n",
       "1951    0.007328  \n",
       "1952    0.014656  \n",
       "1953    0.021983  \n",
       "1954    0.029311  \n",
       "...          ...  \n",
       "2017  486.359360  \n",
       "2018  575.368912  \n",
       "2019  630.171360  \n",
       "2020  687.880944  \n",
       "2021  773.866062  \n",
       "\n",
       "[72 rows x 6 columns]"
      ]
     },
     "execution_count": 78,
     "metadata": {},
     "output_type": "execute_result"
    }
   ],
   "source": [
    "df_ger = pd.read_csv('Data/China.csv',  index_col='Year')\n",
    "df_ger # the one with categorical variable for Germany"
   ]
  },
  {
   "cell_type": "code",
   "execution_count": 79,
   "id": "615eb1f3",
   "metadata": {
    "scrolled": true
   },
   "outputs": [
    {
     "data": {
      "text/html": [
       "<div>\n",
       "<style scoped>\n",
       "    .dataframe tbody tr th:only-of-type {\n",
       "        vertical-align: middle;\n",
       "    }\n",
       "\n",
       "    .dataframe tbody tr th {\n",
       "        vertical-align: top;\n",
       "    }\n",
       "\n",
       "    .dataframe thead th {\n",
       "        text-align: right;\n",
       "    }\n",
       "</style>\n",
       "<table border=\"1\" class=\"dataframe\">\n",
       "  <thead>\n",
       "    <tr style=\"text-align: right;\">\n",
       "      <th></th>\n",
       "      <th>Total</th>\n",
       "      <th>Coal</th>\n",
       "      <th>Oil</th>\n",
       "      <th>Gas</th>\n",
       "    </tr>\n",
       "    <tr>\n",
       "      <th>Year</th>\n",
       "      <th></th>\n",
       "      <th></th>\n",
       "      <th></th>\n",
       "      <th></th>\n",
       "    </tr>\n",
       "  </thead>\n",
       "  <tbody>\n",
       "    <tr>\n",
       "      <th>1950</th>\n",
       "      <td>78.835287</td>\n",
       "      <td>77.614512</td>\n",
       "      <td>0.619216</td>\n",
       "      <td>0.014656</td>\n",
       "    </tr>\n",
       "    <tr>\n",
       "      <th>1951</th>\n",
       "      <td>102.115213</td>\n",
       "      <td>100.133456</td>\n",
       "      <td>0.937984</td>\n",
       "      <td>0.007328</td>\n",
       "    </tr>\n",
       "    <tr>\n",
       "      <th>1952</th>\n",
       "      <td>127.999326</td>\n",
       "      <td>125.444368</td>\n",
       "      <td>1.337360</td>\n",
       "      <td>0.014656</td>\n",
       "    </tr>\n",
       "    <tr>\n",
       "      <th>1953</th>\n",
       "      <td>133.782883</td>\n",
       "      <td>130.236986</td>\n",
       "      <td>1.908892</td>\n",
       "      <td>0.021983</td>\n",
       "    </tr>\n",
       "    <tr>\n",
       "      <th>1954</th>\n",
       "      <td>160.877410</td>\n",
       "      <td>155.591889</td>\n",
       "      <td>3.341492</td>\n",
       "      <td>0.029311</td>\n",
       "    </tr>\n",
       "    <tr>\n",
       "      <th>...</th>\n",
       "      <td>...</td>\n",
       "      <td>...</td>\n",
       "      <td>...</td>\n",
       "      <td>...</td>\n",
       "    </tr>\n",
       "    <tr>\n",
       "      <th>2017</th>\n",
       "      <td>10011.107108</td>\n",
       "      <td>7163.317856</td>\n",
       "      <td>1430.586816</td>\n",
       "      <td>486.359360</td>\n",
       "    </tr>\n",
       "    <tr>\n",
       "      <th>2018</th>\n",
       "      <td>10353.876989</td>\n",
       "      <td>7316.399776</td>\n",
       "      <td>1500.473952</td>\n",
       "      <td>575.368912</td>\n",
       "    </tr>\n",
       "    <tr>\n",
       "      <th>2019</th>\n",
       "      <td>10740.996069</td>\n",
       "      <td>7543.157408</td>\n",
       "      <td>1559.728160</td>\n",
       "      <td>630.171360</td>\n",
       "    </tr>\n",
       "    <tr>\n",
       "      <th>2020</th>\n",
       "      <td>10956.213369</td>\n",
       "      <td>7605.716883</td>\n",
       "      <td>1627.725238</td>\n",
       "      <td>687.880944</td>\n",
       "    </tr>\n",
       "    <tr>\n",
       "      <th>2021</th>\n",
       "      <td>11472.369171</td>\n",
       "      <td>7955.985419</td>\n",
       "      <td>1713.339980</td>\n",
       "      <td>773.866062</td>\n",
       "    </tr>\n",
       "  </tbody>\n",
       "</table>\n",
       "<p>72 rows × 4 columns</p>\n",
       "</div>"
      ],
      "text/plain": [
       "             Total         Coal          Oil         Gas\n",
       "Year                                                    \n",
       "1950     78.835287    77.614512     0.619216    0.014656\n",
       "1951    102.115213   100.133456     0.937984    0.007328\n",
       "1952    127.999326   125.444368     1.337360    0.014656\n",
       "1953    133.782883   130.236986     1.908892    0.021983\n",
       "1954    160.877410   155.591889     3.341492    0.029311\n",
       "...            ...          ...          ...         ...\n",
       "2017  10011.107108  7163.317856  1430.586816  486.359360\n",
       "2018  10353.876989  7316.399776  1500.473952  575.368912\n",
       "2019  10740.996069  7543.157408  1559.728160  630.171360\n",
       "2020  10956.213369  7605.716883  1627.725238  687.880944\n",
       "2021  11472.369171  7955.985419  1713.339980  773.866062\n",
       "\n",
       "[72 rows x 4 columns]"
      ]
     },
     "execution_count": 79,
     "metadata": {},
     "output_type": "execute_result"
    }
   ],
   "source": [
    "# Drop the categorial variables\n",
    "df= df_ger.select_dtypes(include=['float64'])\n",
    "df"
   ]
  },
  {
   "cell_type": "code",
   "execution_count": 80,
   "id": "e149608c",
   "metadata": {
    "scrolled": true
   },
   "outputs": [
    {
     "data": {
      "application/vnd.plotly.v1+json": {
       "config": {
        "plotlyServerURL": "https://plot.ly"
       },
       "data": [
        {
         "hovertemplate": "Year=%{x}<br>Total=%{y}<extra></extra>",
         "legendgroup": "",
         "line": {
          "color": "#636efa",
          "dash": "solid"
         },
         "marker": {
          "symbol": "circle"
         },
         "mode": "lines",
         "name": "",
         "orientation": "v",
         "showlegend": false,
         "type": "scatter",
         "x": [
          1950,
          1951,
          1952,
          1953,
          1954,
          1955,
          1956,
          1957,
          1958,
          1959,
          1960,
          1961,
          1962,
          1963,
          1964,
          1965,
          1966,
          1967,
          1968,
          1969,
          1970,
          1971,
          1972,
          1973,
          1974,
          1975,
          1976,
          1977,
          1978,
          1979,
          1980,
          1981,
          1982,
          1983,
          1984,
          1985,
          1986,
          1987,
          1988,
          1989,
          1990,
          1991,
          1992,
          1993,
          1994,
          1995,
          1996,
          1997,
          1998,
          1999,
          2000,
          2001,
          2002,
          2003,
          2004,
          2005,
          2006,
          2007,
          2008,
          2009,
          2010,
          2011,
          2012,
          2013,
          2014,
          2015,
          2016,
          2017,
          2018,
          2019,
          2020,
          2021
         ],
         "xaxis": "x",
         "y": [
          78.835287,
          102.115213,
          127.999326,
          133.782883,
          160.87741,
          190.521461,
          215.823984,
          255.784962,
          524.617059,
          720.151557,
          798.799921,
          570.630187,
          459.618074,
          456.779449,
          460.637094,
          500.286364,
          549.459318,
          460.225895,
          495.506566,
          607.683366,
          807.952627,
          909.2097,
          968.645596,
          1008.292576,
          1028.099867,
          1183.214956,
          1226.421277,
          1340.831115,
          1492.777845,
          1525.661148,
          1494.495884,
          1476.487854,
          1606.585013,
          1694.216811,
          1844.828012,
          1998.082904,
          2104.213354,
          2257.738539,
          2425.893553,
          2463.654367,
          2484.85482,
          2606.096182,
          2730.787587,
          2921.650956,
          3100.002045,
          3357.908888,
          3503.233703,
          3510.169286,
          3360.455433,
          3552.842067,
          3644.464203,
          3723.730766,
          4112.459057,
          4827.445998,
          5223.754656,
          5876.55534,
          6488.803816,
          6978.611952,
          7496.832207,
          7886.532768,
          8616.652695,
          9528.555734,
          9779.281618,
          9956.308273,
          9998.621253,
          9866.904318,
          9764.979745,
          10011.107108,
          10353.876989,
          10740.996069,
          10956.213369,
          11472.369171
         ],
         "yaxis": "y"
        }
       ],
       "layout": {
        "legend": {
         "tracegroupgap": 0
        },
        "margin": {
         "t": 60
        },
        "template": {
         "data": {
          "bar": [
           {
            "error_x": {
             "color": "#2a3f5f"
            },
            "error_y": {
             "color": "#2a3f5f"
            },
            "marker": {
             "line": {
              "color": "#E5ECF6",
              "width": 0.5
             },
             "pattern": {
              "fillmode": "overlay",
              "size": 10,
              "solidity": 0.2
             }
            },
            "type": "bar"
           }
          ],
          "barpolar": [
           {
            "marker": {
             "line": {
              "color": "#E5ECF6",
              "width": 0.5
             },
             "pattern": {
              "fillmode": "overlay",
              "size": 10,
              "solidity": 0.2
             }
            },
            "type": "barpolar"
           }
          ],
          "carpet": [
           {
            "aaxis": {
             "endlinecolor": "#2a3f5f",
             "gridcolor": "white",
             "linecolor": "white",
             "minorgridcolor": "white",
             "startlinecolor": "#2a3f5f"
            },
            "baxis": {
             "endlinecolor": "#2a3f5f",
             "gridcolor": "white",
             "linecolor": "white",
             "minorgridcolor": "white",
             "startlinecolor": "#2a3f5f"
            },
            "type": "carpet"
           }
          ],
          "choropleth": [
           {
            "colorbar": {
             "outlinewidth": 0,
             "ticks": ""
            },
            "type": "choropleth"
           }
          ],
          "contour": [
           {
            "colorbar": {
             "outlinewidth": 0,
             "ticks": ""
            },
            "colorscale": [
             [
              0,
              "#0d0887"
             ],
             [
              0.1111111111111111,
              "#46039f"
             ],
             [
              0.2222222222222222,
              "#7201a8"
             ],
             [
              0.3333333333333333,
              "#9c179e"
             ],
             [
              0.4444444444444444,
              "#bd3786"
             ],
             [
              0.5555555555555556,
              "#d8576b"
             ],
             [
              0.6666666666666666,
              "#ed7953"
             ],
             [
              0.7777777777777778,
              "#fb9f3a"
             ],
             [
              0.8888888888888888,
              "#fdca26"
             ],
             [
              1,
              "#f0f921"
             ]
            ],
            "type": "contour"
           }
          ],
          "contourcarpet": [
           {
            "colorbar": {
             "outlinewidth": 0,
             "ticks": ""
            },
            "type": "contourcarpet"
           }
          ],
          "heatmap": [
           {
            "colorbar": {
             "outlinewidth": 0,
             "ticks": ""
            },
            "colorscale": [
             [
              0,
              "#0d0887"
             ],
             [
              0.1111111111111111,
              "#46039f"
             ],
             [
              0.2222222222222222,
              "#7201a8"
             ],
             [
              0.3333333333333333,
              "#9c179e"
             ],
             [
              0.4444444444444444,
              "#bd3786"
             ],
             [
              0.5555555555555556,
              "#d8576b"
             ],
             [
              0.6666666666666666,
              "#ed7953"
             ],
             [
              0.7777777777777778,
              "#fb9f3a"
             ],
             [
              0.8888888888888888,
              "#fdca26"
             ],
             [
              1,
              "#f0f921"
             ]
            ],
            "type": "heatmap"
           }
          ],
          "heatmapgl": [
           {
            "colorbar": {
             "outlinewidth": 0,
             "ticks": ""
            },
            "colorscale": [
             [
              0,
              "#0d0887"
             ],
             [
              0.1111111111111111,
              "#46039f"
             ],
             [
              0.2222222222222222,
              "#7201a8"
             ],
             [
              0.3333333333333333,
              "#9c179e"
             ],
             [
              0.4444444444444444,
              "#bd3786"
             ],
             [
              0.5555555555555556,
              "#d8576b"
             ],
             [
              0.6666666666666666,
              "#ed7953"
             ],
             [
              0.7777777777777778,
              "#fb9f3a"
             ],
             [
              0.8888888888888888,
              "#fdca26"
             ],
             [
              1,
              "#f0f921"
             ]
            ],
            "type": "heatmapgl"
           }
          ],
          "histogram": [
           {
            "marker": {
             "pattern": {
              "fillmode": "overlay",
              "size": 10,
              "solidity": 0.2
             }
            },
            "type": "histogram"
           }
          ],
          "histogram2d": [
           {
            "colorbar": {
             "outlinewidth": 0,
             "ticks": ""
            },
            "colorscale": [
             [
              0,
              "#0d0887"
             ],
             [
              0.1111111111111111,
              "#46039f"
             ],
             [
              0.2222222222222222,
              "#7201a8"
             ],
             [
              0.3333333333333333,
              "#9c179e"
             ],
             [
              0.4444444444444444,
              "#bd3786"
             ],
             [
              0.5555555555555556,
              "#d8576b"
             ],
             [
              0.6666666666666666,
              "#ed7953"
             ],
             [
              0.7777777777777778,
              "#fb9f3a"
             ],
             [
              0.8888888888888888,
              "#fdca26"
             ],
             [
              1,
              "#f0f921"
             ]
            ],
            "type": "histogram2d"
           }
          ],
          "histogram2dcontour": [
           {
            "colorbar": {
             "outlinewidth": 0,
             "ticks": ""
            },
            "colorscale": [
             [
              0,
              "#0d0887"
             ],
             [
              0.1111111111111111,
              "#46039f"
             ],
             [
              0.2222222222222222,
              "#7201a8"
             ],
             [
              0.3333333333333333,
              "#9c179e"
             ],
             [
              0.4444444444444444,
              "#bd3786"
             ],
             [
              0.5555555555555556,
              "#d8576b"
             ],
             [
              0.6666666666666666,
              "#ed7953"
             ],
             [
              0.7777777777777778,
              "#fb9f3a"
             ],
             [
              0.8888888888888888,
              "#fdca26"
             ],
             [
              1,
              "#f0f921"
             ]
            ],
            "type": "histogram2dcontour"
           }
          ],
          "mesh3d": [
           {
            "colorbar": {
             "outlinewidth": 0,
             "ticks": ""
            },
            "type": "mesh3d"
           }
          ],
          "parcoords": [
           {
            "line": {
             "colorbar": {
              "outlinewidth": 0,
              "ticks": ""
             }
            },
            "type": "parcoords"
           }
          ],
          "pie": [
           {
            "automargin": true,
            "type": "pie"
           }
          ],
          "scatter": [
           {
            "fillpattern": {
             "fillmode": "overlay",
             "size": 10,
             "solidity": 0.2
            },
            "type": "scatter"
           }
          ],
          "scatter3d": [
           {
            "line": {
             "colorbar": {
              "outlinewidth": 0,
              "ticks": ""
             }
            },
            "marker": {
             "colorbar": {
              "outlinewidth": 0,
              "ticks": ""
             }
            },
            "type": "scatter3d"
           }
          ],
          "scattercarpet": [
           {
            "marker": {
             "colorbar": {
              "outlinewidth": 0,
              "ticks": ""
             }
            },
            "type": "scattercarpet"
           }
          ],
          "scattergeo": [
           {
            "marker": {
             "colorbar": {
              "outlinewidth": 0,
              "ticks": ""
             }
            },
            "type": "scattergeo"
           }
          ],
          "scattergl": [
           {
            "marker": {
             "colorbar": {
              "outlinewidth": 0,
              "ticks": ""
             }
            },
            "type": "scattergl"
           }
          ],
          "scattermapbox": [
           {
            "marker": {
             "colorbar": {
              "outlinewidth": 0,
              "ticks": ""
             }
            },
            "type": "scattermapbox"
           }
          ],
          "scatterpolar": [
           {
            "marker": {
             "colorbar": {
              "outlinewidth": 0,
              "ticks": ""
             }
            },
            "type": "scatterpolar"
           }
          ],
          "scatterpolargl": [
           {
            "marker": {
             "colorbar": {
              "outlinewidth": 0,
              "ticks": ""
             }
            },
            "type": "scatterpolargl"
           }
          ],
          "scatterternary": [
           {
            "marker": {
             "colorbar": {
              "outlinewidth": 0,
              "ticks": ""
             }
            },
            "type": "scatterternary"
           }
          ],
          "surface": [
           {
            "colorbar": {
             "outlinewidth": 0,
             "ticks": ""
            },
            "colorscale": [
             [
              0,
              "#0d0887"
             ],
             [
              0.1111111111111111,
              "#46039f"
             ],
             [
              0.2222222222222222,
              "#7201a8"
             ],
             [
              0.3333333333333333,
              "#9c179e"
             ],
             [
              0.4444444444444444,
              "#bd3786"
             ],
             [
              0.5555555555555556,
              "#d8576b"
             ],
             [
              0.6666666666666666,
              "#ed7953"
             ],
             [
              0.7777777777777778,
              "#fb9f3a"
             ],
             [
              0.8888888888888888,
              "#fdca26"
             ],
             [
              1,
              "#f0f921"
             ]
            ],
            "type": "surface"
           }
          ],
          "table": [
           {
            "cells": {
             "fill": {
              "color": "#EBF0F8"
             },
             "line": {
              "color": "white"
             }
            },
            "header": {
             "fill": {
              "color": "#C8D4E3"
             },
             "line": {
              "color": "white"
             }
            },
            "type": "table"
           }
          ]
         },
         "layout": {
          "annotationdefaults": {
           "arrowcolor": "#2a3f5f",
           "arrowhead": 0,
           "arrowwidth": 1
          },
          "autotypenumbers": "strict",
          "coloraxis": {
           "colorbar": {
            "outlinewidth": 0,
            "ticks": ""
           }
          },
          "colorscale": {
           "diverging": [
            [
             0,
             "#8e0152"
            ],
            [
             0.1,
             "#c51b7d"
            ],
            [
             0.2,
             "#de77ae"
            ],
            [
             0.3,
             "#f1b6da"
            ],
            [
             0.4,
             "#fde0ef"
            ],
            [
             0.5,
             "#f7f7f7"
            ],
            [
             0.6,
             "#e6f5d0"
            ],
            [
             0.7,
             "#b8e186"
            ],
            [
             0.8,
             "#7fbc41"
            ],
            [
             0.9,
             "#4d9221"
            ],
            [
             1,
             "#276419"
            ]
           ],
           "sequential": [
            [
             0,
             "#0d0887"
            ],
            [
             0.1111111111111111,
             "#46039f"
            ],
            [
             0.2222222222222222,
             "#7201a8"
            ],
            [
             0.3333333333333333,
             "#9c179e"
            ],
            [
             0.4444444444444444,
             "#bd3786"
            ],
            [
             0.5555555555555556,
             "#d8576b"
            ],
            [
             0.6666666666666666,
             "#ed7953"
            ],
            [
             0.7777777777777778,
             "#fb9f3a"
            ],
            [
             0.8888888888888888,
             "#fdca26"
            ],
            [
             1,
             "#f0f921"
            ]
           ],
           "sequentialminus": [
            [
             0,
             "#0d0887"
            ],
            [
             0.1111111111111111,
             "#46039f"
            ],
            [
             0.2222222222222222,
             "#7201a8"
            ],
            [
             0.3333333333333333,
             "#9c179e"
            ],
            [
             0.4444444444444444,
             "#bd3786"
            ],
            [
             0.5555555555555556,
             "#d8576b"
            ],
            [
             0.6666666666666666,
             "#ed7953"
            ],
            [
             0.7777777777777778,
             "#fb9f3a"
            ],
            [
             0.8888888888888888,
             "#fdca26"
            ],
            [
             1,
             "#f0f921"
            ]
           ]
          },
          "colorway": [
           "#636efa",
           "#EF553B",
           "#00cc96",
           "#ab63fa",
           "#FFA15A",
           "#19d3f3",
           "#FF6692",
           "#B6E880",
           "#FF97FF",
           "#FECB52"
          ],
          "font": {
           "color": "#2a3f5f"
          },
          "geo": {
           "bgcolor": "white",
           "lakecolor": "white",
           "landcolor": "#E5ECF6",
           "showlakes": true,
           "showland": true,
           "subunitcolor": "white"
          },
          "hoverlabel": {
           "align": "left"
          },
          "hovermode": "closest",
          "mapbox": {
           "style": "light"
          },
          "paper_bgcolor": "white",
          "plot_bgcolor": "#E5ECF6",
          "polar": {
           "angularaxis": {
            "gridcolor": "white",
            "linecolor": "white",
            "ticks": ""
           },
           "bgcolor": "#E5ECF6",
           "radialaxis": {
            "gridcolor": "white",
            "linecolor": "white",
            "ticks": ""
           }
          },
          "scene": {
           "xaxis": {
            "backgroundcolor": "#E5ECF6",
            "gridcolor": "white",
            "gridwidth": 2,
            "linecolor": "white",
            "showbackground": true,
            "ticks": "",
            "zerolinecolor": "white"
           },
           "yaxis": {
            "backgroundcolor": "#E5ECF6",
            "gridcolor": "white",
            "gridwidth": 2,
            "linecolor": "white",
            "showbackground": true,
            "ticks": "",
            "zerolinecolor": "white"
           },
           "zaxis": {
            "backgroundcolor": "#E5ECF6",
            "gridcolor": "white",
            "gridwidth": 2,
            "linecolor": "white",
            "showbackground": true,
            "ticks": "",
            "zerolinecolor": "white"
           }
          },
          "shapedefaults": {
           "line": {
            "color": "#2a3f5f"
           }
          },
          "ternary": {
           "aaxis": {
            "gridcolor": "white",
            "linecolor": "white",
            "ticks": ""
           },
           "baxis": {
            "gridcolor": "white",
            "linecolor": "white",
            "ticks": ""
           },
           "bgcolor": "#E5ECF6",
           "caxis": {
            "gridcolor": "white",
            "linecolor": "white",
            "ticks": ""
           }
          },
          "title": {
           "x": 0.05
          },
          "xaxis": {
           "automargin": true,
           "gridcolor": "white",
           "linecolor": "white",
           "ticks": "",
           "title": {
            "standoff": 15
           },
           "zerolinecolor": "white",
           "zerolinewidth": 2
          },
          "yaxis": {
           "automargin": true,
           "gridcolor": "white",
           "linecolor": "white",
           "ticks": "",
           "title": {
            "standoff": 15
           },
           "zerolinecolor": "white",
           "zerolinewidth": 2
          }
         }
        },
        "xaxis": {
         "anchor": "y",
         "domain": [
          0,
          1
         ],
         "rangeslider": {
          "visible": true
         },
         "title": {
          "text": "Year"
         }
        },
        "yaxis": {
         "anchor": "x",
         "domain": [
          0,
          1
         ],
         "title": {
          "text": "Total"
         }
        }
       }
      },
      "text/html": [
       "<div>                            <div id=\"5ea05728-ac51-48ae-a917-8529c0ce4da5\" class=\"plotly-graph-div\" style=\"height:525px; width:100%;\"></div>            <script type=\"text/javascript\">                require([\"plotly\"], function(Plotly) {                    window.PLOTLYENV=window.PLOTLYENV || {};                                    if (document.getElementById(\"5ea05728-ac51-48ae-a917-8529c0ce4da5\")) {                    Plotly.newPlot(                        \"5ea05728-ac51-48ae-a917-8529c0ce4da5\",                        [{\"hovertemplate\":\"Year=%{x}<br>Total=%{y}<extra></extra>\",\"legendgroup\":\"\",\"line\":{\"color\":\"#636efa\",\"dash\":\"solid\"},\"marker\":{\"symbol\":\"circle\"},\"mode\":\"lines\",\"name\":\"\",\"orientation\":\"v\",\"showlegend\":false,\"x\":[1950,1951,1952,1953,1954,1955,1956,1957,1958,1959,1960,1961,1962,1963,1964,1965,1966,1967,1968,1969,1970,1971,1972,1973,1974,1975,1976,1977,1978,1979,1980,1981,1982,1983,1984,1985,1986,1987,1988,1989,1990,1991,1992,1993,1994,1995,1996,1997,1998,1999,2000,2001,2002,2003,2004,2005,2006,2007,2008,2009,2010,2011,2012,2013,2014,2015,2016,2017,2018,2019,2020,2021],\"xaxis\":\"x\",\"y\":[78.835287,102.115213,127.999326,133.782883,160.87741,190.521461,215.823984,255.784962,524.617059,720.151557,798.799921,570.630187,459.618074,456.779449,460.637094,500.286364,549.459318,460.225895,495.506566,607.683366,807.952627,909.2097,968.645596,1008.292576,1028.099867,1183.214956,1226.421277,1340.831115,1492.777845,1525.661148,1494.495884,1476.487854,1606.585013,1694.216811,1844.828012,1998.082904,2104.213354,2257.738539,2425.893553,2463.654367,2484.85482,2606.096182,2730.787587,2921.650956,3100.002045,3357.908888,3503.233703,3510.169286,3360.455433,3552.842067,3644.464203,3723.730766,4112.459057,4827.445998,5223.754656,5876.55534,6488.803816,6978.611952,7496.832207,7886.532768,8616.652695,9528.555734,9779.281618,9956.308273,9998.621253,9866.904318,9764.979745,10011.107108,10353.876989,10740.996069,10956.213369,11472.369171],\"yaxis\":\"y\",\"type\":\"scatter\"}],                        {\"template\":{\"data\":{\"histogram2dcontour\":[{\"type\":\"histogram2dcontour\",\"colorbar\":{\"outlinewidth\":0,\"ticks\":\"\"},\"colorscale\":[[0.0,\"#0d0887\"],[0.1111111111111111,\"#46039f\"],[0.2222222222222222,\"#7201a8\"],[0.3333333333333333,\"#9c179e\"],[0.4444444444444444,\"#bd3786\"],[0.5555555555555556,\"#d8576b\"],[0.6666666666666666,\"#ed7953\"],[0.7777777777777778,\"#fb9f3a\"],[0.8888888888888888,\"#fdca26\"],[1.0,\"#f0f921\"]]}],\"choropleth\":[{\"type\":\"choropleth\",\"colorbar\":{\"outlinewidth\":0,\"ticks\":\"\"}}],\"histogram2d\":[{\"type\":\"histogram2d\",\"colorbar\":{\"outlinewidth\":0,\"ticks\":\"\"},\"colorscale\":[[0.0,\"#0d0887\"],[0.1111111111111111,\"#46039f\"],[0.2222222222222222,\"#7201a8\"],[0.3333333333333333,\"#9c179e\"],[0.4444444444444444,\"#bd3786\"],[0.5555555555555556,\"#d8576b\"],[0.6666666666666666,\"#ed7953\"],[0.7777777777777778,\"#fb9f3a\"],[0.8888888888888888,\"#fdca26\"],[1.0,\"#f0f921\"]]}],\"heatmap\":[{\"type\":\"heatmap\",\"colorbar\":{\"outlinewidth\":0,\"ticks\":\"\"},\"colorscale\":[[0.0,\"#0d0887\"],[0.1111111111111111,\"#46039f\"],[0.2222222222222222,\"#7201a8\"],[0.3333333333333333,\"#9c179e\"],[0.4444444444444444,\"#bd3786\"],[0.5555555555555556,\"#d8576b\"],[0.6666666666666666,\"#ed7953\"],[0.7777777777777778,\"#fb9f3a\"],[0.8888888888888888,\"#fdca26\"],[1.0,\"#f0f921\"]]}],\"heatmapgl\":[{\"type\":\"heatmapgl\",\"colorbar\":{\"outlinewidth\":0,\"ticks\":\"\"},\"colorscale\":[[0.0,\"#0d0887\"],[0.1111111111111111,\"#46039f\"],[0.2222222222222222,\"#7201a8\"],[0.3333333333333333,\"#9c179e\"],[0.4444444444444444,\"#bd3786\"],[0.5555555555555556,\"#d8576b\"],[0.6666666666666666,\"#ed7953\"],[0.7777777777777778,\"#fb9f3a\"],[0.8888888888888888,\"#fdca26\"],[1.0,\"#f0f921\"]]}],\"contourcarpet\":[{\"type\":\"contourcarpet\",\"colorbar\":{\"outlinewidth\":0,\"ticks\":\"\"}}],\"contour\":[{\"type\":\"contour\",\"colorbar\":{\"outlinewidth\":0,\"ticks\":\"\"},\"colorscale\":[[0.0,\"#0d0887\"],[0.1111111111111111,\"#46039f\"],[0.2222222222222222,\"#7201a8\"],[0.3333333333333333,\"#9c179e\"],[0.4444444444444444,\"#bd3786\"],[0.5555555555555556,\"#d8576b\"],[0.6666666666666666,\"#ed7953\"],[0.7777777777777778,\"#fb9f3a\"],[0.8888888888888888,\"#fdca26\"],[1.0,\"#f0f921\"]]}],\"surface\":[{\"type\":\"surface\",\"colorbar\":{\"outlinewidth\":0,\"ticks\":\"\"},\"colorscale\":[[0.0,\"#0d0887\"],[0.1111111111111111,\"#46039f\"],[0.2222222222222222,\"#7201a8\"],[0.3333333333333333,\"#9c179e\"],[0.4444444444444444,\"#bd3786\"],[0.5555555555555556,\"#d8576b\"],[0.6666666666666666,\"#ed7953\"],[0.7777777777777778,\"#fb9f3a\"],[0.8888888888888888,\"#fdca26\"],[1.0,\"#f0f921\"]]}],\"mesh3d\":[{\"type\":\"mesh3d\",\"colorbar\":{\"outlinewidth\":0,\"ticks\":\"\"}}],\"scatter\":[{\"fillpattern\":{\"fillmode\":\"overlay\",\"size\":10,\"solidity\":0.2},\"type\":\"scatter\"}],\"parcoords\":[{\"type\":\"parcoords\",\"line\":{\"colorbar\":{\"outlinewidth\":0,\"ticks\":\"\"}}}],\"scatterpolargl\":[{\"type\":\"scatterpolargl\",\"marker\":{\"colorbar\":{\"outlinewidth\":0,\"ticks\":\"\"}}}],\"bar\":[{\"error_x\":{\"color\":\"#2a3f5f\"},\"error_y\":{\"color\":\"#2a3f5f\"},\"marker\":{\"line\":{\"color\":\"#E5ECF6\",\"width\":0.5},\"pattern\":{\"fillmode\":\"overlay\",\"size\":10,\"solidity\":0.2}},\"type\":\"bar\"}],\"scattergeo\":[{\"type\":\"scattergeo\",\"marker\":{\"colorbar\":{\"outlinewidth\":0,\"ticks\":\"\"}}}],\"scatterpolar\":[{\"type\":\"scatterpolar\",\"marker\":{\"colorbar\":{\"outlinewidth\":0,\"ticks\":\"\"}}}],\"histogram\":[{\"marker\":{\"pattern\":{\"fillmode\":\"overlay\",\"size\":10,\"solidity\":0.2}},\"type\":\"histogram\"}],\"scattergl\":[{\"type\":\"scattergl\",\"marker\":{\"colorbar\":{\"outlinewidth\":0,\"ticks\":\"\"}}}],\"scatter3d\":[{\"type\":\"scatter3d\",\"line\":{\"colorbar\":{\"outlinewidth\":0,\"ticks\":\"\"}},\"marker\":{\"colorbar\":{\"outlinewidth\":0,\"ticks\":\"\"}}}],\"scattermapbox\":[{\"type\":\"scattermapbox\",\"marker\":{\"colorbar\":{\"outlinewidth\":0,\"ticks\":\"\"}}}],\"scatterternary\":[{\"type\":\"scatterternary\",\"marker\":{\"colorbar\":{\"outlinewidth\":0,\"ticks\":\"\"}}}],\"scattercarpet\":[{\"type\":\"scattercarpet\",\"marker\":{\"colorbar\":{\"outlinewidth\":0,\"ticks\":\"\"}}}],\"carpet\":[{\"aaxis\":{\"endlinecolor\":\"#2a3f5f\",\"gridcolor\":\"white\",\"linecolor\":\"white\",\"minorgridcolor\":\"white\",\"startlinecolor\":\"#2a3f5f\"},\"baxis\":{\"endlinecolor\":\"#2a3f5f\",\"gridcolor\":\"white\",\"linecolor\":\"white\",\"minorgridcolor\":\"white\",\"startlinecolor\":\"#2a3f5f\"},\"type\":\"carpet\"}],\"table\":[{\"cells\":{\"fill\":{\"color\":\"#EBF0F8\"},\"line\":{\"color\":\"white\"}},\"header\":{\"fill\":{\"color\":\"#C8D4E3\"},\"line\":{\"color\":\"white\"}},\"type\":\"table\"}],\"barpolar\":[{\"marker\":{\"line\":{\"color\":\"#E5ECF6\",\"width\":0.5},\"pattern\":{\"fillmode\":\"overlay\",\"size\":10,\"solidity\":0.2}},\"type\":\"barpolar\"}],\"pie\":[{\"automargin\":true,\"type\":\"pie\"}]},\"layout\":{\"autotypenumbers\":\"strict\",\"colorway\":[\"#636efa\",\"#EF553B\",\"#00cc96\",\"#ab63fa\",\"#FFA15A\",\"#19d3f3\",\"#FF6692\",\"#B6E880\",\"#FF97FF\",\"#FECB52\"],\"font\":{\"color\":\"#2a3f5f\"},\"hovermode\":\"closest\",\"hoverlabel\":{\"align\":\"left\"},\"paper_bgcolor\":\"white\",\"plot_bgcolor\":\"#E5ECF6\",\"polar\":{\"bgcolor\":\"#E5ECF6\",\"angularaxis\":{\"gridcolor\":\"white\",\"linecolor\":\"white\",\"ticks\":\"\"},\"radialaxis\":{\"gridcolor\":\"white\",\"linecolor\":\"white\",\"ticks\":\"\"}},\"ternary\":{\"bgcolor\":\"#E5ECF6\",\"aaxis\":{\"gridcolor\":\"white\",\"linecolor\":\"white\",\"ticks\":\"\"},\"baxis\":{\"gridcolor\":\"white\",\"linecolor\":\"white\",\"ticks\":\"\"},\"caxis\":{\"gridcolor\":\"white\",\"linecolor\":\"white\",\"ticks\":\"\"}},\"coloraxis\":{\"colorbar\":{\"outlinewidth\":0,\"ticks\":\"\"}},\"colorscale\":{\"sequential\":[[0.0,\"#0d0887\"],[0.1111111111111111,\"#46039f\"],[0.2222222222222222,\"#7201a8\"],[0.3333333333333333,\"#9c179e\"],[0.4444444444444444,\"#bd3786\"],[0.5555555555555556,\"#d8576b\"],[0.6666666666666666,\"#ed7953\"],[0.7777777777777778,\"#fb9f3a\"],[0.8888888888888888,\"#fdca26\"],[1.0,\"#f0f921\"]],\"sequentialminus\":[[0.0,\"#0d0887\"],[0.1111111111111111,\"#46039f\"],[0.2222222222222222,\"#7201a8\"],[0.3333333333333333,\"#9c179e\"],[0.4444444444444444,\"#bd3786\"],[0.5555555555555556,\"#d8576b\"],[0.6666666666666666,\"#ed7953\"],[0.7777777777777778,\"#fb9f3a\"],[0.8888888888888888,\"#fdca26\"],[1.0,\"#f0f921\"]],\"diverging\":[[0,\"#8e0152\"],[0.1,\"#c51b7d\"],[0.2,\"#de77ae\"],[0.3,\"#f1b6da\"],[0.4,\"#fde0ef\"],[0.5,\"#f7f7f7\"],[0.6,\"#e6f5d0\"],[0.7,\"#b8e186\"],[0.8,\"#7fbc41\"],[0.9,\"#4d9221\"],[1,\"#276419\"]]},\"xaxis\":{\"gridcolor\":\"white\",\"linecolor\":\"white\",\"ticks\":\"\",\"title\":{\"standoff\":15},\"zerolinecolor\":\"white\",\"automargin\":true,\"zerolinewidth\":2},\"yaxis\":{\"gridcolor\":\"white\",\"linecolor\":\"white\",\"ticks\":\"\",\"title\":{\"standoff\":15},\"zerolinecolor\":\"white\",\"automargin\":true,\"zerolinewidth\":2},\"scene\":{\"xaxis\":{\"backgroundcolor\":\"#E5ECF6\",\"gridcolor\":\"white\",\"linecolor\":\"white\",\"showbackground\":true,\"ticks\":\"\",\"zerolinecolor\":\"white\",\"gridwidth\":2},\"yaxis\":{\"backgroundcolor\":\"#E5ECF6\",\"gridcolor\":\"white\",\"linecolor\":\"white\",\"showbackground\":true,\"ticks\":\"\",\"zerolinecolor\":\"white\",\"gridwidth\":2},\"zaxis\":{\"backgroundcolor\":\"#E5ECF6\",\"gridcolor\":\"white\",\"linecolor\":\"white\",\"showbackground\":true,\"ticks\":\"\",\"zerolinecolor\":\"white\",\"gridwidth\":2}},\"shapedefaults\":{\"line\":{\"color\":\"#2a3f5f\"}},\"annotationdefaults\":{\"arrowcolor\":\"#2a3f5f\",\"arrowhead\":0,\"arrowwidth\":1},\"geo\":{\"bgcolor\":\"white\",\"landcolor\":\"#E5ECF6\",\"subunitcolor\":\"white\",\"showland\":true,\"showlakes\":true,\"lakecolor\":\"white\"},\"title\":{\"x\":0.05},\"mapbox\":{\"style\":\"light\"}}},\"xaxis\":{\"anchor\":\"y\",\"domain\":[0.0,1.0],\"title\":{\"text\":\"Year\"},\"rangeslider\":{\"visible\":true}},\"yaxis\":{\"anchor\":\"x\",\"domain\":[0.0,1.0],\"title\":{\"text\":\"Total\"}},\"legend\":{\"tracegroupgap\":0},\"margin\":{\"t\":60}},                        {\"responsive\": true}                    ).then(function(){\n",
       "                            \n",
       "var gd = document.getElementById('5ea05728-ac51-48ae-a917-8529c0ce4da5');\n",
       "var x = new MutationObserver(function (mutations, observer) {{\n",
       "        var display = window.getComputedStyle(gd).display;\n",
       "        if (!display || display === 'none') {{\n",
       "            console.log([gd, 'removed!']);\n",
       "            Plotly.purge(gd);\n",
       "            observer.disconnect();\n",
       "        }}\n",
       "}});\n",
       "\n",
       "// Listen for the removal of the full notebook cells\n",
       "var notebookContainer = gd.closest('#notebook-container');\n",
       "if (notebookContainer) {{\n",
       "    x.observe(notebookContainer, {childList: true});\n",
       "}}\n",
       "\n",
       "// Listen for the clearing of the current output cell\n",
       "var outputEl = gd.closest('.output');\n",
       "if (outputEl) {{\n",
       "    x.observe(outputEl, {childList: true});\n",
       "}}\n",
       "\n",
       "                        })                };                });            </script>        </div>"
      ]
     },
     "metadata": {},
     "output_type": "display_data"
    }
   ],
   "source": [
    "#  plot to see total emission versus year for 'Germany'\n",
    "fig_ger = px.line(df, x=df.index, y=\"Total\")\n",
    "fig_ger.update_xaxes(rangeslider_visible=True)\n",
    "fig_ger.show()"
   ]
  },
  {
   "cell_type": "markdown",
   "id": "3a651886",
   "metadata": {},
   "source": [
    "Visualize the time series"
   ]
  },
  {
   "cell_type": "code",
   "execution_count": 81,
   "id": "d749f740",
   "metadata": {
    "scrolled": true
   },
   "outputs": [
    {
     "data": {
      "image/png": "[encoded data removed]",
      "text/plain": [
       "<Figure size 1200x720 with 4 Axes>"
      ]
     },
     "metadata": {},
     "output_type": "display_data"
    }
   ],
   "source": [
    "# Plot\n",
    "fig, axes = plt.subplots(nrows=2, ncols=2, dpi=120, figsize=(10,6))\n",
    "for i, ax in enumerate(axes.flatten()):\n",
    "    data = df[df.columns[i]]\n",
    "    ax.plot(data, color='red', linewidth=1)\n",
    "    # Decorations\n",
    "    ax.set_title(df.columns[i])\n",
    "    ax.xaxis.set_ticks_position('none')\n",
    "    ax.yaxis.set_ticks_position('none')\n",
    "    ax.spines[\"top\"].set_alpha(0)\n",
    "    ax.tick_params(labelsize=6)\n",
    "\n",
    "plt.tight_layout();"
   ]
  },
  {
   "cell_type": "code",
   "execution_count": 82,
   "id": "56f8190d",
   "metadata": {
    "scrolled": true
   },
   "outputs": [
    {
     "data": {
      "text/plain": [
       "<matplotlib.legend.Legend at 0x24208abf0a0>"
      ]
     },
     "execution_count": 82,
     "metadata": {},
     "output_type": "execute_result"
    },
    {
     "data": {
      "image/png": "[encoded data removed]",
      "text/plain": [
       "<Figure size 640x480 with 1 Axes>"
      ]
     },
     "metadata": {},
     "output_type": "display_data"
    }
   ],
   "source": [
    "plt.figure()\n",
    "\n",
    "x = df.index\n",
    "y1 = df['Total']\n",
    "y2 = df['Coal']\n",
    "y3 = df['Oil']\n",
    "y4 = df['Gas']\n",
    "\n",
    "\n",
    "\n",
    "\n",
    "\n",
    "\n",
    "plt.plot(x,y1)\n",
    "plt.plot(x,y2)\n",
    "plt.plot(x,y3)\n",
    "plt.plot(x,y4)\n",
    "\n",
    "\n",
    "\n",
    "\n",
    "plt.legend(['Total', 'Coal', 'Oil', 'Gas'])"
   ]
  },
  {
   "cell_type": "markdown",
   "id": "95be9d06",
   "metadata": {},
   "source": [
    "Grainger's Causality Test"
   ]
  },
  {
   "cell_type": "code",
   "execution_count": 83,
   "id": "1f380907",
   "metadata": {
    "scrolled": false
   },
   "outputs": [
    {
     "data": {
      "text/html": [
       "<div>\n",
       "<style scoped>\n",
       "    .dataframe tbody tr th:only-of-type {\n",
       "        vertical-align: middle;\n",
       "    }\n",
       "\n",
       "    .dataframe tbody tr th {\n",
       "        vertical-align: top;\n",
       "    }\n",
       "\n",
       "    .dataframe thead th {\n",
       "        text-align: right;\n",
       "    }\n",
       "</style>\n",
       "<table border=\"1\" class=\"dataframe\">\n",
       "  <thead>\n",
       "    <tr style=\"text-align: right;\">\n",
       "      <th></th>\n",
       "      <th>Total_x</th>\n",
       "      <th>Coal_x</th>\n",
       "      <th>Oil_x</th>\n",
       "      <th>Gas_x</th>\n",
       "    </tr>\n",
       "  </thead>\n",
       "  <tbody>\n",
       "    <tr>\n",
       "      <th>Total_y</th>\n",
       "      <td>1.0</td>\n",
       "      <td>0.0</td>\n",
       "      <td>0.0</td>\n",
       "      <td>0.0000</td>\n",
       "    </tr>\n",
       "    <tr>\n",
       "      <th>Coal_y</th>\n",
       "      <td>0.0</td>\n",
       "      <td>1.0</td>\n",
       "      <td>0.0</td>\n",
       "      <td>0.0001</td>\n",
       "    </tr>\n",
       "    <tr>\n",
       "      <th>Oil_y</th>\n",
       "      <td>0.0</td>\n",
       "      <td>0.0</td>\n",
       "      <td>1.0</td>\n",
       "      <td>0.0006</td>\n",
       "    </tr>\n",
       "    <tr>\n",
       "      <th>Gas_y</th>\n",
       "      <td>0.0</td>\n",
       "      <td>0.0</td>\n",
       "      <td>0.0</td>\n",
       "      <td>1.0000</td>\n",
       "    </tr>\n",
       "  </tbody>\n",
       "</table>\n",
       "</div>"
      ],
      "text/plain": [
       "         Total_x  Coal_x  Oil_x   Gas_x\n",
       "Total_y      1.0     0.0    0.0  0.0000\n",
       "Coal_y       0.0     1.0    0.0  0.0001\n",
       "Oil_y        0.0     0.0    1.0  0.0006\n",
       "Gas_y        0.0     0.0    0.0  1.0000"
      ]
     },
     "execution_count": 83,
     "metadata": {},
     "output_type": "execute_result"
    }
   ],
   "source": [
    "from statsmodels.tsa.stattools import grangercausalitytests\n",
    "maxlag=12\n",
    "test = 'ssr_chi2test'\n",
    "def grangers_causation_matrix(data, variables, test='ssr_chi2test', verbose=False):    \n",
    "    \"\"\"Check Granger Causality of all possible combinations of the Time series.\n",
    "    The rows are the response variable, columns are predictors. The values in the table \n",
    "    are the P-Values. P-Values lesser than the significance level (0.05), implies \n",
    "    the Null Hypothesis that the coefficients of the corresponding past values is \n",
    "    zero, that is, the X does not cause Y can be rejected.\n",
    "\n",
    "    data      : pandas dataframe containing the time series variables\n",
    "    variables : list containing names of the time series variables.\n",
    "    \"\"\"\n",
    "    df = pd.DataFrame(np.zeros((len(variables), len(variables))), columns=variables, index=variables)\n",
    "    for c in df.columns:\n",
    "        for r in df.index:\n",
    "            test_result = grangercausalitytests(data[[r, c]], maxlag=maxlag, verbose=False)\n",
    "            p_values = [round(test_result[i+1][0][test][1],4) for i in range(maxlag)]\n",
    "            if verbose: print(f'Y = {r}, X = {c}, P Values = {p_values}')\n",
    "            min_p_value = np.min(p_values)\n",
    "            df.loc[r, c] = min_p_value\n",
    "    df.columns = [var + '_x' for var in variables]\n",
    "    df.index = [var + '_y' for var in variables]\n",
    "    return df\n",
    "\n",
    "grangers_causation_matrix(df, variables = df.columns)   "
   ]
  },
  {
   "cell_type": "markdown",
   "id": "1a19284f",
   "metadata": {},
   "source": [
    " Cointegration Test"
   ]
  },
  {
   "cell_type": "code",
   "execution_count": 84,
   "id": "8a7778a1",
   "metadata": {
    "scrolled": true
   },
   "outputs": [
    {
     "name": "stdout",
     "output_type": "stream",
     "text": [
      "Name   ::  Test Stat > C(95%)    =>   Signif  \n",
      " ----------------------------------------\n",
      "Total  ::  82.63     > 40.1749   =>   True\n",
      "Coal   ::  30.84     > 24.2761   =>   True\n",
      "Oil    ::  13.49     > 12.3212   =>   True\n",
      "Gas    ::  0.25      > 4.1296    =>   False\n"
     ]
    }
   ],
   "source": [
    "from statsmodels.tsa.vector_ar.vecm import coint_johansen\n",
    "\n",
    "def cointegration_test(df, alpha=0.05): \n",
    "    \"\"\"Perform Johanson's Cointegration Test and Report Summary\"\"\"\n",
    "    out = coint_johansen(df,-1,5)\n",
    "    d = {'0.90':0, '0.95':1, '0.99':2}\n",
    "    traces = out.lr1\n",
    "    cvts = out.cvt[:, d[str(1-alpha)]]\n",
    "    def adjust(val, length= 6): return str(val).ljust(length)\n",
    "\n",
    "    # Summary\n",
    "    print('Name   ::  Test Stat > C(95%)    =>   Signif  \\n', '--'*20)\n",
    "    for col, trace, cvt in zip(df.columns, traces, cvts):\n",
    "        print(adjust(col), ':: ', adjust(round(trace,2), 9), \">\", adjust(cvt, 8), ' =>  ' , trace > cvt)\n",
    "\n",
    "cointegration_test(df)"
   ]
  },
  {
   "cell_type": "markdown",
   "id": "6192c1ea",
   "metadata": {},
   "source": [
    "Split the Series into Training and Testing Data"
   ]
  },
  {
   "cell_type": "code",
   "execution_count": 85,
   "id": "b953b6ed",
   "metadata": {},
   "outputs": [
    {
     "name": "stdout",
     "output_type": "stream",
     "text": [
      "(67, 4)\n",
      "(5, 4)\n"
     ]
    }
   ],
   "source": [
    "nobs = 5\n",
    "df_train, df_test = df[0:-nobs], df[-nobs:]\n",
    "\n",
    "# Check size\n",
    "print(df_train.shape)  \n",
    "print(df_test.shape) "
   ]
  },
  {
   "cell_type": "markdown",
   "id": "a33b9eec",
   "metadata": {},
   "source": [
    "Check for Stationarity and Make the Time Series Stationary"
   ]
  },
  {
   "cell_type": "code",
   "execution_count": 86,
   "id": "fcb28513",
   "metadata": {},
   "outputs": [],
   "source": [
    "def adfuller_test(series, signif=0.05, name='', verbose=False):\n",
    "    \"\"\"Perform ADFuller to test for Stationarity of given series and print report\"\"\"\n",
    "    r = adfuller(series, autolag='AIC')\n",
    "    output = {'test_statistic':round(r[0], 4), 'pvalue':round(r[1], 4), 'n_lags':round(r[2], 4), 'n_obs':r[3]}\n",
    "    p_value = output['pvalue'] \n",
    "    def adjust(val, length= 6): return str(val).ljust(length)\n",
    "\n",
    "    # Print Summary\n",
    "    print(f'    Augmented Dickey-Fuller Test on \"{name}\"', \"\\n   \", '-'*47)\n",
    "    print(f' Null Hypothesis: Data has unit root. Non-Stationary.')\n",
    "    print(f' Significance Level    = {signif}')\n",
    "    print(f' Test Statistic        = {output[\"test_statistic\"]}')\n",
    "    print(f' No. Lags Chosen       = {output[\"n_lags\"]}')\n",
    "\n",
    "    for key,val in r[4].items():\n",
    "        print(f' Critical value {adjust(key)} = {round(val, 3)}')\n",
    "\n",
    "    if p_value <= signif:\n",
    "        print(f\" => P-Value = {p_value}. Rejecting Null Hypothesis.\")\n",
    "        print(f\" => Series is Stationary.\")\n",
    "    else:\n",
    "        print(f\" => P-Value = {p_value}. Weak evidence to reject the Null Hypothesis.\")\n",
    "        print(f\" => Series is Non-Stationary.\")    "
   ]
  },
  {
   "cell_type": "code",
   "execution_count": 87,
   "id": "7d2de168",
   "metadata": {},
   "outputs": [
    {
     "name": "stdout",
     "output_type": "stream",
     "text": [
      "    Augmented Dickey-Fuller Test on \"Total\" \n",
      "    -----------------------------------------------\n",
      " Null Hypothesis: Data has unit root. Non-Stationary.\n",
      " Significance Level    = 0.05\n",
      " Test Statistic        = 1.945\n",
      " No. Lags Chosen       = 9\n",
      " Critical value 1%     = -3.551\n",
      " Critical value 5%     = -2.914\n",
      " Critical value 10%    = -2.595\n",
      " => P-Value = 0.9986. Weak evidence to reject the Null Hypothesis.\n",
      " => Series is Non-Stationary.\n",
      "\n",
      "\n",
      "    Augmented Dickey-Fuller Test on \"Coal\" \n",
      "    -----------------------------------------------\n",
      " Null Hypothesis: Data has unit root. Non-Stationary.\n",
      " Significance Level    = 0.05\n",
      " Test Statistic        = -0.0545\n",
      " No. Lags Chosen       = 1\n",
      " Critical value 1%     = -3.535\n",
      " Critical value 5%     = -2.907\n",
      " Critical value 10%    = -2.591\n",
      " => P-Value = 0.9538. Weak evidence to reject the Null Hypothesis.\n",
      " => Series is Non-Stationary.\n",
      "\n",
      "\n",
      "    Augmented Dickey-Fuller Test on \"Oil\" \n",
      "    -----------------------------------------------\n",
      " Null Hypothesis: Data has unit root. Non-Stationary.\n",
      " Significance Level    = 0.05\n",
      " Test Statistic        = 1.3647\n",
      " No. Lags Chosen       = 11\n",
      " Critical value 1%     = -3.555\n",
      " Critical value 5%     = -2.916\n",
      " Critical value 10%    = -2.596\n",
      " => P-Value = 0.9969. Weak evidence to reject the Null Hypothesis.\n",
      " => Series is Non-Stationary.\n",
      "\n",
      "\n",
      "    Augmented Dickey-Fuller Test on \"Gas\" \n",
      "    -----------------------------------------------\n",
      " Null Hypothesis: Data has unit root. Non-Stationary.\n",
      " Significance Level    = 0.05\n",
      " Test Statistic        = 1.8768\n",
      " No. Lags Chosen       = 11\n",
      " Critical value 1%     = -3.555\n",
      " Critical value 5%     = -2.916\n",
      " Critical value 10%    = -2.596\n",
      " => P-Value = 0.9985. Weak evidence to reject the Null Hypothesis.\n",
      " => Series is Non-Stationary.\n",
      "\n",
      "\n"
     ]
    }
   ],
   "source": [
    "# ADF Test on each column\n",
    "for name, column in df_train.iteritems():\n",
    "    adfuller_test(column, name=column.name)\n",
    "    print('\\n')"
   ]
  },
  {
   "cell_type": "code",
   "execution_count": 88,
   "id": "73ae4f92",
   "metadata": {},
   "outputs": [],
   "source": [
    "# The ADF test confirms none of the time series is stationary. Let’s difference all of them once and check again.\n",
    "# 1st difference\n",
    "df_differenced = df_train.diff().dropna()"
   ]
  },
  {
   "cell_type": "code",
   "execution_count": 89,
   "id": "3b06cde5",
   "metadata": {
    "scrolled": true
   },
   "outputs": [
    {
     "name": "stdout",
     "output_type": "stream",
     "text": [
      "    Augmented Dickey-Fuller Test on \"Total\" \n",
      "    -----------------------------------------------\n",
      " Null Hypothesis: Data has unit root. Non-Stationary.\n",
      " Significance Level    = 0.05\n",
      " Test Statistic        = -3.0097\n",
      " No. Lags Chosen       = 0\n",
      " Critical value 1%     = -3.535\n",
      " Critical value 5%     = -2.907\n",
      " Critical value 10%    = -2.591\n",
      " => P-Value = 0.034. Rejecting Null Hypothesis.\n",
      " => Series is Stationary.\n",
      "\n",
      "\n",
      "    Augmented Dickey-Fuller Test on \"Coal\" \n",
      "    -----------------------------------------------\n",
      " Null Hypothesis: Data has unit root. Non-Stationary.\n",
      " Significance Level    = 0.05\n",
      " Test Statistic        = -3.25\n",
      " No. Lags Chosen       = 0\n",
      " Critical value 1%     = -3.535\n",
      " Critical value 5%     = -2.907\n",
      " Critical value 10%    = -2.591\n",
      " => P-Value = 0.0173. Rejecting Null Hypothesis.\n",
      " => Series is Stationary.\n",
      "\n",
      "\n",
      "    Augmented Dickey-Fuller Test on \"Oil\" \n",
      "    -----------------------------------------------\n",
      " Null Hypothesis: Data has unit root. Non-Stationary.\n",
      " Significance Level    = 0.05\n",
      " Test Statistic        = -0.3539\n",
      " No. Lags Chosen       = 10\n",
      " Critical value 1%     = -3.555\n",
      " Critical value 5%     = -2.916\n",
      " Critical value 10%    = -2.596\n",
      " => P-Value = 0.9175. Weak evidence to reject the Null Hypothesis.\n",
      " => Series is Non-Stationary.\n",
      "\n",
      "\n",
      "    Augmented Dickey-Fuller Test on \"Gas\" \n",
      "    -----------------------------------------------\n",
      " Null Hypothesis: Data has unit root. Non-Stationary.\n",
      " Significance Level    = 0.05\n",
      " Test Statistic        = 0.0775\n",
      " No. Lags Chosen       = 11\n",
      " Critical value 1%     = -3.558\n",
      " Critical value 5%     = -2.917\n",
      " Critical value 10%    = -2.596\n",
      " => P-Value = 0.9645. Weak evidence to reject the Null Hypothesis.\n",
      " => Series is Non-Stationary.\n",
      "\n",
      "\n"
     ]
    }
   ],
   "source": [
    "# Re-run ADF test on each differenced series.\n",
    "# ADF Test on each column of 1st Differences Dataframe\n",
    "for name, column in df_differenced.iteritems():\n",
    "    adfuller_test(column, name=column.name)\n",
    "    print('\\n')"
   ]
  },
  {
   "cell_type": "code",
   "execution_count": 90,
   "id": "14e2cc35",
   "metadata": {},
   "outputs": [],
   "source": [
    "# Let’s difference all of them once more and check again.\n",
    "# 2nd difference\n",
    "df_differenced = df_differenced.diff().dropna()"
   ]
  },
  {
   "cell_type": "code",
   "execution_count": 91,
   "id": "b547e4b2",
   "metadata": {},
   "outputs": [
    {
     "name": "stdout",
     "output_type": "stream",
     "text": [
      "    Augmented Dickey-Fuller Test on \"Total\" \n",
      "    -----------------------------------------------\n",
      " Null Hypothesis: Data has unit root. Non-Stationary.\n",
      " Significance Level    = 0.05\n",
      " Test Statistic        = -7.2712\n",
      " No. Lags Chosen       = 1\n",
      " Critical value 1%     = -3.539\n",
      " Critical value 5%     = -2.909\n",
      " Critical value 10%    = -2.592\n",
      " => P-Value = 0.0. Rejecting Null Hypothesis.\n",
      " => Series is Stationary.\n",
      "\n",
      "\n",
      "    Augmented Dickey-Fuller Test on \"Coal\" \n",
      "    -----------------------------------------------\n",
      " Null Hypothesis: Data has unit root. Non-Stationary.\n",
      " Significance Level    = 0.05\n",
      " Test Statistic        = -7.5277\n",
      " No. Lags Chosen       = 1\n",
      " Critical value 1%     = -3.539\n",
      " Critical value 5%     = -2.909\n",
      " Critical value 10%    = -2.592\n",
      " => P-Value = 0.0. Rejecting Null Hypothesis.\n",
      " => Series is Stationary.\n",
      "\n",
      "\n",
      "    Augmented Dickey-Fuller Test on \"Oil\" \n",
      "    -----------------------------------------------\n",
      " Null Hypothesis: Data has unit root. Non-Stationary.\n",
      " Significance Level    = 0.05\n",
      " Test Statistic        = -3.6539\n",
      " No. Lags Chosen       = 9\n",
      " Critical value 1%     = -3.555\n",
      " Critical value 5%     = -2.916\n",
      " Critical value 10%    = -2.596\n",
      " => P-Value = 0.0048. Rejecting Null Hypothesis.\n",
      " => Series is Stationary.\n",
      "\n",
      "\n",
      "    Augmented Dickey-Fuller Test on \"Gas\" \n",
      "    -----------------------------------------------\n",
      " Null Hypothesis: Data has unit root. Non-Stationary.\n",
      " Significance Level    = 0.05\n",
      " Test Statistic        = -2.8154\n",
      " No. Lags Chosen       = 11\n",
      " Critical value 1%     = -3.56\n",
      " Critical value 5%     = -2.918\n",
      " Critical value 10%    = -2.597\n",
      " => P-Value = 0.0561. Weak evidence to reject the Null Hypothesis.\n",
      " => Series is Non-Stationary.\n",
      "\n",
      "\n"
     ]
    }
   ],
   "source": [
    "# Re-run ADF test on each differenced series.\n",
    "# ADF Test on each column of 2nd Differences Dataframe\n",
    "for name, column in df_differenced.iteritems():\n",
    "    adfuller_test(column, name=column.name)\n",
    "    print('\\n')\n",
    "    ### result: all the time series became stationary ###"
   ]
  },
  {
   "cell_type": "markdown",
   "id": "b25797e6",
   "metadata": {},
   "source": [
    "How to Select the Order (P) of VAR model"
   ]
  },
  {
   "cell_type": "code",
   "execution_count": 92,
   "id": "e95a347e",
   "metadata": {
    "scrolled": true
   },
   "outputs": [
    {
     "name": "stdout",
     "output_type": "stream",
     "text": [
      "Lag Order = 1\n",
      "AIC :  25.716071082905625\n",
      "BIC :  26.390722046455522\n",
      "FPE :  147537368392.21005\n",
      "HQIC:  25.98185017580962 \n",
      "\n",
      "Lag Order = 2\n",
      "AIC :  25.28928347672417\n",
      "BIC :  26.513931891805044\n",
      "FPE :  96920280174.74574\n",
      "HQIC:  25.770943684276922 \n",
      "\n",
      "Lag Order = 3\n",
      "AIC :  24.783114809302628\n",
      "BIC :  26.567163003211416\n",
      "FPE :  59447934510.04308\n",
      "HQIC:  25.483577140191382 \n",
      "\n",
      "Lag Order = 4\n",
      "AIC :  24.49041250237605\n",
      "BIC :  26.84351779358564\n",
      "FPE :  45957416514.54343\n",
      "HQIC:  25.412616518609397 \n",
      "\n",
      "Lag Order = 5\n",
      "AIC :  24.043618871622446\n",
      "BIC :  26.975701258733388\n",
      "FPE :  31308920872.760292\n",
      "HQIC:  25.190517481623512 \n",
      "\n",
      "Lag Order = 6\n",
      "AIC :  23.47145976152831\n",
      "BIC :  26.99270966645326\n",
      "FPE :  19612919613.07865\n",
      "HQIC:  24.84601311246259 \n",
      "\n",
      "Lag Order = 7\n",
      "AIC :  22.58487961567024\n",
      "BIC :  26.705765636763076\n",
      "FPE :  9545434080.376207\n",
      "HQIC:  24.190047949906507 \n",
      "\n",
      "Lag Order = 8\n",
      "AIC :  21.821536114413124\n",
      "BIC :  26.552812734661558\n",
      "FPE :  5776018994.0436\n",
      "HQIC:  23.660271433747738 \n",
      "\n",
      "Lag Order = 9\n",
      "AIC :  21.11390279808082\n",
      "BIC :  26.466617980738\n",
      "FPE :  4295486118.132275\n",
      "HQIC:  23.189139154429725 \n",
      "\n"
     ]
    }
   ],
   "source": [
    "# To select the right order of the VAR model, we iteratively fit increasing orders of VAR model and pick the order that gives a model with least AIC.\n",
    "# Though the usual practice is to look at the AIC, you can also check other best fit comparison estimates of BIC, FPE and HQIC.\n",
    "\n",
    "model = VAR(df_differenced)\n",
    "for i in [1,2,3,4,5,6,7,8,9]:\n",
    "    result = model.fit(i)\n",
    "    print('Lag Order =', i)\n",
    "    print('AIC : ', result.aic)\n",
    "    print('BIC : ', result.bic)\n",
    "    print('FPE : ', result.fpe)\n",
    "    print('HQIC: ', result.hqic, '\\n')"
   ]
  },
  {
   "cell_type": "code",
   "execution_count": 93,
   "id": "933e118c",
   "metadata": {
    "scrolled": false
   },
   "outputs": [],
   "source": [
    "# An alternate method to choose the order(p) of the VAR models is to use the model.select_order(maxlags) method.\n",
    "#x = model.select_order(maxlags=6)\n",
    "#x.summary()"
   ]
  },
  {
   "cell_type": "markdown",
   "id": "35a9d9d2",
   "metadata": {},
   "source": [
    "We choose d = 3 as the number of lags (AIC and BIC is locally minimum at d=3)"
   ]
  },
  {
   "cell_type": "markdown",
   "id": "810cce81",
   "metadata": {},
   "source": [
    "Train the VAR Model of Selected Order(p)"
   ]
  },
  {
   "cell_type": "code",
   "execution_count": 94,
   "id": "42f69ff9",
   "metadata": {},
   "outputs": [
    {
     "data": {
      "text/plain": [
       "  Summary of Regression Results   \n",
       "==================================\n",
       "Model:                         VAR\n",
       "Method:                        OLS\n",
       "Date:           Tue, 07, Mar, 2023\n",
       "Time:                     14:20:33\n",
       "--------------------------------------------------------------------\n",
       "No. of Equations:         4.00000    BIC:                    26.5139\n",
       "Nobs:                     63.0000    HQIC:                   25.7709\n",
       "Log likelihood:          -1118.18    FPE:                9.69203e+10\n",
       "AIC:                      25.2893    Det(Omega_mle):     5.68129e+10\n",
       "--------------------------------------------------------------------\n",
       "Results for equation Total\n",
       "===========================================================================\n",
       "              coefficient       std. error           t-stat            prob\n",
       "---------------------------------------------------------------------------\n",
       "const            5.543004        19.211440            0.289           0.773\n",
       "L1.Total         2.152965         1.519623            1.417           0.157\n",
       "L1.Coal         -2.328846         1.571216           -1.482           0.138\n",
       "L1.Oil          -2.514947         1.554685           -1.618           0.106\n",
       "L1.Gas         -12.113264         4.746697           -2.552           0.011\n",
       "L2.Total         4.575624         1.557631            2.938           0.003\n",
       "L2.Coal         -4.954651         1.628849           -3.042           0.002\n",
       "L2.Oil          -4.299911         1.689307           -2.545           0.011\n",
       "L2.Gas         -13.797548         4.955508           -2.784           0.005\n",
       "===========================================================================\n",
       "\n",
       "Results for equation Coal\n",
       "===========================================================================\n",
       "              coefficient       std. error           t-stat            prob\n",
       "---------------------------------------------------------------------------\n",
       "const            0.240130        18.168235            0.013           0.989\n",
       "L1.Total         2.293587         1.437106            1.596           0.110\n",
       "L1.Coal         -2.538952         1.485897           -1.709           0.088\n",
       "L1.Oil          -2.141050         1.470264           -1.456           0.145\n",
       "L1.Gas          -9.396314         4.488946           -2.093           0.036\n",
       "L2.Total         4.416848         1.473049            2.998           0.003\n",
       "L2.Coal         -4.830690         1.540401           -3.136           0.002\n",
       "L2.Oil          -3.869137         1.597576           -2.422           0.015\n",
       "L2.Gas         -10.274093         4.686418           -2.192           0.028\n",
       "===========================================================================\n",
       "\n",
       "Results for equation Oil\n",
       "===========================================================================\n",
       "              coefficient       std. error           t-stat            prob\n",
       "---------------------------------------------------------------------------\n",
       "const            3.487654         2.761284            1.263           0.207\n",
       "L1.Total         0.574184         0.218417            2.629           0.009\n",
       "L1.Coal         -0.541812         0.225833           -2.399           0.016\n",
       "L1.Oil          -1.352169         0.223457           -6.051           0.000\n",
       "L1.Gas          -2.028541         0.682249           -2.973           0.003\n",
       "L2.Total         0.498662         0.223880            2.227           0.026\n",
       "L2.Coal         -0.471255         0.234117           -2.013           0.044\n",
       "L2.Oil          -0.813745         0.242806           -3.351           0.001\n",
       "L2.Gas          -2.340991         0.712261           -3.287           0.001\n",
       "===========================================================================\n",
       "\n",
       "Results for equation Gas\n",
       "===========================================================================\n",
       "              coefficient       std. error           t-stat            prob\n",
       "---------------------------------------------------------------------------\n",
       "const            1.054148         0.835214            1.262           0.207\n",
       "L1.Total        -0.006686         0.066065           -0.101           0.919\n",
       "L1.Coal          0.009968         0.068308            0.146           0.884\n",
       "L1.Oil           0.109697         0.067590            1.623           0.105\n",
       "L1.Gas          -0.697639         0.206362           -3.381           0.001\n",
       "L2.Total        -0.068526         0.067718           -1.012           0.312\n",
       "L2.Coal          0.072668         0.070814            1.026           0.305\n",
       "L2.Oil           0.103249         0.073442            1.406           0.160\n",
       "L2.Gas          -0.385744         0.215440           -1.790           0.073\n",
       "===========================================================================\n",
       "\n",
       "Correlation matrix of residuals\n",
       "            Total      Coal       Oil       Gas\n",
       "Total    1.000000  0.985133  0.002705  0.235331\n",
       "Coal     0.985133  1.000000 -0.118744  0.149565\n",
       "Oil      0.002705 -0.118744  1.000000 -0.032420\n",
       "Gas      0.235331  0.149565 -0.032420  1.000000\n",
       "\n"
      ]
     },
     "execution_count": 94,
     "metadata": {},
     "output_type": "execute_result"
    }
   ],
   "source": [
    "p=3\n",
    "model_fitted = model.fit(p)\n",
    "model_fitted.summary()"
   ]
  },
  {
   "cell_type": "markdown",
   "id": "8c58acb4",
   "metadata": {},
   "source": [
    "Check for Serial Correlation of Residuals (Errors) using Durbin Watson Statistic. Results close to 2 is alright."
   ]
  },
  {
   "cell_type": "code",
   "execution_count": 95,
   "id": "d65387cb",
   "metadata": {},
   "outputs": [
    {
     "name": "stdout",
     "output_type": "stream",
     "text": [
      "Total  : 1.96\n",
      "Coal   : 1.96\n",
      "Oil    : 1.95\n",
      "Gas    : 1.72\n"
     ]
    }
   ],
   "source": [
    "from statsmodels.stats.stattools import durbin_watson\n",
    "\n",
    "def adjust(val, length= 6): return str(val).ljust(length)\n",
    "out = durbin_watson(model_fitted.resid)\n",
    "\n",
    "for col, val in zip(df.columns, out):\n",
    "    print(adjust(col), ':', round(val, 2))"
   ]
  },
  {
   "cell_type": "markdown",
   "id": "cda4d416",
   "metadata": {},
   "source": [
    "How to Forecast VAR model using statsmodels"
   ]
  },
  {
   "cell_type": "code",
   "execution_count": 96,
   "id": "5d722d89",
   "metadata": {},
   "outputs": [
    {
     "data": {
      "text/html": [
       "<div>\n",
       "<style scoped>\n",
       "    .dataframe tbody tr th:only-of-type {\n",
       "        vertical-align: middle;\n",
       "    }\n",
       "\n",
       "    .dataframe tbody tr th {\n",
       "        vertical-align: top;\n",
       "    }\n",
       "\n",
       "    .dataframe thead th {\n",
       "        text-align: right;\n",
       "    }\n",
       "</style>\n",
       "<table border=\"1\" class=\"dataframe\">\n",
       "  <thead>\n",
       "    <tr style=\"text-align: right;\">\n",
       "      <th></th>\n",
       "      <th>Total</th>\n",
       "      <th>Coal</th>\n",
       "      <th>Oil</th>\n",
       "      <th>Gas</th>\n",
       "    </tr>\n",
       "    <tr>\n",
       "      <th>Year</th>\n",
       "      <th></th>\n",
       "      <th></th>\n",
       "      <th></th>\n",
       "      <th></th>\n",
       "    </tr>\n",
       "  </thead>\n",
       "  <tbody>\n",
       "    <tr>\n",
       "      <th>1952</th>\n",
       "      <td>2.604187</td>\n",
       "      <td>2.791968</td>\n",
       "      <td>0.080608</td>\n",
       "      <td>0.014656</td>\n",
       "    </tr>\n",
       "    <tr>\n",
       "      <th>1953</th>\n",
       "      <td>-20.100556</td>\n",
       "      <td>-20.518294</td>\n",
       "      <td>0.172156</td>\n",
       "      <td>-0.000001</td>\n",
       "    </tr>\n",
       "    <tr>\n",
       "      <th>1954</th>\n",
       "      <td>21.310970</td>\n",
       "      <td>20.562285</td>\n",
       "      <td>0.861068</td>\n",
       "      <td>0.000001</td>\n",
       "    </tr>\n",
       "    <tr>\n",
       "      <th>1955</th>\n",
       "      <td>2.549524</td>\n",
       "      <td>2.249544</td>\n",
       "      <td>0.644964</td>\n",
       "      <td>-0.003663</td>\n",
       "    </tr>\n",
       "    <tr>\n",
       "      <th>1956</th>\n",
       "      <td>-4.341528</td>\n",
       "      <td>-5.777999</td>\n",
       "      <td>0.597156</td>\n",
       "      <td>0.010991</td>\n",
       "    </tr>\n",
       "    <tr>\n",
       "      <th>...</th>\n",
       "      <td>...</td>\n",
       "      <td>...</td>\n",
       "      <td>...</td>\n",
       "      <td>...</td>\n",
       "    </tr>\n",
       "    <tr>\n",
       "      <th>2012</th>\n",
       "      <td>-661.177155</td>\n",
       "      <td>-585.972528</td>\n",
       "      <td>21.566304</td>\n",
       "      <td>-14.795232</td>\n",
       "    </tr>\n",
       "    <tr>\n",
       "      <th>2013</th>\n",
       "      <td>-73.699229</td>\n",
       "      <td>-126.372215</td>\n",
       "      <td>5.056783</td>\n",
       "      <td>10.918840</td>\n",
       "    </tr>\n",
       "    <tr>\n",
       "      <th>2014</th>\n",
       "      <td>-134.713675</td>\n",
       "      <td>-97.035666</td>\n",
       "      <td>-36.926718</td>\n",
       "      <td>7.565920</td>\n",
       "    </tr>\n",
       "    <tr>\n",
       "      <th>2015</th>\n",
       "      <td>-174.029915</td>\n",
       "      <td>-89.700155</td>\n",
       "      <td>52.216630</td>\n",
       "      <td>-40.263432</td>\n",
       "    </tr>\n",
       "    <tr>\n",
       "      <th>2016</th>\n",
       "      <td>29.792362</td>\n",
       "      <td>-37.487257</td>\n",
       "      <td>-44.167381</td>\n",
       "      <td>31.843375</td>\n",
       "    </tr>\n",
       "  </tbody>\n",
       "</table>\n",
       "<p>65 rows × 4 columns</p>\n",
       "</div>"
      ],
      "text/plain": [
       "           Total        Coal        Oil        Gas\n",
       "Year                                              \n",
       "1952    2.604187    2.791968   0.080608   0.014656\n",
       "1953  -20.100556  -20.518294   0.172156  -0.000001\n",
       "1954   21.310970   20.562285   0.861068   0.000001\n",
       "1955    2.549524    2.249544   0.644964  -0.003663\n",
       "1956   -4.341528   -5.777999   0.597156   0.010991\n",
       "...          ...         ...        ...        ...\n",
       "2012 -661.177155 -585.972528  21.566304 -14.795232\n",
       "2013  -73.699229 -126.372215   5.056783  10.918840\n",
       "2014 -134.713675  -97.035666 -36.926718   7.565920\n",
       "2015 -174.029915  -89.700155  52.216630 -40.263432\n",
       "2016   29.792362  -37.487257 -44.167381  31.843375\n",
       "\n",
       "[65 rows x 4 columns]"
      ]
     },
     "execution_count": 96,
     "metadata": {},
     "output_type": "execute_result"
    }
   ],
   "source": [
    "df_differenced"
   ]
  },
  {
   "cell_type": "code",
   "execution_count": 97,
   "id": "a67dd70d",
   "metadata": {
    "scrolled": false
   },
   "outputs": [
    {
     "name": "stdout",
     "output_type": "stream",
     "text": [
      "2\n"
     ]
    },
    {
     "data": {
      "text/plain": [
       "array([[-174.029915,  -89.700155,   52.21663 ,  -40.263432],\n",
       "       [  29.792362,  -37.487257,  -44.167381,   31.843375]])"
      ]
     },
     "execution_count": 97,
     "metadata": {},
     "output_type": "execute_result"
    }
   ],
   "source": [
    "# In order to forecast, the VAR model expects up to the lag order number of observations from the past data.\n",
    "# Get the lag order\n",
    "lag_order = model_fitted.k_ar\n",
    "print(lag_order)  \n",
    "\n",
    "# Input data for forecasting\n",
    "forecast_input = df_differenced.values[-lag_order:]\n",
    "forecast_input # the output is the values of total, coal, oil and gas for 2015 and 2016 (this depends on the train test split and lag_order)"
   ]
  },
  {
   "cell_type": "code",
   "execution_count": 98,
   "id": "84380c81",
   "metadata": {
    "scrolled": true
   },
   "outputs": [
    {
     "data": {
      "text/html": [
       "<div>\n",
       "<style scoped>\n",
       "    .dataframe tbody tr th:only-of-type {\n",
       "        vertical-align: middle;\n",
       "    }\n",
       "\n",
       "    .dataframe tbody tr th {\n",
       "        vertical-align: top;\n",
       "    }\n",
       "\n",
       "    .dataframe thead th {\n",
       "        text-align: right;\n",
       "    }\n",
       "</style>\n",
       "<table border=\"1\" class=\"dataframe\">\n",
       "  <thead>\n",
       "    <tr style=\"text-align: right;\">\n",
       "      <th></th>\n",
       "      <th>Total_2d</th>\n",
       "      <th>Coal_2d</th>\n",
       "      <th>Oil_2d</th>\n",
       "      <th>Gas_2d</th>\n",
       "    </tr>\n",
       "    <tr>\n",
       "      <th>Year</th>\n",
       "      <th></th>\n",
       "      <th></th>\n",
       "      <th></th>\n",
       "      <th></th>\n",
       "    </tr>\n",
       "  </thead>\n",
       "  <tbody>\n",
       "    <tr>\n",
       "      <th>2017</th>\n",
       "      <td>-138.514440</td>\n",
       "      <td>-164.609015</td>\n",
       "      <td>43.285949</td>\n",
       "      <td>-0.248974</td>\n",
       "    </tr>\n",
       "    <tr>\n",
       "      <th>2018</th>\n",
       "      <td>57.439633</td>\n",
       "      <td>166.547322</td>\n",
       "      <td>-50.964467</td>\n",
       "      <td>-16.347855</td>\n",
       "    </tr>\n",
       "    <tr>\n",
       "      <th>2019</th>\n",
       "      <td>66.643850</td>\n",
       "      <td>-9.689154</td>\n",
       "      <td>22.166107</td>\n",
       "      <td>10.239761</td>\n",
       "    </tr>\n",
       "    <tr>\n",
       "      <th>2020</th>\n",
       "      <td>-125.852748</td>\n",
       "      <td>-151.669382</td>\n",
       "      <td>26.158056</td>\n",
       "      <td>5.010562</td>\n",
       "    </tr>\n",
       "    <tr>\n",
       "      <th>2021</th>\n",
       "      <td>77.668472</td>\n",
       "      <td>143.773880</td>\n",
       "      <td>-36.342821</td>\n",
       "      <td>-7.174601</td>\n",
       "    </tr>\n",
       "  </tbody>\n",
       "</table>\n",
       "</div>"
      ],
      "text/plain": [
       "        Total_2d     Coal_2d     Oil_2d     Gas_2d\n",
       "Year                                              \n",
       "2017 -138.514440 -164.609015  43.285949  -0.248974\n",
       "2018   57.439633  166.547322 -50.964467 -16.347855\n",
       "2019   66.643850   -9.689154  22.166107  10.239761\n",
       "2020 -125.852748 -151.669382  26.158056   5.010562\n",
       "2021   77.668472  143.773880 -36.342821  -7.174601"
      ]
     },
     "execution_count": 98,
     "metadata": {},
     "output_type": "execute_result"
    }
   ],
   "source": [
    "# Forecast\n",
    "fc = model_fitted.forecast(y=forecast_input, steps=nobs) # nobs is from test train split ratio\n",
    "df_forecast = pd.DataFrame(fc, index=df.index[-nobs:], columns=df.columns + '_2d')\n",
    "df_forecast"
   ]
  },
  {
   "cell_type": "markdown",
   "id": "0f77dfb2",
   "metadata": {},
   "source": [
    "Invert the transformation to get the real forecast"
   ]
  },
  {
   "cell_type": "code",
   "execution_count": 99,
   "id": "55f36737",
   "metadata": {},
   "outputs": [],
   "source": [
    "def invert_transformation(df_train, df_forecast, second_diff=False):\n",
    "    \"\"\"Revert back the differencing to get the forecast to original scale.\"\"\"\n",
    "    df_fc = df_forecast.copy()\n",
    "    columns = df_train.columns\n",
    "    for col in columns:        \n",
    "        # Roll back 2nd Diff\n",
    "        if second_diff:\n",
    "            df_fc[str(col)+'_1d'] = (df_train[col].iloc[-1]-df_train[col].iloc[-2]) + df_fc[str(col)+'_2d'].cumsum()\n",
    "        # Roll back 1st Diff\n",
    "        df_fc[str(col)+'_forecast'] = df_train[col].iloc[-1] + df_fc[str(col)+'_1d'].cumsum()\n",
    "    return df_fc"
   ]
  },
  {
   "cell_type": "code",
   "execution_count": 100,
   "id": "64c9e178",
   "metadata": {
    "scrolled": true
   },
   "outputs": [
    {
     "data": {
      "text/html": [
       "<div>\n",
       "<style scoped>\n",
       "    .dataframe tbody tr th:only-of-type {\n",
       "        vertical-align: middle;\n",
       "    }\n",
       "\n",
       "    .dataframe tbody tr th {\n",
       "        vertical-align: top;\n",
       "    }\n",
       "\n",
       "    .dataframe thead th {\n",
       "        text-align: right;\n",
       "    }\n",
       "</style>\n",
       "<table border=\"1\" class=\"dataframe\">\n",
       "  <thead>\n",
       "    <tr style=\"text-align: right;\">\n",
       "      <th></th>\n",
       "      <th>Total_forecast</th>\n",
       "      <th>Coal_forecast</th>\n",
       "      <th>Oil_forecast</th>\n",
       "      <th>Gas_forecast</th>\n",
       "    </tr>\n",
       "    <tr>\n",
       "      <th>Year</th>\n",
       "      <th></th>\n",
       "      <th></th>\n",
       "      <th></th>\n",
       "      <th></th>\n",
       "    </tr>\n",
       "  </thead>\n",
       "  <tbody>\n",
       "    <tr>\n",
       "      <th>2017</th>\n",
       "      <td>9524.540732</td>\n",
       "      <td>6711.219579</td>\n",
       "      <td>1430.156040</td>\n",
       "      <td>463.151296</td>\n",
       "    </tr>\n",
       "    <tr>\n",
       "      <th>2018</th>\n",
       "      <td>9341.541351</td>\n",
       "      <td>6517.582768</td>\n",
       "      <td>1451.510036</td>\n",
       "      <td>488.228498</td>\n",
       "    </tr>\n",
       "    <tr>\n",
       "      <th>2019</th>\n",
       "      <td>9225.185819</td>\n",
       "      <td>6314.256804</td>\n",
       "      <td>1495.030139</td>\n",
       "      <td>523.545462</td>\n",
       "    </tr>\n",
       "    <tr>\n",
       "      <th>2020</th>\n",
       "      <td>8982.977540</td>\n",
       "      <td>5959.261457</td>\n",
       "      <td>1564.708299</td>\n",
       "      <td>563.872987</td>\n",
       "    </tr>\n",
       "    <tr>\n",
       "      <th>2021</th>\n",
       "      <td>8818.437733</td>\n",
       "      <td>5748.039990</td>\n",
       "      <td>1598.043637</td>\n",
       "      <td>597.025911</td>\n",
       "    </tr>\n",
       "  </tbody>\n",
       "</table>\n",
       "</div>"
      ],
      "text/plain": [
       "      Total_forecast  Coal_forecast  Oil_forecast  Gas_forecast\n",
       "Year                                                           \n",
       "2017     9524.540732    6711.219579   1430.156040    463.151296\n",
       "2018     9341.541351    6517.582768   1451.510036    488.228498\n",
       "2019     9225.185819    6314.256804   1495.030139    523.545462\n",
       "2020     8982.977540    5959.261457   1564.708299    563.872987\n",
       "2021     8818.437733    5748.039990   1598.043637    597.025911"
      ]
     },
     "execution_count": 100,
     "metadata": {},
     "output_type": "execute_result"
    }
   ],
   "source": [
    "df_results = invert_transformation(df_train, df_forecast, second_diff=True)        \n",
    "df_results.loc[:, ['Total_forecast', 'Coal_forecast', 'Oil_forecast','Gas_forecast']]"
   ]
  },
  {
   "cell_type": "code",
   "execution_count": 101,
   "id": "d4436fb8",
   "metadata": {
    "scrolled": true
   },
   "outputs": [
    {
     "data": {
      "text/html": [
       "<div>\n",
       "<style scoped>\n",
       "    .dataframe tbody tr th:only-of-type {\n",
       "        vertical-align: middle;\n",
       "    }\n",
       "\n",
       "    .dataframe tbody tr th {\n",
       "        vertical-align: top;\n",
       "    }\n",
       "\n",
       "    .dataframe thead th {\n",
       "        text-align: right;\n",
       "    }\n",
       "</style>\n",
       "<table border=\"1\" class=\"dataframe\">\n",
       "  <thead>\n",
       "    <tr style=\"text-align: right;\">\n",
       "      <th></th>\n",
       "      <th>Total</th>\n",
       "      <th>Coal</th>\n",
       "      <th>Oil</th>\n",
       "      <th>Gas</th>\n",
       "    </tr>\n",
       "    <tr>\n",
       "      <th>Year</th>\n",
       "      <th></th>\n",
       "      <th></th>\n",
       "      <th></th>\n",
       "      <th></th>\n",
       "    </tr>\n",
       "  </thead>\n",
       "  <tbody>\n",
       "    <tr>\n",
       "      <th>2017</th>\n",
       "      <td>10011.107108</td>\n",
       "      <td>7163.317856</td>\n",
       "      <td>1430.586816</td>\n",
       "      <td>486.359360</td>\n",
       "    </tr>\n",
       "    <tr>\n",
       "      <th>2018</th>\n",
       "      <td>10353.876989</td>\n",
       "      <td>7316.399776</td>\n",
       "      <td>1500.473952</td>\n",
       "      <td>575.368912</td>\n",
       "    </tr>\n",
       "    <tr>\n",
       "      <th>2019</th>\n",
       "      <td>10740.996069</td>\n",
       "      <td>7543.157408</td>\n",
       "      <td>1559.728160</td>\n",
       "      <td>630.171360</td>\n",
       "    </tr>\n",
       "    <tr>\n",
       "      <th>2020</th>\n",
       "      <td>10956.213369</td>\n",
       "      <td>7605.716883</td>\n",
       "      <td>1627.725238</td>\n",
       "      <td>687.880944</td>\n",
       "    </tr>\n",
       "    <tr>\n",
       "      <th>2021</th>\n",
       "      <td>11472.369171</td>\n",
       "      <td>7955.985419</td>\n",
       "      <td>1713.339980</td>\n",
       "      <td>773.866062</td>\n",
       "    </tr>\n",
       "  </tbody>\n",
       "</table>\n",
       "</div>"
      ],
      "text/plain": [
       "             Total         Coal          Oil         Gas\n",
       "Year                                                    \n",
       "2017  10011.107108  7163.317856  1430.586816  486.359360\n",
       "2018  10353.876989  7316.399776  1500.473952  575.368912\n",
       "2019  10740.996069  7543.157408  1559.728160  630.171360\n",
       "2020  10956.213369  7605.716883  1627.725238  687.880944\n",
       "2021  11472.369171  7955.985419  1713.339980  773.866062"
      ]
     },
     "execution_count": 101,
     "metadata": {},
     "output_type": "execute_result"
    }
   ],
   "source": [
    "df_test"
   ]
  },
  {
   "cell_type": "markdown",
   "id": "44d5f38d",
   "metadata": {},
   "source": [
    "Plot of Forecast vs Actuals"
   ]
  },
  {
   "cell_type": "code",
   "execution_count": 102,
   "id": "1e3ab499",
   "metadata": {
    "scrolled": true
   },
   "outputs": [
    {
     "data": {
      "image/png": "[encoded data removed]",
      "text/plain": [
       "<Figure size 1500x1500 with 4 Axes>"
      ]
     },
     "metadata": {},
     "output_type": "display_data"
    }
   ],
   "source": [
    "fig, axes = plt.subplots(nrows=int(len(df.columns)/2), ncols=2, dpi=150, figsize=(10,10))\n",
    "for i, (col,ax) in enumerate(zip(df.columns, axes.flatten())):\n",
    "    df_results[col+'_forecast'].plot(legend=True, ax=ax).autoscale(axis='x',tight=True)\n",
    "    df_test[col][-nobs:].plot(legend=True, ax=ax);\n",
    "    ax.set_title(col + \": Forecast vs Actuals\")\n",
    "    ax.xaxis.set_ticks_position('none')\n",
    "    ax.yaxis.set_ticks_position('none')\n",
    "    ax.spines[\"top\"].set_alpha(0)\n",
    "    ax.tick_params(labelsize=6)\n",
    "\n",
    "plt.tight_layout();"
   ]
  },
  {
   "cell_type": "markdown",
   "id": "385d1c19",
   "metadata": {},
   "source": [
    "Evaluate the Forecasts"
   ]
  },
  {
   "cell_type": "code",
   "execution_count": 103,
   "id": "929c7a6c",
   "metadata": {
    "scrolled": true
   },
   "outputs": [
    {
     "name": "stdout",
     "output_type": "stream",
     "text": [
      "Forecast Accuracy of: Total\n",
      "mape   :  0.1398\n",
      "me     :  -1528.3759\n",
      "mae    :  1528.3759\n",
      "mpe    :  -0.1398\n",
      "rmse   :  1702.7192\n",
      "corr   :  -0.9845\n",
      "minmax :  0.1398\n",
      "\n",
      "Forecast Accuracy of: Coal\n",
      "mape   :  0.1658\n",
      "me     :  -1266.8433\n",
      "mae    :  1266.8433\n",
      "mpe    :  -0.1658\n",
      "rmse   :  1409.8607\n",
      "corr   :  -0.9637\n",
      "minmax :  0.1658\n",
      "\n",
      "Forecast Accuracy of: Oil\n",
      "mape   :  0.0361\n",
      "me     :  -58.4812\n",
      "mae    :  58.4812\n",
      "mpe    :  -0.0361\n",
      "rmse   :  69.0621\n",
      "corr   :  0.9834\n",
      "minmax :  0.0361\n",
      "\n",
      "Forecast Accuracy of: Gas\n",
      "mape   :  0.1554\n",
      "me     :  -103.5645\n",
      "mae    :  103.5645\n",
      "mpe    :  -0.1554\n",
      "rmse   :  115.0231\n",
      "corr   :  0.9885\n",
      "minmax :  0.1554\n"
     ]
    }
   ],
   "source": [
    "# To evaluate the forecasts, let’s compute a comprehensive set of metrics, namely, the MAPE, ME, MAE, MPE, RMSE, corr and minmax.\n",
    "from statsmodels.tsa.stattools import acf\n",
    "def forecast_accuracy(forecast, actual):\n",
    "    mape = np.mean(np.abs(forecast - actual)/np.abs(actual))  # MAPE\n",
    "    me = np.mean(forecast - actual)             # ME\n",
    "    mae = np.mean(np.abs(forecast - actual))    # MAE\n",
    "    mpe = np.mean((forecast - actual)/actual)   # MPE\n",
    "    rmse = np.mean((forecast - actual)**2)**.5  # RMSE\n",
    "    corr = np.corrcoef(forecast, actual)[0,1]   # corr\n",
    "    mins = np.amin(np.hstack([forecast[:,None], \n",
    "                              actual[:,None]]), axis=1)\n",
    "    maxs = np.amax(np.hstack([forecast[:,None], \n",
    "                              actual[:,None]]), axis=1)\n",
    "    minmax = 1 - np.mean(mins/maxs)             # minmax\n",
    "    return({'mape':mape, 'me':me, 'mae': mae, \n",
    "            'mpe': mpe, 'rmse':rmse, 'corr':corr, 'minmax':minmax})\n",
    "\n",
    "print('Forecast Accuracy of: Total')\n",
    "accuracy_prod = forecast_accuracy(df_results['Total_forecast'].values, df_test['Total'])\n",
    "for k, v in accuracy_prod.items():\n",
    "    print(adjust(k), ': ', round(v,4))\n",
    "\n",
    "print('\\nForecast Accuracy of: Coal')\n",
    "accuracy_prod = forecast_accuracy(df_results['Coal_forecast'].values, df_test['Coal'])\n",
    "for k, v in accuracy_prod.items():\n",
    "    print(adjust(k), ': ', round(v,4))\n",
    "\n",
    "print('\\nForecast Accuracy of: Oil')\n",
    "accuracy_prod = forecast_accuracy(df_results['Oil_forecast'].values, df_test['Oil'])\n",
    "for k, v in accuracy_prod.items():\n",
    "    print(adjust(k), ': ', round(v,4))\n",
    "\n",
    "print('\\nForecast Accuracy of: Gas')\n",
    "accuracy_prod = forecast_accuracy(df_results['Gas_forecast'].values, df_test['Gas'])\n",
    "for k, v in accuracy_prod.items():\n",
    "    print(adjust(k), ': ', round(v,4))\n"
   ]
  },
  {
   "cell_type": "markdown",
   "id": "e70eb5b6",
   "metadata": {},
   "source": [
    "Forecasting the future: for 2 years (since p=2)"
   ]
  },
  {
   "cell_type": "code",
   "execution_count": 104,
   "id": "b02b3e74",
   "metadata": {},
   "outputs": [],
   "source": [
    "df_differenced_all = df.diff().dropna()"
   ]
  },
  {
   "cell_type": "code",
   "execution_count": 105,
   "id": "aa5beec3",
   "metadata": {},
   "outputs": [
    {
     "data": {
      "text/html": [
       "<div>\n",
       "<style scoped>\n",
       "    .dataframe tbody tr th:only-of-type {\n",
       "        vertical-align: middle;\n",
       "    }\n",
       "\n",
       "    .dataframe tbody tr th {\n",
       "        vertical-align: top;\n",
       "    }\n",
       "\n",
       "    .dataframe thead th {\n",
       "        text-align: right;\n",
       "    }\n",
       "</style>\n",
       "<table border=\"1\" class=\"dataframe\">\n",
       "  <thead>\n",
       "    <tr style=\"text-align: right;\">\n",
       "      <th></th>\n",
       "      <th>Total</th>\n",
       "      <th>Coal</th>\n",
       "      <th>Oil</th>\n",
       "      <th>Gas</th>\n",
       "    </tr>\n",
       "    <tr>\n",
       "      <th>Year</th>\n",
       "      <th></th>\n",
       "      <th></th>\n",
       "      <th></th>\n",
       "      <th></th>\n",
       "    </tr>\n",
       "  </thead>\n",
       "  <tbody>\n",
       "    <tr>\n",
       "      <th>1951</th>\n",
       "      <td>23.279926</td>\n",
       "      <td>22.518944</td>\n",
       "      <td>0.318768</td>\n",
       "      <td>-0.007328</td>\n",
       "    </tr>\n",
       "    <tr>\n",
       "      <th>1952</th>\n",
       "      <td>25.884113</td>\n",
       "      <td>25.310912</td>\n",
       "      <td>0.399376</td>\n",
       "      <td>0.007328</td>\n",
       "    </tr>\n",
       "    <tr>\n",
       "      <th>1953</th>\n",
       "      <td>5.783557</td>\n",
       "      <td>4.792618</td>\n",
       "      <td>0.571532</td>\n",
       "      <td>0.007327</td>\n",
       "    </tr>\n",
       "    <tr>\n",
       "      <th>1954</th>\n",
       "      <td>27.094527</td>\n",
       "      <td>25.354903</td>\n",
       "      <td>1.432600</td>\n",
       "      <td>0.007328</td>\n",
       "    </tr>\n",
       "    <tr>\n",
       "      <th>1955</th>\n",
       "      <td>29.644051</td>\n",
       "      <td>27.604447</td>\n",
       "      <td>2.077564</td>\n",
       "      <td>0.003665</td>\n",
       "    </tr>\n",
       "    <tr>\n",
       "      <th>...</th>\n",
       "      <td>...</td>\n",
       "      <td>...</td>\n",
       "      <td>...</td>\n",
       "      <td>...</td>\n",
       "    </tr>\n",
       "    <tr>\n",
       "      <th>2017</th>\n",
       "      <td>246.127363</td>\n",
       "      <td>91.914145</td>\n",
       "      <td>72.749239</td>\n",
       "      <td>64.633121</td>\n",
       "    </tr>\n",
       "    <tr>\n",
       "      <th>2018</th>\n",
       "      <td>342.769881</td>\n",
       "      <td>153.081920</td>\n",
       "      <td>69.887136</td>\n",
       "      <td>89.009552</td>\n",
       "    </tr>\n",
       "    <tr>\n",
       "      <th>2019</th>\n",
       "      <td>387.119080</td>\n",
       "      <td>226.757632</td>\n",
       "      <td>59.254208</td>\n",
       "      <td>54.802448</td>\n",
       "    </tr>\n",
       "    <tr>\n",
       "      <th>2020</th>\n",
       "      <td>215.217300</td>\n",
       "      <td>62.559475</td>\n",
       "      <td>67.997078</td>\n",
       "      <td>57.709584</td>\n",
       "    </tr>\n",
       "    <tr>\n",
       "      <th>2021</th>\n",
       "      <td>516.155802</td>\n",
       "      <td>350.268536</td>\n",
       "      <td>85.614742</td>\n",
       "      <td>85.985118</td>\n",
       "    </tr>\n",
       "  </tbody>\n",
       "</table>\n",
       "<p>71 rows × 4 columns</p>\n",
       "</div>"
      ],
      "text/plain": [
       "           Total        Coal        Oil        Gas\n",
       "Year                                              \n",
       "1951   23.279926   22.518944   0.318768  -0.007328\n",
       "1952   25.884113   25.310912   0.399376   0.007328\n",
       "1953    5.783557    4.792618   0.571532   0.007327\n",
       "1954   27.094527   25.354903   1.432600   0.007328\n",
       "1955   29.644051   27.604447   2.077564   0.003665\n",
       "...          ...         ...        ...        ...\n",
       "2017  246.127363   91.914145  72.749239  64.633121\n",
       "2018  342.769881  153.081920  69.887136  89.009552\n",
       "2019  387.119080  226.757632  59.254208  54.802448\n",
       "2020  215.217300   62.559475  67.997078  57.709584\n",
       "2021  516.155802  350.268536  85.614742  85.985118\n",
       "\n",
       "[71 rows x 4 columns]"
      ]
     },
     "execution_count": 105,
     "metadata": {},
     "output_type": "execute_result"
    }
   ],
   "source": [
    "df_differenced_all"
   ]
  },
  {
   "cell_type": "code",
   "execution_count": 106,
   "id": "8a867253",
   "metadata": {
    "scrolled": true
   },
   "outputs": [
    {
     "data": {
      "text/plain": [
       "array([[215.2173  ,  62.559475,  67.997078,  57.709584],\n",
       "       [516.155802, 350.268536,  85.614742,  85.985118]])"
      ]
     },
     "execution_count": 106,
     "metadata": {},
     "output_type": "execute_result"
    }
   ],
   "source": [
    "forecast_input_all = df_differenced_all.values[-lag_order:]\n",
    "forecast_input_all # the output is the values of total, coal, oil and gas for 2015 and 2016 (this depends on the train test split and lag_order)"
   ]
  },
  {
   "cell_type": "code",
   "execution_count": 107,
   "id": "25140568",
   "metadata": {},
   "outputs": [
    {
     "data": {
      "text/plain": [
       "  Summary of Regression Results   \n",
       "==================================\n",
       "Model:                         VAR\n",
       "Method:                        OLS\n",
       "Date:           Tue, 07, Mar, 2023\n",
       "Time:                     14:20:34\n",
       "--------------------------------------------------------------------\n",
       "No. of Equations:         4.00000    BIC:                    27.4833\n",
       "Nobs:                     69.0000    HQIC:                   26.7801\n",
       "Log likelihood:          -1263.59    FPE:                2.70526e+11\n",
       "AIC:                      26.3177    Det(Omega_mle):     1.65664e+11\n",
       "--------------------------------------------------------------------\n",
       "Results for equation Total\n",
       "===========================================================================\n",
       "              coefficient       std. error           t-stat            prob\n",
       "---------------------------------------------------------------------------\n",
       "const           32.945692        28.781810            1.145           0.252\n",
       "L1.Total         1.303597         1.663804            0.784           0.433\n",
       "L1.Coal         -0.676259         1.759142           -0.384           0.701\n",
       "L1.Oil          -0.099021         1.845592           -0.054           0.957\n",
       "L1.Gas           0.497012         3.606852            0.138           0.890\n",
       "L2.Total         1.274969         1.554919            0.820           0.412\n",
       "L2.Coal         -1.424072         1.651080           -0.863           0.388\n",
       "L2.Oil          -0.686505         1.874154           -0.366           0.714\n",
       "L2.Gas          -3.293550         3.360515           -0.980           0.327\n",
       "===========================================================================\n",
       "\n",
       "Results for equation Coal\n",
       "===========================================================================\n",
       "              coefficient       std. error           t-stat            prob\n",
       "---------------------------------------------------------------------------\n",
       "const           20.001924        25.690365            0.779           0.436\n",
       "L1.Total         0.935352         1.485095            0.630           0.529\n",
       "L1.Coal         -0.407826         1.570193           -0.260           0.795\n",
       "L1.Oil          -0.358026         1.647358           -0.217           0.828\n",
       "L1.Gas           0.326748         3.219441            0.101           0.919\n",
       "L2.Total         1.583455         1.387905            1.141           0.254\n",
       "L2.Coal         -1.710955         1.473738           -1.161           0.246\n",
       "L2.Oil          -0.967265         1.672852           -0.578           0.563\n",
       "L2.Gas          -4.578428         2.999563           -1.526           0.127\n",
       "===========================================================================\n",
       "\n",
       "Results for equation Oil\n",
       "===========================================================================\n",
       "              coefficient       std. error           t-stat            prob\n",
       "---------------------------------------------------------------------------\n",
       "const           10.228468         4.027525            2.540           0.011\n",
       "L1.Total         0.516025         0.232821            2.216           0.027\n",
       "L1.Coal         -0.488300         0.246162           -1.984           0.047\n",
       "L1.Oil          -0.386487         0.258259           -1.497           0.135\n",
       "L1.Gas          -0.516637         0.504718           -1.024           0.306\n",
       "L2.Total        -0.083291         0.217584           -0.383           0.702\n",
       "L2.Coal          0.055155         0.231041            0.239           0.811\n",
       "L2.Oil           0.074121         0.262256            0.283           0.777\n",
       "L2.Gas           0.658675         0.470247            1.401           0.161\n",
       "===========================================================================\n",
       "\n",
       "Results for equation Gas\n",
       "===========================================================================\n",
       "              coefficient       std. error           t-stat            prob\n",
       "---------------------------------------------------------------------------\n",
       "const            0.047894         1.801897            0.027           0.979\n",
       "L1.Total        -0.064094         0.104163           -0.615           0.538\n",
       "L1.Coal          0.071099         0.110132            0.646           0.519\n",
       "L1.Oil           0.259451         0.115544            2.245           0.025\n",
       "L1.Gas           0.704874         0.225808            3.122           0.002\n",
       "L2.Total        -0.158196         0.097346           -1.625           0.104\n",
       "L2.Coal          0.161201         0.103367            1.560           0.119\n",
       "L2.Oil           0.133628         0.117332            1.139           0.255\n",
       "L2.Gas           0.476976         0.210386            2.267           0.023\n",
       "===========================================================================\n",
       "\n",
       "Correlation matrix of residuals\n",
       "            Total      Coal       Oil       Gas\n",
       "Total    1.000000  0.980369  0.284067  0.430314\n",
       "Coal     0.980369  1.000000  0.130186  0.315190\n",
       "Oil      0.284067  0.130186  1.000000  0.370313\n",
       "Gas      0.430314  0.315190  0.370313  1.000000\n",
       "\n"
      ]
     },
     "execution_count": 107,
     "metadata": {},
     "output_type": "execute_result"
    }
   ],
   "source": [
    "model_all = VAR(df_differenced_all)\n",
    "model_fitted_all = model_all.fit(p)\n",
    "model_fitted_all.summary()"
   ]
  },
  {
   "cell_type": "code",
   "execution_count": 108,
   "id": "1d33ac55",
   "metadata": {},
   "outputs": [
    {
     "data": {
      "text/html": [
       "<div>\n",
       "<style scoped>\n",
       "    .dataframe tbody tr th:only-of-type {\n",
       "        vertical-align: middle;\n",
       "    }\n",
       "\n",
       "    .dataframe tbody tr th {\n",
       "        vertical-align: top;\n",
       "    }\n",
       "\n",
       "    .dataframe thead th {\n",
       "        text-align: right;\n",
       "    }\n",
       "</style>\n",
       "<table border=\"1\" class=\"dataframe\">\n",
       "  <thead>\n",
       "    <tr style=\"text-align: right;\">\n",
       "      <th></th>\n",
       "      <th>Total_2d</th>\n",
       "      <th>Coal_2d</th>\n",
       "      <th>Oil_2d</th>\n",
       "      <th>Gas_2d</th>\n",
       "    </tr>\n",
       "  </thead>\n",
       "  <tbody>\n",
       "    <tr>\n",
       "      <th>2022</th>\n",
       "      <td>451.747191</td>\n",
       "      <td>261.143908</td>\n",
       "      <td>56.606547</td>\n",
       "      <td>87.341285</td>\n",
       "    </tr>\n",
       "    <tr>\n",
       "      <th>2023</th>\n",
       "      <td>300.349520</td>\n",
       "      <td>85.842391</td>\n",
       "      <td>88.133839</td>\n",
       "      <td>93.175255</td>\n",
       "    </tr>\n",
       "    <tr>\n",
       "      <th>2024</th>\n",
       "      <td>281.563378</td>\n",
       "      <td>78.692992</td>\n",
       "      <td>79.601684</td>\n",
       "      <td>95.299937</td>\n",
       "    </tr>\n",
       "    <tr>\n",
       "      <th>2025</th>\n",
       "      <td>279.565973</td>\n",
       "      <td>70.781856</td>\n",
       "      <td>84.719196</td>\n",
       "      <td>97.966998</td>\n",
       "    </tr>\n",
       "    <tr>\n",
       "      <th>2026</th>\n",
       "      <td>268.220088</td>\n",
       "      <td>52.189635</td>\n",
       "      <td>86.133185</td>\n",
       "      <td>102.432912</td>\n",
       "    </tr>\n",
       "    <tr>\n",
       "      <th>2027</th>\n",
       "      <td>264.504477</td>\n",
       "      <td>43.324470</td>\n",
       "      <td>88.369323</td>\n",
       "      <td>106.349668</td>\n",
       "    </tr>\n",
       "    <tr>\n",
       "      <th>2028</th>\n",
       "      <td>263.712794</td>\n",
       "      <td>35.973882</td>\n",
       "      <td>90.858993</td>\n",
       "      <td>110.415375</td>\n",
       "    </tr>\n",
       "    <tr>\n",
       "      <th>2029</th>\n",
       "      <td>262.878027</td>\n",
       "      <td>27.857105</td>\n",
       "      <td>93.543165</td>\n",
       "      <td>114.780991</td>\n",
       "    </tr>\n",
       "    <tr>\n",
       "      <th>2030</th>\n",
       "      <td>263.541454</td>\n",
       "      <td>21.152196</td>\n",
       "      <td>96.306023</td>\n",
       "      <td>119.243279</td>\n",
       "    </tr>\n",
       "    <tr>\n",
       "      <th>2031</th>\n",
       "      <td>265.158277</td>\n",
       "      <td>14.957692</td>\n",
       "      <td>99.245505</td>\n",
       "      <td>123.850827</td>\n",
       "    </tr>\n",
       "  </tbody>\n",
       "</table>\n",
       "</div>"
      ],
      "text/plain": [
       "        Total_2d     Coal_2d     Oil_2d      Gas_2d\n",
       "2022  451.747191  261.143908  56.606547   87.341285\n",
       "2023  300.349520   85.842391  88.133839   93.175255\n",
       "2024  281.563378   78.692992  79.601684   95.299937\n",
       "2025  279.565973   70.781856  84.719196   97.966998\n",
       "2026  268.220088   52.189635  86.133185  102.432912\n",
       "2027  264.504477   43.324470  88.369323  106.349668\n",
       "2028  263.712794   35.973882  90.858993  110.415375\n",
       "2029  262.878027   27.857105  93.543165  114.780991\n",
       "2030  263.541454   21.152196  96.306023  119.243279\n",
       "2031  265.158277   14.957692  99.245505  123.850827"
      ]
     },
     "execution_count": 108,
     "metadata": {},
     "output_type": "execute_result"
    }
   ],
   "source": [
    "# Forecast\n",
    "\n",
    "l = df_differenced_all.last_valid_index() # gives the index of the last row in df_differenced_all\n",
    "s = 10 # steps to future\n",
    "fc_all = model_fitted_all.forecast(y=forecast_input_all, steps=s) \n",
    "df_forecast_all = pd.DataFrame(fc_all, index=list(range(l+1,l+s+1)), columns=df.columns + '_2d')\n",
    "df_forecast_all"
   ]
  },
  {
   "cell_type": "code",
   "execution_count": null,
   "id": "60b26694",
   "metadata": {},
   "outputs": [],
   "source": []
  },
  {
   "cell_type": "code",
   "execution_count": 109,
   "id": "ffc36e22",
   "metadata": {
    "scrolled": true
   },
   "outputs": [],
   "source": [
    "# Tranforming the future forecast back\n",
    "df_results_all = invert_transformation(df, df_forecast_all, second_diff=True) \n",
    "df_results_all = df_results_all.loc[:, ['Total_forecast', 'Coal_forecast', 'Oil_forecast','Gas_forecast']]"
   ]
  },
  {
   "cell_type": "code",
   "execution_count": 110,
   "id": "b96accf0",
   "metadata": {},
   "outputs": [
    {
     "data": {
      "text/html": [
       "<div>\n",
       "<style scoped>\n",
       "    .dataframe tbody tr th:only-of-type {\n",
       "        vertical-align: middle;\n",
       "    }\n",
       "\n",
       "    .dataframe tbody tr th {\n",
       "        vertical-align: top;\n",
       "    }\n",
       "\n",
       "    .dataframe thead th {\n",
       "        text-align: right;\n",
       "    }\n",
       "</style>\n",
       "<table border=\"1\" class=\"dataframe\">\n",
       "  <thead>\n",
       "    <tr style=\"text-align: right;\">\n",
       "      <th></th>\n",
       "      <th>Total_forecast</th>\n",
       "      <th>Coal_forecast</th>\n",
       "      <th>Oil_forecast</th>\n",
       "      <th>Gas_forecast</th>\n",
       "    </tr>\n",
       "  </thead>\n",
       "  <tbody>\n",
       "    <tr>\n",
       "      <th>2022</th>\n",
       "      <td>12440.272164</td>\n",
       "      <td>8567.397863</td>\n",
       "      <td>1855.561269</td>\n",
       "      <td>947.192465</td>\n",
       "    </tr>\n",
       "    <tr>\n",
       "      <th>2023</th>\n",
       "      <td>13708.524678</td>\n",
       "      <td>9264.652697</td>\n",
       "      <td>2085.916397</td>\n",
       "      <td>1213.694123</td>\n",
       "    </tr>\n",
       "    <tr>\n",
       "      <th>2024</th>\n",
       "      <td>15258.340569</td>\n",
       "      <td>10040.600523</td>\n",
       "      <td>2395.873209</td>\n",
       "      <td>1575.495718</td>\n",
       "    </tr>\n",
       "    <tr>\n",
       "      <th>2025</th>\n",
       "      <td>17087.722432</td>\n",
       "      <td>10887.330206</td>\n",
       "      <td>2790.549217</td>\n",
       "      <td>2035.264312</td>\n",
       "    </tr>\n",
       "    <tr>\n",
       "      <th>2026</th>\n",
       "      <td>19185.324384</td>\n",
       "      <td>11786.249524</td>\n",
       "      <td>3271.358410</td>\n",
       "      <td>2597.465817</td>\n",
       "    </tr>\n",
       "    <tr>\n",
       "      <th>2027</th>\n",
       "      <td>21547.430813</td>\n",
       "      <td>12728.493311</td>\n",
       "      <td>3840.536926</td>\n",
       "      <td>3266.016991</td>\n",
       "    </tr>\n",
       "    <tr>\n",
       "      <th>2028</th>\n",
       "      <td>24173.250036</td>\n",
       "      <td>13706.710981</td>\n",
       "      <td>4500.574436</td>\n",
       "      <td>4044.983539</td>\n",
       "    </tr>\n",
       "    <tr>\n",
       "      <th>2029</th>\n",
       "      <td>27061.947285</td>\n",
       "      <td>14712.785755</td>\n",
       "      <td>5254.155111</td>\n",
       "      <td>4938.731078</td>\n",
       "    </tr>\n",
       "    <tr>\n",
       "      <th>2030</th>\n",
       "      <td>30214.185989</td>\n",
       "      <td>15740.012725</td>\n",
       "      <td>6104.041809</td>\n",
       "      <td>5951.721897</td>\n",
       "    </tr>\n",
       "    <tr>\n",
       "      <th>2031</th>\n",
       "      <td>33631.582970</td>\n",
       "      <td>16782.197387</td>\n",
       "      <td>7053.174012</td>\n",
       "      <td>7088.563542</td>\n",
       "    </tr>\n",
       "  </tbody>\n",
       "</table>\n",
       "</div>"
      ],
      "text/plain": [
       "      Total_forecast  Coal_forecast  Oil_forecast  Gas_forecast\n",
       "2022    12440.272164    8567.397863   1855.561269    947.192465\n",
       "2023    13708.524678    9264.652697   2085.916397   1213.694123\n",
       "2024    15258.340569   10040.600523   2395.873209   1575.495718\n",
       "2025    17087.722432   10887.330206   2790.549217   2035.264312\n",
       "2026    19185.324384   11786.249524   3271.358410   2597.465817\n",
       "2027    21547.430813   12728.493311   3840.536926   3266.016991\n",
       "2028    24173.250036   13706.710981   4500.574436   4044.983539\n",
       "2029    27061.947285   14712.785755   5254.155111   4938.731078\n",
       "2030    30214.185989   15740.012725   6104.041809   5951.721897\n",
       "2031    33631.582970   16782.197387   7053.174012   7088.563542"
      ]
     },
     "execution_count": 110,
     "metadata": {},
     "output_type": "execute_result"
    }
   ],
   "source": [
    "df_results_all"
   ]
  },
  {
   "cell_type": "code",
   "execution_count": 111,
   "id": "1d41b6ad",
   "metadata": {
    "scrolled": true
   },
   "outputs": [
    {
     "data": {
      "text/html": [
       "<div>\n",
       "<style scoped>\n",
       "    .dataframe tbody tr th:only-of-type {\n",
       "        vertical-align: middle;\n",
       "    }\n",
       "\n",
       "    .dataframe tbody tr th {\n",
       "        vertical-align: top;\n",
       "    }\n",
       "\n",
       "    .dataframe thead th {\n",
       "        text-align: right;\n",
       "    }\n",
       "</style>\n",
       "<table border=\"1\" class=\"dataframe\">\n",
       "  <thead>\n",
       "    <tr style=\"text-align: right;\">\n",
       "      <th></th>\n",
       "      <th>Total</th>\n",
       "      <th>Coal</th>\n",
       "      <th>Oil</th>\n",
       "      <th>Gas</th>\n",
       "    </tr>\n",
       "  </thead>\n",
       "  <tbody>\n",
       "    <tr>\n",
       "      <th>2022</th>\n",
       "      <td>12440.272164</td>\n",
       "      <td>8567.397863</td>\n",
       "      <td>1855.561269</td>\n",
       "      <td>947.192465</td>\n",
       "    </tr>\n",
       "    <tr>\n",
       "      <th>2023</th>\n",
       "      <td>13708.524678</td>\n",
       "      <td>9264.652697</td>\n",
       "      <td>2085.916397</td>\n",
       "      <td>1213.694123</td>\n",
       "    </tr>\n",
       "    <tr>\n",
       "      <th>2024</th>\n",
       "      <td>15258.340569</td>\n",
       "      <td>10040.600523</td>\n",
       "      <td>2395.873209</td>\n",
       "      <td>1575.495718</td>\n",
       "    </tr>\n",
       "    <tr>\n",
       "      <th>2025</th>\n",
       "      <td>17087.722432</td>\n",
       "      <td>10887.330206</td>\n",
       "      <td>2790.549217</td>\n",
       "      <td>2035.264312</td>\n",
       "    </tr>\n",
       "    <tr>\n",
       "      <th>2026</th>\n",
       "      <td>19185.324384</td>\n",
       "      <td>11786.249524</td>\n",
       "      <td>3271.358410</td>\n",
       "      <td>2597.465817</td>\n",
       "    </tr>\n",
       "    <tr>\n",
       "      <th>2027</th>\n",
       "      <td>21547.430813</td>\n",
       "      <td>12728.493311</td>\n",
       "      <td>3840.536926</td>\n",
       "      <td>3266.016991</td>\n",
       "    </tr>\n",
       "    <tr>\n",
       "      <th>2028</th>\n",
       "      <td>24173.250036</td>\n",
       "      <td>13706.710981</td>\n",
       "      <td>4500.574436</td>\n",
       "      <td>4044.983539</td>\n",
       "    </tr>\n",
       "    <tr>\n",
       "      <th>2029</th>\n",
       "      <td>27061.947285</td>\n",
       "      <td>14712.785755</td>\n",
       "      <td>5254.155111</td>\n",
       "      <td>4938.731078</td>\n",
       "    </tr>\n",
       "    <tr>\n",
       "      <th>2030</th>\n",
       "      <td>30214.185989</td>\n",
       "      <td>15740.012725</td>\n",
       "      <td>6104.041809</td>\n",
       "      <td>5951.721897</td>\n",
       "    </tr>\n",
       "    <tr>\n",
       "      <th>2031</th>\n",
       "      <td>33631.582970</td>\n",
       "      <td>16782.197387</td>\n",
       "      <td>7053.174012</td>\n",
       "      <td>7088.563542</td>\n",
       "    </tr>\n",
       "  </tbody>\n",
       "</table>\n",
       "</div>"
      ],
      "text/plain": [
       "             Total          Coal          Oil          Gas\n",
       "2022  12440.272164   8567.397863  1855.561269   947.192465\n",
       "2023  13708.524678   9264.652697  2085.916397  1213.694123\n",
       "2024  15258.340569  10040.600523  2395.873209  1575.495718\n",
       "2025  17087.722432  10887.330206  2790.549217  2035.264312\n",
       "2026  19185.324384  11786.249524  3271.358410  2597.465817\n",
       "2027  21547.430813  12728.493311  3840.536926  3266.016991\n",
       "2028  24173.250036  13706.710981  4500.574436  4044.983539\n",
       "2029  27061.947285  14712.785755  5254.155111  4938.731078\n",
       "2030  30214.185989  15740.012725  6104.041809  5951.721897\n",
       "2031  33631.582970  16782.197387  7053.174012  7088.563542"
      ]
     },
     "execution_count": 111,
     "metadata": {},
     "output_type": "execute_result"
    }
   ],
   "source": [
    "# Concate the actual df with the forecasted df till 2031 (df_results_all)\n",
    "\n",
    "df_results_all = df_results_all.rename(columns={\"Total_forecast\": \"Total\", \"Coal_forecast\": \"Coal\", \"Oil_forecast\": \"Oil\", \"Gas_forecast\": \"Gas\"})\n",
    "# renaming the df_results_all columns to that of df\n",
    "\n",
    "df_results_all"
   ]
  },
  {
   "cell_type": "code",
   "execution_count": 112,
   "id": "4455fc25",
   "metadata": {
    "scrolled": true
   },
   "outputs": [
    {
     "data": {
      "text/html": [
       "<div>\n",
       "<style scoped>\n",
       "    .dataframe tbody tr th:only-of-type {\n",
       "        vertical-align: middle;\n",
       "    }\n",
       "\n",
       "    .dataframe tbody tr th {\n",
       "        vertical-align: top;\n",
       "    }\n",
       "\n",
       "    .dataframe thead th {\n",
       "        text-align: right;\n",
       "    }\n",
       "</style>\n",
       "<table border=\"1\" class=\"dataframe\">\n",
       "  <thead>\n",
       "    <tr style=\"text-align: right;\">\n",
       "      <th></th>\n",
       "      <th>Total</th>\n",
       "      <th>Coal</th>\n",
       "      <th>Oil</th>\n",
       "      <th>Gas</th>\n",
       "    </tr>\n",
       "  </thead>\n",
       "  <tbody>\n",
       "    <tr>\n",
       "      <th>1950</th>\n",
       "      <td>78.835287</td>\n",
       "      <td>77.614512</td>\n",
       "      <td>0.619216</td>\n",
       "      <td>0.014656</td>\n",
       "    </tr>\n",
       "    <tr>\n",
       "      <th>1951</th>\n",
       "      <td>102.115213</td>\n",
       "      <td>100.133456</td>\n",
       "      <td>0.937984</td>\n",
       "      <td>0.007328</td>\n",
       "    </tr>\n",
       "    <tr>\n",
       "      <th>1952</th>\n",
       "      <td>127.999326</td>\n",
       "      <td>125.444368</td>\n",
       "      <td>1.337360</td>\n",
       "      <td>0.014656</td>\n",
       "    </tr>\n",
       "    <tr>\n",
       "      <th>1953</th>\n",
       "      <td>133.782883</td>\n",
       "      <td>130.236986</td>\n",
       "      <td>1.908892</td>\n",
       "      <td>0.021983</td>\n",
       "    </tr>\n",
       "    <tr>\n",
       "      <th>1954</th>\n",
       "      <td>160.877410</td>\n",
       "      <td>155.591889</td>\n",
       "      <td>3.341492</td>\n",
       "      <td>0.029311</td>\n",
       "    </tr>\n",
       "    <tr>\n",
       "      <th>...</th>\n",
       "      <td>...</td>\n",
       "      <td>...</td>\n",
       "      <td>...</td>\n",
       "      <td>...</td>\n",
       "    </tr>\n",
       "    <tr>\n",
       "      <th>2027</th>\n",
       "      <td>21547.430813</td>\n",
       "      <td>12728.493311</td>\n",
       "      <td>3840.536926</td>\n",
       "      <td>3266.016991</td>\n",
       "    </tr>\n",
       "    <tr>\n",
       "      <th>2028</th>\n",
       "      <td>24173.250036</td>\n",
       "      <td>13706.710981</td>\n",
       "      <td>4500.574436</td>\n",
       "      <td>4044.983539</td>\n",
       "    </tr>\n",
       "    <tr>\n",
       "      <th>2029</th>\n",
       "      <td>27061.947285</td>\n",
       "      <td>14712.785755</td>\n",
       "      <td>5254.155111</td>\n",
       "      <td>4938.731078</td>\n",
       "    </tr>\n",
       "    <tr>\n",
       "      <th>2030</th>\n",
       "      <td>30214.185989</td>\n",
       "      <td>15740.012725</td>\n",
       "      <td>6104.041809</td>\n",
       "      <td>5951.721897</td>\n",
       "    </tr>\n",
       "    <tr>\n",
       "      <th>2031</th>\n",
       "      <td>33631.582970</td>\n",
       "      <td>16782.197387</td>\n",
       "      <td>7053.174012</td>\n",
       "      <td>7088.563542</td>\n",
       "    </tr>\n",
       "  </tbody>\n",
       "</table>\n",
       "<p>82 rows × 4 columns</p>\n",
       "</div>"
      ],
      "text/plain": [
       "             Total          Coal          Oil          Gas\n",
       "1950     78.835287     77.614512     0.619216     0.014656\n",
       "1951    102.115213    100.133456     0.937984     0.007328\n",
       "1952    127.999326    125.444368     1.337360     0.014656\n",
       "1953    133.782883    130.236986     1.908892     0.021983\n",
       "1954    160.877410    155.591889     3.341492     0.029311\n",
       "...            ...           ...          ...          ...\n",
       "2027  21547.430813  12728.493311  3840.536926  3266.016991\n",
       "2028  24173.250036  13706.710981  4500.574436  4044.983539\n",
       "2029  27061.947285  14712.785755  5254.155111  4938.731078\n",
       "2030  30214.185989  15740.012725  6104.041809  5951.721897\n",
       "2031  33631.582970  16782.197387  7053.174012  7088.563542\n",
       "\n",
       "[82 rows x 4 columns]"
      ]
     },
     "execution_count": 112,
     "metadata": {},
     "output_type": "execute_result"
    }
   ],
   "source": [
    "# Concat syntax\n",
    "df_future  = pd.concat([df, df_results_all], axis=0)\n",
    "df_future"
   ]
  },
  {
   "cell_type": "code",
   "execution_count": 113,
   "id": "704ac2d7",
   "metadata": {
    "scrolled": true
   },
   "outputs": [
    {
     "data": {
      "text/plain": [
       "<matplotlib.legend.Legend at 0x242095049d0>"
      ]
     },
     "execution_count": 113,
     "metadata": {},
     "output_type": "execute_result"
    },
    {
     "data": {
      "image/png": "[encoded data removed]",
      "text/plain": [
       "<Figure size 640x480 with 1 Axes>"
      ]
     },
     "metadata": {},
     "output_type": "display_data"
    }
   ],
   "source": [
    "# Plot\n",
    "plt.figure()\n",
    "\n",
    "x = df_future.index\n",
    "y1 = df_future['Total']\n",
    "y2 = df_future['Coal']\n",
    "y3 = df_future['Oil']\n",
    "y4 = df_future['Gas']\n",
    "\n",
    "plt.plot(x,y1)\n",
    "plt.plot(x,y2)\n",
    "plt.plot(x,y3)\n",
    "plt.plot(x,y4)\n",
    "\n",
    "plt.legend(['Total', 'Coal', 'Oil', 'Gas'])"
   ]
  },
  {
   "cell_type": "code",
   "execution_count": 114,
   "id": "19da9595",
   "metadata": {},
   "outputs": [
    {
     "data": {
      "text/html": [
       "<div>\n",
       "<style scoped>\n",
       "    .dataframe tbody tr th:only-of-type {\n",
       "        vertical-align: middle;\n",
       "    }\n",
       "\n",
       "    .dataframe tbody tr th {\n",
       "        vertical-align: top;\n",
       "    }\n",
       "\n",
       "    .dataframe thead th {\n",
       "        text-align: right;\n",
       "    }\n",
       "</style>\n",
       "<table border=\"1\" class=\"dataframe\">\n",
       "  <thead>\n",
       "    <tr style=\"text-align: right;\">\n",
       "      <th></th>\n",
       "      <th>Total</th>\n",
       "      <th>Coal</th>\n",
       "      <th>Oil</th>\n",
       "      <th>Gas</th>\n",
       "      <th>Year</th>\n",
       "    </tr>\n",
       "  </thead>\n",
       "  <tbody>\n",
       "    <tr>\n",
       "      <th>1950</th>\n",
       "      <td>78.835287</td>\n",
       "      <td>77.614512</td>\n",
       "      <td>0.619216</td>\n",
       "      <td>0.014656</td>\n",
       "      <td>1950</td>\n",
       "    </tr>\n",
       "    <tr>\n",
       "      <th>1951</th>\n",
       "      <td>102.115213</td>\n",
       "      <td>100.133456</td>\n",
       "      <td>0.937984</td>\n",
       "      <td>0.007328</td>\n",
       "      <td>1951</td>\n",
       "    </tr>\n",
       "    <tr>\n",
       "      <th>1952</th>\n",
       "      <td>127.999326</td>\n",
       "      <td>125.444368</td>\n",
       "      <td>1.337360</td>\n",
       "      <td>0.014656</td>\n",
       "      <td>1952</td>\n",
       "    </tr>\n",
       "    <tr>\n",
       "      <th>1953</th>\n",
       "      <td>133.782883</td>\n",
       "      <td>130.236986</td>\n",
       "      <td>1.908892</td>\n",
       "      <td>0.021983</td>\n",
       "      <td>1953</td>\n",
       "    </tr>\n",
       "    <tr>\n",
       "      <th>1954</th>\n",
       "      <td>160.877410</td>\n",
       "      <td>155.591889</td>\n",
       "      <td>3.341492</td>\n",
       "      <td>0.029311</td>\n",
       "      <td>1954</td>\n",
       "    </tr>\n",
       "    <tr>\n",
       "      <th>...</th>\n",
       "      <td>...</td>\n",
       "      <td>...</td>\n",
       "      <td>...</td>\n",
       "      <td>...</td>\n",
       "      <td>...</td>\n",
       "    </tr>\n",
       "    <tr>\n",
       "      <th>2027</th>\n",
       "      <td>21547.430813</td>\n",
       "      <td>12728.493311</td>\n",
       "      <td>3840.536926</td>\n",
       "      <td>3266.016991</td>\n",
       "      <td>2027</td>\n",
       "    </tr>\n",
       "    <tr>\n",
       "      <th>2028</th>\n",
       "      <td>24173.250036</td>\n",
       "      <td>13706.710981</td>\n",
       "      <td>4500.574436</td>\n",
       "      <td>4044.983539</td>\n",
       "      <td>2028</td>\n",
       "    </tr>\n",
       "    <tr>\n",
       "      <th>2029</th>\n",
       "      <td>27061.947285</td>\n",
       "      <td>14712.785755</td>\n",
       "      <td>5254.155111</td>\n",
       "      <td>4938.731078</td>\n",
       "      <td>2029</td>\n",
       "    </tr>\n",
       "    <tr>\n",
       "      <th>2030</th>\n",
       "      <td>30214.185989</td>\n",
       "      <td>15740.012725</td>\n",
       "      <td>6104.041809</td>\n",
       "      <td>5951.721897</td>\n",
       "      <td>2030</td>\n",
       "    </tr>\n",
       "    <tr>\n",
       "      <th>2031</th>\n",
       "      <td>33631.582970</td>\n",
       "      <td>16782.197387</td>\n",
       "      <td>7053.174012</td>\n",
       "      <td>7088.563542</td>\n",
       "      <td>2031</td>\n",
       "    </tr>\n",
       "  </tbody>\n",
       "</table>\n",
       "<p>82 rows × 5 columns</p>\n",
       "</div>"
      ],
      "text/plain": [
       "             Total          Coal          Oil          Gas  Year\n",
       "1950     78.835287     77.614512     0.619216     0.014656  1950\n",
       "1951    102.115213    100.133456     0.937984     0.007328  1951\n",
       "1952    127.999326    125.444368     1.337360     0.014656  1952\n",
       "1953    133.782883    130.236986     1.908892     0.021983  1953\n",
       "1954    160.877410    155.591889     3.341492     0.029311  1954\n",
       "...            ...           ...          ...          ...   ...\n",
       "2027  21547.430813  12728.493311  3840.536926  3266.016991  2027\n",
       "2028  24173.250036  13706.710981  4500.574436  4044.983539  2028\n",
       "2029  27061.947285  14712.785755  5254.155111  4938.731078  2029\n",
       "2030  30214.185989  15740.012725  6104.041809  5951.721897  2030\n",
       "2031  33631.582970  16782.197387  7053.174012  7088.563542  2031\n",
       "\n",
       "[82 rows x 5 columns]"
      ]
     },
     "execution_count": 114,
     "metadata": {},
     "output_type": "execute_result"
    }
   ],
   "source": [
    "df_future[\"Year\"]=df_future.index\n",
    "df_future"
   ]
  },
  {
   "cell_type": "code",
   "execution_count": 115,
   "id": "6db2c025",
   "metadata": {},
   "outputs": [],
   "source": [
    "# save to csv\n",
    "df_future.to_csv('Data/Germany_future.csv', index=False)"
   ]
  }
 ],
 "metadata": {
  "kernelspec": {
   "display_name": "Python 3 (ipykernel)",
   "language": "python",
   "name": "python3"
  },
  "language_info": {
   "codemirror_mode": {
    "name": "ipython",
    "version": 3
   },
   "file_extension": ".py",
   "mimetype": "text/x-python",
   "name": "python",
   "nbconvert_exporter": "python",
   "pygments_lexer": "ipython3",
   "version": "3.9.13"
  }
 },
 "nbformat": 4,
 "nbformat_minor": 5
}
