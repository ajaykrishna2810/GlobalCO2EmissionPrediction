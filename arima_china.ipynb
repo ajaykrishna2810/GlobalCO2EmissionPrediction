{
 "cells": [
  {
   "cell_type": "code",
   "execution_count": 116,
   "id": "3826aae7",
   "metadata": {},
   "outputs": [],
   "source": [
    "#importing libraries\n",
    "import pandas as pd\n",
    "import numpy as np\n",
    "import seaborn as sns\n",
    "import matplotlib.pyplot as plt\n",
    "import plotly.express as px\n",
    "# import lazypredict\n",
    "\n",
    "from plotly.subplots import make_subplots\n",
    "import plotly.graph_objects as go\n",
    "import warnings\n",
    "warnings.filterwarnings(\"ignore\")\n",
    "\n",
    "import statsmodels.tsa.stattools as st\n",
    "from statsmodels.tsa.arima_model import ARMA\n",
    "from statsmodels.tsa.seasonal import seasonal_decompose\n",
    "from sklearn.metrics import mean_absolute_error\n",
    "from statsmodels.tsa.arima.model import ARIMA\n",
    "\n",
    "from statsmodels.tsa.api import VAR\n",
    "from statsmodels.tsa.stattools import adfuller\n",
    "from statsmodels.tools.eval_measures import rmse, aic"
   ]
  },
  {
   "cell_type": "code",
   "execution_count": 117,
   "id": "771a8a66",
   "metadata": {
    "scrolled": true
   },
   "outputs": [
    {
     "data": {
      "text/html": [
       "<div>\n",
       "<style scoped>\n",
       "    .dataframe tbody tr th:only-of-type {\n",
       "        vertical-align: middle;\n",
       "    }\n",
       "\n",
       "    .dataframe tbody tr th {\n",
       "        vertical-align: top;\n",
       "    }\n",
       "\n",
       "    .dataframe thead th {\n",
       "        text-align: right;\n",
       "    }\n",
       "</style>\n",
       "<table border=\"1\" class=\"dataframe\">\n",
       "  <thead>\n",
       "    <tr style=\"text-align: right;\">\n",
       "      <th></th>\n",
       "      <th>Country</th>\n",
       "      <th>ISO 3166-1 alpha-3</th>\n",
       "      <th>Total</th>\n",
       "      <th>Coal</th>\n",
       "      <th>Oil</th>\n",
       "      <th>Gas</th>\n",
       "    </tr>\n",
       "    <tr>\n",
       "      <th>Year</th>\n",
       "      <th></th>\n",
       "      <th></th>\n",
       "      <th></th>\n",
       "      <th></th>\n",
       "      <th></th>\n",
       "      <th></th>\n",
       "    </tr>\n",
       "  </thead>\n",
       "  <tbody>\n",
       "    <tr>\n",
       "      <th>1950</th>\n",
       "      <td>China</td>\n",
       "      <td>CHN</td>\n",
       "      <td>78.835287</td>\n",
       "      <td>77.614512</td>\n",
       "      <td>0.619216</td>\n",
       "      <td>0.014656</td>\n",
       "    </tr>\n",
       "    <tr>\n",
       "      <th>1951</th>\n",
       "      <td>China</td>\n",
       "      <td>CHN</td>\n",
       "      <td>102.115213</td>\n",
       "      <td>100.133456</td>\n",
       "      <td>0.937984</td>\n",
       "      <td>0.007328</td>\n",
       "    </tr>\n",
       "    <tr>\n",
       "      <th>1952</th>\n",
       "      <td>China</td>\n",
       "      <td>CHN</td>\n",
       "      <td>127.999326</td>\n",
       "      <td>125.444368</td>\n",
       "      <td>1.337360</td>\n",
       "      <td>0.014656</td>\n",
       "    </tr>\n",
       "    <tr>\n",
       "      <th>1953</th>\n",
       "      <td>China</td>\n",
       "      <td>CHN</td>\n",
       "      <td>133.782883</td>\n",
       "      <td>130.236986</td>\n",
       "      <td>1.908892</td>\n",
       "      <td>0.021983</td>\n",
       "    </tr>\n",
       "    <tr>\n",
       "      <th>1954</th>\n",
       "      <td>China</td>\n",
       "      <td>CHN</td>\n",
       "      <td>160.877410</td>\n",
       "      <td>155.591889</td>\n",
       "      <td>3.341492</td>\n",
       "      <td>0.029311</td>\n",
       "    </tr>\n",
       "    <tr>\n",
       "      <th>...</th>\n",
       "      <td>...</td>\n",
       "      <td>...</td>\n",
       "      <td>...</td>\n",
       "      <td>...</td>\n",
       "      <td>...</td>\n",
       "      <td>...</td>\n",
       "    </tr>\n",
       "    <tr>\n",
       "      <th>2017</th>\n",
       "      <td>China</td>\n",
       "      <td>CHN</td>\n",
       "      <td>10011.107108</td>\n",
       "      <td>7163.317856</td>\n",
       "      <td>1430.586816</td>\n",
       "      <td>486.359360</td>\n",
       "    </tr>\n",
       "    <tr>\n",
       "      <th>2018</th>\n",
       "      <td>China</td>\n",
       "      <td>CHN</td>\n",
       "      <td>10353.876989</td>\n",
       "      <td>7316.399776</td>\n",
       "      <td>1500.473952</td>\n",
       "      <td>575.368912</td>\n",
       "    </tr>\n",
       "    <tr>\n",
       "      <th>2019</th>\n",
       "      <td>China</td>\n",
       "      <td>CHN</td>\n",
       "      <td>10740.996069</td>\n",
       "      <td>7543.157408</td>\n",
       "      <td>1559.728160</td>\n",
       "      <td>630.171360</td>\n",
       "    </tr>\n",
       "    <tr>\n",
       "      <th>2020</th>\n",
       "      <td>China</td>\n",
       "      <td>CHN</td>\n",
       "      <td>10956.213369</td>\n",
       "      <td>7605.716883</td>\n",
       "      <td>1627.725238</td>\n",
       "      <td>687.880944</td>\n",
       "    </tr>\n",
       "    <tr>\n",
       "      <th>2021</th>\n",
       "      <td>China</td>\n",
       "      <td>CHN</td>\n",
       "      <td>11472.369171</td>\n",
       "      <td>7955.985419</td>\n",
       "      <td>1713.339980</td>\n",
       "      <td>773.866062</td>\n",
       "    </tr>\n",
       "  </tbody>\n",
       "</table>\n",
       "<p>72 rows × 6 columns</p>\n",
       "</div>"
      ],
      "text/plain": [
       "     Country ISO 3166-1 alpha-3         Total         Coal          Oil  \\\n",
       "Year                                                                      \n",
       "1950   China                CHN     78.835287    77.614512     0.619216   \n",
       "1951   China                CHN    102.115213   100.133456     0.937984   \n",
       "1952   China                CHN    127.999326   125.444368     1.337360   \n",
       "1953   China                CHN    133.782883   130.236986     1.908892   \n",
       "1954   China                CHN    160.877410   155.591889     3.341492   \n",
       "...      ...                ...           ...          ...          ...   \n",
       "2017   China                CHN  10011.107108  7163.317856  1430.586816   \n",
       "2018   China                CHN  10353.876989  7316.399776  1500.473952   \n",
       "2019   China                CHN  10740.996069  7543.157408  1559.728160   \n",
       "2020   China                CHN  10956.213369  7605.716883  1627.725238   \n",
       "2021   China                CHN  11472.369171  7955.985419  1713.339980   \n",
       "\n",
       "             Gas  \n",
       "Year              \n",
       "1950    0.014656  \n",
       "1951    0.007328  \n",
       "1952    0.014656  \n",
       "1953    0.021983  \n",
       "1954    0.029311  \n",
       "...          ...  \n",
       "2017  486.359360  \n",
       "2018  575.368912  \n",
       "2019  630.171360  \n",
       "2020  687.880944  \n",
       "2021  773.866062  \n",
       "\n",
       "[72 rows x 6 columns]"
      ]
     },
     "execution_count": 117,
     "metadata": {},
     "output_type": "execute_result"
    }
   ],
   "source": [
    "df_ger = pd.read_csv('Data/China.csv',  index_col='Year')\n",
    "df_ger # the one with categorical variable for Germany"
   ]
  },
  {
   "cell_type": "code",
   "execution_count": 118,
   "id": "615eb1f3",
   "metadata": {
    "scrolled": true
   },
   "outputs": [
    {
     "data": {
      "text/html": [
       "<div>\n",
       "<style scoped>\n",
       "    .dataframe tbody tr th:only-of-type {\n",
       "        vertical-align: middle;\n",
       "    }\n",
       "\n",
       "    .dataframe tbody tr th {\n",
       "        vertical-align: top;\n",
       "    }\n",
       "\n",
       "    .dataframe thead th {\n",
       "        text-align: right;\n",
       "    }\n",
       "</style>\n",
       "<table border=\"1\" class=\"dataframe\">\n",
       "  <thead>\n",
       "    <tr style=\"text-align: right;\">\n",
       "      <th></th>\n",
       "      <th>Total</th>\n",
       "      <th>Coal</th>\n",
       "      <th>Oil</th>\n",
       "      <th>Gas</th>\n",
       "    </tr>\n",
       "    <tr>\n",
       "      <th>Year</th>\n",
       "      <th></th>\n",
       "      <th></th>\n",
       "      <th></th>\n",
       "      <th></th>\n",
       "    </tr>\n",
       "  </thead>\n",
       "  <tbody>\n",
       "    <tr>\n",
       "      <th>1950</th>\n",
       "      <td>78.835287</td>\n",
       "      <td>77.614512</td>\n",
       "      <td>0.619216</td>\n",
       "      <td>0.014656</td>\n",
       "    </tr>\n",
       "    <tr>\n",
       "      <th>1951</th>\n",
       "      <td>102.115213</td>\n",
       "      <td>100.133456</td>\n",
       "      <td>0.937984</td>\n",
       "      <td>0.007328</td>\n",
       "    </tr>\n",
       "    <tr>\n",
       "      <th>1952</th>\n",
       "      <td>127.999326</td>\n",
       "      <td>125.444368</td>\n",
       "      <td>1.337360</td>\n",
       "      <td>0.014656</td>\n",
       "    </tr>\n",
       "    <tr>\n",
       "      <th>1953</th>\n",
       "      <td>133.782883</td>\n",
       "      <td>130.236986</td>\n",
       "      <td>1.908892</td>\n",
       "      <td>0.021983</td>\n",
       "    </tr>\n",
       "    <tr>\n",
       "      <th>1954</th>\n",
       "      <td>160.877410</td>\n",
       "      <td>155.591889</td>\n",
       "      <td>3.341492</td>\n",
       "      <td>0.029311</td>\n",
       "    </tr>\n",
       "    <tr>\n",
       "      <th>...</th>\n",
       "      <td>...</td>\n",
       "      <td>...</td>\n",
       "      <td>...</td>\n",
       "      <td>...</td>\n",
       "    </tr>\n",
       "    <tr>\n",
       "      <th>2017</th>\n",
       "      <td>10011.107108</td>\n",
       "      <td>7163.317856</td>\n",
       "      <td>1430.586816</td>\n",
       "      <td>486.359360</td>\n",
       "    </tr>\n",
       "    <tr>\n",
       "      <th>2018</th>\n",
       "      <td>10353.876989</td>\n",
       "      <td>7316.399776</td>\n",
       "      <td>1500.473952</td>\n",
       "      <td>575.368912</td>\n",
       "    </tr>\n",
       "    <tr>\n",
       "      <th>2019</th>\n",
       "      <td>10740.996069</td>\n",
       "      <td>7543.157408</td>\n",
       "      <td>1559.728160</td>\n",
       "      <td>630.171360</td>\n",
       "    </tr>\n",
       "    <tr>\n",
       "      <th>2020</th>\n",
       "      <td>10956.213369</td>\n",
       "      <td>7605.716883</td>\n",
       "      <td>1627.725238</td>\n",
       "      <td>687.880944</td>\n",
       "    </tr>\n",
       "    <tr>\n",
       "      <th>2021</th>\n",
       "      <td>11472.369171</td>\n",
       "      <td>7955.985419</td>\n",
       "      <td>1713.339980</td>\n",
       "      <td>773.866062</td>\n",
       "    </tr>\n",
       "  </tbody>\n",
       "</table>\n",
       "<p>72 rows × 4 columns</p>\n",
       "</div>"
      ],
      "text/plain": [
       "             Total         Coal          Oil         Gas\n",
       "Year                                                    \n",
       "1950     78.835287    77.614512     0.619216    0.014656\n",
       "1951    102.115213   100.133456     0.937984    0.007328\n",
       "1952    127.999326   125.444368     1.337360    0.014656\n",
       "1953    133.782883   130.236986     1.908892    0.021983\n",
       "1954    160.877410   155.591889     3.341492    0.029311\n",
       "...            ...          ...          ...         ...\n",
       "2017  10011.107108  7163.317856  1430.586816  486.359360\n",
       "2018  10353.876989  7316.399776  1500.473952  575.368912\n",
       "2019  10740.996069  7543.157408  1559.728160  630.171360\n",
       "2020  10956.213369  7605.716883  1627.725238  687.880944\n",
       "2021  11472.369171  7955.985419  1713.339980  773.866062\n",
       "\n",
       "[72 rows x 4 columns]"
      ]
     },
     "execution_count": 118,
     "metadata": {},
     "output_type": "execute_result"
    }
   ],
   "source": [
    "# Drop the categorial variables\n",
    "df= df_ger.select_dtypes(include=['float64'])\n",
    "df"
   ]
  },
  {
   "cell_type": "code",
   "execution_count": 119,
   "id": "e149608c",
   "metadata": {
    "scrolled": true
   },
   "outputs": [
    {
     "data": {
      "application/vnd.plotly.v1+json": {
       "config": {
        "plotlyServerURL": "https://plot.ly"
       },
       "data": [
        {
         "hovertemplate": "Year=%{x}<br>Total=%{y}<extra></extra>",
         "legendgroup": "",
         "line": {
          "color": "#636efa",
          "dash": "solid"
         },
         "marker": {
          "symbol": "circle"
         },
         "mode": "lines",
         "name": "",
         "orientation": "v",
         "showlegend": false,
         "type": "scatter",
         "x": [
          1950,
          1951,
          1952,
          1953,
          1954,
          1955,
          1956,
          1957,
          1958,
          1959,
          1960,
          1961,
          1962,
          1963,
          1964,
          1965,
          1966,
          1967,
          1968,
          1969,
          1970,
          1971,
          1972,
          1973,
          1974,
          1975,
          1976,
          1977,
          1978,
          1979,
          1980,
          1981,
          1982,
          1983,
          1984,
          1985,
          1986,
          1987,
          1988,
          1989,
          1990,
          1991,
          1992,
          1993,
          1994,
          1995,
          1996,
          1997,
          1998,
          1999,
          2000,
          2001,
          2002,
          2003,
          2004,
          2005,
          2006,
          2007,
          2008,
          2009,
          2010,
          2011,
          2012,
          2013,
          2014,
          2015,
          2016,
          2017,
          2018,
          2019,
          2020,
          2021
         ],
         "xaxis": "x",
         "y": [
          78.835287,
          102.115213,
          127.999326,
          133.782883,
          160.87741,
          190.521461,
          215.823984,
          255.784962,
          524.617059,
          720.151557,
          798.799921,
          570.630187,
          459.618074,
          456.779449,
          460.637094,
          500.286364,
          549.459318,
          460.225895,
          495.506566,
          607.683366,
          807.952627,
          909.2097,
          968.645596,
          1008.292576,
          1028.099867,
          1183.214956,
          1226.421277,
          1340.831115,
          1492.777845,
          1525.661148,
          1494.495884,
          1476.487854,
          1606.585013,
          1694.216811,
          1844.828012,
          1998.082904,
          2104.213354,
          2257.738539,
          2425.893553,
          2463.654367,
          2484.85482,
          2606.096182,
          2730.787587,
          2921.650956,
          3100.002045,
          3357.908888,
          3503.233703,
          3510.169286,
          3360.455433,
          3552.842067,
          3644.464203,
          3723.730766,
          4112.459057,
          4827.445998,
          5223.754656,
          5876.55534,
          6488.803816,
          6978.611952,
          7496.832207,
          7886.532768,
          8616.652695,
          9528.555734,
          9779.281618,
          9956.308273,
          9998.621253,
          9866.904318,
          9764.979745,
          10011.107108,
          10353.876989,
          10740.996069,
          10956.213369,
          11472.369171
         ],
         "yaxis": "y"
        }
       ],
       "layout": {
        "legend": {
         "tracegroupgap": 0
        },
        "margin": {
         "t": 60
        },
        "template": {
         "data": {
          "bar": [
           {
            "error_x": {
             "color": "#2a3f5f"
            },
            "error_y": {
             "color": "#2a3f5f"
            },
            "marker": {
             "line": {
              "color": "#E5ECF6",
              "width": 0.5
             },
             "pattern": {
              "fillmode": "overlay",
              "size": 10,
              "solidity": 0.2
             }
            },
            "type": "bar"
           }
          ],
          "barpolar": [
           {
            "marker": {
             "line": {
              "color": "#E5ECF6",
              "width": 0.5
             },
             "pattern": {
              "fillmode": "overlay",
              "size": 10,
              "solidity": 0.2
             }
            },
            "type": "barpolar"
           }
          ],
          "carpet": [
           {
            "aaxis": {
             "endlinecolor": "#2a3f5f",
             "gridcolor": "white",
             "linecolor": "white",
             "minorgridcolor": "white",
             "startlinecolor": "#2a3f5f"
            },
            "baxis": {
             "endlinecolor": "#2a3f5f",
             "gridcolor": "white",
             "linecolor": "white",
             "minorgridcolor": "white",
             "startlinecolor": "#2a3f5f"
            },
            "type": "carpet"
           }
          ],
          "choropleth": [
           {
            "colorbar": {
             "outlinewidth": 0,
             "ticks": ""
            },
            "type": "choropleth"
           }
          ],
          "contour": [
           {
            "colorbar": {
             "outlinewidth": 0,
             "ticks": ""
            },
            "colorscale": [
             [
              0,
              "#0d0887"
             ],
             [
              0.1111111111111111,
              "#46039f"
             ],
             [
              0.2222222222222222,
              "#7201a8"
             ],
             [
              0.3333333333333333,
              "#9c179e"
             ],
             [
              0.4444444444444444,
              "#bd3786"
             ],
             [
              0.5555555555555556,
              "#d8576b"
             ],
             [
              0.6666666666666666,
              "#ed7953"
             ],
             [
              0.7777777777777778,
              "#fb9f3a"
             ],
             [
              0.8888888888888888,
              "#fdca26"
             ],
             [
              1,
              "#f0f921"
             ]
            ],
            "type": "contour"
           }
          ],
          "contourcarpet": [
           {
            "colorbar": {
             "outlinewidth": 0,
             "ticks": ""
            },
            "type": "contourcarpet"
           }
          ],
          "heatmap": [
           {
            "colorbar": {
             "outlinewidth": 0,
             "ticks": ""
            },
            "colorscale": [
             [
              0,
              "#0d0887"
             ],
             [
              0.1111111111111111,
              "#46039f"
             ],
             [
              0.2222222222222222,
              "#7201a8"
             ],
             [
              0.3333333333333333,
              "#9c179e"
             ],
             [
              0.4444444444444444,
              "#bd3786"
             ],
             [
              0.5555555555555556,
              "#d8576b"
             ],
             [
              0.6666666666666666,
              "#ed7953"
             ],
             [
              0.7777777777777778,
              "#fb9f3a"
             ],
             [
              0.8888888888888888,
              "#fdca26"
             ],
             [
              1,
              "#f0f921"
             ]
            ],
            "type": "heatmap"
           }
          ],
          "heatmapgl": [
           {
            "colorbar": {
             "outlinewidth": 0,
             "ticks": ""
            },
            "colorscale": [
             [
              0,
              "#0d0887"
             ],
             [
              0.1111111111111111,
              "#46039f"
             ],
             [
              0.2222222222222222,
              "#7201a8"
             ],
             [
              0.3333333333333333,
              "#9c179e"
             ],
             [
              0.4444444444444444,
              "#bd3786"
             ],
             [
              0.5555555555555556,
              "#d8576b"
             ],
             [
              0.6666666666666666,
              "#ed7953"
             ],
             [
              0.7777777777777778,
              "#fb9f3a"
             ],
             [
              0.8888888888888888,
              "#fdca26"
             ],
             [
              1,
              "#f0f921"
             ]
            ],
            "type": "heatmapgl"
           }
          ],
          "histogram": [
           {
            "marker": {
             "pattern": {
              "fillmode": "overlay",
              "size": 10,
              "solidity": 0.2
             }
            },
            "type": "histogram"
           }
          ],
          "histogram2d": [
           {
            "colorbar": {
             "outlinewidth": 0,
             "ticks": ""
            },
            "colorscale": [
             [
              0,
              "#0d0887"
             ],
             [
              0.1111111111111111,
              "#46039f"
             ],
             [
              0.2222222222222222,
              "#7201a8"
             ],
             [
              0.3333333333333333,
              "#9c179e"
             ],
             [
              0.4444444444444444,
              "#bd3786"
             ],
             [
              0.5555555555555556,
              "#d8576b"
             ],
             [
              0.6666666666666666,
              "#ed7953"
             ],
             [
              0.7777777777777778,
              "#fb9f3a"
             ],
             [
              0.8888888888888888,
              "#fdca26"
             ],
             [
              1,
              "#f0f921"
             ]
            ],
            "type": "histogram2d"
           }
          ],
          "histogram2dcontour": [
           {
            "colorbar": {
             "outlinewidth": 0,
             "ticks": ""
            },
            "colorscale": [
             [
              0,
              "#0d0887"
             ],
             [
              0.1111111111111111,
              "#46039f"
             ],
             [
              0.2222222222222222,
              "#7201a8"
             ],
             [
              0.3333333333333333,
              "#9c179e"
             ],
             [
              0.4444444444444444,
              "#bd3786"
             ],
             [
              0.5555555555555556,
              "#d8576b"
             ],
             [
              0.6666666666666666,
              "#ed7953"
             ],
             [
              0.7777777777777778,
              "#fb9f3a"
             ],
             [
              0.8888888888888888,
              "#fdca26"
             ],
             [
              1,
              "#f0f921"
             ]
            ],
            "type": "histogram2dcontour"
           }
          ],
          "mesh3d": [
           {
            "colorbar": {
             "outlinewidth": 0,
             "ticks": ""
            },
            "type": "mesh3d"
           }
          ],
          "parcoords": [
           {
            "line": {
             "colorbar": {
              "outlinewidth": 0,
              "ticks": ""
             }
            },
            "type": "parcoords"
           }
          ],
          "pie": [
           {
            "automargin": true,
            "type": "pie"
           }
          ],
          "scatter": [
           {
            "fillpattern": {
             "fillmode": "overlay",
             "size": 10,
             "solidity": 0.2
            },
            "type": "scatter"
           }
          ],
          "scatter3d": [
           {
            "line": {
             "colorbar": {
              "outlinewidth": 0,
              "ticks": ""
             }
            },
            "marker": {
             "colorbar": {
              "outlinewidth": 0,
              "ticks": ""
             }
            },
            "type": "scatter3d"
           }
          ],
          "scattercarpet": [
           {
            "marker": {
             "colorbar": {
              "outlinewidth": 0,
              "ticks": ""
             }
            },
            "type": "scattercarpet"
           }
          ],
          "scattergeo": [
           {
            "marker": {
             "colorbar": {
              "outlinewidth": 0,
              "ticks": ""
             }
            },
            "type": "scattergeo"
           }
          ],
          "scattergl": [
           {
            "marker": {
             "colorbar": {
              "outlinewidth": 0,
              "ticks": ""
             }
            },
            "type": "scattergl"
           }
          ],
          "scattermapbox": [
           {
            "marker": {
             "colorbar": {
              "outlinewidth": 0,
              "ticks": ""
             }
            },
            "type": "scattermapbox"
           }
          ],
          "scatterpolar": [
           {
            "marker": {
             "colorbar": {
              "outlinewidth": 0,
              "ticks": ""
             }
            },
            "type": "scatterpolar"
           }
          ],
          "scatterpolargl": [
           {
            "marker": {
             "colorbar": {
              "outlinewidth": 0,
              "ticks": ""
             }
            },
            "type": "scatterpolargl"
           }
          ],
          "scatterternary": [
           {
            "marker": {
             "colorbar": {
              "outlinewidth": 0,
              "ticks": ""
             }
            },
            "type": "scatterternary"
           }
          ],
          "surface": [
           {
            "colorbar": {
             "outlinewidth": 0,
             "ticks": ""
            },
            "colorscale": [
             [
              0,
              "#0d0887"
             ],
             [
              0.1111111111111111,
              "#46039f"
             ],
             [
              0.2222222222222222,
              "#7201a8"
             ],
             [
              0.3333333333333333,
              "#9c179e"
             ],
             [
              0.4444444444444444,
              "#bd3786"
             ],
             [
              0.5555555555555556,
              "#d8576b"
             ],
             [
              0.6666666666666666,
              "#ed7953"
             ],
             [
              0.7777777777777778,
              "#fb9f3a"
             ],
             [
              0.8888888888888888,
              "#fdca26"
             ],
             [
              1,
              "#f0f921"
             ]
            ],
            "type": "surface"
           }
          ],
          "table": [
           {
            "cells": {
             "fill": {
              "color": "#EBF0F8"
             },
             "line": {
              "color": "white"
             }
            },
            "header": {
             "fill": {
              "color": "#C8D4E3"
             },
             "line": {
              "color": "white"
             }
            },
            "type": "table"
           }
          ]
         },
         "layout": {
          "annotationdefaults": {
           "arrowcolor": "#2a3f5f",
           "arrowhead": 0,
           "arrowwidth": 1
          },
          "autotypenumbers": "strict",
          "coloraxis": {
           "colorbar": {
            "outlinewidth": 0,
            "ticks": ""
           }
          },
          "colorscale": {
           "diverging": [
            [
             0,
             "#8e0152"
            ],
            [
             0.1,
             "#c51b7d"
            ],
            [
             0.2,
             "#de77ae"
            ],
            [
             0.3,
             "#f1b6da"
            ],
            [
             0.4,
             "#fde0ef"
            ],
            [
             0.5,
             "#f7f7f7"
            ],
            [
             0.6,
             "#e6f5d0"
            ],
            [
             0.7,
             "#b8e186"
            ],
            [
             0.8,
             "#7fbc41"
            ],
            [
             0.9,
             "#4d9221"
            ],
            [
             1,
             "#276419"
            ]
           ],
           "sequential": [
            [
             0,
             "#0d0887"
            ],
            [
             0.1111111111111111,
             "#46039f"
            ],
            [
             0.2222222222222222,
             "#7201a8"
            ],
            [
             0.3333333333333333,
             "#9c179e"
            ],
            [
             0.4444444444444444,
             "#bd3786"
            ],
            [
             0.5555555555555556,
             "#d8576b"
            ],
            [
             0.6666666666666666,
             "#ed7953"
            ],
            [
             0.7777777777777778,
             "#fb9f3a"
            ],
            [
             0.8888888888888888,
             "#fdca26"
            ],
            [
             1,
             "#f0f921"
            ]
           ],
           "sequentialminus": [
            [
             0,
             "#0d0887"
            ],
            [
             0.1111111111111111,
             "#46039f"
            ],
            [
             0.2222222222222222,
             "#7201a8"
            ],
            [
             0.3333333333333333,
             "#9c179e"
            ],
            [
             0.4444444444444444,
             "#bd3786"
            ],
            [
             0.5555555555555556,
             "#d8576b"
            ],
            [
             0.6666666666666666,
             "#ed7953"
            ],
            [
             0.7777777777777778,
             "#fb9f3a"
            ],
            [
             0.8888888888888888,
             "#fdca26"
            ],
            [
             1,
             "#f0f921"
            ]
           ]
          },
          "colorway": [
           "#636efa",
           "#EF553B",
           "#00cc96",
           "#ab63fa",
           "#FFA15A",
           "#19d3f3",
           "#FF6692",
           "#B6E880",
           "#FF97FF",
           "#FECB52"
          ],
          "font": {
           "color": "#2a3f5f"
          },
          "geo": {
           "bgcolor": "white",
           "lakecolor": "white",
           "landcolor": "#E5ECF6",
           "showlakes": true,
           "showland": true,
           "subunitcolor": "white"
          },
          "hoverlabel": {
           "align": "left"
          },
          "hovermode": "closest",
          "mapbox": {
           "style": "light"
          },
          "paper_bgcolor": "white",
          "plot_bgcolor": "#E5ECF6",
          "polar": {
           "angularaxis": {
            "gridcolor": "white",
            "linecolor": "white",
            "ticks": ""
           },
           "bgcolor": "#E5ECF6",
           "radialaxis": {
            "gridcolor": "white",
            "linecolor": "white",
            "ticks": ""
           }
          },
          "scene": {
           "xaxis": {
            "backgroundcolor": "#E5ECF6",
            "gridcolor": "white",
            "gridwidth": 2,
            "linecolor": "white",
            "showbackground": true,
            "ticks": "",
            "zerolinecolor": "white"
           },
           "yaxis": {
            "backgroundcolor": "#E5ECF6",
            "gridcolor": "white",
            "gridwidth": 2,
            "linecolor": "white",
            "showbackground": true,
            "ticks": "",
            "zerolinecolor": "white"
           },
           "zaxis": {
            "backgroundcolor": "#E5ECF6",
            "gridcolor": "white",
            "gridwidth": 2,
            "linecolor": "white",
            "showbackground": true,
            "ticks": "",
            "zerolinecolor": "white"
           }
          },
          "shapedefaults": {
           "line": {
            "color": "#2a3f5f"
           }
          },
          "ternary": {
           "aaxis": {
            "gridcolor": "white",
            "linecolor": "white",
            "ticks": ""
           },
           "baxis": {
            "gridcolor": "white",
            "linecolor": "white",
            "ticks": ""
           },
           "bgcolor": "#E5ECF6",
           "caxis": {
            "gridcolor": "white",
            "linecolor": "white",
            "ticks": ""
           }
          },
          "title": {
           "x": 0.05
          },
          "xaxis": {
           "automargin": true,
           "gridcolor": "white",
           "linecolor": "white",
           "ticks": "",
           "title": {
            "standoff": 15
           },
           "zerolinecolor": "white",
           "zerolinewidth": 2
          },
          "yaxis": {
           "automargin": true,
           "gridcolor": "white",
           "linecolor": "white",
           "ticks": "",
           "title": {
            "standoff": 15
           },
           "zerolinecolor": "white",
           "zerolinewidth": 2
          }
         }
        },
        "xaxis": {
         "anchor": "y",
         "domain": [
          0,
          1
         ],
         "rangeslider": {
          "visible": true
         },
         "title": {
          "text": "Year"
         }
        },
        "yaxis": {
         "anchor": "x",
         "domain": [
          0,
          1
         ],
         "title": {
          "text": "Total"
         }
        }
       }
      },
      "text/html": [
       "<div>                            <div id=\"3310add7-d6f4-4594-8565-aa0c390f34a5\" class=\"plotly-graph-div\" style=\"height:525px; width:100%;\"></div>            <script type=\"text/javascript\">                require([\"plotly\"], function(Plotly) {                    window.PLOTLYENV=window.PLOTLYENV || {};                                    if (document.getElementById(\"3310add7-d6f4-4594-8565-aa0c390f34a5\")) {                    Plotly.newPlot(                        \"3310add7-d6f4-4594-8565-aa0c390f34a5\",                        [{\"hovertemplate\":\"Year=%{x}<br>Total=%{y}<extra></extra>\",\"legendgroup\":\"\",\"line\":{\"color\":\"#636efa\",\"dash\":\"solid\"},\"marker\":{\"symbol\":\"circle\"},\"mode\":\"lines\",\"name\":\"\",\"orientation\":\"v\",\"showlegend\":false,\"x\":[1950,1951,1952,1953,1954,1955,1956,1957,1958,1959,1960,1961,1962,1963,1964,1965,1966,1967,1968,1969,1970,1971,1972,1973,1974,1975,1976,1977,1978,1979,1980,1981,1982,1983,1984,1985,1986,1987,1988,1989,1990,1991,1992,1993,1994,1995,1996,1997,1998,1999,2000,2001,2002,2003,2004,2005,2006,2007,2008,2009,2010,2011,2012,2013,2014,2015,2016,2017,2018,2019,2020,2021],\"xaxis\":\"x\",\"y\":[78.835287,102.115213,127.999326,133.782883,160.87741,190.521461,215.823984,255.784962,524.617059,720.151557,798.799921,570.630187,459.618074,456.779449,460.637094,500.286364,549.459318,460.225895,495.506566,607.683366,807.952627,909.2097,968.645596,1008.292576,1028.099867,1183.214956,1226.421277,1340.831115,1492.777845,1525.661148,1494.495884,1476.487854,1606.585013,1694.216811,1844.828012,1998.082904,2104.213354,2257.738539,2425.893553,2463.654367,2484.85482,2606.096182,2730.787587,2921.650956,3100.002045,3357.908888,3503.233703,3510.169286,3360.455433,3552.842067,3644.464203,3723.730766,4112.459057,4827.445998,5223.754656,5876.55534,6488.803816,6978.611952,7496.832207,7886.532768,8616.652695,9528.555734,9779.281618,9956.308273,9998.621253,9866.904318,9764.979745,10011.107108,10353.876989,10740.996069,10956.213369,11472.369171],\"yaxis\":\"y\",\"type\":\"scatter\"}],                        {\"template\":{\"data\":{\"histogram2dcontour\":[{\"type\":\"histogram2dcontour\",\"colorbar\":{\"outlinewidth\":0,\"ticks\":\"\"},\"colorscale\":[[0.0,\"#0d0887\"],[0.1111111111111111,\"#46039f\"],[0.2222222222222222,\"#7201a8\"],[0.3333333333333333,\"#9c179e\"],[0.4444444444444444,\"#bd3786\"],[0.5555555555555556,\"#d8576b\"],[0.6666666666666666,\"#ed7953\"],[0.7777777777777778,\"#fb9f3a\"],[0.8888888888888888,\"#fdca26\"],[1.0,\"#f0f921\"]]}],\"choropleth\":[{\"type\":\"choropleth\",\"colorbar\":{\"outlinewidth\":0,\"ticks\":\"\"}}],\"histogram2d\":[{\"type\":\"histogram2d\",\"colorbar\":{\"outlinewidth\":0,\"ticks\":\"\"},\"colorscale\":[[0.0,\"#0d0887\"],[0.1111111111111111,\"#46039f\"],[0.2222222222222222,\"#7201a8\"],[0.3333333333333333,\"#9c179e\"],[0.4444444444444444,\"#bd3786\"],[0.5555555555555556,\"#d8576b\"],[0.6666666666666666,\"#ed7953\"],[0.7777777777777778,\"#fb9f3a\"],[0.8888888888888888,\"#fdca26\"],[1.0,\"#f0f921\"]]}],\"heatmap\":[{\"type\":\"heatmap\",\"colorbar\":{\"outlinewidth\":0,\"ticks\":\"\"},\"colorscale\":[[0.0,\"#0d0887\"],[0.1111111111111111,\"#46039f\"],[0.2222222222222222,\"#7201a8\"],[0.3333333333333333,\"#9c179e\"],[0.4444444444444444,\"#bd3786\"],[0.5555555555555556,\"#d8576b\"],[0.6666666666666666,\"#ed7953\"],[0.7777777777777778,\"#fb9f3a\"],[0.8888888888888888,\"#fdca26\"],[1.0,\"#f0f921\"]]}],\"heatmapgl\":[{\"type\":\"heatmapgl\",\"colorbar\":{\"outlinewidth\":0,\"ticks\":\"\"},\"colorscale\":[[0.0,\"#0d0887\"],[0.1111111111111111,\"#46039f\"],[0.2222222222222222,\"#7201a8\"],[0.3333333333333333,\"#9c179e\"],[0.4444444444444444,\"#bd3786\"],[0.5555555555555556,\"#d8576b\"],[0.6666666666666666,\"#ed7953\"],[0.7777777777777778,\"#fb9f3a\"],[0.8888888888888888,\"#fdca26\"],[1.0,\"#f0f921\"]]}],\"contourcarpet\":[{\"type\":\"contourcarpet\",\"colorbar\":{\"outlinewidth\":0,\"ticks\":\"\"}}],\"contour\":[{\"type\":\"contour\",\"colorbar\":{\"outlinewidth\":0,\"ticks\":\"\"},\"colorscale\":[[0.0,\"#0d0887\"],[0.1111111111111111,\"#46039f\"],[0.2222222222222222,\"#7201a8\"],[0.3333333333333333,\"#9c179e\"],[0.4444444444444444,\"#bd3786\"],[0.5555555555555556,\"#d8576b\"],[0.6666666666666666,\"#ed7953\"],[0.7777777777777778,\"#fb9f3a\"],[0.8888888888888888,\"#fdca26\"],[1.0,\"#f0f921\"]]}],\"surface\":[{\"type\":\"surface\",\"colorbar\":{\"outlinewidth\":0,\"ticks\":\"\"},\"colorscale\":[[0.0,\"#0d0887\"],[0.1111111111111111,\"#46039f\"],[0.2222222222222222,\"#7201a8\"],[0.3333333333333333,\"#9c179e\"],[0.4444444444444444,\"#bd3786\"],[0.5555555555555556,\"#d8576b\"],[0.6666666666666666,\"#ed7953\"],[0.7777777777777778,\"#fb9f3a\"],[0.8888888888888888,\"#fdca26\"],[1.0,\"#f0f921\"]]}],\"mesh3d\":[{\"type\":\"mesh3d\",\"colorbar\":{\"outlinewidth\":0,\"ticks\":\"\"}}],\"scatter\":[{\"fillpattern\":{\"fillmode\":\"overlay\",\"size\":10,\"solidity\":0.2},\"type\":\"scatter\"}],\"parcoords\":[{\"type\":\"parcoords\",\"line\":{\"colorbar\":{\"outlinewidth\":0,\"ticks\":\"\"}}}],\"scatterpolargl\":[{\"type\":\"scatterpolargl\",\"marker\":{\"colorbar\":{\"outlinewidth\":0,\"ticks\":\"\"}}}],\"bar\":[{\"error_x\":{\"color\":\"#2a3f5f\"},\"error_y\":{\"color\":\"#2a3f5f\"},\"marker\":{\"line\":{\"color\":\"#E5ECF6\",\"width\":0.5},\"pattern\":{\"fillmode\":\"overlay\",\"size\":10,\"solidity\":0.2}},\"type\":\"bar\"}],\"scattergeo\":[{\"type\":\"scattergeo\",\"marker\":{\"colorbar\":{\"outlinewidth\":0,\"ticks\":\"\"}}}],\"scatterpolar\":[{\"type\":\"scatterpolar\",\"marker\":{\"colorbar\":{\"outlinewidth\":0,\"ticks\":\"\"}}}],\"histogram\":[{\"marker\":{\"pattern\":{\"fillmode\":\"overlay\",\"size\":10,\"solidity\":0.2}},\"type\":\"histogram\"}],\"scattergl\":[{\"type\":\"scattergl\",\"marker\":{\"colorbar\":{\"outlinewidth\":0,\"ticks\":\"\"}}}],\"scatter3d\":[{\"type\":\"scatter3d\",\"line\":{\"colorbar\":{\"outlinewidth\":0,\"ticks\":\"\"}},\"marker\":{\"colorbar\":{\"outlinewidth\":0,\"ticks\":\"\"}}}],\"scattermapbox\":[{\"type\":\"scattermapbox\",\"marker\":{\"colorbar\":{\"outlinewidth\":0,\"ticks\":\"\"}}}],\"scatterternary\":[{\"type\":\"scatterternary\",\"marker\":{\"colorbar\":{\"outlinewidth\":0,\"ticks\":\"\"}}}],\"scattercarpet\":[{\"type\":\"scattercarpet\",\"marker\":{\"colorbar\":{\"outlinewidth\":0,\"ticks\":\"\"}}}],\"carpet\":[{\"aaxis\":{\"endlinecolor\":\"#2a3f5f\",\"gridcolor\":\"white\",\"linecolor\":\"white\",\"minorgridcolor\":\"white\",\"startlinecolor\":\"#2a3f5f\"},\"baxis\":{\"endlinecolor\":\"#2a3f5f\",\"gridcolor\":\"white\",\"linecolor\":\"white\",\"minorgridcolor\":\"white\",\"startlinecolor\":\"#2a3f5f\"},\"type\":\"carpet\"}],\"table\":[{\"cells\":{\"fill\":{\"color\":\"#EBF0F8\"},\"line\":{\"color\":\"white\"}},\"header\":{\"fill\":{\"color\":\"#C8D4E3\"},\"line\":{\"color\":\"white\"}},\"type\":\"table\"}],\"barpolar\":[{\"marker\":{\"line\":{\"color\":\"#E5ECF6\",\"width\":0.5},\"pattern\":{\"fillmode\":\"overlay\",\"size\":10,\"solidity\":0.2}},\"type\":\"barpolar\"}],\"pie\":[{\"automargin\":true,\"type\":\"pie\"}]},\"layout\":{\"autotypenumbers\":\"strict\",\"colorway\":[\"#636efa\",\"#EF553B\",\"#00cc96\",\"#ab63fa\",\"#FFA15A\",\"#19d3f3\",\"#FF6692\",\"#B6E880\",\"#FF97FF\",\"#FECB52\"],\"font\":{\"color\":\"#2a3f5f\"},\"hovermode\":\"closest\",\"hoverlabel\":{\"align\":\"left\"},\"paper_bgcolor\":\"white\",\"plot_bgcolor\":\"#E5ECF6\",\"polar\":{\"bgcolor\":\"#E5ECF6\",\"angularaxis\":{\"gridcolor\":\"white\",\"linecolor\":\"white\",\"ticks\":\"\"},\"radialaxis\":{\"gridcolor\":\"white\",\"linecolor\":\"white\",\"ticks\":\"\"}},\"ternary\":{\"bgcolor\":\"#E5ECF6\",\"aaxis\":{\"gridcolor\":\"white\",\"linecolor\":\"white\",\"ticks\":\"\"},\"baxis\":{\"gridcolor\":\"white\",\"linecolor\":\"white\",\"ticks\":\"\"},\"caxis\":{\"gridcolor\":\"white\",\"linecolor\":\"white\",\"ticks\":\"\"}},\"coloraxis\":{\"colorbar\":{\"outlinewidth\":0,\"ticks\":\"\"}},\"colorscale\":{\"sequential\":[[0.0,\"#0d0887\"],[0.1111111111111111,\"#46039f\"],[0.2222222222222222,\"#7201a8\"],[0.3333333333333333,\"#9c179e\"],[0.4444444444444444,\"#bd3786\"],[0.5555555555555556,\"#d8576b\"],[0.6666666666666666,\"#ed7953\"],[0.7777777777777778,\"#fb9f3a\"],[0.8888888888888888,\"#fdca26\"],[1.0,\"#f0f921\"]],\"sequentialminus\":[[0.0,\"#0d0887\"],[0.1111111111111111,\"#46039f\"],[0.2222222222222222,\"#7201a8\"],[0.3333333333333333,\"#9c179e\"],[0.4444444444444444,\"#bd3786\"],[0.5555555555555556,\"#d8576b\"],[0.6666666666666666,\"#ed7953\"],[0.7777777777777778,\"#fb9f3a\"],[0.8888888888888888,\"#fdca26\"],[1.0,\"#f0f921\"]],\"diverging\":[[0,\"#8e0152\"],[0.1,\"#c51b7d\"],[0.2,\"#de77ae\"],[0.3,\"#f1b6da\"],[0.4,\"#fde0ef\"],[0.5,\"#f7f7f7\"],[0.6,\"#e6f5d0\"],[0.7,\"#b8e186\"],[0.8,\"#7fbc41\"],[0.9,\"#4d9221\"],[1,\"#276419\"]]},\"xaxis\":{\"gridcolor\":\"white\",\"linecolor\":\"white\",\"ticks\":\"\",\"title\":{\"standoff\":15},\"zerolinecolor\":\"white\",\"automargin\":true,\"zerolinewidth\":2},\"yaxis\":{\"gridcolor\":\"white\",\"linecolor\":\"white\",\"ticks\":\"\",\"title\":{\"standoff\":15},\"zerolinecolor\":\"white\",\"automargin\":true,\"zerolinewidth\":2},\"scene\":{\"xaxis\":{\"backgroundcolor\":\"#E5ECF6\",\"gridcolor\":\"white\",\"linecolor\":\"white\",\"showbackground\":true,\"ticks\":\"\",\"zerolinecolor\":\"white\",\"gridwidth\":2},\"yaxis\":{\"backgroundcolor\":\"#E5ECF6\",\"gridcolor\":\"white\",\"linecolor\":\"white\",\"showbackground\":true,\"ticks\":\"\",\"zerolinecolor\":\"white\",\"gridwidth\":2},\"zaxis\":{\"backgroundcolor\":\"#E5ECF6\",\"gridcolor\":\"white\",\"linecolor\":\"white\",\"showbackground\":true,\"ticks\":\"\",\"zerolinecolor\":\"white\",\"gridwidth\":2}},\"shapedefaults\":{\"line\":{\"color\":\"#2a3f5f\"}},\"annotationdefaults\":{\"arrowcolor\":\"#2a3f5f\",\"arrowhead\":0,\"arrowwidth\":1},\"geo\":{\"bgcolor\":\"white\",\"landcolor\":\"#E5ECF6\",\"subunitcolor\":\"white\",\"showland\":true,\"showlakes\":true,\"lakecolor\":\"white\"},\"title\":{\"x\":0.05},\"mapbox\":{\"style\":\"light\"}}},\"xaxis\":{\"anchor\":\"y\",\"domain\":[0.0,1.0],\"title\":{\"text\":\"Year\"},\"rangeslider\":{\"visible\":true}},\"yaxis\":{\"anchor\":\"x\",\"domain\":[0.0,1.0],\"title\":{\"text\":\"Total\"}},\"legend\":{\"tracegroupgap\":0},\"margin\":{\"t\":60}},                        {\"responsive\": true}                    ).then(function(){\n",
       "                            \n",
       "var gd = document.getElementById('3310add7-d6f4-4594-8565-aa0c390f34a5');\n",
       "var x = new MutationObserver(function (mutations, observer) {{\n",
       "        var display = window.getComputedStyle(gd).display;\n",
       "        if (!display || display === 'none') {{\n",
       "            console.log([gd, 'removed!']);\n",
       "            Plotly.purge(gd);\n",
       "            observer.disconnect();\n",
       "        }}\n",
       "}});\n",
       "\n",
       "// Listen for the removal of the full notebook cells\n",
       "var notebookContainer = gd.closest('#notebook-container');\n",
       "if (notebookContainer) {{\n",
       "    x.observe(notebookContainer, {childList: true});\n",
       "}}\n",
       "\n",
       "// Listen for the clearing of the current output cell\n",
       "var outputEl = gd.closest('.output');\n",
       "if (outputEl) {{\n",
       "    x.observe(outputEl, {childList: true});\n",
       "}}\n",
       "\n",
       "                        })                };                });            </script>        </div>"
      ]
     },
     "metadata": {},
     "output_type": "display_data"
    }
   ],
   "source": [
    "#  plot to see total emission versus year for 'Germany'\n",
    "fig_ger = px.line(df, x=df.index, y=\"Total\")\n",
    "fig_ger.update_xaxes(rangeslider_visible=True)\n",
    "fig_ger.show()"
   ]
  },
  {
   "cell_type": "markdown",
   "id": "3a651886",
   "metadata": {},
   "source": [
    "Visualize the time series"
   ]
  },
  {
   "cell_type": "code",
   "execution_count": 120,
   "id": "d749f740",
   "metadata": {
    "scrolled": true
   },
   "outputs": [
    {
     "data": {
      "image/png": "[encoded data removed]",
      "text/plain": [
       "<Figure size 1200x720 with 4 Axes>"
      ]
     },
     "metadata": {},
     "output_type": "display_data"
    }
   ],
   "source": [
    "# Plot\n",
    "fig, axes = plt.subplots(nrows=2, ncols=2, dpi=120, figsize=(10,6))\n",
    "for i, ax in enumerate(axes.flatten()):\n",
    "    data = df[df.columns[i]]\n",
    "    ax.plot(data, color='red', linewidth=1)\n",
    "    # Decorations\n",
    "    ax.set_title(df.columns[i])\n",
    "    ax.xaxis.set_ticks_position('none')\n",
    "    ax.yaxis.set_ticks_position('none')\n",
    "    ax.spines[\"top\"].set_alpha(0)\n",
    "    ax.tick_params(labelsize=6)\n",
    "\n",
    "plt.tight_layout();"
   ]
  },
  {
   "cell_type": "code",
   "execution_count": 121,
   "id": "56f8190d",
   "metadata": {
    "scrolled": true
   },
   "outputs": [
    {
     "data": {
      "text/plain": [
       "<matplotlib.legend.Legend at 0x242097121f0>"
      ]
     },
     "execution_count": 121,
     "metadata": {},
     "output_type": "execute_result"
    },
    {
     "data": {
      "image/png": "[encoded data removed]",
      "text/plain": [
       "<Figure size 640x480 with 1 Axes>"
      ]
     },
     "metadata": {},
     "output_type": "display_data"
    }
   ],
   "source": [
    "plt.figure()\n",
    "\n",
    "x = df.index\n",
    "y1 = df['Total']\n",
    "y2 = df['Coal']\n",
    "y3 = df['Oil']\n",
    "y4 = df['Gas']\n",
    "\n",
    "\n",
    "\n",
    "\n",
    "\n",
    "\n",
    "plt.plot(x,y1)\n",
    "plt.plot(x,y2)\n",
    "plt.plot(x,y3)\n",
    "plt.plot(x,y4)\n",
    "\n",
    "\n",
    "\n",
    "\n",
    "plt.legend(['Total', 'Coal', 'Oil', 'Gas'])"
   ]
  },
  {
   "cell_type": "markdown",
   "id": "95be9d06",
   "metadata": {},
   "source": [
    "Grainger's Causality Test"
   ]
  },
  {
   "cell_type": "code",
   "execution_count": 122,
   "id": "1f380907",
   "metadata": {
    "scrolled": false
   },
   "outputs": [
    {
     "data": {
      "text/html": [
       "<div>\n",
       "<style scoped>\n",
       "    .dataframe tbody tr th:only-of-type {\n",
       "        vertical-align: middle;\n",
       "    }\n",
       "\n",
       "    .dataframe tbody tr th {\n",
       "        vertical-align: top;\n",
       "    }\n",
       "\n",
       "    .dataframe thead th {\n",
       "        text-align: right;\n",
       "    }\n",
       "</style>\n",
       "<table border=\"1\" class=\"dataframe\">\n",
       "  <thead>\n",
       "    <tr style=\"text-align: right;\">\n",
       "      <th></th>\n",
       "      <th>Total_x</th>\n",
       "      <th>Coal_x</th>\n",
       "      <th>Oil_x</th>\n",
       "      <th>Gas_x</th>\n",
       "    </tr>\n",
       "  </thead>\n",
       "  <tbody>\n",
       "    <tr>\n",
       "      <th>Total_y</th>\n",
       "      <td>1.0</td>\n",
       "      <td>0.0</td>\n",
       "      <td>0.0</td>\n",
       "      <td>0.0000</td>\n",
       "    </tr>\n",
       "    <tr>\n",
       "      <th>Coal_y</th>\n",
       "      <td>0.0</td>\n",
       "      <td>1.0</td>\n",
       "      <td>0.0</td>\n",
       "      <td>0.0001</td>\n",
       "    </tr>\n",
       "    <tr>\n",
       "      <th>Oil_y</th>\n",
       "      <td>0.0</td>\n",
       "      <td>0.0</td>\n",
       "      <td>1.0</td>\n",
       "      <td>0.0006</td>\n",
       "    </tr>\n",
       "    <tr>\n",
       "      <th>Gas_y</th>\n",
       "      <td>0.0</td>\n",
       "      <td>0.0</td>\n",
       "      <td>0.0</td>\n",
       "      <td>1.0000</td>\n",
       "    </tr>\n",
       "  </tbody>\n",
       "</table>\n",
       "</div>"
      ],
      "text/plain": [
       "         Total_x  Coal_x  Oil_x   Gas_x\n",
       "Total_y      1.0     0.0    0.0  0.0000\n",
       "Coal_y       0.0     1.0    0.0  0.0001\n",
       "Oil_y        0.0     0.0    1.0  0.0006\n",
       "Gas_y        0.0     0.0    0.0  1.0000"
      ]
     },
     "execution_count": 122,
     "metadata": {},
     "output_type": "execute_result"
    }
   ],
   "source": [
    "from statsmodels.tsa.stattools import grangercausalitytests\n",
    "maxlag=12\n",
    "test = 'ssr_chi2test'\n",
    "def grangers_causation_matrix(data, variables, test='ssr_chi2test', verbose=False):    \n",
    "    \"\"\"Check Granger Causality of all possible combinations of the Time series.\n",
    "    The rows are the response variable, columns are predictors. The values in the table \n",
    "    are the P-Values. P-Values lesser than the significance level (0.05), implies \n",
    "    the Null Hypothesis that the coefficients of the corresponding past values is \n",
    "    zero, that is, the X does not cause Y can be rejected.\n",
    "\n",
    "    data      : pandas dataframe containing the time series variables\n",
    "    variables : list containing names of the time series variables.\n",
    "    \"\"\"\n",
    "    df = pd.DataFrame(np.zeros((len(variables), len(variables))), columns=variables, index=variables)\n",
    "    for c in df.columns:\n",
    "        for r in df.index:\n",
    "            test_result = grangercausalitytests(data[[r, c]], maxlag=maxlag, verbose=False)\n",
    "            p_values = [round(test_result[i+1][0][test][1],4) for i in range(maxlag)]\n",
    "            if verbose: print(f'Y = {r}, X = {c}, P Values = {p_values}')\n",
    "            min_p_value = np.min(p_values)\n",
    "            df.loc[r, c] = min_p_value\n",
    "    df.columns = [var + '_x' for var in variables]\n",
    "    df.index = [var + '_y' for var in variables]\n",
    "    return df\n",
    "\n",
    "grangers_causation_matrix(df, variables = df.columns)   "
   ]
  },
  {
   "cell_type": "markdown",
   "id": "1a19284f",
   "metadata": {},
   "source": [
    " Cointegration Test"
   ]
  },
  {
   "cell_type": "code",
   "execution_count": 123,
   "id": "8a7778a1",
   "metadata": {
    "scrolled": true
   },
   "outputs": [
    {
     "name": "stdout",
     "output_type": "stream",
     "text": [
      "Name   ::  Test Stat > C(95%)    =>   Signif  \n",
      " ----------------------------------------\n",
      "Total  ::  82.63     > 40.1749   =>   True\n",
      "Coal   ::  30.84     > 24.2761   =>   True\n",
      "Oil    ::  13.49     > 12.3212   =>   True\n",
      "Gas    ::  0.25      > 4.1296    =>   False\n"
     ]
    }
   ],
   "source": [
    "from statsmodels.tsa.vector_ar.vecm import coint_johansen\n",
    "\n",
    "def cointegration_test(df, alpha=0.05): \n",
    "    \"\"\"Perform Johanson's Cointegration Test and Report Summary\"\"\"\n",
    "    out = coint_johansen(df,-1,5)\n",
    "    d = {'0.90':0, '0.95':1, '0.99':2}\n",
    "    traces = out.lr1\n",
    "    cvts = out.cvt[:, d[str(1-alpha)]]\n",
    "    def adjust(val, length= 6): return str(val).ljust(length)\n",
    "\n",
    "    # Summary\n",
    "    print('Name   ::  Test Stat > C(95%)    =>   Signif  \\n', '--'*20)\n",
    "    for col, trace, cvt in zip(df.columns, traces, cvts):\n",
    "        print(adjust(col), ':: ', adjust(round(trace,2), 9), \">\", adjust(cvt, 8), ' =>  ' , trace > cvt)\n",
    "\n",
    "cointegration_test(df)"
   ]
  },
  {
   "cell_type": "markdown",
   "id": "6192c1ea",
   "metadata": {},
   "source": [
    "Split the Series into Training and Testing Data"
   ]
  },
  {
   "cell_type": "code",
   "execution_count": 124,
   "id": "b953b6ed",
   "metadata": {},
   "outputs": [
    {
     "name": "stdout",
     "output_type": "stream",
     "text": [
      "(67, 4)\n",
      "(5, 4)\n"
     ]
    }
   ],
   "source": [
    "nobs = 5\n",
    "df_train, df_test = df[0:-nobs], df[-nobs:]\n",
    "\n",
    "# Check size\n",
    "print(df_train.shape)  \n",
    "print(df_test.shape) "
   ]
  },
  {
   "cell_type": "markdown",
   "id": "a33b9eec",
   "metadata": {},
   "source": [
    "Check for Stationarity and Make the Time Series Stationary"
   ]
  },
  {
   "cell_type": "code",
   "execution_count": 125,
   "id": "fcb28513",
   "metadata": {},
   "outputs": [],
   "source": [
    "def adfuller_test(series, signif=0.05, name='', verbose=False):\n",
    "    \"\"\"Perform ADFuller to test for Stationarity of given series and print report\"\"\"\n",
    "    r = adfuller(series, autolag='AIC')\n",
    "    output = {'test_statistic':round(r[0], 4), 'pvalue':round(r[1], 4), 'n_lags':round(r[2], 4), 'n_obs':r[3]}\n",
    "    p_value = output['pvalue'] \n",
    "    def adjust(val, length= 6): return str(val).ljust(length)\n",
    "\n",
    "    # Print Summary\n",
    "    print(f'    Augmented Dickey-Fuller Test on \"{name}\"', \"\\n   \", '-'*47)\n",
    "    print(f' Null Hypothesis: Data has unit root. Non-Stationary.')\n",
    "    print(f' Significance Level    = {signif}')\n",
    "    print(f' Test Statistic        = {output[\"test_statistic\"]}')\n",
    "    print(f' No. Lags Chosen       = {output[\"n_lags\"]}')\n",
    "\n",
    "    for key,val in r[4].items():\n",
    "        print(f' Critical value {adjust(key)} = {round(val, 3)}')\n",
    "\n",
    "    if p_value <= signif:\n",
    "        print(f\" => P-Value = {p_value}. Rejecting Null Hypothesis.\")\n",
    "        print(f\" => Series is Stationary.\")\n",
    "    else:\n",
    "        print(f\" => P-Value = {p_value}. Weak evidence to reject the Null Hypothesis.\")\n",
    "        print(f\" => Series is Non-Stationary.\")    "
   ]
  },
  {
   "cell_type": "code",
   "execution_count": 126,
   "id": "7d2de168",
   "metadata": {},
   "outputs": [
    {
     "name": "stdout",
     "output_type": "stream",
     "text": [
      "    Augmented Dickey-Fuller Test on \"Total\" \n",
      "    -----------------------------------------------\n",
      " Null Hypothesis: Data has unit root. Non-Stationary.\n",
      " Significance Level    = 0.05\n",
      " Test Statistic        = 1.945\n",
      " No. Lags Chosen       = 9\n",
      " Critical value 1%     = -3.551\n",
      " Critical value 5%     = -2.914\n",
      " Critical value 10%    = -2.595\n",
      " => P-Value = 0.9986. Weak evidence to reject the Null Hypothesis.\n",
      " => Series is Non-Stationary.\n",
      "\n",
      "\n",
      "    Augmented Dickey-Fuller Test on \"Coal\" \n",
      "    -----------------------------------------------\n",
      " Null Hypothesis: Data has unit root. Non-Stationary.\n",
      " Significance Level    = 0.05\n",
      " Test Statistic        = -0.0545\n",
      " No. Lags Chosen       = 1\n",
      " Critical value 1%     = -3.535\n",
      " Critical value 5%     = -2.907\n",
      " Critical value 10%    = -2.591\n",
      " => P-Value = 0.9538. Weak evidence to reject the Null Hypothesis.\n",
      " => Series is Non-Stationary.\n",
      "\n",
      "\n",
      "    Augmented Dickey-Fuller Test on \"Oil\" \n",
      "    -----------------------------------------------\n",
      " Null Hypothesis: Data has unit root. Non-Stationary.\n",
      " Significance Level    = 0.05\n",
      " Test Statistic        = 1.3647\n",
      " No. Lags Chosen       = 11\n",
      " Critical value 1%     = -3.555\n",
      " Critical value 5%     = -2.916\n",
      " Critical value 10%    = -2.596\n",
      " => P-Value = 0.9969. Weak evidence to reject the Null Hypothesis.\n",
      " => Series is Non-Stationary.\n",
      "\n",
      "\n",
      "    Augmented Dickey-Fuller Test on \"Gas\" \n",
      "    -----------------------------------------------\n",
      " Null Hypothesis: Data has unit root. Non-Stationary.\n",
      " Significance Level    = 0.05\n",
      " Test Statistic        = 1.8768\n",
      " No. Lags Chosen       = 11\n",
      " Critical value 1%     = -3.555\n",
      " Critical value 5%     = -2.916\n",
      " Critical value 10%    = -2.596\n",
      " => P-Value = 0.9985. Weak evidence to reject the Null Hypothesis.\n",
      " => Series is Non-Stationary.\n",
      "\n",
      "\n"
     ]
    }
   ],
   "source": [
    "# ADF Test on each column\n",
    "for name, column in df_train.iteritems():\n",
    "    adfuller_test(column, name=column.name)\n",
    "    print('\\n')"
   ]
  },
  {
   "cell_type": "code",
   "execution_count": 127,
   "id": "73ae4f92",
   "metadata": {},
   "outputs": [],
   "source": [
    "# The ADF test confirms none of the time series is stationary. Let’s difference all of them once and check again.\n",
    "# 1st difference\n",
    "df_differenced = df_train.diff().dropna()"
   ]
  },
  {
   "cell_type": "code",
   "execution_count": 128,
   "id": "3b06cde5",
   "metadata": {
    "scrolled": true
   },
   "outputs": [
    {
     "name": "stdout",
     "output_type": "stream",
     "text": [
      "    Augmented Dickey-Fuller Test on \"Total\" \n",
      "    -----------------------------------------------\n",
      " Null Hypothesis: Data has unit root. Non-Stationary.\n",
      " Significance Level    = 0.05\n",
      " Test Statistic        = -3.0097\n",
      " No. Lags Chosen       = 0\n",
      " Critical value 1%     = -3.535\n",
      " Critical value 5%     = -2.907\n",
      " Critical value 10%    = -2.591\n",
      " => P-Value = 0.034. Rejecting Null Hypothesis.\n",
      " => Series is Stationary.\n",
      "\n",
      "\n",
      "    Augmented Dickey-Fuller Test on \"Coal\" \n",
      "    -----------------------------------------------\n",
      " Null Hypothesis: Data has unit root. Non-Stationary.\n",
      " Significance Level    = 0.05\n",
      " Test Statistic        = -3.25\n",
      " No. Lags Chosen       = 0\n",
      " Critical value 1%     = -3.535\n",
      " Critical value 5%     = -2.907\n",
      " Critical value 10%    = -2.591\n",
      " => P-Value = 0.0173. Rejecting Null Hypothesis.\n",
      " => Series is Stationary.\n",
      "\n",
      "\n",
      "    Augmented Dickey-Fuller Test on \"Oil\" \n",
      "    -----------------------------------------------\n",
      " Null Hypothesis: Data has unit root. Non-Stationary.\n",
      " Significance Level    = 0.05\n",
      " Test Statistic        = -0.3539\n",
      " No. Lags Chosen       = 10\n",
      " Critical value 1%     = -3.555\n",
      " Critical value 5%     = -2.916\n",
      " Critical value 10%    = -2.596\n",
      " => P-Value = 0.9175. Weak evidence to reject the Null Hypothesis.\n",
      " => Series is Non-Stationary.\n",
      "\n",
      "\n",
      "    Augmented Dickey-Fuller Test on \"Gas\" \n",
      "    -----------------------------------------------\n",
      " Null Hypothesis: Data has unit root. Non-Stationary.\n",
      " Significance Level    = 0.05\n",
      " Test Statistic        = 0.0775\n",
      " No. Lags Chosen       = 11\n",
      " Critical value 1%     = -3.558\n",
      " Critical value 5%     = -2.917\n",
      " Critical value 10%    = -2.596\n",
      " => P-Value = 0.9645. Weak evidence to reject the Null Hypothesis.\n",
      " => Series is Non-Stationary.\n",
      "\n",
      "\n"
     ]
    }
   ],
   "source": [
    "# Re-run ADF test on each differenced series.\n",
    "# ADF Test on each column of 1st Differences Dataframe\n",
    "for name, column in df_differenced.iteritems():\n",
    "    adfuller_test(column, name=column.name)\n",
    "    print('\\n')"
   ]
  },
  {
   "cell_type": "code",
   "execution_count": 129,
   "id": "b3c616c1",
   "metadata": {},
   "outputs": [],
   "source": [
    "# Let’s difference all of them once more and check again.\n",
    "# 2nd difference\n",
    "df_differenced = df_differenced.diff().dropna()"
   ]
  },
  {
   "cell_type": "code",
   "execution_count": 130,
   "id": "edeaa1b4",
   "metadata": {},
   "outputs": [
    {
     "name": "stdout",
     "output_type": "stream",
     "text": [
      "    Augmented Dickey-Fuller Test on \"Total\" \n",
      "    -----------------------------------------------\n",
      " Null Hypothesis: Data has unit root. Non-Stationary.\n",
      " Significance Level    = 0.05\n",
      " Test Statistic        = -7.2712\n",
      " No. Lags Chosen       = 1\n",
      " Critical value 1%     = -3.539\n",
      " Critical value 5%     = -2.909\n",
      " Critical value 10%    = -2.592\n",
      " => P-Value = 0.0. Rejecting Null Hypothesis.\n",
      " => Series is Stationary.\n",
      "\n",
      "\n",
      "    Augmented Dickey-Fuller Test on \"Coal\" \n",
      "    -----------------------------------------------\n",
      " Null Hypothesis: Data has unit root. Non-Stationary.\n",
      " Significance Level    = 0.05\n",
      " Test Statistic        = -7.5277\n",
      " No. Lags Chosen       = 1\n",
      " Critical value 1%     = -3.539\n",
      " Critical value 5%     = -2.909\n",
      " Critical value 10%    = -2.592\n",
      " => P-Value = 0.0. Rejecting Null Hypothesis.\n",
      " => Series is Stationary.\n",
      "\n",
      "\n",
      "    Augmented Dickey-Fuller Test on \"Oil\" \n",
      "    -----------------------------------------------\n",
      " Null Hypothesis: Data has unit root. Non-Stationary.\n",
      " Significance Level    = 0.05\n",
      " Test Statistic        = -3.6539\n",
      " No. Lags Chosen       = 9\n",
      " Critical value 1%     = -3.555\n",
      " Critical value 5%     = -2.916\n",
      " Critical value 10%    = -2.596\n",
      " => P-Value = 0.0048. Rejecting Null Hypothesis.\n",
      " => Series is Stationary.\n",
      "\n",
      "\n",
      "    Augmented Dickey-Fuller Test on \"Gas\" \n",
      "    -----------------------------------------------\n",
      " Null Hypothesis: Data has unit root. Non-Stationary.\n",
      " Significance Level    = 0.05\n",
      " Test Statistic        = -2.8154\n",
      " No. Lags Chosen       = 11\n",
      " Critical value 1%     = -3.56\n",
      " Critical value 5%     = -2.918\n",
      " Critical value 10%    = -2.597\n",
      " => P-Value = 0.0561. Weak evidence to reject the Null Hypothesis.\n",
      " => Series is Non-Stationary.\n",
      "\n",
      "\n"
     ]
    }
   ],
   "source": [
    "# Re-run ADF test on each differenced series.\n",
    "# ADF Test on each column of 2nd Differences Dataframe\n",
    "for name, column in df_differenced.iteritems():\n",
    "    adfuller_test(column, name=column.name)\n",
    "    print('\\n')\n",
    "    ### result: all the time series became stationary ###"
   ]
  },
  {
   "cell_type": "markdown",
   "id": "b25797e6",
   "metadata": {},
   "source": [
    "How to Select the Order (P) of VAR model"
   ]
  },
  {
   "cell_type": "code",
   "execution_count": 131,
   "id": "e95a347e",
   "metadata": {
    "scrolled": true
   },
   "outputs": [
    {
     "name": "stdout",
     "output_type": "stream",
     "text": [
      "Lag Order = 1\n",
      "AIC :  25.716071082905625\n",
      "BIC :  26.390722046455522\n",
      "FPE :  147537368392.21005\n",
      "HQIC:  25.98185017580962 \n",
      "\n",
      "Lag Order = 2\n",
      "AIC :  25.28928347672417\n",
      "BIC :  26.513931891805044\n",
      "FPE :  96920280174.74574\n",
      "HQIC:  25.770943684276922 \n",
      "\n",
      "Lag Order = 3\n",
      "AIC :  24.783114809302628\n",
      "BIC :  26.567163003211416\n",
      "FPE :  59447934510.04308\n",
      "HQIC:  25.483577140191382 \n",
      "\n",
      "Lag Order = 4\n",
      "AIC :  24.49041250237605\n",
      "BIC :  26.84351779358564\n",
      "FPE :  45957416514.54343\n",
      "HQIC:  25.412616518609397 \n",
      "\n",
      "Lag Order = 5\n",
      "AIC :  24.043618871622446\n",
      "BIC :  26.975701258733388\n",
      "FPE :  31308920872.760292\n",
      "HQIC:  25.190517481623512 \n",
      "\n",
      "Lag Order = 6\n",
      "AIC :  23.47145976152831\n",
      "BIC :  26.99270966645326\n",
      "FPE :  19612919613.07865\n",
      "HQIC:  24.84601311246259 \n",
      "\n",
      "Lag Order = 7\n",
      "AIC :  22.58487961567024\n",
      "BIC :  26.705765636763076\n",
      "FPE :  9545434080.376207\n",
      "HQIC:  24.190047949906507 \n",
      "\n",
      "Lag Order = 8\n",
      "AIC :  21.821536114413124\n",
      "BIC :  26.552812734661558\n",
      "FPE :  5776018994.0436\n",
      "HQIC:  23.660271433747738 \n",
      "\n",
      "Lag Order = 9\n",
      "AIC :  21.11390279808082\n",
      "BIC :  26.466617980738\n",
      "FPE :  4295486118.132275\n",
      "HQIC:  23.189139154429725 \n",
      "\n"
     ]
    }
   ],
   "source": [
    "# To select the right order of the VAR model, we iteratively fit increasing orders of VAR model and pick the order that gives a model with least AIC.\n",
    "# Though the usual practice is to look at the AIC, you can also check other best fit comparison estimates of BIC, FPE and HQIC.\n",
    "\n",
    "model = VAR(df_differenced)\n",
    "for i in [1,2,3,4,5,6,7,8,9]:\n",
    "    result = model.fit(i)\n",
    "    print('Lag Order =', i)\n",
    "    print('AIC : ', result.aic)\n",
    "    print('BIC : ', result.bic)\n",
    "    print('FPE : ', result.fpe)\n",
    "    print('HQIC: ', result.hqic, '\\n')"
   ]
  },
  {
   "cell_type": "code",
   "execution_count": 132,
   "id": "933e118c",
   "metadata": {
    "scrolled": false
   },
   "outputs": [],
   "source": [
    "# An alternate method to choose the order(p) of the VAR models is to use the model.select_order(maxlags) method.\n",
    "#x = model.select_order(maxlags=6)\n",
    "#x.summary()"
   ]
  },
  {
   "cell_type": "markdown",
   "id": "35a9d9d2",
   "metadata": {},
   "source": [
    "We choose d = 3 as the number of lags (AIC and BIC is locally minimum at d=3)"
   ]
  },
  {
   "cell_type": "markdown",
   "id": "810cce81",
   "metadata": {},
   "source": [
    "Train the VAR Model of Selected Order(p)"
   ]
  },
  {
   "cell_type": "code",
   "execution_count": 133,
   "id": "42f69ff9",
   "metadata": {},
   "outputs": [
    {
     "data": {
      "text/plain": [
       "  Summary of Regression Results   \n",
       "==================================\n",
       "Model:                         VAR\n",
       "Method:                        OLS\n",
       "Date:           Tue, 07, Mar, 2023\n",
       "Time:                     14:23:29\n",
       "--------------------------------------------------------------------\n",
       "No. of Equations:         4.00000    BIC:                    26.5672\n",
       "Nobs:                     62.0000    HQIC:                   25.4836\n",
       "Log likelihood:          -1068.17    FPE:                5.94479e+10\n",
       "AIC:                      24.7831    Det(Omega_mle):     2.77625e+10\n",
       "--------------------------------------------------------------------\n",
       "Results for equation Total\n",
       "===========================================================================\n",
       "              coefficient       std. error           t-stat            prob\n",
       "---------------------------------------------------------------------------\n",
       "const           17.053696        19.756018            0.863           0.388\n",
       "L1.Total         0.450376         1.693224            0.266           0.790\n",
       "L1.Coal         -0.503491         1.766368           -0.285           0.776\n",
       "L1.Oil          -1.564413         1.725003           -0.907           0.364\n",
       "L1.Gas         -11.099194         4.787957           -2.318           0.020\n",
       "L2.Total         1.691065         2.237750            0.756           0.450\n",
       "L2.Coal         -1.915301         2.330427           -0.822           0.411\n",
       "L2.Oil          -2.150543         2.647841           -0.812           0.417\n",
       "L2.Gas         -12.961056         5.905365           -2.195           0.028\n",
       "L3.Total        -2.163920         1.933831           -1.119           0.263\n",
       "L3.Coal          2.459623         2.017207            1.219           0.223\n",
       "L3.Oil           2.143878         2.173078            0.987           0.324\n",
       "L3.Gas          -7.133474         5.745353           -1.242           0.214\n",
       "===========================================================================\n",
       "\n",
       "Results for equation Coal\n",
       "===========================================================================\n",
       "              coefficient       std. error           t-stat            prob\n",
       "---------------------------------------------------------------------------\n",
       "const           13.303990        18.428384            0.722           0.470\n",
       "L1.Total         0.669646         1.579436            0.424           0.672\n",
       "L1.Coal         -0.828752         1.647665           -0.503           0.615\n",
       "L1.Oil          -1.378194         1.609080           -0.857           0.392\n",
       "L1.Gas          -8.725142         4.466200           -1.954           0.051\n",
       "L2.Total         1.980003         2.087370            0.949           0.343\n",
       "L2.Coal         -2.258414         2.173819           -1.039           0.299\n",
       "L2.Oil          -2.241092         2.469902           -0.907           0.364\n",
       "L2.Gas         -11.246989         5.508516           -2.042           0.041\n",
       "L3.Total        -1.397625         1.803874           -0.775           0.438\n",
       "L3.Coal          1.639833         1.881648            0.871           0.383\n",
       "L3.Oil           1.515632         2.027044            0.748           0.455\n",
       "L3.Gas          -9.874664         5.359257           -1.843           0.065\n",
       "===========================================================================\n",
       "\n",
       "Results for equation Oil\n",
       "===========================================================================\n",
       "              coefficient       std. error           t-stat            prob\n",
       "---------------------------------------------------------------------------\n",
       "const            2.777993         2.565752            1.083           0.279\n",
       "L1.Total         0.324235         0.219902            1.474           0.140\n",
       "L1.Coal         -0.265257         0.229402           -1.156           0.248\n",
       "L1.Oil          -1.099932         0.224029           -4.910           0.000\n",
       "L1.Gas          -1.460922         0.621821           -2.349           0.019\n",
       "L2.Total         0.085784         0.290621            0.295           0.768\n",
       "L2.Coal         -0.047804         0.302657           -0.158           0.874\n",
       "L2.Oil          -0.422453         0.343880           -1.228           0.219\n",
       "L2.Gas          -0.830459         0.766941           -1.083           0.279\n",
       "L3.Total        -0.684445         0.251150           -2.725           0.006\n",
       "L3.Coal          0.686860         0.261979            2.622           0.009\n",
       "L3.Oil           0.352527         0.282222            1.249           0.212\n",
       "L3.Gas           1.789103         0.746160            2.398           0.016\n",
       "===========================================================================\n",
       "\n",
       "Results for equation Gas\n",
       "===========================================================================\n",
       "              coefficient       std. error           t-stat            prob\n",
       "---------------------------------------------------------------------------\n",
       "const            0.508347         0.795933            0.639           0.523\n",
       "L1.Total         0.084773         0.068217            1.243           0.214\n",
       "L1.Coal         -0.081882         0.071164           -1.151           0.250\n",
       "L1.Oil           0.048286         0.069497            0.695           0.487\n",
       "L1.Gas          -0.765397         0.192898           -3.968           0.000\n",
       "L2.Total         0.029701         0.090155            0.329           0.742\n",
       "L2.Coal         -0.027618         0.093888           -0.294           0.769\n",
       "L2.Oil           0.011827         0.106677            0.111           0.912\n",
       "L2.Gas          -0.297107         0.237916           -1.249           0.212\n",
       "L3.Total         0.063804         0.077910            0.819           0.413\n",
       "L3.Coal         -0.056714         0.081269           -0.698           0.485\n",
       "L3.Oil          -0.056297         0.087549           -0.643           0.520\n",
       "L3.Gas           0.419004         0.231469            1.810           0.070\n",
       "===========================================================================\n",
       "\n",
       "Correlation matrix of residuals\n",
       "            Total      Coal       Oil       Gas\n",
       "Total    1.000000  0.987120 -0.004201  0.401321\n",
       "Coal     0.987120  1.000000 -0.127413  0.331204\n",
       "Oil     -0.004201 -0.127413  1.000000  0.052977\n",
       "Gas      0.401321  0.331204  0.052977  1.000000\n",
       "\n"
      ]
     },
     "execution_count": 133,
     "metadata": {},
     "output_type": "execute_result"
    }
   ],
   "source": [
    "p=3\n",
    "model_fitted = model.fit(p)\n",
    "model_fitted.summary()"
   ]
  },
  {
   "cell_type": "markdown",
   "id": "8c58acb4",
   "metadata": {},
   "source": [
    "Check for Serial Correlation of Residuals (Errors) using Durbin Watson Statistic. Results close to 2 is alright."
   ]
  },
  {
   "cell_type": "code",
   "execution_count": 134,
   "id": "d65387cb",
   "metadata": {},
   "outputs": [
    {
     "name": "stdout",
     "output_type": "stream",
     "text": [
      "Total  : 1.93\n",
      "Coal   : 1.93\n",
      "Oil    : 1.73\n",
      "Gas    : 1.95\n"
     ]
    }
   ],
   "source": [
    "from statsmodels.stats.stattools import durbin_watson\n",
    "\n",
    "def adjust(val, length= 6): return str(val).ljust(length)\n",
    "out = durbin_watson(model_fitted.resid)\n",
    "\n",
    "for col, val in zip(df.columns, out):\n",
    "    print(adjust(col), ':', round(val, 2))"
   ]
  },
  {
   "cell_type": "markdown",
   "id": "cda4d416",
   "metadata": {},
   "source": [
    "How to Forecast VAR model using statsmodels"
   ]
  },
  {
   "cell_type": "code",
   "execution_count": 135,
   "id": "5d722d89",
   "metadata": {},
   "outputs": [
    {
     "data": {
      "text/html": [
       "<div>\n",
       "<style scoped>\n",
       "    .dataframe tbody tr th:only-of-type {\n",
       "        vertical-align: middle;\n",
       "    }\n",
       "\n",
       "    .dataframe tbody tr th {\n",
       "        vertical-align: top;\n",
       "    }\n",
       "\n",
       "    .dataframe thead th {\n",
       "        text-align: right;\n",
       "    }\n",
       "</style>\n",
       "<table border=\"1\" class=\"dataframe\">\n",
       "  <thead>\n",
       "    <tr style=\"text-align: right;\">\n",
       "      <th></th>\n",
       "      <th>Total</th>\n",
       "      <th>Coal</th>\n",
       "      <th>Oil</th>\n",
       "      <th>Gas</th>\n",
       "    </tr>\n",
       "    <tr>\n",
       "      <th>Year</th>\n",
       "      <th></th>\n",
       "      <th></th>\n",
       "      <th></th>\n",
       "      <th></th>\n",
       "    </tr>\n",
       "  </thead>\n",
       "  <tbody>\n",
       "    <tr>\n",
       "      <th>1952</th>\n",
       "      <td>2.604187</td>\n",
       "      <td>2.791968</td>\n",
       "      <td>0.080608</td>\n",
       "      <td>0.014656</td>\n",
       "    </tr>\n",
       "    <tr>\n",
       "      <th>1953</th>\n",
       "      <td>-20.100556</td>\n",
       "      <td>-20.518294</td>\n",
       "      <td>0.172156</td>\n",
       "      <td>-0.000001</td>\n",
       "    </tr>\n",
       "    <tr>\n",
       "      <th>1954</th>\n",
       "      <td>21.310970</td>\n",
       "      <td>20.562285</td>\n",
       "      <td>0.861068</td>\n",
       "      <td>0.000001</td>\n",
       "    </tr>\n",
       "    <tr>\n",
       "      <th>1955</th>\n",
       "      <td>2.549524</td>\n",
       "      <td>2.249544</td>\n",
       "      <td>0.644964</td>\n",
       "      <td>-0.003663</td>\n",
       "    </tr>\n",
       "    <tr>\n",
       "      <th>1956</th>\n",
       "      <td>-4.341528</td>\n",
       "      <td>-5.777999</td>\n",
       "      <td>0.597156</td>\n",
       "      <td>0.010991</td>\n",
       "    </tr>\n",
       "    <tr>\n",
       "      <th>...</th>\n",
       "      <td>...</td>\n",
       "      <td>...</td>\n",
       "      <td>...</td>\n",
       "      <td>...</td>\n",
       "    </tr>\n",
       "    <tr>\n",
       "      <th>2012</th>\n",
       "      <td>-661.177155</td>\n",
       "      <td>-585.972528</td>\n",
       "      <td>21.566304</td>\n",
       "      <td>-14.795232</td>\n",
       "    </tr>\n",
       "    <tr>\n",
       "      <th>2013</th>\n",
       "      <td>-73.699229</td>\n",
       "      <td>-126.372215</td>\n",
       "      <td>5.056783</td>\n",
       "      <td>10.918840</td>\n",
       "    </tr>\n",
       "    <tr>\n",
       "      <th>2014</th>\n",
       "      <td>-134.713675</td>\n",
       "      <td>-97.035666</td>\n",
       "      <td>-36.926718</td>\n",
       "      <td>7.565920</td>\n",
       "    </tr>\n",
       "    <tr>\n",
       "      <th>2015</th>\n",
       "      <td>-174.029915</td>\n",
       "      <td>-89.700155</td>\n",
       "      <td>52.216630</td>\n",
       "      <td>-40.263432</td>\n",
       "    </tr>\n",
       "    <tr>\n",
       "      <th>2016</th>\n",
       "      <td>29.792362</td>\n",
       "      <td>-37.487257</td>\n",
       "      <td>-44.167381</td>\n",
       "      <td>31.843375</td>\n",
       "    </tr>\n",
       "  </tbody>\n",
       "</table>\n",
       "<p>65 rows × 4 columns</p>\n",
       "</div>"
      ],
      "text/plain": [
       "           Total        Coal        Oil        Gas\n",
       "Year                                              \n",
       "1952    2.604187    2.791968   0.080608   0.014656\n",
       "1953  -20.100556  -20.518294   0.172156  -0.000001\n",
       "1954   21.310970   20.562285   0.861068   0.000001\n",
       "1955    2.549524    2.249544   0.644964  -0.003663\n",
       "1956   -4.341528   -5.777999   0.597156   0.010991\n",
       "...          ...         ...        ...        ...\n",
       "2012 -661.177155 -585.972528  21.566304 -14.795232\n",
       "2013  -73.699229 -126.372215   5.056783  10.918840\n",
       "2014 -134.713675  -97.035666 -36.926718   7.565920\n",
       "2015 -174.029915  -89.700155  52.216630 -40.263432\n",
       "2016   29.792362  -37.487257 -44.167381  31.843375\n",
       "\n",
       "[65 rows x 4 columns]"
      ]
     },
     "execution_count": 135,
     "metadata": {},
     "output_type": "execute_result"
    }
   ],
   "source": [
    "df_differenced"
   ]
  },
  {
   "cell_type": "code",
   "execution_count": 136,
   "id": "a67dd70d",
   "metadata": {
    "scrolled": false
   },
   "outputs": [
    {
     "name": "stdout",
     "output_type": "stream",
     "text": [
      "3\n"
     ]
    },
    {
     "data": {
      "text/plain": [
       "array([[-134.713675,  -97.035666,  -36.926718,    7.56592 ],\n",
       "       [-174.029915,  -89.700155,   52.21663 ,  -40.263432],\n",
       "       [  29.792362,  -37.487257,  -44.167381,   31.843375]])"
      ]
     },
     "execution_count": 136,
     "metadata": {},
     "output_type": "execute_result"
    }
   ],
   "source": [
    "# In order to forecast, the VAR model expects up to the lag order number of observations from the past data.\n",
    "# Get the lag order\n",
    "lag_order = model_fitted.k_ar\n",
    "print(lag_order)  \n",
    "\n",
    "# Input data for forecasting\n",
    "forecast_input = df_differenced.values[-lag_order:]\n",
    "forecast_input # the output is the values of total, coal, oil and gas for 2015 and 2016 (this depends on the train test split and lag_order)"
   ]
  },
  {
   "cell_type": "code",
   "execution_count": 137,
   "id": "84380c81",
   "metadata": {
    "scrolled": true
   },
   "outputs": [
    {
     "data": {
      "text/html": [
       "<div>\n",
       "<style scoped>\n",
       "    .dataframe tbody tr th:only-of-type {\n",
       "        vertical-align: middle;\n",
       "    }\n",
       "\n",
       "    .dataframe tbody tr th {\n",
       "        vertical-align: top;\n",
       "    }\n",
       "\n",
       "    .dataframe thead th {\n",
       "        text-align: right;\n",
       "    }\n",
       "</style>\n",
       "<table border=\"1\" class=\"dataframe\">\n",
       "  <thead>\n",
       "    <tr style=\"text-align: right;\">\n",
       "      <th></th>\n",
       "      <th>Total_2d</th>\n",
       "      <th>Coal_2d</th>\n",
       "      <th>Oil_2d</th>\n",
       "      <th>Gas_2d</th>\n",
       "    </tr>\n",
       "    <tr>\n",
       "      <th>Year</th>\n",
       "      <th></th>\n",
       "      <th></th>\n",
       "      <th></th>\n",
       "      <th></th>\n",
       "    </tr>\n",
       "  </thead>\n",
       "  <tbody>\n",
       "    <tr>\n",
       "      <th>2017</th>\n",
       "      <td>-28.223618</td>\n",
       "      <td>-60.345653</td>\n",
       "      <td>51.251770</td>\n",
       "      <td>-8.356520</td>\n",
       "    </tr>\n",
       "    <tr>\n",
       "      <th>2018</th>\n",
       "      <td>406.860464</td>\n",
       "      <td>504.048808</td>\n",
       "      <td>-34.094677</td>\n",
       "      <td>-21.961941</td>\n",
       "    </tr>\n",
       "    <tr>\n",
       "      <th>2019</th>\n",
       "      <td>-168.966113</td>\n",
       "      <td>-318.332270</td>\n",
       "      <td>51.593899</td>\n",
       "      <td>32.663232</td>\n",
       "    </tr>\n",
       "    <tr>\n",
       "      <th>2020</th>\n",
       "      <td>-179.287772</td>\n",
       "      <td>-100.787884</td>\n",
       "      <td>-47.601432</td>\n",
       "      <td>-10.738430</td>\n",
       "    </tr>\n",
       "    <tr>\n",
       "      <th>2021</th>\n",
       "      <td>413.299991</td>\n",
       "      <td>460.563788</td>\n",
       "      <td>7.654995</td>\n",
       "      <td>-15.748546</td>\n",
       "    </tr>\n",
       "  </tbody>\n",
       "</table>\n",
       "</div>"
      ],
      "text/plain": [
       "        Total_2d     Coal_2d     Oil_2d     Gas_2d\n",
       "Year                                              \n",
       "2017  -28.223618  -60.345653  51.251770  -8.356520\n",
       "2018  406.860464  504.048808 -34.094677 -21.961941\n",
       "2019 -168.966113 -318.332270  51.593899  32.663232\n",
       "2020 -179.287772 -100.787884 -47.601432 -10.738430\n",
       "2021  413.299991  460.563788   7.654995 -15.748546"
      ]
     },
     "execution_count": 137,
     "metadata": {},
     "output_type": "execute_result"
    }
   ],
   "source": [
    "# Forecast\n",
    "fc = model_fitted.forecast(y=forecast_input, steps=nobs) # nobs is from test train split ratio\n",
    "df_forecast = pd.DataFrame(fc, index=df.index[-nobs:], columns=df.columns + '_2d')\n",
    "df_forecast"
   ]
  },
  {
   "cell_type": "markdown",
   "id": "0f77dfb2",
   "metadata": {},
   "source": [
    "Invert the transformation to get the real forecast"
   ]
  },
  {
   "cell_type": "code",
   "execution_count": 138,
   "id": "55f36737",
   "metadata": {},
   "outputs": [],
   "source": [
    "def invert_transformation(df_train, df_forecast, second_diff=False):\n",
    "    \"\"\"Revert back the differencing to get the forecast to original scale.\"\"\"\n",
    "    df_fc = df_forecast.copy()\n",
    "    columns = df_train.columns\n",
    "    for col in columns:        \n",
    "        # Roll back 2nd Diff\n",
    "        if second_diff:\n",
    "            df_fc[str(col)+'_1d'] = (df_train[col].iloc[-1]-df_train[col].iloc[-2]) + df_fc[str(col)+'_2d'].cumsum()\n",
    "        # Roll back 1st Diff\n",
    "        df_fc[str(col)+'_forecast'] = df_train[col].iloc[-1] + df_fc[str(col)+'_1d'].cumsum()\n",
    "    return df_fc"
   ]
  },
  {
   "cell_type": "code",
   "execution_count": 139,
   "id": "64c9e178",
   "metadata": {
    "scrolled": true
   },
   "outputs": [
    {
     "data": {
      "text/html": [
       "<div>\n",
       "<style scoped>\n",
       "    .dataframe tbody tr th:only-of-type {\n",
       "        vertical-align: middle;\n",
       "    }\n",
       "\n",
       "    .dataframe tbody tr th {\n",
       "        vertical-align: top;\n",
       "    }\n",
       "\n",
       "    .dataframe thead th {\n",
       "        text-align: right;\n",
       "    }\n",
       "</style>\n",
       "<table border=\"1\" class=\"dataframe\">\n",
       "  <thead>\n",
       "    <tr style=\"text-align: right;\">\n",
       "      <th></th>\n",
       "      <th>Total_forecast</th>\n",
       "      <th>Coal_forecast</th>\n",
       "      <th>Oil_forecast</th>\n",
       "      <th>Gas_forecast</th>\n",
       "    </tr>\n",
       "    <tr>\n",
       "      <th>Year</th>\n",
       "      <th></th>\n",
       "      <th></th>\n",
       "      <th></th>\n",
       "      <th></th>\n",
       "    </tr>\n",
       "  </thead>\n",
       "  <tbody>\n",
       "    <tr>\n",
       "      <th>2017</th>\n",
       "      <td>9634.831554</td>\n",
       "      <td>6815.482941</td>\n",
       "      <td>1438.121861</td>\n",
       "      <td>455.043750</td>\n",
       "    </tr>\n",
       "    <tr>\n",
       "      <th>2018</th>\n",
       "      <td>9911.543827</td>\n",
       "      <td>7063.610979</td>\n",
       "      <td>1484.311468</td>\n",
       "      <td>466.399319</td>\n",
       "    </tr>\n",
       "    <tr>\n",
       "      <th>2019</th>\n",
       "      <td>10019.289987</td>\n",
       "      <td>6993.406747</td>\n",
       "      <td>1582.094974</td>\n",
       "      <td>510.418120</td>\n",
       "    </tr>\n",
       "    <tr>\n",
       "      <th>2020</th>\n",
       "      <td>9947.748375</td>\n",
       "      <td>6822.414631</td>\n",
       "      <td>1632.277049</td>\n",
       "      <td>543.698492</td>\n",
       "    </tr>\n",
       "    <tr>\n",
       "      <th>2021</th>\n",
       "      <td>10289.506754</td>\n",
       "      <td>7111.986304</td>\n",
       "      <td>1690.114118</td>\n",
       "      <td>561.230318</td>\n",
       "    </tr>\n",
       "  </tbody>\n",
       "</table>\n",
       "</div>"
      ],
      "text/plain": [
       "      Total_forecast  Coal_forecast  Oil_forecast  Gas_forecast\n",
       "Year                                                           \n",
       "2017     9634.831554    6815.482941   1438.121861    455.043750\n",
       "2018     9911.543827    7063.610979   1484.311468    466.399319\n",
       "2019    10019.289987    6993.406747   1582.094974    510.418120\n",
       "2020     9947.748375    6822.414631   1632.277049    543.698492\n",
       "2021    10289.506754    7111.986304   1690.114118    561.230318"
      ]
     },
     "execution_count": 139,
     "metadata": {},
     "output_type": "execute_result"
    }
   ],
   "source": [
    "df_results = invert_transformation(df_train, df_forecast, second_diff=True)        \n",
    "df_results.loc[:, ['Total_forecast', 'Coal_forecast', 'Oil_forecast','Gas_forecast']]"
   ]
  },
  {
   "cell_type": "code",
   "execution_count": 140,
   "id": "d4436fb8",
   "metadata": {
    "scrolled": true
   },
   "outputs": [
    {
     "data": {
      "text/html": [
       "<div>\n",
       "<style scoped>\n",
       "    .dataframe tbody tr th:only-of-type {\n",
       "        vertical-align: middle;\n",
       "    }\n",
       "\n",
       "    .dataframe tbody tr th {\n",
       "        vertical-align: top;\n",
       "    }\n",
       "\n",
       "    .dataframe thead th {\n",
       "        text-align: right;\n",
       "    }\n",
       "</style>\n",
       "<table border=\"1\" class=\"dataframe\">\n",
       "  <thead>\n",
       "    <tr style=\"text-align: right;\">\n",
       "      <th></th>\n",
       "      <th>Total</th>\n",
       "      <th>Coal</th>\n",
       "      <th>Oil</th>\n",
       "      <th>Gas</th>\n",
       "    </tr>\n",
       "    <tr>\n",
       "      <th>Year</th>\n",
       "      <th></th>\n",
       "      <th></th>\n",
       "      <th></th>\n",
       "      <th></th>\n",
       "    </tr>\n",
       "  </thead>\n",
       "  <tbody>\n",
       "    <tr>\n",
       "      <th>2017</th>\n",
       "      <td>10011.107108</td>\n",
       "      <td>7163.317856</td>\n",
       "      <td>1430.586816</td>\n",
       "      <td>486.359360</td>\n",
       "    </tr>\n",
       "    <tr>\n",
       "      <th>2018</th>\n",
       "      <td>10353.876989</td>\n",
       "      <td>7316.399776</td>\n",
       "      <td>1500.473952</td>\n",
       "      <td>575.368912</td>\n",
       "    </tr>\n",
       "    <tr>\n",
       "      <th>2019</th>\n",
       "      <td>10740.996069</td>\n",
       "      <td>7543.157408</td>\n",
       "      <td>1559.728160</td>\n",
       "      <td>630.171360</td>\n",
       "    </tr>\n",
       "    <tr>\n",
       "      <th>2020</th>\n",
       "      <td>10956.213369</td>\n",
       "      <td>7605.716883</td>\n",
       "      <td>1627.725238</td>\n",
       "      <td>687.880944</td>\n",
       "    </tr>\n",
       "    <tr>\n",
       "      <th>2021</th>\n",
       "      <td>11472.369171</td>\n",
       "      <td>7955.985419</td>\n",
       "      <td>1713.339980</td>\n",
       "      <td>773.866062</td>\n",
       "    </tr>\n",
       "  </tbody>\n",
       "</table>\n",
       "</div>"
      ],
      "text/plain": [
       "             Total         Coal          Oil         Gas\n",
       "Year                                                    \n",
       "2017  10011.107108  7163.317856  1430.586816  486.359360\n",
       "2018  10353.876989  7316.399776  1500.473952  575.368912\n",
       "2019  10740.996069  7543.157408  1559.728160  630.171360\n",
       "2020  10956.213369  7605.716883  1627.725238  687.880944\n",
       "2021  11472.369171  7955.985419  1713.339980  773.866062"
      ]
     },
     "execution_count": 140,
     "metadata": {},
     "output_type": "execute_result"
    }
   ],
   "source": [
    "df_test"
   ]
  },
  {
   "cell_type": "markdown",
   "id": "44d5f38d",
   "metadata": {},
   "source": [
    "Plot of Forecast vs Actuals"
   ]
  },
  {
   "cell_type": "code",
   "execution_count": 141,
   "id": "1e3ab499",
   "metadata": {
    "scrolled": true
   },
   "outputs": [
    {
     "data": {
      "image/png": "[encoded data removed]",
      "text/plain": [
       "<Figure size 1500x1500 with 4 Axes>"
      ]
     },
     "metadata": {},
     "output_type": "display_data"
    }
   ],
   "source": [
    "fig, axes = plt.subplots(nrows=int(len(df.columns)/2), ncols=2, dpi=150, figsize=(10,10))\n",
    "for i, (col,ax) in enumerate(zip(df.columns, axes.flatten())):\n",
    "    df_results[col+'_forecast'].plot(legend=True, ax=ax).autoscale(axis='x',tight=True)\n",
    "    df_test[col][-nobs:].plot(legend=True, ax=ax);\n",
    "    ax.set_title(col + \": Forecast vs Actuals\")\n",
    "    ax.xaxis.set_ticks_position('none')\n",
    "    ax.yaxis.set_ticks_position('none')\n",
    "    ax.spines[\"top\"].set_alpha(0)\n",
    "    ax.tick_params(labelsize=6)\n",
    "\n",
    "plt.tight_layout();"
   ]
  },
  {
   "cell_type": "markdown",
   "id": "385d1c19",
   "metadata": {},
   "source": [
    "Evaluate the Forecasts"
   ]
  },
  {
   "cell_type": "code",
   "execution_count": 142,
   "id": "929c7a6c",
   "metadata": {
    "scrolled": true
   },
   "outputs": [
    {
     "name": "stdout",
     "output_type": "stream",
     "text": [
      "Forecast Accuracy of: Total\n",
      "mape   :  0.0685\n",
      "me     :  -746.3284\n",
      "mae    :  746.3284\n",
      "mpe    :  -0.0685\n",
      "rmse   :  809.2301\n",
      "corr   :  0.9394\n",
      "minmax :  0.0685\n",
      "\n",
      "Forecast Accuracy of: Coal\n",
      "mape   :  0.073\n",
      "me     :  -555.5351\n",
      "mae    :  555.5351\n",
      "mpe    :  -0.073\n",
      "rmse   :  602.1651\n",
      "corr   :  0.5178\n",
      "minmax :  0.073\n",
      "\n",
      "Forecast Accuracy of: Oil\n",
      "mape   :  0.0093\n",
      "me     :  -0.9869\n",
      "mae    :  14.7684\n",
      "mpe    :  -0.0004\n",
      "rmse   :  16.6038\n",
      "corr   :  0.9865\n",
      "minmax :  0.0093\n",
      "\n",
      "Forecast Accuracy of: Gas\n",
      "mape   :  0.1856\n",
      "me     :  -123.3713\n",
      "mae    :  123.3713\n",
      "mpe    :  -0.1856\n",
      "rmse   :  136.5272\n",
      "corr   :  0.9658\n",
      "minmax :  0.1856\n"
     ]
    }
   ],
   "source": [
    "# To evaluate the forecasts, let’s compute a comprehensive set of metrics, namely, the MAPE, ME, MAE, MPE, RMSE, corr and minmax.\n",
    "from statsmodels.tsa.stattools import acf\n",
    "def forecast_accuracy(forecast, actual):\n",
    "    mape = np.mean(np.abs(forecast - actual)/np.abs(actual))  # MAPE\n",
    "    me = np.mean(forecast - actual)             # ME\n",
    "    mae = np.mean(np.abs(forecast - actual))    # MAE\n",
    "    mpe = np.mean((forecast - actual)/actual)   # MPE\n",
    "    rmse = np.mean((forecast - actual)**2)**.5  # RMSE\n",
    "    corr = np.corrcoef(forecast, actual)[0,1]   # corr\n",
    "    mins = np.amin(np.hstack([forecast[:,None], \n",
    "                              actual[:,None]]), axis=1)\n",
    "    maxs = np.amax(np.hstack([forecast[:,None], \n",
    "                              actual[:,None]]), axis=1)\n",
    "    minmax = 1 - np.mean(mins/maxs)             # minmax\n",
    "    return({'mape':mape, 'me':me, 'mae': mae, \n",
    "            'mpe': mpe, 'rmse':rmse, 'corr':corr, 'minmax':minmax})\n",
    "\n",
    "print('Forecast Accuracy of: Total')\n",
    "accuracy_prod = forecast_accuracy(df_results['Total_forecast'].values, df_test['Total'])\n",
    "for k, v in accuracy_prod.items():\n",
    "    print(adjust(k), ': ', round(v,4))\n",
    "\n",
    "print('\\nForecast Accuracy of: Coal')\n",
    "accuracy_prod = forecast_accuracy(df_results['Coal_forecast'].values, df_test['Coal'])\n",
    "for k, v in accuracy_prod.items():\n",
    "    print(adjust(k), ': ', round(v,4))\n",
    "\n",
    "print('\\nForecast Accuracy of: Oil')\n",
    "accuracy_prod = forecast_accuracy(df_results['Oil_forecast'].values, df_test['Oil'])\n",
    "for k, v in accuracy_prod.items():\n",
    "    print(adjust(k), ': ', round(v,4))\n",
    "\n",
    "print('\\nForecast Accuracy of: Gas')\n",
    "accuracy_prod = forecast_accuracy(df_results['Gas_forecast'].values, df_test['Gas'])\n",
    "for k, v in accuracy_prod.items():\n",
    "    print(adjust(k), ': ', round(v,4))\n"
   ]
  },
  {
   "cell_type": "markdown",
   "id": "e70eb5b6",
   "metadata": {},
   "source": [
    "Forecasting the future: for 2 years (since p=2)"
   ]
  },
  {
   "cell_type": "code",
   "execution_count": 143,
   "id": "b02b3e74",
   "metadata": {},
   "outputs": [],
   "source": [
    "df_differenced_all = df.diff().dropna()"
   ]
  },
  {
   "cell_type": "code",
   "execution_count": 144,
   "id": "aa5beec3",
   "metadata": {},
   "outputs": [
    {
     "data": {
      "text/html": [
       "<div>\n",
       "<style scoped>\n",
       "    .dataframe tbody tr th:only-of-type {\n",
       "        vertical-align: middle;\n",
       "    }\n",
       "\n",
       "    .dataframe tbody tr th {\n",
       "        vertical-align: top;\n",
       "    }\n",
       "\n",
       "    .dataframe thead th {\n",
       "        text-align: right;\n",
       "    }\n",
       "</style>\n",
       "<table border=\"1\" class=\"dataframe\">\n",
       "  <thead>\n",
       "    <tr style=\"text-align: right;\">\n",
       "      <th></th>\n",
       "      <th>Total</th>\n",
       "      <th>Coal</th>\n",
       "      <th>Oil</th>\n",
       "      <th>Gas</th>\n",
       "    </tr>\n",
       "    <tr>\n",
       "      <th>Year</th>\n",
       "      <th></th>\n",
       "      <th></th>\n",
       "      <th></th>\n",
       "      <th></th>\n",
       "    </tr>\n",
       "  </thead>\n",
       "  <tbody>\n",
       "    <tr>\n",
       "      <th>1951</th>\n",
       "      <td>23.279926</td>\n",
       "      <td>22.518944</td>\n",
       "      <td>0.318768</td>\n",
       "      <td>-0.007328</td>\n",
       "    </tr>\n",
       "    <tr>\n",
       "      <th>1952</th>\n",
       "      <td>25.884113</td>\n",
       "      <td>25.310912</td>\n",
       "      <td>0.399376</td>\n",
       "      <td>0.007328</td>\n",
       "    </tr>\n",
       "    <tr>\n",
       "      <th>1953</th>\n",
       "      <td>5.783557</td>\n",
       "      <td>4.792618</td>\n",
       "      <td>0.571532</td>\n",
       "      <td>0.007327</td>\n",
       "    </tr>\n",
       "    <tr>\n",
       "      <th>1954</th>\n",
       "      <td>27.094527</td>\n",
       "      <td>25.354903</td>\n",
       "      <td>1.432600</td>\n",
       "      <td>0.007328</td>\n",
       "    </tr>\n",
       "    <tr>\n",
       "      <th>1955</th>\n",
       "      <td>29.644051</td>\n",
       "      <td>27.604447</td>\n",
       "      <td>2.077564</td>\n",
       "      <td>0.003665</td>\n",
       "    </tr>\n",
       "    <tr>\n",
       "      <th>...</th>\n",
       "      <td>...</td>\n",
       "      <td>...</td>\n",
       "      <td>...</td>\n",
       "      <td>...</td>\n",
       "    </tr>\n",
       "    <tr>\n",
       "      <th>2017</th>\n",
       "      <td>246.127363</td>\n",
       "      <td>91.914145</td>\n",
       "      <td>72.749239</td>\n",
       "      <td>64.633121</td>\n",
       "    </tr>\n",
       "    <tr>\n",
       "      <th>2018</th>\n",
       "      <td>342.769881</td>\n",
       "      <td>153.081920</td>\n",
       "      <td>69.887136</td>\n",
       "      <td>89.009552</td>\n",
       "    </tr>\n",
       "    <tr>\n",
       "      <th>2019</th>\n",
       "      <td>387.119080</td>\n",
       "      <td>226.757632</td>\n",
       "      <td>59.254208</td>\n",
       "      <td>54.802448</td>\n",
       "    </tr>\n",
       "    <tr>\n",
       "      <th>2020</th>\n",
       "      <td>215.217300</td>\n",
       "      <td>62.559475</td>\n",
       "      <td>67.997078</td>\n",
       "      <td>57.709584</td>\n",
       "    </tr>\n",
       "    <tr>\n",
       "      <th>2021</th>\n",
       "      <td>516.155802</td>\n",
       "      <td>350.268536</td>\n",
       "      <td>85.614742</td>\n",
       "      <td>85.985118</td>\n",
       "    </tr>\n",
       "  </tbody>\n",
       "</table>\n",
       "<p>71 rows × 4 columns</p>\n",
       "</div>"
      ],
      "text/plain": [
       "           Total        Coal        Oil        Gas\n",
       "Year                                              \n",
       "1951   23.279926   22.518944   0.318768  -0.007328\n",
       "1952   25.884113   25.310912   0.399376   0.007328\n",
       "1953    5.783557    4.792618   0.571532   0.007327\n",
       "1954   27.094527   25.354903   1.432600   0.007328\n",
       "1955   29.644051   27.604447   2.077564   0.003665\n",
       "...          ...         ...        ...        ...\n",
       "2017  246.127363   91.914145  72.749239  64.633121\n",
       "2018  342.769881  153.081920  69.887136  89.009552\n",
       "2019  387.119080  226.757632  59.254208  54.802448\n",
       "2020  215.217300   62.559475  67.997078  57.709584\n",
       "2021  516.155802  350.268536  85.614742  85.985118\n",
       "\n",
       "[71 rows x 4 columns]"
      ]
     },
     "execution_count": 144,
     "metadata": {},
     "output_type": "execute_result"
    }
   ],
   "source": [
    "df_differenced_all"
   ]
  },
  {
   "cell_type": "code",
   "execution_count": 145,
   "id": "8a867253",
   "metadata": {
    "scrolled": true
   },
   "outputs": [
    {
     "data": {
      "text/plain": [
       "array([[387.11908 , 226.757632,  59.254208,  54.802448],\n",
       "       [215.2173  ,  62.559475,  67.997078,  57.709584],\n",
       "       [516.155802, 350.268536,  85.614742,  85.985118]])"
      ]
     },
     "execution_count": 145,
     "metadata": {},
     "output_type": "execute_result"
    }
   ],
   "source": [
    "forecast_input_all = df_differenced_all.values[-lag_order:]\n",
    "forecast_input_all # the output is the values of total, coal, oil and gas for 2015 and 2016 (this depends on the train test split and lag_order)"
   ]
  },
  {
   "cell_type": "code",
   "execution_count": 146,
   "id": "25140568",
   "metadata": {},
   "outputs": [
    {
     "data": {
      "text/plain": [
       "  Summary of Regression Results   \n",
       "==================================\n",
       "Model:                         VAR\n",
       "Method:                        OLS\n",
       "Date:           Tue, 07, Mar, 2023\n",
       "Time:                     14:23:30\n",
       "--------------------------------------------------------------------\n",
       "No. of Equations:         4.00000    BIC:                    27.6675\n",
       "Nobs:                     68.0000    HQIC:                   26.6428\n",
       "Log likelihood:          -1216.94    FPE:                1.93652e+11\n",
       "AIC:                      25.9703    Det(Omega_mle):     9.61872e+10\n",
       "--------------------------------------------------------------------\n",
       "Results for equation Total\n",
       "===========================================================================\n",
       "              coefficient       std. error           t-stat            prob\n",
       "---------------------------------------------------------------------------\n",
       "const           23.291581        30.464328            0.765           0.445\n",
       "L1.Total         1.057925         1.658785            0.638           0.524\n",
       "L1.Coal         -0.334773         1.757779           -0.190           0.849\n",
       "L1.Oil          -0.094432         1.852209           -0.051           0.959\n",
       "L1.Gas          -0.587146         3.639904           -0.161           0.872\n",
       "L2.Total         1.486486         1.755253            0.847           0.397\n",
       "L2.Coal         -1.633364         1.835843           -0.890           0.374\n",
       "L2.Oil          -0.294038         2.040126           -0.144           0.885\n",
       "L2.Gas          -7.312768         4.063106           -1.800           0.072\n",
       "L3.Total        -2.436057         1.620718           -1.503           0.133\n",
       "L3.Coal          2.533043         1.716633            1.476           0.140\n",
       "L3.Oil           3.149321         1.900111            1.657           0.097\n",
       "L3.Gas           8.240291         3.634357            2.267           0.023\n",
       "===========================================================================\n",
       "\n",
       "Results for equation Coal\n",
       "===========================================================================\n",
       "              coefficient       std. error           t-stat            prob\n",
       "---------------------------------------------------------------------------\n",
       "const           15.844105        27.694195            0.572           0.567\n",
       "L1.Total         0.765552         1.507951            0.508           0.612\n",
       "L1.Coal         -0.160512         1.597944           -0.100           0.920\n",
       "L1.Oil          -0.343042         1.683787           -0.204           0.839\n",
       "L1.Gas          -0.666640         3.308926           -0.201           0.840\n",
       "L2.Total         1.738224         1.595648            1.089           0.276\n",
       "L2.Coal         -1.855779         1.668909           -1.112           0.266\n",
       "L2.Oil          -0.567728         1.854617           -0.306           0.760\n",
       "L2.Gas          -7.176147         3.693647           -1.943           0.052\n",
       "L3.Total        -2.258566         1.473346           -1.533           0.125\n",
       "L3.Coal          2.352340         1.560539            1.507           0.132\n",
       "L3.Oil           2.533678         1.727333            1.467           0.142\n",
       "L3.Gas           6.572530         3.303884            1.989           0.047\n",
       "===========================================================================\n",
       "\n",
       "Results for equation Oil\n",
       "===========================================================================\n",
       "              coefficient       std. error           t-stat            prob\n",
       "---------------------------------------------------------------------------\n",
       "const            8.246448         3.968933            2.078           0.038\n",
       "L1.Total         0.507712         0.216109            2.349           0.019\n",
       "L1.Coal         -0.469537         0.229006           -2.050           0.040\n",
       "L1.Oil          -0.472534         0.241308           -1.958           0.050\n",
       "L1.Gas          -0.697564         0.474211           -1.471           0.141\n",
       "L2.Total         0.145920         0.228677            0.638           0.523\n",
       "L2.Coal         -0.163141         0.239176           -0.682           0.495\n",
       "L2.Oil          -0.039513         0.265790           -0.149           0.882\n",
       "L2.Gas          -0.468429         0.529347           -0.885           0.376\n",
       "L3.Total        -0.163948         0.211149           -0.776           0.437\n",
       "L3.Coal          0.125714         0.223645            0.562           0.574\n",
       "L3.Oil           0.320353         0.247549            1.294           0.196\n",
       "L3.Gas           1.262489         0.473489            2.666           0.008\n",
       "===========================================================================\n",
       "\n",
       "Results for equation Gas\n",
       "===========================================================================\n",
       "              coefficient       std. error           t-stat            prob\n",
       "---------------------------------------------------------------------------\n",
       "const           -1.585557         1.625037           -0.976           0.329\n",
       "L1.Total        -0.100353         0.088483           -1.134           0.257\n",
       "L1.Coal          0.117427         0.093764            1.252           0.210\n",
       "L1.Oil           0.276603         0.098801            2.800           0.005\n",
       "L1.Gas           0.636232         0.194161            3.277           0.001\n",
       "L2.Total        -0.159994         0.093629           -1.709           0.087\n",
       "L2.Coal          0.157813         0.097928            1.612           0.107\n",
       "L2.Oil           0.168236         0.108825            1.546           0.122\n",
       "L2.Gas           0.038931         0.216735            0.180           0.857\n",
       "L3.Total        -0.181048         0.086453           -2.094           0.036\n",
       "L3.Coal          0.196759         0.091569            2.149           0.032\n",
       "L3.Oil           0.287540         0.101356            2.837           0.005\n",
       "L3.Gas           0.778467         0.193865            4.016           0.000\n",
       "===========================================================================\n",
       "\n",
       "Correlation matrix of residuals\n",
       "            Total      Coal       Oil       Gas\n",
       "Total    1.000000  0.982821  0.191031  0.326336\n",
       "Coal     0.982821  1.000000  0.043283  0.228981\n",
       "Oil      0.191031  0.043283  1.000000  0.232220\n",
       "Gas      0.326336  0.228981  0.232220  1.000000\n",
       "\n"
      ]
     },
     "execution_count": 146,
     "metadata": {},
     "output_type": "execute_result"
    }
   ],
   "source": [
    "model_all = VAR(df_differenced_all)\n",
    "model_fitted_all = model_all.fit(p)\n",
    "model_fitted_all.summary()"
   ]
  },
  {
   "cell_type": "code",
   "execution_count": 147,
   "id": "1d33ac55",
   "metadata": {},
   "outputs": [
    {
     "data": {
      "text/html": [
       "<div>\n",
       "<style scoped>\n",
       "    .dataframe tbody tr th:only-of-type {\n",
       "        vertical-align: middle;\n",
       "    }\n",
       "\n",
       "    .dataframe tbody tr th {\n",
       "        vertical-align: top;\n",
       "    }\n",
       "\n",
       "    .dataframe thead th {\n",
       "        text-align: right;\n",
       "    }\n",
       "</style>\n",
       "<table border=\"1\" class=\"dataframe\">\n",
       "  <thead>\n",
       "    <tr style=\"text-align: right;\">\n",
       "      <th></th>\n",
       "      <th>Total_2d</th>\n",
       "      <th>Coal_2d</th>\n",
       "      <th>Oil_2d</th>\n",
       "      <th>Gas_2d</th>\n",
       "    </tr>\n",
       "  </thead>\n",
       "  <tbody>\n",
       "    <tr>\n",
       "      <th>2022</th>\n",
       "      <td>438.780675</td>\n",
       "      <td>242.737156</td>\n",
       "      <td>50.092408</td>\n",
       "      <td>89.490445</td>\n",
       "    </tr>\n",
       "    <tr>\n",
       "      <th>2023</th>\n",
       "      <td>214.004372</td>\n",
       "      <td>30.134757</td>\n",
       "      <td>72.684836</td>\n",
       "      <td>81.945351</td>\n",
       "    </tr>\n",
       "    <tr>\n",
       "      <th>2024</th>\n",
       "      <td>379.268765</td>\n",
       "      <td>177.112677</td>\n",
       "      <td>87.161423</td>\n",
       "      <td>99.758122</td>\n",
       "    </tr>\n",
       "    <tr>\n",
       "      <th>2025</th>\n",
       "      <td>387.861037</td>\n",
       "      <td>163.191479</td>\n",
       "      <td>79.529981</td>\n",
       "      <td>107.054017</td>\n",
       "    </tr>\n",
       "    <tr>\n",
       "      <th>2026</th>\n",
       "      <td>287.139609</td>\n",
       "      <td>63.430773</td>\n",
       "      <td>88.003310</td>\n",
       "      <td>106.457174</td>\n",
       "    </tr>\n",
       "    <tr>\n",
       "      <th>2027</th>\n",
       "      <td>360.014651</td>\n",
       "      <td>118.808949</td>\n",
       "      <td>99.036843</td>\n",
       "      <td>119.270439</td>\n",
       "    </tr>\n",
       "    <tr>\n",
       "      <th>2028</th>\n",
       "      <td>404.996471</td>\n",
       "      <td>139.376009</td>\n",
       "      <td>101.012547</td>\n",
       "      <td>130.628362</td>\n",
       "    </tr>\n",
       "    <tr>\n",
       "      <th>2029</th>\n",
       "      <td>374.205541</td>\n",
       "      <td>98.311654</td>\n",
       "      <td>106.430975</td>\n",
       "      <td>136.315495</td>\n",
       "    </tr>\n",
       "    <tr>\n",
       "      <th>2030</th>\n",
       "      <td>404.240777</td>\n",
       "      <td>110.919933</td>\n",
       "      <td>116.087009</td>\n",
       "      <td>147.373518</td>\n",
       "    </tr>\n",
       "    <tr>\n",
       "      <th>2031</th>\n",
       "      <td>444.844911</td>\n",
       "      <td>126.444852</td>\n",
       "      <td>122.650935</td>\n",
       "      <td>160.437916</td>\n",
       "    </tr>\n",
       "  </tbody>\n",
       "</table>\n",
       "</div>"
      ],
      "text/plain": [
       "        Total_2d     Coal_2d      Oil_2d      Gas_2d\n",
       "2022  438.780675  242.737156   50.092408   89.490445\n",
       "2023  214.004372   30.134757   72.684836   81.945351\n",
       "2024  379.268765  177.112677   87.161423   99.758122\n",
       "2025  387.861037  163.191479   79.529981  107.054017\n",
       "2026  287.139609   63.430773   88.003310  106.457174\n",
       "2027  360.014651  118.808949   99.036843  119.270439\n",
       "2028  404.996471  139.376009  101.012547  130.628362\n",
       "2029  374.205541   98.311654  106.430975  136.315495\n",
       "2030  404.240777  110.919933  116.087009  147.373518\n",
       "2031  444.844911  126.444852  122.650935  160.437916"
      ]
     },
     "execution_count": 147,
     "metadata": {},
     "output_type": "execute_result"
    }
   ],
   "source": [
    "# Forecast\n",
    "\n",
    "l = df_differenced_all.last_valid_index() # gives the index of the last row in df_differenced_all\n",
    "s = 10 # steps to future\n",
    "fc_all = model_fitted_all.forecast(y=forecast_input_all, steps=s) \n",
    "df_forecast_all = pd.DataFrame(fc_all, index=list(range(l+1,l+s+1)), columns=df.columns + '_2d')\n",
    "df_forecast_all"
   ]
  },
  {
   "cell_type": "code",
   "execution_count": null,
   "id": "60b26694",
   "metadata": {},
   "outputs": [],
   "source": []
  },
  {
   "cell_type": "code",
   "execution_count": 148,
   "id": "ffc36e22",
   "metadata": {
    "scrolled": true
   },
   "outputs": [],
   "source": [
    "# Tranforming the future forecast back\n",
    "df_results_all = invert_transformation(df, df_forecast_all, second_diff=True) \n",
    "df_results_all = df_results_all.loc[:, ['Total_forecast', 'Coal_forecast', 'Oil_forecast','Gas_forecast']]"
   ]
  },
  {
   "cell_type": "code",
   "execution_count": 149,
   "id": "b96accf0",
   "metadata": {},
   "outputs": [
    {
     "data": {
      "text/html": [
       "<div>\n",
       "<style scoped>\n",
       "    .dataframe tbody tr th:only-of-type {\n",
       "        vertical-align: middle;\n",
       "    }\n",
       "\n",
       "    .dataframe tbody tr th {\n",
       "        vertical-align: top;\n",
       "    }\n",
       "\n",
       "    .dataframe thead th {\n",
       "        text-align: right;\n",
       "    }\n",
       "</style>\n",
       "<table border=\"1\" class=\"dataframe\">\n",
       "  <thead>\n",
       "    <tr style=\"text-align: right;\">\n",
       "      <th></th>\n",
       "      <th>Total_forecast</th>\n",
       "      <th>Coal_forecast</th>\n",
       "      <th>Oil_forecast</th>\n",
       "      <th>Gas_forecast</th>\n",
       "    </tr>\n",
       "  </thead>\n",
       "  <tbody>\n",
       "    <tr>\n",
       "      <th>2022</th>\n",
       "      <td>12427.305648</td>\n",
       "      <td>8548.991111</td>\n",
       "      <td>1849.047130</td>\n",
       "      <td>949.341625</td>\n",
       "    </tr>\n",
       "    <tr>\n",
       "      <th>2023</th>\n",
       "      <td>13596.246497</td>\n",
       "      <td>9172.131559</td>\n",
       "      <td>2057.439116</td>\n",
       "      <td>1206.762539</td>\n",
       "    </tr>\n",
       "    <tr>\n",
       "      <th>2024</th>\n",
       "      <td>15144.456111</td>\n",
       "      <td>9972.384685</td>\n",
       "      <td>2352.992525</td>\n",
       "      <td>1563.941574</td>\n",
       "    </tr>\n",
       "    <tr>\n",
       "      <th>2025</th>\n",
       "      <td>17080.526762</td>\n",
       "      <td>10935.829289</td>\n",
       "      <td>2728.075916</td>\n",
       "      <td>2028.174626</td>\n",
       "    </tr>\n",
       "    <tr>\n",
       "      <th>2026</th>\n",
       "      <td>19303.737022</td>\n",
       "      <td>11962.704666</td>\n",
       "      <td>3191.162616</td>\n",
       "      <td>2598.864852</td>\n",
       "    </tr>\n",
       "    <tr>\n",
       "      <th>2027</th>\n",
       "      <td>21886.961933</td>\n",
       "      <td>13108.388992</td>\n",
       "      <td>3753.286159</td>\n",
       "      <td>3288.825517</td>\n",
       "    </tr>\n",
       "    <tr>\n",
       "      <th>2028</th>\n",
       "      <td>24875.183315</td>\n",
       "      <td>14393.449328</td>\n",
       "      <td>4416.422250</td>\n",
       "      <td>4109.414544</td>\n",
       "    </tr>\n",
       "    <tr>\n",
       "      <th>2029</th>\n",
       "      <td>28237.610239</td>\n",
       "      <td>15776.821317</td>\n",
       "      <td>5185.989315</td>\n",
       "      <td>5066.319066</td>\n",
       "    </tr>\n",
       "    <tr>\n",
       "      <th>2030</th>\n",
       "      <td>32004.277938</td>\n",
       "      <td>17271.113240</td>\n",
       "      <td>6071.643389</td>\n",
       "      <td>6170.597105</td>\n",
       "    </tr>\n",
       "    <tr>\n",
       "      <th>2031</th>\n",
       "      <td>36215.790549</td>\n",
       "      <td>18891.850015</td>\n",
       "      <td>7079.948399</td>\n",
       "      <td>7435.313061</td>\n",
       "    </tr>\n",
       "  </tbody>\n",
       "</table>\n",
       "</div>"
      ],
      "text/plain": [
       "      Total_forecast  Coal_forecast  Oil_forecast  Gas_forecast\n",
       "2022    12427.305648    8548.991111   1849.047130    949.341625\n",
       "2023    13596.246497    9172.131559   2057.439116   1206.762539\n",
       "2024    15144.456111    9972.384685   2352.992525   1563.941574\n",
       "2025    17080.526762   10935.829289   2728.075916   2028.174626\n",
       "2026    19303.737022   11962.704666   3191.162616   2598.864852\n",
       "2027    21886.961933   13108.388992   3753.286159   3288.825517\n",
       "2028    24875.183315   14393.449328   4416.422250   4109.414544\n",
       "2029    28237.610239   15776.821317   5185.989315   5066.319066\n",
       "2030    32004.277938   17271.113240   6071.643389   6170.597105\n",
       "2031    36215.790549   18891.850015   7079.948399   7435.313061"
      ]
     },
     "execution_count": 149,
     "metadata": {},
     "output_type": "execute_result"
    }
   ],
   "source": [
    "df_results_all"
   ]
  },
  {
   "cell_type": "code",
   "execution_count": 150,
   "id": "1d41b6ad",
   "metadata": {
    "scrolled": true
   },
   "outputs": [
    {
     "data": {
      "text/html": [
       "<div>\n",
       "<style scoped>\n",
       "    .dataframe tbody tr th:only-of-type {\n",
       "        vertical-align: middle;\n",
       "    }\n",
       "\n",
       "    .dataframe tbody tr th {\n",
       "        vertical-align: top;\n",
       "    }\n",
       "\n",
       "    .dataframe thead th {\n",
       "        text-align: right;\n",
       "    }\n",
       "</style>\n",
       "<table border=\"1\" class=\"dataframe\">\n",
       "  <thead>\n",
       "    <tr style=\"text-align: right;\">\n",
       "      <th></th>\n",
       "      <th>Total</th>\n",
       "      <th>Coal</th>\n",
       "      <th>Oil</th>\n",
       "      <th>Gas</th>\n",
       "    </tr>\n",
       "  </thead>\n",
       "  <tbody>\n",
       "    <tr>\n",
       "      <th>2022</th>\n",
       "      <td>12427.305648</td>\n",
       "      <td>8548.991111</td>\n",
       "      <td>1849.047130</td>\n",
       "      <td>949.341625</td>\n",
       "    </tr>\n",
       "    <tr>\n",
       "      <th>2023</th>\n",
       "      <td>13596.246497</td>\n",
       "      <td>9172.131559</td>\n",
       "      <td>2057.439116</td>\n",
       "      <td>1206.762539</td>\n",
       "    </tr>\n",
       "    <tr>\n",
       "      <th>2024</th>\n",
       "      <td>15144.456111</td>\n",
       "      <td>9972.384685</td>\n",
       "      <td>2352.992525</td>\n",
       "      <td>1563.941574</td>\n",
       "    </tr>\n",
       "    <tr>\n",
       "      <th>2025</th>\n",
       "      <td>17080.526762</td>\n",
       "      <td>10935.829289</td>\n",
       "      <td>2728.075916</td>\n",
       "      <td>2028.174626</td>\n",
       "    </tr>\n",
       "    <tr>\n",
       "      <th>2026</th>\n",
       "      <td>19303.737022</td>\n",
       "      <td>11962.704666</td>\n",
       "      <td>3191.162616</td>\n",
       "      <td>2598.864852</td>\n",
       "    </tr>\n",
       "    <tr>\n",
       "      <th>2027</th>\n",
       "      <td>21886.961933</td>\n",
       "      <td>13108.388992</td>\n",
       "      <td>3753.286159</td>\n",
       "      <td>3288.825517</td>\n",
       "    </tr>\n",
       "    <tr>\n",
       "      <th>2028</th>\n",
       "      <td>24875.183315</td>\n",
       "      <td>14393.449328</td>\n",
       "      <td>4416.422250</td>\n",
       "      <td>4109.414544</td>\n",
       "    </tr>\n",
       "    <tr>\n",
       "      <th>2029</th>\n",
       "      <td>28237.610239</td>\n",
       "      <td>15776.821317</td>\n",
       "      <td>5185.989315</td>\n",
       "      <td>5066.319066</td>\n",
       "    </tr>\n",
       "    <tr>\n",
       "      <th>2030</th>\n",
       "      <td>32004.277938</td>\n",
       "      <td>17271.113240</td>\n",
       "      <td>6071.643389</td>\n",
       "      <td>6170.597105</td>\n",
       "    </tr>\n",
       "    <tr>\n",
       "      <th>2031</th>\n",
       "      <td>36215.790549</td>\n",
       "      <td>18891.850015</td>\n",
       "      <td>7079.948399</td>\n",
       "      <td>7435.313061</td>\n",
       "    </tr>\n",
       "  </tbody>\n",
       "</table>\n",
       "</div>"
      ],
      "text/plain": [
       "             Total          Coal          Oil          Gas\n",
       "2022  12427.305648   8548.991111  1849.047130   949.341625\n",
       "2023  13596.246497   9172.131559  2057.439116  1206.762539\n",
       "2024  15144.456111   9972.384685  2352.992525  1563.941574\n",
       "2025  17080.526762  10935.829289  2728.075916  2028.174626\n",
       "2026  19303.737022  11962.704666  3191.162616  2598.864852\n",
       "2027  21886.961933  13108.388992  3753.286159  3288.825517\n",
       "2028  24875.183315  14393.449328  4416.422250  4109.414544\n",
       "2029  28237.610239  15776.821317  5185.989315  5066.319066\n",
       "2030  32004.277938  17271.113240  6071.643389  6170.597105\n",
       "2031  36215.790549  18891.850015  7079.948399  7435.313061"
      ]
     },
     "execution_count": 150,
     "metadata": {},
     "output_type": "execute_result"
    }
   ],
   "source": [
    "# Concate the actual df with the forecasted df till 2031 (df_results_all)\n",
    "\n",
    "df_results_all = df_results_all.rename(columns={\"Total_forecast\": \"Total\", \"Coal_forecast\": \"Coal\", \"Oil_forecast\": \"Oil\", \"Gas_forecast\": \"Gas\"})\n",
    "# renaming the df_results_all columns to that of df\n",
    "\n",
    "df_results_all"
   ]
  },
  {
   "cell_type": "code",
   "execution_count": 151,
   "id": "4455fc25",
   "metadata": {
    "scrolled": true
   },
   "outputs": [
    {
     "data": {
      "text/html": [
       "<div>\n",
       "<style scoped>\n",
       "    .dataframe tbody tr th:only-of-type {\n",
       "        vertical-align: middle;\n",
       "    }\n",
       "\n",
       "    .dataframe tbody tr th {\n",
       "        vertical-align: top;\n",
       "    }\n",
       "\n",
       "    .dataframe thead th {\n",
       "        text-align: right;\n",
       "    }\n",
       "</style>\n",
       "<table border=\"1\" class=\"dataframe\">\n",
       "  <thead>\n",
       "    <tr style=\"text-align: right;\">\n",
       "      <th></th>\n",
       "      <th>Total</th>\n",
       "      <th>Coal</th>\n",
       "      <th>Oil</th>\n",
       "      <th>Gas</th>\n",
       "    </tr>\n",
       "  </thead>\n",
       "  <tbody>\n",
       "    <tr>\n",
       "      <th>1950</th>\n",
       "      <td>78.835287</td>\n",
       "      <td>77.614512</td>\n",
       "      <td>0.619216</td>\n",
       "      <td>0.014656</td>\n",
       "    </tr>\n",
       "    <tr>\n",
       "      <th>1951</th>\n",
       "      <td>102.115213</td>\n",
       "      <td>100.133456</td>\n",
       "      <td>0.937984</td>\n",
       "      <td>0.007328</td>\n",
       "    </tr>\n",
       "    <tr>\n",
       "      <th>1952</th>\n",
       "      <td>127.999326</td>\n",
       "      <td>125.444368</td>\n",
       "      <td>1.337360</td>\n",
       "      <td>0.014656</td>\n",
       "    </tr>\n",
       "    <tr>\n",
       "      <th>1953</th>\n",
       "      <td>133.782883</td>\n",
       "      <td>130.236986</td>\n",
       "      <td>1.908892</td>\n",
       "      <td>0.021983</td>\n",
       "    </tr>\n",
       "    <tr>\n",
       "      <th>1954</th>\n",
       "      <td>160.877410</td>\n",
       "      <td>155.591889</td>\n",
       "      <td>3.341492</td>\n",
       "      <td>0.029311</td>\n",
       "    </tr>\n",
       "    <tr>\n",
       "      <th>...</th>\n",
       "      <td>...</td>\n",
       "      <td>...</td>\n",
       "      <td>...</td>\n",
       "      <td>...</td>\n",
       "    </tr>\n",
       "    <tr>\n",
       "      <th>2027</th>\n",
       "      <td>21886.961933</td>\n",
       "      <td>13108.388992</td>\n",
       "      <td>3753.286159</td>\n",
       "      <td>3288.825517</td>\n",
       "    </tr>\n",
       "    <tr>\n",
       "      <th>2028</th>\n",
       "      <td>24875.183315</td>\n",
       "      <td>14393.449328</td>\n",
       "      <td>4416.422250</td>\n",
       "      <td>4109.414544</td>\n",
       "    </tr>\n",
       "    <tr>\n",
       "      <th>2029</th>\n",
       "      <td>28237.610239</td>\n",
       "      <td>15776.821317</td>\n",
       "      <td>5185.989315</td>\n",
       "      <td>5066.319066</td>\n",
       "    </tr>\n",
       "    <tr>\n",
       "      <th>2030</th>\n",
       "      <td>32004.277938</td>\n",
       "      <td>17271.113240</td>\n",
       "      <td>6071.643389</td>\n",
       "      <td>6170.597105</td>\n",
       "    </tr>\n",
       "    <tr>\n",
       "      <th>2031</th>\n",
       "      <td>36215.790549</td>\n",
       "      <td>18891.850015</td>\n",
       "      <td>7079.948399</td>\n",
       "      <td>7435.313061</td>\n",
       "    </tr>\n",
       "  </tbody>\n",
       "</table>\n",
       "<p>82 rows × 4 columns</p>\n",
       "</div>"
      ],
      "text/plain": [
       "             Total          Coal          Oil          Gas\n",
       "1950     78.835287     77.614512     0.619216     0.014656\n",
       "1951    102.115213    100.133456     0.937984     0.007328\n",
       "1952    127.999326    125.444368     1.337360     0.014656\n",
       "1953    133.782883    130.236986     1.908892     0.021983\n",
       "1954    160.877410    155.591889     3.341492     0.029311\n",
       "...            ...           ...          ...          ...\n",
       "2027  21886.961933  13108.388992  3753.286159  3288.825517\n",
       "2028  24875.183315  14393.449328  4416.422250  4109.414544\n",
       "2029  28237.610239  15776.821317  5185.989315  5066.319066\n",
       "2030  32004.277938  17271.113240  6071.643389  6170.597105\n",
       "2031  36215.790549  18891.850015  7079.948399  7435.313061\n",
       "\n",
       "[82 rows x 4 columns]"
      ]
     },
     "execution_count": 151,
     "metadata": {},
     "output_type": "execute_result"
    }
   ],
   "source": [
    "# Concat syntax\n",
    "df_future  = pd.concat([df, df_results_all], axis=0)\n",
    "df_future"
   ]
  },
  {
   "cell_type": "code",
   "execution_count": 152,
   "id": "704ac2d7",
   "metadata": {
    "scrolled": true
   },
   "outputs": [
    {
     "data": {
      "text/plain": [
       "<matplotlib.legend.Legend at 0x2420968f040>"
      ]
     },
     "execution_count": 152,
     "metadata": {},
     "output_type": "execute_result"
    },
    {
     "data": {
      "image/png": "[encoded data removed]",
      "text/plain": [
       "<Figure size 640x480 with 1 Axes>"
      ]
     },
     "metadata": {},
     "output_type": "display_data"
    }
   ],
   "source": [
    "# Plot\n",
    "plt.figure()\n",
    "\n",
    "x = df_future.index\n",
    "y1 = df_future['Total']\n",
    "y2 = df_future['Coal']\n",
    "y3 = df_future['Oil']\n",
    "y4 = df_future['Gas']\n",
    "\n",
    "plt.plot(x,y1)\n",
    "plt.plot(x,y2)\n",
    "plt.plot(x,y3)\n",
    "plt.plot(x,y4)\n",
    "\n",
    "plt.legend(['Total', 'Coal', 'Oil', 'Gas'])"
   ]
  },
  {
   "cell_type": "code",
   "execution_count": 153,
   "id": "19da9595",
   "metadata": {},
   "outputs": [
    {
     "data": {
      "text/html": [
       "<div>\n",
       "<style scoped>\n",
       "    .dataframe tbody tr th:only-of-type {\n",
       "        vertical-align: middle;\n",
       "    }\n",
       "\n",
       "    .dataframe tbody tr th {\n",
       "        vertical-align: top;\n",
       "    }\n",
       "\n",
       "    .dataframe thead th {\n",
       "        text-align: right;\n",
       "    }\n",
       "</style>\n",
       "<table border=\"1\" class=\"dataframe\">\n",
       "  <thead>\n",
       "    <tr style=\"text-align: right;\">\n",
       "      <th></th>\n",
       "      <th>Total</th>\n",
       "      <th>Coal</th>\n",
       "      <th>Oil</th>\n",
       "      <th>Gas</th>\n",
       "      <th>Year</th>\n",
       "    </tr>\n",
       "  </thead>\n",
       "  <tbody>\n",
       "    <tr>\n",
       "      <th>1950</th>\n",
       "      <td>78.835287</td>\n",
       "      <td>77.614512</td>\n",
       "      <td>0.619216</td>\n",
       "      <td>0.014656</td>\n",
       "      <td>1950</td>\n",
       "    </tr>\n",
       "    <tr>\n",
       "      <th>1951</th>\n",
       "      <td>102.115213</td>\n",
       "      <td>100.133456</td>\n",
       "      <td>0.937984</td>\n",
       "      <td>0.007328</td>\n",
       "      <td>1951</td>\n",
       "    </tr>\n",
       "    <tr>\n",
       "      <th>1952</th>\n",
       "      <td>127.999326</td>\n",
       "      <td>125.444368</td>\n",
       "      <td>1.337360</td>\n",
       "      <td>0.014656</td>\n",
       "      <td>1952</td>\n",
       "    </tr>\n",
       "    <tr>\n",
       "      <th>1953</th>\n",
       "      <td>133.782883</td>\n",
       "      <td>130.236986</td>\n",
       "      <td>1.908892</td>\n",
       "      <td>0.021983</td>\n",
       "      <td>1953</td>\n",
       "    </tr>\n",
       "    <tr>\n",
       "      <th>1954</th>\n",
       "      <td>160.877410</td>\n",
       "      <td>155.591889</td>\n",
       "      <td>3.341492</td>\n",
       "      <td>0.029311</td>\n",
       "      <td>1954</td>\n",
       "    </tr>\n",
       "    <tr>\n",
       "      <th>...</th>\n",
       "      <td>...</td>\n",
       "      <td>...</td>\n",
       "      <td>...</td>\n",
       "      <td>...</td>\n",
       "      <td>...</td>\n",
       "    </tr>\n",
       "    <tr>\n",
       "      <th>2027</th>\n",
       "      <td>21886.961933</td>\n",
       "      <td>13108.388992</td>\n",
       "      <td>3753.286159</td>\n",
       "      <td>3288.825517</td>\n",
       "      <td>2027</td>\n",
       "    </tr>\n",
       "    <tr>\n",
       "      <th>2028</th>\n",
       "      <td>24875.183315</td>\n",
       "      <td>14393.449328</td>\n",
       "      <td>4416.422250</td>\n",
       "      <td>4109.414544</td>\n",
       "      <td>2028</td>\n",
       "    </tr>\n",
       "    <tr>\n",
       "      <th>2029</th>\n",
       "      <td>28237.610239</td>\n",
       "      <td>15776.821317</td>\n",
       "      <td>5185.989315</td>\n",
       "      <td>5066.319066</td>\n",
       "      <td>2029</td>\n",
       "    </tr>\n",
       "    <tr>\n",
       "      <th>2030</th>\n",
       "      <td>32004.277938</td>\n",
       "      <td>17271.113240</td>\n",
       "      <td>6071.643389</td>\n",
       "      <td>6170.597105</td>\n",
       "      <td>2030</td>\n",
       "    </tr>\n",
       "    <tr>\n",
       "      <th>2031</th>\n",
       "      <td>36215.790549</td>\n",
       "      <td>18891.850015</td>\n",
       "      <td>7079.948399</td>\n",
       "      <td>7435.313061</td>\n",
       "      <td>2031</td>\n",
       "    </tr>\n",
       "  </tbody>\n",
       "</table>\n",
       "<p>82 rows × 5 columns</p>\n",
       "</div>"
      ],
      "text/plain": [
       "             Total          Coal          Oil          Gas  Year\n",
       "1950     78.835287     77.614512     0.619216     0.014656  1950\n",
       "1951    102.115213    100.133456     0.937984     0.007328  1951\n",
       "1952    127.999326    125.444368     1.337360     0.014656  1952\n",
       "1953    133.782883    130.236986     1.908892     0.021983  1953\n",
       "1954    160.877410    155.591889     3.341492     0.029311  1954\n",
       "...            ...           ...          ...          ...   ...\n",
       "2027  21886.961933  13108.388992  3753.286159  3288.825517  2027\n",
       "2028  24875.183315  14393.449328  4416.422250  4109.414544  2028\n",
       "2029  28237.610239  15776.821317  5185.989315  5066.319066  2029\n",
       "2030  32004.277938  17271.113240  6071.643389  6170.597105  2030\n",
       "2031  36215.790549  18891.850015  7079.948399  7435.313061  2031\n",
       "\n",
       "[82 rows x 5 columns]"
      ]
     },
     "execution_count": 153,
     "metadata": {},
     "output_type": "execute_result"
    }
   ],
   "source": [
    "df_future[\"Year\"]=df_future.index\n",
    "df_future"
   ]
  },
  {
   "cell_type": "code",
   "execution_count": 154,
   "id": "6db2c025",
   "metadata": {},
   "outputs": [],
   "source": [
    "# save to csv\n",
    "df_future.to_csv('Data/Germany_future.csv', index=False)"
   ]
  }
 ],
 "metadata": {
  "kernelspec": {
   "display_name": "Python 3 (ipykernel)",
   "language": "python",
   "name": "python3"
  },
  "language_info": {
   "codemirror_mode": {
    "name": "ipython",
    "version": 3
   },
   "file_extension": ".py",
   "mimetype": "text/x-python",
   "name": "python",
   "nbconvert_exporter": "python",
   "pygments_lexer": "ipython3",
   "version": "3.9.13"
  }
 },
 "nbformat": 4,
 "nbformat_minor": 5
}
